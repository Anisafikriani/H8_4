{
 "cells": [
  {
   "cell_type": "markdown",
   "metadata": {
    "id": "TX9__KpqYreO"
   },
   "source": []
  },
  {
   "cell_type": "code",
   "execution_count": 1,
   "metadata": {
    "colab": {
     "base_uri": "https://localhost:8080/"
    },
    "id": "swqQCcFCt5qv",
    "outputId": "e115d55c-2572-409e-a4d8-c6a3cd7b1861"
   },
   "outputs": [
    {
     "data": {
      "text/plain": [
       "-1.1764705882352942"
      ]
     },
     "execution_count": 1,
     "metadata": {},
     "output_type": "execute_result"
    }
   ],
   "source": [
    "mean = 50 \n",
    "median = 56 \n",
    "mode = 60 \n",
    "sd = 8.5 \n",
    "p1stc =  (mean - mode ) / sd \n",
    "p1stc"
   ]
  },
  {
   "cell_type": "markdown",
   "metadata": {
    "id": "853x39fp7cVg"
   },
   "source": [
    "# Calculating Descriptive Statistics\n",
    "Mulailah dengan mengimpor semua packages yang kita perlukan:"
   ]
  },
  {
   "cell_type": "code",
   "execution_count": 2,
   "metadata": {
    "id": "j5BYcUcjtmo6"
   },
   "outputs": [],
   "source": [
    "import math\n",
    "import statistics\n",
    "import numpy as np\n",
    "import scipy.stats\n",
    "import pandas as pd"
   ]
  },
  {
   "cell_type": "markdown",
   "metadata": {
    "id": "QnMjCYAyZmAe"
   },
   "source": [
    "Ini semua adalah paket yang kita perlukan untuk penghitungan statistik Python. Biasanya, kita tidak akan menggunakan built-in math package Python, tapi akan berguna dalam sesi ini. Nanti, kita juga akan mengimpor matplotlib.pyplot untuk visualisasi data.\n",
    "\n",
    "Mari buat beberapa data untuk dikerjakan. Kita akan mulai dengan List Python yang berisi beberapa data numerik:"
   ]
  },
  {
   "cell_type": "code",
   "execution_count": 3,
   "metadata": {
    "colab": {
     "base_uri": "https://localhost:8080/"
    },
    "id": "PTsS5seZZmdC",
    "outputId": "019f0634-e69b-4bfc-b736-9834b2187683"
   },
   "outputs": [
    {
     "name": "stdout",
     "output_type": "stream",
     "text": [
      "[8.0, 1, 2.5, 4, 28.0]\n",
      "[8.0, 1, 2.5, nan, 4, 28.0]\n"
     ]
    }
   ],
   "source": [
    "x = [8.0, 1, 2.5, 4, 28.0]\n",
    "x_with_nan = [8.0, 1, 2.5, math.nan, 4, 28.0]\n",
    "print(x)\n",
    "print(x_with_nan)"
   ]
  },
  {
   "cell_type": "markdown",
   "metadata": {
    "id": "WY7-H_2XZqAe"
   },
   "source": [
    "Sekarang kita memiliki lists x dan x_with_nan. Keduanya hampir sama, dengan perbedaan bahwa x_with_nan berisi nilai nan. Penting untuk memahami behavior statistik Python ketika mereka menemukan nilai not-a-number (nan). Dalam data science, missing values adalah hal biasa, dan kita akan sering menggantinya dengan nan.\n",
    "\n",
    "Sekarang, buat objek np.ndarray dan pd.Series yang sesuai dengan x dan x_with_nan:"
   ]
  },
  {
   "cell_type": "code",
   "execution_count": 4,
   "metadata": {
    "colab": {
     "base_uri": "https://localhost:8080/"
    },
    "id": "DNatfCUjZu4U",
    "outputId": "027b4bff-2e67-41c5-8ce1-be76849dbbeb"
   },
   "outputs": [
    {
     "name": "stdout",
     "output_type": "stream",
     "text": [
      "[ 8.   1.   2.5  4.  28. ]\n"
     ]
    }
   ],
   "source": [
    "y, y_with_nan = np.array(x), np.array(x_with_nan)\n",
    "print(y)"
   ]
  },
  {
   "cell_type": "code",
   "execution_count": 5,
   "metadata": {
    "colab": {
     "base_uri": "https://localhost:8080/"
    },
    "id": "0Uivt8jNv1jf",
    "outputId": "013ff36b-f57e-4845-9755-2baf462e1f27"
   },
   "outputs": [
    {
     "name": "stdout",
     "output_type": "stream",
     "text": [
      "[ 8.   1.   2.5  nan  4.  28. ]\n"
     ]
    }
   ],
   "source": [
    "print(y_with_nan)"
   ]
  },
  {
   "cell_type": "code",
   "execution_count": 6,
   "metadata": {
    "colab": {
     "base_uri": "https://localhost:8080/"
    },
    "id": "ZY5A1nAqvyBJ",
    "outputId": "2f8835e9-8cc0-44a0-f12b-a1846caa653e"
   },
   "outputs": [
    {
     "name": "stdout",
     "output_type": "stream",
     "text": [
      "0     8.0\n",
      "1     1.0\n",
      "2     2.5\n",
      "3     4.0\n",
      "4    28.0\n",
      "dtype: float64\n",
      "0     8.0\n",
      "1     1.0\n",
      "2     2.5\n",
      "3     NaN\n",
      "4     4.0\n",
      "5    28.0\n",
      "dtype: float64\n"
     ]
    }
   ],
   "source": [
    "\n",
    "z, z_with_nan = pd.Series(x), pd.Series(x_with_nan)\n",
    "print(z)\n",
    "print(z_with_nan)"
   ]
  },
  {
   "cell_type": "markdown",
   "metadata": {
    "id": "Nfqhdlc5aBUA"
   },
   "source": []
  },
  {
   "cell_type": "code",
   "execution_count": 7,
   "metadata": {
    "id": "T9GVfWoIw1mf"
   },
   "outputs": [],
   "source": [
    "x = [8.0, 1, 2.5, 4, 28.0]\n",
    "x_with_nan = [8.0, 1, 2.5, math.nan, 4, 28.0]\n"
   ]
  },
  {
   "cell_type": "code",
   "execution_count": 8,
   "metadata": {
    "colab": {
     "base_uri": "https://localhost:8080/"
    },
    "id": "MOWlAC19aFq1",
    "outputId": "1f089ada-11ef-45d5-b283-a55d74f46ad0"
   },
   "outputs": [
    {
     "data": {
      "text/plain": [
       "8.7"
      ]
     },
     "execution_count": 8,
     "metadata": {},
     "output_type": "execute_result"
    }
   ],
   "source": [
    "mean_ = sum(x) / len(x)\n",
    "mean_"
   ]
  },
  {
   "cell_type": "markdown",
   "metadata": {
    "id": "WuNNkG9faIEU"
   },
   "source": [
    "Meskipun kode diatas clean dan elegan, Anda juga dapat menerapkan fungsi statistics built-in Python:\n",
    "\n"
   ]
  },
  {
   "cell_type": "code",
   "execution_count": 9,
   "metadata": {
    "colab": {
     "base_uri": "https://localhost:8080/"
    },
    "id": "ZyH17G8kaMSI",
    "outputId": "1269be67-369f-4439-b1bd-3e76ed092df5"
   },
   "outputs": [
    {
     "name": "stdout",
     "output_type": "stream",
     "text": [
      "8.7\n"
     ]
    }
   ],
   "source": [
    "mean_ = statistics.mean(x)\n",
    "print(mean_)\n"
   ]
  },
  {
   "cell_type": "code",
   "execution_count": 10,
   "metadata": {
    "colab": {
     "base_uri": "https://localhost:8080/"
    },
    "id": "nkd0AVdRaPlJ",
    "outputId": "00944bd3-8353-461b-c217-605634143824"
   },
   "outputs": [
    {
     "name": "stdout",
     "output_type": "stream",
     "text": [
      "nan\n"
     ]
    }
   ],
   "source": [
    "mean_ = statistics.mean(x_with_nan)\n",
    "print(mean_)"
   ]
  },
  {
   "cell_type": "markdown",
   "metadata": {
    "id": "mViEe77iaRYh"
   },
   "source": [
    "Hasil ini konsisten dengan behavior sum(), karena sum(x_with_nan) juga mengembalikan nan.\n",
    "\n",
    "Jika kita menggunakan NumPy, maka kita bisa mendapatkan mean dengan np.mean():"
   ]
  },
  {
   "cell_type": "code",
   "execution_count": 11,
   "metadata": {
    "colab": {
     "base_uri": "https://localhost:8080/"
    },
    "id": "PIGftkA4aSTH",
    "outputId": "35a44651-585f-47f5-bd4d-8a1bf225fb9a"
   },
   "outputs": [
    {
     "data": {
      "text/plain": [
       "8.7"
      ]
     },
     "execution_count": 11,
     "metadata": {},
     "output_type": "execute_result"
    }
   ],
   "source": [
    "mean_ = np.mean(y)\n",
    "mean_"
   ]
  },
  {
   "cell_type": "markdown",
   "metadata": {
    "id": "pHE8Fzg8aVgN"
   },
   "source": [
    "\n",
    "Dalam contoh di atas, mean() adalah sebuah fungsi, tetapi kita juga dapat menggunakan method .mean ():"
   ]
  },
  {
   "cell_type": "code",
   "execution_count": 12,
   "metadata": {
    "colab": {
     "base_uri": "https://localhost:8080/"
    },
    "id": "kic0jlgDaWRw",
    "outputId": "c09a4577-c15b-4b95-a744-5f20005b71f2"
   },
   "outputs": [
    {
     "data": {
      "text/plain": [
       "8.7"
      ]
     },
     "execution_count": 12,
     "metadata": {},
     "output_type": "execute_result"
    }
   ],
   "source": [
    "mean_ = y.mean()\n",
    "mean_"
   ]
  },
  {
   "cell_type": "markdown",
   "metadata": {
    "id": "O_VarUS6aYSi"
   },
   "source": [
    "Fungsi mean() dan method .mean() dari NumPy mengembalikan hasil yang sama seperti statistics.mean(). Dibawah ini adalah kasus ketika ada nilai nan di antara data kita:"
   ]
  },
  {
   "cell_type": "code",
   "execution_count": 13,
   "metadata": {
    "colab": {
     "base_uri": "https://localhost:8080/"
    },
    "id": "9xgyNiftabOH",
    "outputId": "c79ea2dc-2efb-4887-9a18-da8d5741dd37"
   },
   "outputs": [
    {
     "name": "stdout",
     "output_type": "stream",
     "text": [
      "nan\n",
      "nan\n"
     ]
    }
   ],
   "source": [
    "print(np.mean(y_with_nan))\n",
    "print(y_with_nan.mean())"
   ]
  },
  {
   "cell_type": "markdown",
   "metadata": {
    "id": "Ow7IHeuJadC1"
   },
   "source": [
    "Jika kalian lebih suka mengabaikan nilai nan, kalian dapat menggunakan np.nanmean ():\n",
    "\n"
   ]
  },
  {
   "cell_type": "code",
   "execution_count": 14,
   "metadata": {
    "colab": {
     "base_uri": "https://localhost:8080/"
    },
    "id": "yeNjRTF9aeuh",
    "outputId": "7e6d7086-f84e-4815-cad0-41c70255d64e"
   },
   "outputs": [
    {
     "data": {
      "text/plain": [
       "8.7"
      ]
     },
     "execution_count": 14,
     "metadata": {},
     "output_type": "execute_result"
    }
   ],
   "source": [
    "np.nanmean(y_with_nan)\n"
   ]
  },
  {
   "cell_type": "markdown",
   "metadata": {
    "id": "gSxQPZXDagoT"
   },
   "source": [
    "nanmean() mengabaikan semua nilai nan. nanmean() mengembalikan nilai yang sama seperti mean() jika kalian menerapkannya ke kumpulan data tanpa nilai nan.\n",
    "\n",
    "pd.Series objects juga mempunyai method .mean():"
   ]
  },
  {
   "cell_type": "code",
   "execution_count": 15,
   "metadata": {
    "colab": {
     "base_uri": "https://localhost:8080/"
    },
    "id": "clVkeAjkaija",
    "outputId": "71f22933-ddf0-4459-9d85-8679c4b13843"
   },
   "outputs": [
    {
     "data": {
      "text/plain": [
       "8.7"
      ]
     },
     "execution_count": 15,
     "metadata": {},
     "output_type": "execute_result"
    }
   ],
   "source": [
    "mean_ = z.mean()\n",
    "mean_"
   ]
  },
  {
   "cell_type": "markdown",
   "metadata": {
    "id": "UlwYpymFakYy"
   },
   "source": [
    "Seperti yang kalian lihat, .mean() digunakan dengan cara yang sama seperti dalam kasus NumPy. Namun, .mean() dari Pandas mengabaikan nilai nan secara default:\n",
    "\n"
   ]
  },
  {
   "cell_type": "code",
   "execution_count": 16,
   "metadata": {
    "id": "r_kGAI3XyEPc"
   },
   "outputs": [],
   "source": [
    "z, z_with_nan = pd.Series(x), pd.Series(x_with_nan)"
   ]
  },
  {
   "cell_type": "code",
   "execution_count": 17,
   "metadata": {
    "colab": {
     "base_uri": "https://localhost:8080/"
    },
    "id": "Kj4ICRmyalDS",
    "outputId": "f3936a18-ddca-4e1d-f4e4-2ef10d169d48"
   },
   "outputs": [
    {
     "data": {
      "text/plain": [
       "8.7"
      ]
     },
     "execution_count": 17,
     "metadata": {},
     "output_type": "execute_result"
    }
   ],
   "source": [
    "z_with_nan.mean()\n"
   ]
  },
  {
   "cell_type": "markdown",
   "metadata": {
    "id": "LFmXQPexamiB"
   },
   "source": [
    "Perilaku ini adalah hasil dari nilai default dari parameter opsional skipna. Kita dapat mengubah parameter ini untuk mengubah perilakunya.\n",
    "\n",
    "# Weighted Mean\n",
    "Weighted mean, juga disebut weighted arithmetic mean atau weighted average, adalah generalisasi dari rata-rata aritmatika yang memungkinkan kita untuk menentukan kontribusi relatif dari setiap titik data ke hasil.\n",
    "\n",
    "Kita menentukan satu bobot 𝑤ᵢ untuk setiap titik data 𝑥ᵢ dari dataset 𝑥, di mana 𝑖 = 1, 2,…, 𝑛 dan 𝑛 adalah jumlah item di 𝑥. Kemudian, kita mengalikan setiap titik data dengan bobot yang sesuai, menjumlahkan semua produk, dan membagi jumlah yang diperoleh dengan jumlah bobot: Σᵢ(𝑤ᵢ𝑥ᵢ) / Σᵢ𝑤ᵢ.\n",
    "\n",
    "Weighted mean sangat berguna saat kita membutuhkan rata-rata kumpulan data yang berisi item yang muncul dengan frekuensi relatif tertentu. Misalnya, kiita memiliki himpunan di mana 20% dari semua item sama dengan 2, 50% item sama dengan 4, dan 30% sisanya sama dengan 8. Kita dapat menghitung rata-rata dari set seperti ini:"
   ]
  },
  {
   "cell_type": "code",
   "execution_count": 18,
   "metadata": {
    "colab": {
     "base_uri": "https://localhost:8080/"
    },
    "id": "Hp33RPb9asA7",
    "outputId": "bb5b5ac2-1ef4-4e4c-b429-71268a4c6b47"
   },
   "outputs": [
    {
     "data": {
      "text/plain": [
       "4.8"
      ]
     },
     "execution_count": 18,
     "metadata": {},
     "output_type": "execute_result"
    }
   ],
   "source": [
    "0.2 * 2 + 0.5 * 4 + 0.3 * 8\n"
   ]
  },
  {
   "cell_type": "markdown",
   "metadata": {
    "id": "3aNlIlNjawId"
   },
   "source": [
    "Di sini, kita memperhitungkan frekuensi dengan bobot. Dengan metode ini, kita tidak perlu mengetahui jumlah item.\n",
    "\n",
    "Kita dapat mengimplementasikan weighted mean dalam Python pure dengan menggabungkan sum() dengan range() atau zip():"
   ]
  },
  {
   "cell_type": "code",
   "execution_count": 19,
   "metadata": {
    "colab": {
     "base_uri": "https://localhost:8080/"
    },
    "id": "3oF-WA8EauJ8",
    "outputId": "c8de3d7a-f858-4a77-ea3a-53a6668a76b8"
   },
   "outputs": [
    {
     "name": "stdout",
     "output_type": "stream",
     "text": [
      "6.95\n"
     ]
    }
   ],
   "source": [
    "x = [8.0, 1, 2.5, 4, 28.0]\n",
    "w = [0.1, 0.2, 0.3, 0.25, 0.15]\n",
    "\n",
    "wmean = sum(w[i] * x[i] for i in range(len(x))) / sum(w)\n",
    "print(wmean)\n",
    "\n"
   ]
  },
  {
   "cell_type": "code",
   "execution_count": 20,
   "metadata": {
    "colab": {
     "base_uri": "https://localhost:8080/"
    },
    "id": "YTYemV7Sz-vD",
    "outputId": "6100a558-21c6-4a7a-9fac-f0592e74f6eb"
   },
   "outputs": [
    {
     "name": "stdout",
     "output_type": "stream",
     "text": [
      "6.95\n"
     ]
    }
   ],
   "source": [
    "wmean = sum(x_ * w_ for (x_, w_) in zip(x, w)) / sum(w)\n",
    "print(wmean)"
   ]
  },
  {
   "cell_type": "markdown",
   "metadata": {
    "id": "0gATmIzSa0zB"
   },
   "source": [
    "Sekali lagi, ini adalah implementasi yang rapi dan elegan di mana kita tidak perlu mengimpor libraries apa pun.\n",
    "\n",
    "Namun, jika kita memiliki kumpulan data yang besar, NumPy kemungkinan akan memberikan solusi yang lebih baik. Kita dapat menggunakan np.average() untuk mendapatkan weighted mean dari array NumPy atau Series Pandas:"
   ]
  },
  {
   "cell_type": "code",
   "execution_count": 21,
   "metadata": {
    "colab": {
     "base_uri": "https://localhost:8080/"
    },
    "id": "EHc6FlR5a2np",
    "outputId": "e5c6cbaa-749b-4d53-8852-9106726f77a1"
   },
   "outputs": [
    {
     "name": "stdout",
     "output_type": "stream",
     "text": [
      "6.95\n",
      "6.95\n"
     ]
    }
   ],
   "source": [
    "y, z, w = np.array(x), pd.Series(x), np.array(w)\n",
    "\n",
    "wmean = np.average(y, weights=w)\n",
    "print(wmean)\n",
    "\n",
    "wmean = np.average(z, weights=w)\n",
    "print(wmean)"
   ]
  },
  {
   "cell_type": "markdown",
   "metadata": {
    "id": "j1RUK2DQa4WF"
   },
   "source": [
    "Hasilnya sama dengan kasus implementasi Python pure. Kita juga dapat menggunakan metode ini pada list dan tuples.\n",
    "\n",
    "Solusi lain adalah dengan menggunakan element-wise produc w * y dengan np.sum() atau .sum():"
   ]
  },
  {
   "cell_type": "code",
   "execution_count": 22,
   "metadata": {
    "colab": {
     "base_uri": "https://localhost:8080/"
    },
    "id": "Oq-ZTR1ca5-3",
    "outputId": "6b1ade93-073d-46cd-951b-2894bd856d63"
   },
   "outputs": [
    {
     "data": {
      "text/plain": [
       "6.95"
      ]
     },
     "execution_count": 22,
     "metadata": {},
     "output_type": "execute_result"
    }
   ],
   "source": [
    "(w * y).sum() / w.sum()\n"
   ]
  },
  {
   "cell_type": "code",
   "execution_count": 23,
   "metadata": {
    "colab": {
     "base_uri": "https://localhost:8080/"
    },
    "id": "l_QXxrb_a8d3",
    "outputId": "06d83e4f-2a00-46ea-c327-db8851b9557f"
   },
   "outputs": [
    {
     "data": {
      "text/plain": [
       "2.7613412228796843"
      ]
     },
     "execution_count": 23,
     "metadata": {},
     "output_type": "execute_result"
    }
   ],
   "source": [
    "hmean = len(x) / sum(1 / item for item in x)\n",
    "hmean"
   ]
  },
  {
   "cell_type": "code",
   "execution_count": 25,
   "metadata": {
    "colab": {
     "base_uri": "https://localhost:8080/"
    },
    "id": "XCHUmbqPbCbH",
    "outputId": "e3e72dee-2604-493c-8d1a-a7aab657e5e9"
   },
   "outputs": [
    {
     "data": {
      "text/plain": [
       "2.7613412228796843"
      ]
     },
     "execution_count": 25,
     "metadata": {},
     "output_type": "execute_result"
    }
   ],
   "source": [
    "hmean = statistics.harmonic_mean(x)\n",
    "hmean"
   ]
  },
  {
   "cell_type": "code",
   "execution_count": 26,
   "metadata": {
    "colab": {
     "base_uri": "https://localhost:8080/"
    },
    "id": "_Lhw8WEcbFGZ",
    "outputId": "01edb07d-8c79-4b93-acc6-b254bcf2b906"
   },
   "outputs": [
    {
     "data": {
      "text/plain": [
       "2.7613412228796843"
      ]
     },
     "execution_count": 26,
     "metadata": {},
     "output_type": "execute_result"
    }
   ],
   "source": [
    "scipy.stats.hmean(y)\n"
   ]
  },
  {
   "cell_type": "code",
   "execution_count": 27,
   "metadata": {
    "colab": {
     "base_uri": "https://localhost:8080/"
    },
    "id": "1wZF-r4kbFkt",
    "outputId": "83a466aa-7bd3-428b-f7c6-a16ecf69ce99"
   },
   "outputs": [
    {
     "data": {
      "text/plain": [
       "2.7613412228796843"
      ]
     },
     "execution_count": 27,
     "metadata": {},
     "output_type": "execute_result"
    }
   ],
   "source": [
    "scipy.stats.hmean(z)\n"
   ]
  },
  {
   "cell_type": "code",
   "execution_count": 28,
   "metadata": {
    "id": "58I7vj8A3Odn"
   },
   "outputs": [],
   "source": [
    "x = [8.0, 1, 2.5, 4, 28.0]"
   ]
  },
  {
   "cell_type": "code",
   "execution_count": 29,
   "metadata": {
    "colab": {
     "base_uri": "https://localhost:8080/"
    },
    "id": "nLyB904Pbalv",
    "outputId": "674848d8-4ca7-48ae-c895-38bcf47f067e"
   },
   "outputs": [
    {
     "data": {
      "text/plain": [
       "4.67788567485604"
      ]
     },
     "execution_count": 29,
     "metadata": {},
     "output_type": "execute_result"
    }
   ],
   "source": [
    "scipy.stats.gmean(y)\n"
   ]
  },
  {
   "cell_type": "code",
   "execution_count": 30,
   "metadata": {
    "colab": {
     "base_uri": "https://localhost:8080/"
    },
    "id": "YAXnbpxibbrH",
    "outputId": "423193f9-606f-41cc-da28-1bc315b109e5"
   },
   "outputs": [
    {
     "data": {
      "text/plain": [
       "4.67788567485604"
      ]
     },
     "execution_count": 30,
     "metadata": {},
     "output_type": "execute_result"
    }
   ],
   "source": [
    "scipy.stats.gmean(z)\n"
   ]
  },
  {
   "cell_type": "markdown",
   "metadata": {
    "id": "_p-rv15abfe5"
   },
   "source": [
    "# Median\n",
    "\n",
    "\n"
   ]
  },
  {
   "cell_type": "code",
   "execution_count": 31,
   "metadata": {
    "colab": {
     "base_uri": "https://localhost:8080/"
    },
    "id": "8jfYyAFlbdVR",
    "outputId": "1f581078-2ed0-4eac-e2e9-c71a40ec2adf"
   },
   "outputs": [
    {
     "data": {
      "text/plain": [
       "4"
      ]
     },
     "execution_count": 31,
     "metadata": {},
     "output_type": "execute_result"
    }
   ],
   "source": [
    "n = len(x)\n",
    "if n % 2:\n",
    "    median_ = sorted(x)[round(0.5*(n-1))]\n",
    "else:\n",
    "    x_ord, index = sorted(x), round(0.5 * n)\n",
    "    median_ = 0.5 * (x_ord[index-1] + x_ord[index])\n",
    "\n",
    "median_"
   ]
  },
  {
   "cell_type": "markdown",
   "metadata": {
    "id": "3AaDD3kVb0je"
   },
   "source": [
    "Versi yang diurutkan dari x adalah [1, 2.5, 4, 8.0, 28.0], jadi elemen di tengah adalah 4. Versi yang diurutkan dari x[:-1], yaitu x tanpa item terakhir 28.0, adalah [1, 2.5, 4, 8.0]. Sekarang, ada dua elemen tengah, 2.5 dan 4. Rata-ratanya adalah 3.25.\n",
    "\n",
    "median_low() dan median_high() adalah dua fungsi lainnya yang terkait dengan median di pustaka statistics Python. Mereka selalu mengembalikan elemen dari kumpulan data:\n",
    "\n",
    "Jika jumlah elemennya ganjil, maka hanya ada satu nilai tengah, sehingga fungsi ini berperilaku seperti median().\n",
    "Jika jumlah elemennya genap, maka ada dua nilai tengah. Dalam kasus ini, median_low() mengembalikan nilai tengah yang lebih rendah dan median_high() lebih tinggi.\n",
    "Kita dapat menggunakan fungsi ini seperti halnya kita menggunakan median():"
   ]
  },
  {
   "cell_type": "code",
   "execution_count": 32,
   "metadata": {
    "colab": {
     "base_uri": "https://localhost:8080/"
    },
    "id": "2YOap8ZAb1is",
    "outputId": "ba0d9ff7-a242-4de3-de9a-b64b7acebcec"
   },
   "outputs": [
    {
     "data": {
      "text/plain": [
       "[8.0, 1, 2.5, 4, 28.0]"
      ]
     },
     "execution_count": 32,
     "metadata": {},
     "output_type": "execute_result"
    }
   ],
   "source": [
    "x"
   ]
  },
  {
   "cell_type": "code",
   "execution_count": 33,
   "metadata": {
    "colab": {
     "base_uri": "https://localhost:8080/"
    },
    "id": "3njtvlB0b4IO",
    "outputId": "4a4ac4bd-2723-46ec-8679-a032e5666da3"
   },
   "outputs": [
    {
     "data": {
      "text/plain": [
       "2.5"
      ]
     },
     "execution_count": 33,
     "metadata": {},
     "output_type": "execute_result"
    }
   ],
   "source": [
    "statistics.median_low(x[:-1])\n"
   ]
  },
  {
   "cell_type": "code",
   "execution_count": 34,
   "metadata": {
    "colab": {
     "base_uri": "https://localhost:8080/"
    },
    "id": "45R29zWnb30F",
    "outputId": "888434be-a9e8-4fdd-80b1-79ef11b727b3"
   },
   "outputs": [
    {
     "data": {
      "text/plain": [
       "4"
      ]
     },
     "execution_count": 34,
     "metadata": {},
     "output_type": "execute_result"
    }
   ],
   "source": [
    "statistics.median_high(x[:-1])\n"
   ]
  },
  {
   "cell_type": "markdown",
   "metadata": {
    "id": "DLwmjNA9b2U1"
   },
   "source": [
    "Sekali lagi, versi yang diurutkan dari x[:-1] adalah [1, 2.5, 4, 8.0]. Dua elemen di tengah adalah 2.5 (low) dan 4 (high).\n",
    "\n",
    "Tidak seperti kebanyakan fungsi lain dari pustaka statistics  Python, median(), median_low(), dan median_high() tidak mengembalikan nan ketika ada nilai nan di antara titik data:"
   ]
  },
  {
   "cell_type": "code",
   "execution_count": 35,
   "metadata": {
    "colab": {
     "base_uri": "https://localhost:8080/"
    },
    "id": "3hmsqs4Sb9Wt",
    "outputId": "9e9eacf9-6a77-42f1-fee8-2668c344b883"
   },
   "outputs": [
    {
     "name": "stdout",
     "output_type": "stream",
     "text": [
      "6.0\n",
      "4\n",
      "8.0\n"
     ]
    }
   ],
   "source": [
    "print(statistics.median(x_with_nan))\n",
    "print(statistics.median_low(x_with_nan))\n",
    "print(statistics.median_high(x_with_nan))"
   ]
  },
  {
   "cell_type": "markdown",
   "metadata": {
    "id": "RvxOk56PcAGj"
   },
   "source": [
    "Kita juga bisa mendapatkan median dengan np.median ():\n",
    "\n"
   ]
  },
  {
   "cell_type": "code",
   "execution_count": 36,
   "metadata": {
    "colab": {
     "base_uri": "https://localhost:8080/"
    },
    "id": "j3usVeHTcAva",
    "outputId": "f20e7c43-fe52-465d-f999-e92dcf3dce66"
   },
   "outputs": [
    {
     "name": "stdout",
     "output_type": "stream",
     "text": [
      "4.0\n"
     ]
    }
   ],
   "source": [
    "median_ = np.median(y)\n",
    "print(median_)\n"
   ]
  },
  {
   "cell_type": "code",
   "execution_count": 37,
   "metadata": {
    "colab": {
     "base_uri": "https://localhost:8080/"
    },
    "id": "Bds63CJ0cDpp",
    "outputId": "dd9b0c75-b0c1-4e6d-a912-14ac1bcb335d"
   },
   "outputs": [
    {
     "name": "stdout",
     "output_type": "stream",
     "text": [
      "3.25\n"
     ]
    }
   ],
   "source": [
    "median_ = np.median(y[:-1])\n",
    "print(median_)"
   ]
  },
  {
   "cell_type": "markdown",
   "metadata": {
    "id": "JttSTLjhcIgB"
   },
   "source": [
    "# Mode\n"
   ]
  },
  {
   "cell_type": "code",
   "execution_count": 38,
   "metadata": {
    "colab": {
     "base_uri": "https://localhost:8080/"
    },
    "id": "nbQfD120cLsf",
    "outputId": "d8bb35e3-635f-4941-9d2d-83b4346695d6"
   },
   "outputs": [
    {
     "data": {
      "text/plain": [
       "2"
      ]
     },
     "execution_count": 38,
     "metadata": {},
     "output_type": "execute_result"
    }
   ],
   "source": [
    "u = [2, 3, 2, 8, 12]\n",
    "\n",
    "v = [12, 15, 12, 15, 21, 15, 12]\n",
    "\n",
    "mode_ = max((u.count(item), item) for item in set(u))[1]\n",
    "mode_\n",
    "# Kita bisa mendapatkan mode dengan statistics.mode()\n",
    "\n"
   ]
  },
  {
   "cell_type": "code",
   "execution_count": 39,
   "metadata": {
    "colab": {
     "base_uri": "https://localhost:8080/"
    },
    "id": "8PiU7HYhcPh7",
    "outputId": "3dda9280-a704-4463-c9e7-31f35d0a1e47"
   },
   "outputs": [
    {
     "data": {
      "text/plain": [
       "2"
      ]
     },
     "execution_count": 39,
     "metadata": {},
     "output_type": "execute_result"
    }
   ],
   "source": [
    "mode_ = statistics.mode(u)\n",
    "mode_\n",
    "# Kita juga bisa mendapatkan mode dengan scipy.stats.mode():\n",
    "\n"
   ]
  },
  {
   "cell_type": "code",
   "execution_count": 40,
   "metadata": {
    "colab": {
     "base_uri": "https://localhost:8080/"
    },
    "id": "uesjTKSVcUC2",
    "outputId": "ae8e4487-ed5f-4f8d-e596-be20ffa23986"
   },
   "outputs": [
    {
     "data": {
      "text/plain": [
       "ModeResult(mode=array([2]), count=array([2]))"
      ]
     },
     "execution_count": 40,
     "metadata": {},
     "output_type": "execute_result"
    }
   ],
   "source": [
    "u, v = np.array(u), np.array(v)\n",
    "\n",
    "mode_ = scipy.stats.mode(u)\n",
    "mode_\n"
   ]
  },
  {
   "cell_type": "code",
   "execution_count": 41,
   "metadata": {
    "colab": {
     "base_uri": "https://localhost:8080/"
    },
    "id": "3C8WzrjecXGr",
    "outputId": "d388282f-58a4-4ab7-99c7-36dcaa13099c"
   },
   "outputs": [
    {
     "data": {
      "text/plain": [
       "ModeResult(mode=array([12]), count=array([3]))"
      ]
     },
     "execution_count": 41,
     "metadata": {},
     "output_type": "execute_result"
    }
   ],
   "source": [
    "mode_ = scipy.stats.mode(v)\n",
    "mode_\n"
   ]
  },
  {
   "cell_type": "code",
   "execution_count": 42,
   "metadata": {
    "id": "JT0fH5AYcXoL"
   },
   "outputs": [],
   "source": [
    "# Kita bisa mendapatkan mode dan jumlah kemunculannya sebagai array NumPy dengan dot notation:\n",
    "\n"
   ]
  },
  {
   "cell_type": "code",
   "execution_count": 43,
   "metadata": {
    "colab": {
     "base_uri": "https://localhost:8080/"
    },
    "id": "FSLs6BrLcdhP",
    "outputId": "c7209007-1c5b-472c-d21a-fa9ddc37e17d"
   },
   "outputs": [
    {
     "name": "stdout",
     "output_type": "stream",
     "text": [
      "[12]\n",
      "[3]\n"
     ]
    }
   ],
   "source": [
    "print(mode_.mode)\n",
    "print(mode_.count)\n"
   ]
  },
  {
   "cell_type": "markdown",
   "metadata": {
    "id": "p2e1hVvJcfk7"
   },
   "source": [
    "Objek Pandas Series memiliki metode .mode() yang menangani nilai multimodal dengan baik dan mengabaikan nilai nan secara default:\n",
    "\n"
   ]
  },
  {
   "cell_type": "code",
   "execution_count": 44,
   "metadata": {
    "colab": {
     "base_uri": "https://localhost:8080/"
    },
    "id": "JhmRZxC9ciqw",
    "outputId": "71fc1359-d713-45db-8eb3-584246d93381"
   },
   "outputs": [
    {
     "name": "stdout",
     "output_type": "stream",
     "text": [
      "0    2\n",
      "dtype: int32\n",
      "0    12\n",
      "1    15\n",
      "dtype: int32\n",
      "0    2.0\n",
      "dtype: float64\n"
     ]
    }
   ],
   "source": [
    "u, v, w = pd.Series(u), pd.Series(v), pd.Series([2, 2, math.nan])\n",
    "\n",
    "print(u.mode())\n",
    "\n",
    "print(v.mode())\n",
    "\n",
    "print(w.mode())"
   ]
  },
  {
   "cell_type": "markdown",
   "metadata": {
    "id": "L6St4FEoclLN"
   },
   "source": [
    "Seperti yang kalian lihat, .mode() mengembalikan pd.Series baru yang menampung semua nilai modal. Jika kalian ingin .mode() memperhitungkan nilai nan, cukup teruskan argumen opsional dropna = False.\n",
    "\n",
    "Measures of Variability\n",
    "Measures of central tendency tidak cukup untuk menggambarkan data. Kita juga memerlukan ukuran variabilitas yang mengukur penyebaran titik data. Di bagian ini, kita akan mempelajari cara mengidentifikasi dan menghitung ukuran variabilitas berupa:\n",
    "\n",
    "# Variance\n"
   ]
  },
  {
   "cell_type": "code",
   "execution_count": 45,
   "metadata": {
    "colab": {
     "base_uri": "https://localhost:8080/"
    },
    "id": "REuE_PvGctkO",
    "outputId": "5f3f16da-8d8f-4f04-973f-4439b01e74ca"
   },
   "outputs": [
    {
     "data": {
      "text/plain": [
       "123.2"
      ]
     },
     "execution_count": 45,
     "metadata": {},
     "output_type": "execute_result"
    }
   ],
   "source": [
    "var_ = statistics.variance(x)\n",
    "var_"
   ]
  },
  {
   "cell_type": "markdown",
   "metadata": {
    "id": "6lWrLG7gcvYF"
   },
   "source": [
    "Kita juga dapat menghitung sample variance dengan NumPy. Kita harus menggunakan fungsi np.var() atau method .var():"
   ]
  },
  {
   "cell_type": "code",
   "execution_count": 46,
   "metadata": {
    "colab": {
     "base_uri": "https://localhost:8080/"
    },
    "id": "XzId91m0cxXv",
    "outputId": "adfadf86-afde-47e9-87c8-33f1c57a32a0"
   },
   "outputs": [
    {
     "data": {
      "text/plain": [
       "123.19999999999999"
      ]
     },
     "execution_count": 46,
     "metadata": {},
     "output_type": "execute_result"
    }
   ],
   "source": [
    "var_ = np.var(y, ddof=1)\n",
    "var_\n"
   ]
  },
  {
   "cell_type": "code",
   "execution_count": 47,
   "metadata": {
    "colab": {
     "base_uri": "https://localhost:8080/"
    },
    "id": "O6eboEsjcx-i",
    "outputId": "833b7b9e-3961-4165-de59-6c5655463268"
   },
   "outputs": [
    {
     "data": {
      "text/plain": [
       "123.19999999999999"
      ]
     },
     "execution_count": 47,
     "metadata": {},
     "output_type": "execute_result"
    }
   ],
   "source": [
    "var_ = y.var(ddof=1)\n",
    "var_\n"
   ]
  },
  {
   "cell_type": "code",
   "execution_count": 48,
   "metadata": {
    "colab": {
     "base_uri": "https://localhost:8080/"
    },
    "id": "27f8WoXSc3dn",
    "outputId": "ac32b3fc-3b87-4bfc-fe2d-a6e074edb533"
   },
   "outputs": [
    {
     "data": {
      "text/plain": [
       "123.19999999999999"
      ]
     },
     "execution_count": 48,
     "metadata": {},
     "output_type": "execute_result"
    }
   ],
   "source": [
    "z.var(ddof=1)\n"
   ]
  },
  {
   "cell_type": "markdown",
   "metadata": {},
   "source": [
    "# Standar Deviation"
   ]
  },
  {
   "cell_type": "code",
   "execution_count": 50,
   "metadata": {
    "colab": {
     "base_uri": "https://localhost:8080/"
    },
    "id": "FSNa5oZ-fg0A",
    "outputId": "2b96fac4-a42d-4fa3-e1be-b65437e03835"
   },
   "outputs": [
    {
     "data": {
      "text/plain": [
       "11.099549540409285"
      ]
     },
     "execution_count": 50,
     "metadata": {},
     "output_type": "execute_result"
    }
   ],
   "source": [
    "std_ = var_ ** 0.5\n",
    "std_"
   ]
  },
  {
   "cell_type": "code",
   "execution_count": 51,
   "metadata": {
    "colab": {
     "base_uri": "https://localhost:8080/"
    },
    "id": "4IWJBMOjfjLs",
    "outputId": "40d88cb6-df3b-4bfb-93a5-0470b371865c"
   },
   "outputs": [
    {
     "data": {
      "text/plain": [
       "11.099549540409287"
      ]
     },
     "execution_count": 51,
     "metadata": {},
     "output_type": "execute_result"
    }
   ],
   "source": [
    "# Meskipun solusi ini berhasil, kita juga dapat menggunakan statistics.stdev():\n",
    "std_ = statistics.stdev(x)\n",
    "std_\n"
   ]
  },
  {
   "cell_type": "markdown",
   "metadata": {
    "id": "OUzaCaJQfomr"
   },
   "source": [
    "Tentu saja hasilnya sama seperti sebelumnya. Seperti variance(), stdev() tidak menghitung mean jika kita memberikannya secara eksplisit sebagai argumen kedua: statistics.stdev(x, mean_).\n",
    "\n",
    "Kita bisa mendapatkan standard deviation dengan NumPy dengan cara yang hampir sama. Kita dapat menggunakan fungsi std() dan method .std() untuk menghitung standard deviation. Jika ada nilai nan dalam kumpulan data, maka akan mengembalikan nan. Untuk mengabaikan nilai nan, kita harus menggunakan np.nanstd()."
   ]
  },
  {
   "cell_type": "code",
   "execution_count": 52,
   "metadata": {
    "colab": {
     "base_uri": "https://localhost:8080/"
    },
    "id": "PW87f8z7fqbJ",
    "outputId": "67a8d63c-026c-4e15-a066-0f28ad671b5b"
   },
   "outputs": [
    {
     "data": {
      "text/plain": [
       "11.099549540409285"
      ]
     },
     "execution_count": 52,
     "metadata": {},
     "output_type": "execute_result"
    }
   ],
   "source": [
    "np.std(y, ddof=1)\n"
   ]
  },
  {
   "cell_type": "code",
   "execution_count": 53,
   "metadata": {
    "colab": {
     "base_uri": "https://localhost:8080/"
    },
    "id": "YPC909_YfsDN",
    "outputId": "84f397ed-8c56-47ce-cd85-3ace7d6978c5"
   },
   "outputs": [
    {
     "data": {
      "text/plain": [
       "11.099549540409285"
      ]
     },
     "execution_count": 53,
     "metadata": {},
     "output_type": "execute_result"
    }
   ],
   "source": [
    "y.std(ddof=1)\n"
   ]
  },
  {
   "cell_type": "code",
   "execution_count": 54,
   "metadata": {
    "colab": {
     "base_uri": "https://localhost:8080/"
    },
    "id": "Vzp3C8-dfuXZ",
    "outputId": "08f60f23-ae49-4637-9b67-de0328d7e496"
   },
   "outputs": [
    {
     "data": {
      "text/plain": [
       "11.099549540409285"
      ]
     },
     "execution_count": 54,
     "metadata": {},
     "output_type": "execute_result"
    }
   ],
   "source": [
    "# Objek pd.Series juga memiliki method .std() yang mengabaikan nan secara default:\n",
    "\n",
    "z.std(ddof=1)\n"
   ]
  },
  {
   "cell_type": "markdown",
   "metadata": {
    "id": "KAYXDK6je_Gr"
   },
   "source": [
    "Parameter ddof default adalah 1, jadi kita bisa menghilangkannya. Sekali lagi, jika kita ingin memperlakukan nilai nan secara berbeda, maka terapkan parameter skipna.\n",
    "\n",
    "Population standard deviation mengacu pada keseluruhan populasi. Ini adalah akar kuadrat positif dari population variance. Kita dapat menghitungnya seperti sample standard deviation, dengan perbedaan sebagai berikut:\n",
    "\n",
    "Find the square root of the population variance in the pure Python implementation.\n",
    "Use statistics.pstdev() instead of statistics.stdev().\n",
    "Specify the parameter ddof=0 if you use NumPy or Pandas. In NumPy, you can omit ddof because its default value is 0. As you can see, you can determine the standard deviation in Python, NumPy, and Pandas in almost the same way as you determine the variance. You use different but analogous functions and methods with the same arguments.\n",
    "\n",
    "## Skewness\n",
    "Sample skewness mengukur asimetri sampel data.\n",
    "\n"
   ]
  },
  {
   "cell_type": "code",
   "execution_count": 55,
   "metadata": {
    "colab": {
     "base_uri": "https://localhost:8080/"
    },
    "id": "urxUUOdWf5XB",
    "outputId": "1d221919-4aba-4f43-bc99-fe4d1d67c012"
   },
   "outputs": [
    {
     "data": {
      "text/plain": [
       "1.9470432273905929"
      ]
     },
     "execution_count": 55,
     "metadata": {},
     "output_type": "execute_result"
    }
   ],
   "source": [
    "x = [8.0, 1, 2.5, 4, 28.0]\n",
    "\n",
    "n = len(x)\n",
    "\n",
    "mean_ = sum(x) / n\n",
    "var_ = sum((item - mean_)**2 for item in x) / (n-1)\n",
    "std_ = var_ ** 0.5\n",
    "\n",
    "skew_ = (sum((item - mean_)**3 for item in x) * n / ((n - 1) * (n - 2) * std_**3))\n",
    "skew_\n"
   ]
  },
  {
   "cell_type": "markdown",
   "metadata": {
    "id": "fdI_ACUnfL8B"
   },
   "source": [
    "Skewness menunjukan angka positive, jadi x mempunyai right-side tail.\n",
    "\n",
    "Kita juga dapat menghitung sample skewness dengan scipy.stats.skew():\n",
    "\n"
   ]
  },
  {
   "cell_type": "code",
   "execution_count": 56,
   "metadata": {
    "colab": {
     "base_uri": "https://localhost:8080/"
    },
    "id": "ENdefX-3gD0p",
    "outputId": "07c29b51-2836-476a-ab98-5e23f4669328"
   },
   "outputs": [
    {
     "data": {
      "text/plain": [
       "1.9470432273905927"
      ]
     },
     "execution_count": 56,
     "metadata": {},
     "output_type": "execute_result"
    }
   ],
   "source": [
    "y, y_with_nan = np.array(x), np.array(x_with_nan)\n",
    "\n",
    "scipy.stats.skew(y, bias=False)"
   ]
  },
  {
   "cell_type": "code",
   "execution_count": 57,
   "metadata": {
    "colab": {
     "base_uri": "https://localhost:8080/"
    },
    "id": "WLL0rCg7gFTW",
    "outputId": "111ad0af-58bf-47ae-affb-2824ba18ad0f"
   },
   "outputs": [
    {
     "data": {
      "text/plain": [
       "nan"
      ]
     },
     "execution_count": 57,
     "metadata": {},
     "output_type": "execute_result"
    }
   ],
   "source": [
    "scipy.stats.skew(y_with_nan, bias=False)\n"
   ]
  },
  {
   "cell_type": "markdown",
   "metadata": {
    "id": "khTlQDAcfMZT"
   },
   "source": [
    "Hasil yang diperoleh sama dengan implementasi Python pure. Parameter bias diset ke False untuk mengaktifkan koreksi bias statistik. Parameter opsional nan_policy dapat menerima nilai 'propagate', 'raise', atau 'omit'. Ini memungkinkan kita untuk mengontrol cara kita menangani nilai nan.\n",
    "\n",
    "Objek Pandas Series memiliki metode .skew() yang juga mengembalikan skewness kumpulan data:"
   ]
  },
  {
   "cell_type": "code",
   "execution_count": 58,
   "metadata": {
    "colab": {
     "base_uri": "https://localhost:8080/"
    },
    "id": "lSFe9G7JgOQA",
    "outputId": "3c441a91-4836-4553-f345-b239a04ba34d"
   },
   "outputs": [
    {
     "data": {
      "text/plain": [
       "1.9470432273905924"
      ]
     },
     "execution_count": 58,
     "metadata": {},
     "output_type": "execute_result"
    }
   ],
   "source": [
    "z, z_with_nan = pd.Series(x), pd.Series(x_with_nan)\n",
    "\n",
    "z.skew()"
   ]
  },
  {
   "cell_type": "code",
   "execution_count": 59,
   "metadata": {
    "colab": {
     "base_uri": "https://localhost:8080/"
    },
    "id": "yZUVBUiLgP8o",
    "outputId": "4fe32fda-79e4-41fc-8a13-8fc83dac0847"
   },
   "outputs": [
    {
     "data": {
      "text/plain": [
       "1.9470432273905924"
      ]
     },
     "execution_count": 59,
     "metadata": {},
     "output_type": "execute_result"
    }
   ],
   "source": [
    "z_with_nan.skew()\n"
   ]
  },
  {
   "cell_type": "markdown",
   "metadata": {
    "id": "uDYTNKp_gJRS"
   },
   "source": [
    "# Percentiles\n"
   ]
  },
  {
   "cell_type": "markdown",
   "metadata": {
    "id": "v5WH57P8gJ5q"
   },
   "source": [
    "Percentiles\n",
    "sample 𝑝 percentile adalah elemen dalam kumpulan data sehingga 𝑝% elemen dalam kumpulan data kurang dari atau sama dengan nilai tersebut. Juga, (100 - 𝑝)% elemen lebih besar dari atau sama dengan nilai tersebut. \n",
    "\n",
    "Jika ada dua elemen seperti itu dalam kumpulan data, maka persentil 𝑝 sampel adalah arithmetic mean mereka. \n",
    "\n",
    "Tiap dataset memiliki tiga quartiles, yang merupakan persentil yang membagi dataset menjadi empat bagian:\n",
    "\n",
    "First quartile adalah sampel persentil ke-25. Kuartil pertama membagi sekitar 25% item terkecil dari kumpulan data lainnya.\n",
    "Second quartile adalah sampel persentil ke-50 atau median. Kira-kira 25% item terletak di antara kuartil pertama dan kedua dan 25% lainnya antara kuartil kedua dan ketiga.\n",
    "Third quartile adalah sampel persentil ke-75. Kuartil ketiga membagi sekitar 25% item terbesar dari sisa kumpulan data.\n",
    "Setiap bagian memiliki jumlah item yang kurang lebih sama. Jika kita ingin membagi data kita menjadi beberapa interval, maka kita dapat menggunakan statistics.quantiles():"
   ]
  },
  {
   "cell_type": "code",
   "execution_count": null,
   "metadata": {
    "id": "jTBnreXSZ1pv"
   },
   "outputs": [],
   "source": [
    "import statistics\n",
    "import numpy as np "
   ]
  },
  {
   "cell_type": "code",
   "execution_count": null,
   "metadata": {
    "colab": {
     "base_uri": "https://localhost:8080/"
    },
    "id": "CuMIl6qJN6M6",
    "outputId": "884a7e03-16c8-4534-86f6-30c12a29d910"
   },
   "outputs": [
    {
     "data": {
      "text/plain": [
       "8.0"
      ]
     },
     "execution_count": 56,
     "metadata": {},
     "output_type": "execute_result"
    }
   ],
   "source": [
    "x = [-5.0, -1.1, 0.1, 2.0, 8.0, 12.8, 21.0, 25.8, 41.0]\n",
    "#statistics.quantiles(x, n=2)\n",
    "np.quantile(x, .50)"
   ]
  },
  {
   "cell_type": "code",
   "execution_count": null,
   "metadata": {
    "id": "K20DhBMUOEfI"
   },
   "outputs": [],
   "source": [
    "# statistics.quantiles(x, n=4, method='inclusive')"
   ]
  },
  {
   "cell_type": "markdown",
   "metadata": {
    "id": "Vaf4-w9TgKX2"
   },
   "source": [
    "Dalam contoh ini, 8.0 adalah median dari x, sedangkan 0.1 dan 21.0 adalah sampel persentil ke-25 dan ke-75. Parameter n menentukan jumlah persentil probabilitas sama yang dihasilkan, dan method menentukan cara menghitungnya.\n",
    "\n",
    "Note: statistics.quantiles() is introduced in Python 3.8.\n",
    "\n",
    "Kita juga dapat menggunakan np.percentile() untuk menentukan persentil sampel apa pun dalam kumpulan data kita. Misalnya, ini cara kita mencari persentil ke-5 dan ke-95:"
   ]
  },
  {
   "cell_type": "code",
   "execution_count": null,
   "metadata": {
    "colab": {
     "base_uri": "https://localhost:8080/"
    },
    "id": "lRxym_HYcbvE",
    "outputId": "2b061c40-7b3a-4e65-e345-31269540b108"
   },
   "outputs": [
    {
     "data": {
      "text/plain": [
       "-3.44"
      ]
     },
     "execution_count": 57,
     "metadata": {},
     "output_type": "execute_result"
    }
   ],
   "source": [
    "y = np.array(x)\n",
    "np.percentile(y, 5)\n"
   ]
  },
  {
   "cell_type": "code",
   "execution_count": null,
   "metadata": {
    "colab": {
     "base_uri": "https://localhost:8080/"
    },
    "id": "zecPJrN-cgz_",
    "outputId": "4fcc7782-c5df-4e27-a67e-65f84d0a75dd"
   },
   "outputs": [
    {
     "data": {
      "text/plain": [
       "34.919999999999995"
      ]
     },
     "execution_count": 58,
     "metadata": {},
     "output_type": "execute_result"
    }
   ],
   "source": [
    "np.percentile(y, 95)\n"
   ]
  },
  {
   "cell_type": "markdown",
   "metadata": {
    "id": "JhESxFtCcwPP"
   },
   "source": [
    "\n",
    "\n",
    "percentile() membutuhkan beberapa argumen. Kita harus menyediakan dataset sebagai argumen pertama dan nilai persentil sebagai yang kedua. Dataset dapat berupa array NumPy, list, tuple, atau struktur data serupa. Persentil bisa berupa angka antara 0 dan 100 seperti pada contoh di atas, tetapi bisa juga berupa urutan angka:"
   ]
  },
  {
   "cell_type": "code",
   "execution_count": null,
   "metadata": {
    "colab": {
     "base_uri": "https://localhost:8080/"
    },
    "id": "wBD_rvK7cze_",
    "outputId": "d0999e3b-cd54-405a-fad4-a5e030472236"
   },
   "outputs": [
    {
     "data": {
      "text/plain": [
       "array([ 0.1,  8. , 21. ])"
      ]
     },
     "execution_count": 59,
     "metadata": {},
     "output_type": "execute_result"
    }
   ],
   "source": [
    "np.percentile(y, [25, 50, 75])"
   ]
  },
  {
   "cell_type": "code",
   "execution_count": null,
   "metadata": {
    "colab": {
     "base_uri": "https://localhost:8080/"
    },
    "id": "GeMlvpaKc5S9",
    "outputId": "d1443355-5646-4bba-c5ae-897d0d3dce36"
   },
   "outputs": [
    {
     "data": {
      "text/plain": [
       "8.0"
      ]
     },
     "execution_count": 60,
     "metadata": {},
     "output_type": "execute_result"
    }
   ],
   "source": [
    "np.median(y)"
   ]
  },
  {
   "cell_type": "markdown",
   "metadata": {
    "id": "7E34X1R-dAuD"
   },
   "source": [
    "Kode tersebut menghitung persentil ke-25, ke-50, dan ke-75 sekaligus. Jika nilai persentil adalah sebuah urutan, maka percentile() mengembalikan array NumPy dengan hasilnya. Statement pertama mengembalikan array quartiles. Pernyataan kedua mengembalikan median, sehingga kita dapat mengonfirmasi bahwa itu sama dengan persentil ke-50, yaitu 8.0.\n",
    "\n",
    "Jika kita ingin mengabaikan nilai nan, gunakan np.nanpercentile() sebagai gantinya:"
   ]
  },
  {
   "cell_type": "code",
   "execution_count": null,
   "metadata": {
    "colab": {
     "base_uri": "https://localhost:8080/"
    },
    "id": "34p724o9dRFS",
    "outputId": "bfcceeb1-e704-4b6c-8b38-409a72dcb8a5"
   },
   "outputs": [
    {
     "data": {
      "text/plain": [
       "array([-5. , -1.1,  nan,  0.1,  2. ,  8. , 12.8, 21. , 25.8, 41. ])"
      ]
     },
     "execution_count": 62,
     "metadata": {},
     "output_type": "execute_result"
    }
   ],
   "source": [
    "y_with_nan = np.insert(y, 2, np.nan)\n",
    "y_with_nan"
   ]
  },
  {
   "cell_type": "code",
   "execution_count": null,
   "metadata": {
    "colab": {
     "base_uri": "https://localhost:8080/"
    },
    "id": "CauGc8hddqmW",
    "outputId": "79cadd9b-9878-4edf-b6ed-84c7554e88ca"
   },
   "outputs": [
    {
     "data": {
      "text/plain": [
       "array([ 0.1,  8. , 21. ])"
      ]
     },
     "execution_count": 63,
     "metadata": {},
     "output_type": "execute_result"
    }
   ],
   "source": [
    "np.nanpercentile(y_with_nan, [25, 50, 75])"
   ]
  },
  {
   "cell_type": "markdown",
   "metadata": {
    "id": "DNXsY-u6dVYy"
   },
   "source": [
    "Begitulah cara kita menghindari nilai nan.\n",
    "\n",
    "NumPy juga menawarkan fungsionalitas yang sangat mirip di quantile() dan nanquantile(). Jika kita ingin menggunakannya, kita harus memberikan nilai-nilai kuantitatif sebagai angka antara 0 dan 1, bukan persentil:"
   ]
  },
  {
   "cell_type": "code",
   "execution_count": null,
   "metadata": {
    "colab": {
     "base_uri": "https://localhost:8080/"
    },
    "id": "UFjamnARdWVn",
    "outputId": "daa0c6bc-0c91-44f2-d864-d0a91aa355ea"
   },
   "outputs": [
    {
     "data": {
      "text/plain": [
       "-3.44"
      ]
     },
     "execution_count": 64,
     "metadata": {},
     "output_type": "execute_result"
    }
   ],
   "source": [
    "np.quantile(y, 0.05)"
   ]
  },
  {
   "cell_type": "code",
   "execution_count": null,
   "metadata": {
    "colab": {
     "base_uri": "https://localhost:8080/"
    },
    "id": "FfQ-R-BkdyI0",
    "outputId": "80a42b31-71b1-401a-bfad-e50feed39b87"
   },
   "outputs": [
    {
     "data": {
      "text/plain": [
       "34.919999999999995"
      ]
     },
     "execution_count": 65,
     "metadata": {},
     "output_type": "execute_result"
    }
   ],
   "source": [
    "np.quantile(y, 0.95)"
   ]
  },
  {
   "cell_type": "code",
   "execution_count": null,
   "metadata": {
    "colab": {
     "base_uri": "https://localhost:8080/"
    },
    "id": "XVT8ruqTd0m9",
    "outputId": "583291ec-4602-444d-e3cd-d4f443f40b98"
   },
   "outputs": [
    {
     "data": {
      "text/plain": [
       "array([ 0.1,  8. , 21. ])"
      ]
     },
     "execution_count": 120,
     "metadata": {},
     "output_type": "execute_result"
    }
   ],
   "source": [
    "np.quantile(y, [0.25, 0.5, 0.75])"
   ]
  },
  {
   "cell_type": "code",
   "execution_count": null,
   "metadata": {
    "colab": {
     "base_uri": "https://localhost:8080/"
    },
    "id": "kFS-FPaTd33C",
    "outputId": "87d16736-f269-4a96-9ea0-f2408063c39f"
   },
   "outputs": [
    {
     "data": {
      "text/plain": [
       "array([ 0.1,  8. , 21. ])"
      ]
     },
     "execution_count": 121,
     "metadata": {},
     "output_type": "execute_result"
    }
   ],
   "source": [
    "np.nanquantile(y_with_nan, [0.25, 0.5, 0.75])"
   ]
  },
  {
   "cell_type": "markdown",
   "metadata": {
    "id": "OUBBoaEwdb8g"
   },
   "source": [
    "Hasilnya sama seperti pada contoh sebelumnya, tetapi di sini argumen kita antara 0 dan 1. Dengan kata lain, kita memberikan 0.05 daripada 5 dan 0.95 daripada 95.\n",
    "\n",
    "pd.Series objek memiliki method .quantile():"
   ]
  },
  {
   "cell_type": "code",
   "execution_count": null,
   "metadata": {
    "id": "9ZFAmwSvdelm"
   },
   "outputs": [],
   "source": [
    "z, z_with_nan = pd.Series(y), pd.Series(y_with_nan)"
   ]
  },
  {
   "cell_type": "code",
   "execution_count": null,
   "metadata": {
    "colab": {
     "base_uri": "https://localhost:8080/"
    },
    "id": "Vnvj7JumeE2h",
    "outputId": "94889307-1be3-418f-8a63-6e630c82cd0a"
   },
   "outputs": [
    {
     "data": {
      "text/plain": [
       "-3.44"
      ]
     },
     "execution_count": 67,
     "metadata": {},
     "output_type": "execute_result"
    }
   ],
   "source": [
    "z.quantile(0.05)"
   ]
  },
  {
   "cell_type": "code",
   "execution_count": null,
   "metadata": {
    "colab": {
     "base_uri": "https://localhost:8080/"
    },
    "id": "p1FQDA18eIZv",
    "outputId": "372759cb-fe73-45af-a2a1-07fabfdcfa48"
   },
   "outputs": [
    {
     "data": {
      "text/plain": [
       "34.919999999999995"
      ]
     },
     "execution_count": 124,
     "metadata": {},
     "output_type": "execute_result"
    }
   ],
   "source": [
    "z.quantile(0.95)"
   ]
  },
  {
   "cell_type": "code",
   "execution_count": null,
   "metadata": {
    "colab": {
     "base_uri": "https://localhost:8080/"
    },
    "id": "vYFfAy9ReRBy",
    "outputId": "e0d4053d-94fe-47d8-afd3-ee603625ccfc"
   },
   "outputs": [
    {
     "data": {
      "text/plain": [
       "0.25     0.1\n",
       "0.50     8.0\n",
       "0.75    21.0\n",
       "dtype: float64"
      ]
     },
     "execution_count": 125,
     "metadata": {},
     "output_type": "execute_result"
    }
   ],
   "source": [
    "z.quantile([0.25, 0.5, 0.75])"
   ]
  },
  {
   "cell_type": "code",
   "execution_count": null,
   "metadata": {
    "colab": {
     "base_uri": "https://localhost:8080/"
    },
    "id": "vYgZwTyueSQ0",
    "outputId": "a2b142ca-d61c-4e35-a9ed-36bc68e22a93"
   },
   "outputs": [
    {
     "data": {
      "text/plain": [
       "0.25     0.1\n",
       "0.50     8.0\n",
       "0.75    21.0\n",
       "dtype: float64"
      ]
     },
     "execution_count": 126,
     "metadata": {},
     "output_type": "execute_result"
    }
   ],
   "source": [
    "z_with_nan.quantile([0.25, 0.5, 0.75])"
   ]
  },
  {
   "cell_type": "markdown",
   "metadata": {
    "id": "jAtAG8Pidg-Q"
   },
   "source": [
    ".quantile() juga membutuhkan kita untuk memberikan nilai quantile sebagai argumennya. Nilai ini bisa berupa angka antara 0 dan 1 atau urutan angka. Dalam kasus pertama, .quantile() mengembalikan skalar. Dalam kasus kedua, ia mengembalikan Series baru."
   ]
  },
  {
   "cell_type": "markdown",
   "metadata": {
    "id": "AUfFgplpdh7k"
   },
   "source": [
    "## Ranges\n",
    "Rentang data/range data adalah perbedaan antara elemen maksimum dan minimum dalam kumpulan data. Kita bisa mendapatkannya dengan fungsi np.ptp():\n",
    "\n",
    "percentile() membutuhkan beberapa argumen. Kita harus menyediakan dataset sebagai argumen pertama dan nilai persentil sebagai yang kedua. Dataset dapat berupa array NumPy, list, tuple, atau struktur data serupa. Persentil bisa berupa angka antara 0 dan 100 seperti pada contoh di atas, tetapi bisa juga berupa urutan angka:\n",
    "\n"
   ]
  },
  {
   "cell_type": "code",
   "execution_count": null,
   "metadata": {
    "colab": {
     "base_uri": "https://localhost:8080/"
    },
    "id": "ogdIxfLLeoO3",
    "outputId": "d6e22d6a-8a97-4bc8-91e9-12393ef15294"
   },
   "outputs": [
    {
     "data": {
      "text/plain": [
       "array([ 0.1,  8. , 21. ])"
      ]
     },
     "execution_count": 68,
     "metadata": {},
     "output_type": "execute_result"
    }
   ],
   "source": [
    "np.percentile(y, [25, 50, 75])"
   ]
  },
  {
   "cell_type": "code",
   "execution_count": null,
   "metadata": {
    "colab": {
     "base_uri": "https://localhost:8080/"
    },
    "id": "uEaFevNKfh41",
    "outputId": "4a2d9a0d-46f2-4921-eef0-44a4102189bb"
   },
   "outputs": [
    {
     "data": {
      "text/plain": [
       "8.0"
      ]
     },
     "execution_count": 69,
     "metadata": {},
     "output_type": "execute_result"
    }
   ],
   "source": [
    "np.median(y)"
   ]
  },
  {
   "cell_type": "markdown",
   "metadata": {
    "id": "3iLua8KSerk6"
   },
   "source": [
    "Kode tersebut menghitung persentil ke-25, ke-50, dan ke-75 sekaligus. Jika nilai persentil adalah sebuah urutan, maka percentile() mengembalikan array NumPy dengan hasilnya. Statement pertama mengembalikan array quartiles. Pernyataan kedua mengembalikan median, sehingga kita dapat mengonfirmasi bahwa itu sama dengan persentil ke-50, yaitu 8.0.\n",
    "\n",
    "Jika kita ingin mengabaikan nilai nan, gunakan np.nanpercentile() sebagai gantinya:"
   ]
  },
  {
   "cell_type": "code",
   "execution_count": null,
   "metadata": {
    "colab": {
     "base_uri": "https://localhost:8080/"
    },
    "id": "knJ0nqqMeuQp",
    "outputId": "db893e82-a103-4c54-cc2e-49fc3efbbb40"
   },
   "outputs": [
    {
     "data": {
      "text/plain": [
       "array([-5. , -1.1,  nan,  0.1,  2. ,  8. , 12.8, 21. , 25.8, 41. ])"
      ]
     },
     "execution_count": 129,
     "metadata": {},
     "output_type": "execute_result"
    }
   ],
   "source": [
    "y_with_nan = np.insert(y, 2, np.nan)\n",
    "y_with_nan"
   ]
  },
  {
   "cell_type": "code",
   "execution_count": null,
   "metadata": {
    "colab": {
     "base_uri": "https://localhost:8080/"
    },
    "id": "MF6wSTtVfqcN",
    "outputId": "35ecf443-deef-48d4-b790-50e16ea88156"
   },
   "outputs": [
    {
     "data": {
      "text/plain": [
       "array([ 0.1,  8. , 21. ])"
      ]
     },
     "execution_count": 130,
     "metadata": {},
     "output_type": "execute_result"
    }
   ],
   "source": [
    "np.nanpercentile(y_with_nan, [25, 50, 75])"
   ]
  },
  {
   "cell_type": "markdown",
   "metadata": {
    "id": "9yqTG87Uew64"
   },
   "source": [
    "Begitulah cara kita menghindari nilai nan.\n",
    "\n",
    "NumPy juga menawarkan fungsionalitas yang sangat mirip di quantile() dan nanquantile(). Jika kita ingin menggunakannya, kita harus memberikan nilai-nilai kuantitatif sebagai angka antara 0 dan 1, bukan persentil:"
   ]
  },
  {
   "cell_type": "code",
   "execution_count": null,
   "metadata": {
    "colab": {
     "base_uri": "https://localhost:8080/"
    },
    "id": "BvJrbWGAe1L6",
    "outputId": "cef26323-8d6a-4ca6-94bd-623af3303c1e"
   },
   "outputs": [
    {
     "data": {
      "text/plain": [
       "-3.44"
      ]
     },
     "execution_count": 131,
     "metadata": {},
     "output_type": "execute_result"
    }
   ],
   "source": [
    "np.quantile(y, 0.05)"
   ]
  },
  {
   "cell_type": "code",
   "execution_count": null,
   "metadata": {
    "colab": {
     "base_uri": "https://localhost:8080/"
    },
    "id": "W9udeo42f2mW",
    "outputId": "fdfc1fbb-a6f8-4396-f0f5-3388d59b5feb"
   },
   "outputs": [
    {
     "data": {
      "text/plain": [
       "34.919999999999995"
      ]
     },
     "execution_count": 132,
     "metadata": {},
     "output_type": "execute_result"
    }
   ],
   "source": [
    "np.quantile(y, 0.95)"
   ]
  },
  {
   "cell_type": "code",
   "execution_count": null,
   "metadata": {
    "colab": {
     "base_uri": "https://localhost:8080/"
    },
    "id": "KD_4Z2DPf0vR",
    "outputId": "5d54ed91-d578-4b4f-d81d-cf2c1d608cdb"
   },
   "outputs": [
    {
     "data": {
      "text/plain": [
       "array([ 0.1,  8. , 21. ])"
      ]
     },
     "execution_count": 133,
     "metadata": {},
     "output_type": "execute_result"
    }
   ],
   "source": [
    "np.quantile(y, [0.25, 0.5, 0.75])"
   ]
  },
  {
   "cell_type": "code",
   "execution_count": null,
   "metadata": {
    "colab": {
     "base_uri": "https://localhost:8080/"
    },
    "id": "ErC2wfCwfzoL",
    "outputId": "90debc6b-2447-43a4-e595-e49a0450572b"
   },
   "outputs": [
    {
     "data": {
      "text/plain": [
       "array([ 0.1,  8. , 21. ])"
      ]
     },
     "execution_count": 134,
     "metadata": {},
     "output_type": "execute_result"
    }
   ],
   "source": [
    "np.nanquantile(y_with_nan, [0.25, 0.5, 0.75])"
   ]
  },
  {
   "cell_type": "markdown",
   "metadata": {
    "id": "Q2X9RY-te31J"
   },
   "source": [
    "\n",
    "Hasilnya sama seperti pada contoh sebelumnya, tetapi di sini argumen kita antara 0 dan 1. Dengan kata lain, kita memberikan 0.05 daripada 5 dan 0.95 daripada 95.\n",
    "\n",
    "pd.Series objek memiliki method .quantile():\n"
   ]
  },
  {
   "cell_type": "code",
   "execution_count": null,
   "metadata": {
    "id": "gi-UEBjPe6L8"
   },
   "outputs": [],
   "source": [
    "z, z_with_nan = pd.Series(y), pd.Series(y_with_nan)"
   ]
  },
  {
   "cell_type": "code",
   "execution_count": null,
   "metadata": {
    "colab": {
     "base_uri": "https://localhost:8080/"
    },
    "id": "_o2RItjqgDZ_",
    "outputId": "f17a8a25-089c-4c4b-c1b6-c995cb7c91f3"
   },
   "outputs": [
    {
     "data": {
      "text/plain": [
       "-3.44"
      ]
     },
     "execution_count": 136,
     "metadata": {},
     "output_type": "execute_result"
    }
   ],
   "source": [
    "z.quantile(0.05)"
   ]
  },
  {
   "cell_type": "code",
   "execution_count": null,
   "metadata": {
    "colab": {
     "base_uri": "https://localhost:8080/"
    },
    "id": "5RW4FXuJgBvR",
    "outputId": "cc44c03b-61ad-4df6-bf35-37e353965500"
   },
   "outputs": [
    {
     "data": {
      "text/plain": [
       "34.919999999999995"
      ]
     },
     "execution_count": 137,
     "metadata": {},
     "output_type": "execute_result"
    }
   ],
   "source": [
    "z.quantile(0.95)"
   ]
  },
  {
   "cell_type": "code",
   "execution_count": null,
   "metadata": {
    "colab": {
     "base_uri": "https://localhost:8080/"
    },
    "id": "5IoZ81-ygADa",
    "outputId": "63c43894-b580-4ae2-80a8-0135feaa11fd"
   },
   "outputs": [
    {
     "data": {
      "text/plain": [
       "0.25     0.1\n",
       "0.50     8.0\n",
       "0.75    21.0\n",
       "dtype: float64"
      ]
     },
     "execution_count": 138,
     "metadata": {},
     "output_type": "execute_result"
    }
   ],
   "source": [
    "z.quantile([0.25, 0.5, 0.75])"
   ]
  },
  {
   "cell_type": "code",
   "execution_count": null,
   "metadata": {
    "colab": {
     "base_uri": "https://localhost:8080/"
    },
    "id": "tNhUPcnaf-BX",
    "outputId": "e22bed77-d6d2-45d6-ef3a-1a9b6c563386"
   },
   "outputs": [
    {
     "data": {
      "text/plain": [
       "0.25     0.1\n",
       "0.50     8.0\n",
       "0.75    21.0\n",
       "dtype: float64"
      ]
     },
     "execution_count": 139,
     "metadata": {},
     "output_type": "execute_result"
    }
   ],
   "source": [
    "z_with_nan.quantile([0.25, 0.5, 0.75])"
   ]
  },
  {
   "cell_type": "markdown",
   "metadata": {
    "id": "BubmWzp_e9J5"
   },
   "source": [
    ".quantile() juga membutuhkan kita untuk memberikan nilai quantile sebagai argumennya. Nilai ini bisa berupa angka antara 0 dan 1 atau urutan angka. Dalam kasus pertama, .quantile() mengembalikan skalar. Dalam kasus kedua, ia mengembalikan Series baru.\n",
    "\n",
    "Ranges\n",
    "Rentang data/range data adalah perbedaan antara elemen maksimum dan minimum dalam kumpulan data. Kita bisa mendapatkannya dengan fungsi np.ptp():\n"
   ]
  },
  {
   "cell_type": "code",
   "execution_count": null,
   "metadata": {
    "colab": {
     "base_uri": "https://localhost:8080/"
    },
    "id": "-pciLP3IfAPm",
    "outputId": "bef46435-9b9e-4262-da8a-344f622f55cc"
   },
   "outputs": [
    {
     "data": {
      "text/plain": [
       "46.0"
      ]
     },
     "execution_count": 140,
     "metadata": {},
     "output_type": "execute_result"
    }
   ],
   "source": [
    "np.ptp(y)"
   ]
  },
  {
   "cell_type": "code",
   "execution_count": null,
   "metadata": {
    "colab": {
     "base_uri": "https://localhost:8080/"
    },
    "id": "XwuJhQvKgPRo",
    "outputId": "3036aa44-943e-4798-d736-34299a5b2e82"
   },
   "outputs": [
    {
     "data": {
      "text/plain": [
       "46.0"
      ]
     },
     "execution_count": 141,
     "metadata": {},
     "output_type": "execute_result"
    }
   ],
   "source": [
    "np.ptp(z)"
   ]
  },
  {
   "cell_type": "code",
   "execution_count": null,
   "metadata": {
    "colab": {
     "base_uri": "https://localhost:8080/"
    },
    "id": "aOeHq5PQgOBn",
    "outputId": "bd34fac5-57bf-4f8d-9e73-584d5c69af4d"
   },
   "outputs": [
    {
     "data": {
      "text/plain": [
       "nan"
      ]
     },
     "execution_count": 142,
     "metadata": {},
     "output_type": "execute_result"
    }
   ],
   "source": [
    "np.ptp(y_with_nan)"
   ]
  },
  {
   "cell_type": "code",
   "execution_count": null,
   "metadata": {
    "colab": {
     "base_uri": "https://localhost:8080/"
    },
    "id": "GSw2QFRIgMmt",
    "outputId": "76240373-be64-44af-8226-f2a191292009"
   },
   "outputs": [
    {
     "data": {
      "text/plain": [
       "nan"
      ]
     },
     "execution_count": 143,
     "metadata": {},
     "output_type": "execute_result"
    }
   ],
   "source": [
    "np.ptp(z_with_nan)"
   ]
  },
  {
   "cell_type": "markdown",
   "metadata": {
    "id": "jlIszUZcfGWn"
   },
   "source": [
    "Fungsi ini mengembalikan nan jika ada nilai nan dalam array NumPy kita. Jika kitamenggunakan objek Pandas Series, maka itu akan mengembalikan angka.\n",
    "\n",
    "Sebagai alternatif, kita dapat menggunakan fungsi dan method Python, NumPy, atau Pandas bawaan untuk menghitung maksimum dan minimum:\n",
    "\n",
    "max() and min() from the Python standard library\n",
    "amax() and amin() from NumPy\n",
    "nanmax() and nanmin() from NumPy to ignore nan values\n",
    ".max() and .min() from NumPy\n",
    ".max() and .min() from Pandas to ignore nan values by default\n",
    "Berikut beberapa contoh bagaimana kita akan menggunakannya:"
   ]
  },
  {
   "cell_type": "code",
   "execution_count": null,
   "metadata": {
    "colab": {
     "base_uri": "https://localhost:8080/"
    },
    "id": "3Ze_W5tC9hYI",
    "outputId": "656b9654-6f47-4474-a753-f86b94d4e9f1"
   },
   "outputs": [
    {
     "name": "stdout",
     "output_type": "stream",
     "text": [
      "[-5.  -1.1  0.1  2.   8.  12.8 21.  25.8 41. ]\n"
     ]
    }
   ],
   "source": [
    "print(y)"
   ]
  },
  {
   "cell_type": "code",
   "execution_count": null,
   "metadata": {
    "colab": {
     "base_uri": "https://localhost:8080/"
    },
    "id": "t7FXKs1ofItG",
    "outputId": "f40638b2-c54f-4c09-9721-d1d58b3d7eec"
   },
   "outputs": [
    {
     "data": {
      "text/plain": [
       "46.0"
      ]
     },
     "execution_count": 72,
     "metadata": {},
     "output_type": "execute_result"
    }
   ],
   "source": [
    "np.amax(y) - np.amin(y)"
   ]
  },
  {
   "cell_type": "code",
   "execution_count": null,
   "metadata": {
    "colab": {
     "base_uri": "https://localhost:8080/"
    },
    "id": "4ZbEJAdagbW9",
    "outputId": "e1e9c8a5-afe2-4862-8e1d-9b4dbece9e8d"
   },
   "outputs": [
    {
     "data": {
      "text/plain": [
       "46.0"
      ]
     },
     "execution_count": 73,
     "metadata": {},
     "output_type": "execute_result"
    }
   ],
   "source": [
    "np.nanmax(y_with_nan) - np.nanmin(y_with_nan)"
   ]
  },
  {
   "cell_type": "code",
   "execution_count": null,
   "metadata": {
    "colab": {
     "base_uri": "https://localhost:8080/"
    },
    "id": "5mmnNEZ4gZpa",
    "outputId": "431f5842-5ad7-40f4-c2f1-355796f32867"
   },
   "outputs": [
    {
     "data": {
      "text/plain": [
       "46.0"
      ]
     },
     "execution_count": 74,
     "metadata": {},
     "output_type": "execute_result"
    }
   ],
   "source": [
    "y.max() - y.min()"
   ]
  },
  {
   "cell_type": "code",
   "execution_count": null,
   "metadata": {
    "colab": {
     "base_uri": "https://localhost:8080/"
    },
    "id": "BtYwIHfVgYVF",
    "outputId": "144968bc-d01b-492c-d082-e7c9dc552671"
   },
   "outputs": [
    {
     "data": {
      "text/plain": [
       "46.0"
      ]
     },
     "execution_count": 149,
     "metadata": {},
     "output_type": "execute_result"
    }
   ],
   "source": [
    "z.max() - z.min()"
   ]
  },
  {
   "cell_type": "code",
   "execution_count": null,
   "metadata": {
    "colab": {
     "base_uri": "https://localhost:8080/"
    },
    "id": "TWt_5wahgXC1",
    "outputId": "7292b64e-9317-477e-9408-101f01ea5671"
   },
   "outputs": [
    {
     "data": {
      "text/plain": [
       "46.0"
      ]
     },
     "execution_count": 148,
     "metadata": {},
     "output_type": "execute_result"
    }
   ],
   "source": [
    "z_with_nan.max() - z_with_nan.min()"
   ]
  },
  {
   "cell_type": "markdown",
   "metadata": {
    "id": "73lp8-grfMbL"
   },
   "source": [
    "Interquartile range adalah perbedaan antara kuartil pertama dan ketiga. Setelah kita menghitung kuartil, kita dapat mengambil selisihnya:"
   ]
  },
  {
   "cell_type": "code",
   "execution_count": null,
   "metadata": {
    "id": "NhdSGsTCg-mq"
   },
   "outputs": [],
   "source": [
    "quartiles = np.quantile(y, [0.25, 0.75])"
   ]
  },
  {
   "cell_type": "code",
   "execution_count": null,
   "metadata": {
    "colab": {
     "base_uri": "https://localhost:8080/"
    },
    "id": "MXJuUZrkhCE-",
    "outputId": "3239ba93-6868-429b-8fa4-ca385d46fd88"
   },
   "outputs": [
    {
     "data": {
      "text/plain": [
       "20.9"
      ]
     },
     "execution_count": 76,
     "metadata": {},
     "output_type": "execute_result"
    }
   ],
   "source": [
    "quartiles[1] - quartiles[0]"
   ]
  },
  {
   "cell_type": "code",
   "execution_count": null,
   "metadata": {
    "id": "3vMuz7_ghEMN"
   },
   "outputs": [],
   "source": [
    "quartiles = z.quantile([0.25, 0.75])"
   ]
  },
  {
   "cell_type": "code",
   "execution_count": null,
   "metadata": {
    "colab": {
     "base_uri": "https://localhost:8080/"
    },
    "id": "7VAi2Ap7hGAs",
    "outputId": "fd6b66d4-dc0c-468c-910c-a6b43f4eb68f"
   },
   "outputs": [
    {
     "data": {
      "text/plain": [
       "20.9"
      ]
     },
     "execution_count": 78,
     "metadata": {},
     "output_type": "execute_result"
    }
   ],
   "source": [
    "quartiles[0.75] - quartiles[0.25]"
   ]
  },
  {
   "cell_type": "markdown",
   "metadata": {
    "id": "ccXDYUHffSTf"
   },
   "source": [
    "Summary of Descriptive Statistics\n",
    "SciPy dan Pandas menawarkan function yang berguna untuk mendapatkan descriptive statistics dengan cepat dengan satu panggilan fungsi atau method. Kita dapat menggunakan scipy.stats.describe() seperti ini:"
   ]
  },
  {
   "cell_type": "code",
   "execution_count": null,
   "metadata": {
    "colab": {
     "base_uri": "https://localhost:8080/"
    },
    "id": "wtql8UC0fX5z",
    "outputId": "df2a865e-8506-4c3a-e485-04b5df834972"
   },
   "outputs": [
    {
     "data": {
      "text/plain": [
       "DescribeResult(nobs=9, minmax=(-5.0, 41.0), mean=11.622222222222222, variance=228.75194444444446, skewness=0.9249043136685094, kurtosis=0.14770623629658886)"
      ]
     },
     "execution_count": 80,
     "metadata": {},
     "output_type": "execute_result"
    }
   ],
   "source": [
    "result = scipy.stats.describe(y, ddof=1, bias=False)\n",
    "result"
   ]
  },
  {
   "cell_type": "markdown",
   "metadata": {
    "id": "xKbTBdUbhWUL"
   },
   "source": [
    "Kita harus memberikan dataset sebagai argumen pertama. Argumennya bisa berupa array NumPy, list, tuple, atau struktur data serupa. Kita dapat menghilangkan ddof=1 karena adalah default dan hanya penting saat kita menghitung varians. Kita bisa meneruskan bias=False untuk memaksa mengoreksi skewnessdan kurtosis untuk statistical bias.\n",
    "\n",
    "describe() mengembalikan objek yang berupa descriptive statistics berikut:\n",
    "\n",
    "nobs: the number of observations or elements in your dataset\n",
    "minmax: the tuple with the minimum and maximum values of your dataset\n",
    "mean: the mean of your dataset\n",
    "variance: the variance of your dataset\n",
    "skewness: the skewness of your dataset\n",
    "kurtosis: the kurtosis of your dataset\n",
    "Kita dapat mengakses nilai tertentu dengan dot notation:"
   ]
  },
  {
   "cell_type": "code",
   "execution_count": null,
   "metadata": {
    "colab": {
     "base_uri": "https://localhost:8080/"
    },
    "id": "Zka-jhgUhZ6s",
    "outputId": "51a5b0e0-650c-4d18-fcc4-e241bcc75c62"
   },
   "outputs": [
    {
     "data": {
      "text/plain": [
       "9"
      ]
     },
     "execution_count": 81,
     "metadata": {},
     "output_type": "execute_result"
    }
   ],
   "source": [
    " result.nobs"
   ]
  },
  {
   "cell_type": "code",
   "execution_count": null,
   "metadata": {
    "colab": {
     "base_uri": "https://localhost:8080/"
    },
    "id": "19c4-dFBhdgX",
    "outputId": "c22dd84b-c6aa-4725-efee-7938e8f4b704"
   },
   "outputs": [
    {
     "data": {
      "text/plain": [
       "-5.0"
      ]
     },
     "execution_count": 82,
     "metadata": {},
     "output_type": "execute_result"
    }
   ],
   "source": [
    "result.minmax[0]"
   ]
  },
  {
   "cell_type": "code",
   "execution_count": null,
   "metadata": {
    "colab": {
     "base_uri": "https://localhost:8080/"
    },
    "id": "XvCD7TKphgGk",
    "outputId": "fc8cbeac-6f6d-4b08-d605-6f46951be88f"
   },
   "outputs": [
    {
     "data": {
      "text/plain": [
       "41.0"
      ]
     },
     "execution_count": 83,
     "metadata": {},
     "output_type": "execute_result"
    }
   ],
   "source": [
    "result.minmax[1]"
   ]
  },
  {
   "cell_type": "code",
   "execution_count": null,
   "metadata": {
    "colab": {
     "base_uri": "https://localhost:8080/"
    },
    "id": "7kxDBebThka0",
    "outputId": "ce9631fa-f5bb-4eab-f3e6-9ee6a79cbc66"
   },
   "outputs": [
    {
     "data": {
      "text/plain": [
       "11.622222222222222"
      ]
     },
     "execution_count": 84,
     "metadata": {},
     "output_type": "execute_result"
    }
   ],
   "source": [
    "result.mean"
   ]
  },
  {
   "cell_type": "code",
   "execution_count": null,
   "metadata": {
    "colab": {
     "base_uri": "https://localhost:8080/"
    },
    "id": "zCBNXygohpIK",
    "outputId": "c67cedf6-8e2c-4133-eda8-f842896ac2a0"
   },
   "outputs": [
    {
     "data": {
      "text/plain": [
       "228.75194444444446"
      ]
     },
     "execution_count": 85,
     "metadata": {},
     "output_type": "execute_result"
    }
   ],
   "source": [
    "result.variance"
   ]
  },
  {
   "cell_type": "code",
   "execution_count": null,
   "metadata": {
    "id": "YO-mFZaBhrya"
   },
   "outputs": [],
   "source": [
    "result.skewness"
   ]
  },
  {
   "cell_type": "code",
   "execution_count": null,
   "metadata": {
    "colab": {
     "base_uri": "https://localhost:8080/"
    },
    "id": "epHapC4mhukc",
    "outputId": "d3892954-f77d-47cf-cd1f-485f65b213c0"
   },
   "outputs": [
    {
     "data": {
      "text/plain": [
       "0.14770623629658886"
      ]
     },
     "execution_count": 87,
     "metadata": {},
     "output_type": "execute_result"
    }
   ],
   "source": [
    "result.kurtosis"
   ]
  },
  {
   "cell_type": "markdown",
   "metadata": {
    "id": "T7IHVCEzh0Eg"
   },
   "source": [
    "Dengan SciPy, kita hanya perlu satu panggilan fungsi dari ringkasan descriptive statistics untuk kumpulan data kita.\n",
    "\n",
    "Pandas memiliki fungsi yang serupa. Objek series memiliki metode .describe():"
   ]
  },
  {
   "cell_type": "code",
   "execution_count": null,
   "metadata": {
    "colab": {
     "base_uri": "https://localhost:8080/"
    },
    "id": "-8aLOyTVh2PL",
    "outputId": "d48a2f21-6d53-419f-d539-db15346c09b5"
   },
   "outputs": [
    {
     "data": {
      "text/plain": [
       "count     9.000000\n",
       "mean     11.622222\n",
       "std      15.124548\n",
       "min      -5.000000\n",
       "25%       0.100000\n",
       "50%       8.000000\n",
       "75%      21.000000\n",
       "max      41.000000\n",
       "dtype: float64"
      ]
     },
     "execution_count": 89,
     "metadata": {},
     "output_type": "execute_result"
    }
   ],
   "source": [
    "result = z.describe()\n",
    "result"
   ]
  },
  {
   "cell_type": "markdown",
   "metadata": {
    "id": "OkQKiSW6h_Mn"
   },
   "source": [
    "Mengembalikan Series baru yang menampung nilai berikut:\n",
    "\n",
    "count: the number of elements in your dataset\n",
    "mean: the mean of your dataset\n",
    "std: the standard deviation of your dataset\n",
    "min and max: the minimum and maximum values of your dataset\n",
    "25%, 50%, and 75%: the quartiles of your dataset\n",
    "Jika kita ingin objek Series yang dihasilkan berisi persentil lain, kita harus menentukan nilai percentiles parameter opsional. Kita dapat mengakses setiap item result dengan labelnya:"
   ]
  },
  {
   "cell_type": "code",
   "execution_count": null,
   "metadata": {
    "colab": {
     "base_uri": "https://localhost:8080/"
    },
    "id": "kGUgDZP5iFr9",
    "outputId": "2ed6bcff-a71d-4953-839a-22867dc59b73"
   },
   "outputs": [
    {
     "data": {
      "text/plain": [
       "21.0"
      ]
     },
     "execution_count": 90,
     "metadata": {},
     "output_type": "execute_result"
    }
   ],
   "source": [
    "result['mean']\n",
    "result['std']\n",
    "result['min']\n",
    "result['max']\n",
    "result['25%']\n",
    "result['50%']\n",
    "result['75%']\n"
   ]
  },
  {
   "cell_type": "markdown",
   "metadata": {
    "id": "LwGUXoI4eXcX"
   },
   "source": [
    "\n",
    "\n",
    ">>> \n"
   ]
  },
  {
   "cell_type": "markdown",
   "metadata": {
    "id": "ekb6ylETeedY"
   },
   "source": [
    "Begitulah cara kita mendapatkan statistik deskriptif dari objek Series dengan satu panggilan metode menggunakan Pandas.\n",
    "\n",
    "Measures of Correlation Between Pairs of Data\n",
    "Kita sering kali perlu memeriksa hubungan/relation antara elemen yang sesuai dari dua variabel dalam kumpulan data. Katakanlah ada dua variabel, 𝑥 dan 𝑦, dengan jumlah elemen yang sama, 𝑛. Misalkan 𝑥₁ dari 𝑥 sesuai dengan 𝑦₁ dari 𝑦, 𝑥₂ dari 𝑥 ke 𝑦₂ dari 𝑦, dan seterusnya. Kita kemudian dapat mengatakan bahwa ada 𝑛 pasang elemen yang sesuai: (𝑥₁, 𝑦₁), (𝑥₂, 𝑦₂), dan seterusnya.\n",
    "\n",
    "Kita  akan melihat measures of correlation antara pasangan data berikut:\n",
    "\n",
    "Positive correlation exists when larger values of 𝑥 correspond to larger values of 𝑦 and vice versa.\n",
    "Negative correlation exists when larger values of 𝑥 correspond to smaller values of 𝑦 and vice versa.\n",
    "Weak or no correlation exists if there is no such apparent relationship.\n",
    "Gambar berikut menunjukkan contoh negative, weak, dan positive correlation:"
   ]
  },
  {
   "cell_type": "markdown",
   "metadata": {
    "id": "hiJ0bqNueXP1"
   },
   "source": [
    "<img src=\"https://i.ibb.co/5BLDpz5/Screen-Shot-2021-09-23-at-5-03-58-PM.png\" width=\"500\" align=\"center\">\n",
    "\n"
   ]
  },
  {
   "cell_type": "markdown",
   "metadata": {
    "id": "AKcIwQSGiUFo"
   },
   "source": [
    "Plot di sebelah kiri dengan titik merah menunjukkan korelasi negatif. Plot di tengah dengan titik-titik hijau menunjukkan korelasi yang lemah. Terakhir, plot di sebelah kanan dengan titik biru menunjukkan korelasi positif.\n",
    "\n",
    "Dua statistik yang mengukur korelasi antar dataset adalah covariance dan correlation coefficient. Mari tentukan beberapa data untuk digunakan dengan ukuran ini. Kita akan membuat dua list Python dan menggunakannya untuk mendapatkan array NumPy dan Series Pandas yang sesuai:"
   ]
  },
  {
   "cell_type": "code",
   "execution_count": null,
   "metadata": {
    "id": "uxVD2d_CpCv6"
   },
   "outputs": [],
   "source": [
    "x = list(range(-10, 11))\n",
    "y = [0, 2, 2, 2, 2, 3, 3, 6, 7, 4, 7, 6, 6, 9, 4, 5, 5, 10, 11, 12, 14]"
   ]
  },
  {
   "cell_type": "code",
   "execution_count": null,
   "metadata": {
    "id": "NknZAQJnpCTt"
   },
   "outputs": [],
   "source": [
    "x_, y_ = np.array(x), np.array(y)"
   ]
  },
  {
   "cell_type": "code",
   "execution_count": null,
   "metadata": {
    "id": "dz-joUbjpBzn"
   },
   "outputs": [],
   "source": [
    "x__, y__ = pd.Series(x_), pd.Series(y_)"
   ]
  },
  {
   "cell_type": "code",
   "execution_count": null,
   "metadata": {
    "colab": {
     "base_uri": "https://localhost:8080/"
    },
    "id": "4PBe0nT_iU3f",
    "outputId": "31d5fcb3-6c17-4356-c9af-4914220f0dfb"
   },
   "outputs": [
    {
     "name": "stdout",
     "output_type": "stream",
     "text": [
      "[-10  -9  -8  -7  -6  -5  -4  -3  -2  -1   0   1   2   3   4   5   6   7\n",
      "   8   9  10]\n",
      "[ 0  2  2  2  2  3  3  6  7  4  7  6  6  9  4  5  5 10 11 12 14]\n",
      "0    -10\n",
      "1     -9\n",
      "2     -8\n",
      "3     -7\n",
      "4     -6\n",
      "5     -5\n",
      "6     -4\n",
      "7     -3\n",
      "8     -2\n",
      "9     -1\n",
      "10     0\n",
      "11     1\n",
      "12     2\n",
      "13     3\n",
      "14     4\n",
      "15     5\n",
      "16     6\n",
      "17     7\n",
      "18     8\n",
      "19     9\n",
      "20    10\n",
      "dtype: int64\n",
      "0      0\n",
      "1      2\n",
      "2      2\n",
      "3      2\n",
      "4      2\n",
      "5      3\n",
      "6      3\n",
      "7      6\n",
      "8      7\n",
      "9      4\n",
      "10     7\n",
      "11     6\n",
      "12     6\n",
      "13     9\n",
      "14     4\n",
      "15     5\n",
      "16     5\n",
      "17    10\n",
      "18    11\n",
      "19    12\n",
      "20    14\n",
      "dtype: int64\n"
     ]
    }
   ],
   "source": [
    "print(x_)\n",
    "print(y_)\n",
    "print(x__)\n",
    "print(y__)"
   ]
  },
  {
   "cell_type": "markdown",
   "metadata": {
    "id": "exJpCYVqiVyo"
   },
   "source": [
    "Sekarang setelah kita memiliki dua variabel, kita dapat mulai menjelajahi relationship di antara keduanya.\n",
    "\n",
    "Covariance\n",
    "Sample covariance adalah ukuran yang mengukur kekuatan dan arah hubungan antara sepasang variabel:\n",
    "\n",
    "Jika korelasinya positif, maka kovariansnya juga positif. Hubungan yang lebih kuat sesuai dengan nilai kovarians yang lebih tinggi.\n",
    "Jika korelasinya negatif, maka kovariansnya juga negatif. Hubungan yang lebih kuat sesuai dengan nilai kovarians yang lebih rendah (atau lebih tinggi absolut).\n",
    "Jika korelasinya lemah, maka kovariansnya mendekati nol.\n",
    "\n",
    "Covariance variabel 𝑥 dan 𝑦 secara matematis didefinisikan sebagai 𝑠ˣʸ = Σᵢ (𝑥ᵢ − mean(𝑥)) (𝑦ᵢ − mean(𝑦)) / (𝑛 − 1), di mana 𝑖 = 1, 2,…, 𝑛, mean (𝑥) adalah sample mean dari 𝑥, dan mean (𝑦) adalah sample mean dari 𝑦. Oleh karena itu, covariance dua variabel identik sebenarnya adalah varians: 𝑠ˣˣ = Σᵢ (𝑥ᵢ - mean (𝑥)) ² / (𝑛 - 1) = (𝑠ˣ) ² dan 𝑠ʸʸ = Σᵢ (𝑦ᵢ - mean (𝑦)) ² / (𝑛 - 1) = (𝑠ʸ) ².\n",
    "\n",
    "Beginilah cara kita menghitung kovarian dengan Python pure:"
   ]
  },
  {
   "cell_type": "code",
   "execution_count": null,
   "metadata": {
    "colab": {
     "base_uri": "https://localhost:8080/"
    },
    "id": "9xcClz2Qpgyz",
    "outputId": "4e555a1a-6b8c-4011-e775-69755fafdd00"
   },
   "outputs": [
    {
     "data": {
      "text/plain": [
       "0.0"
      ]
     },
     "execution_count": 96,
     "metadata": {},
     "output_type": "execute_result"
    }
   ],
   "source": [
    "n = len(x)\n",
    "mean_x, mean_y = sum(x) / n, sum(y) / n \n",
    "mean_x"
   ]
  },
  {
   "cell_type": "code",
   "execution_count": null,
   "metadata": {
    "colab": {
     "base_uri": "https://localhost:8080/"
    },
    "id": "dwkbqrqSiW-6",
    "outputId": "b507b925-cbfd-4eea-c432-a66e34842dcd"
   },
   "outputs": [
    {
     "data": {
      "text/plain": [
       "19.95"
      ]
     },
     "execution_count": 95,
     "metadata": {},
     "output_type": "execute_result"
    }
   ],
   "source": [
    "cov_xy = (sum((x[k] - mean_x) * (y[k] - mean_y) for k in range(n))\n",
    "           / (n - 1))\n",
    "cov_xy"
   ]
  },
  {
   "cell_type": "markdown",
   "metadata": {
    "id": "jyqVy1XCiXdI"
   },
   "source": [
    "Pertama, kita harus mencari nilai mean dari x dan y. Kemudian, kita menerapkan rumus matematika untuk covariance.\n",
    "\n",
    "NumPy memiliki fungsi cov() yang mengembalikan covariance matrix:"
   ]
  },
  {
   "cell_type": "code",
   "execution_count": null,
   "metadata": {
    "colab": {
     "base_uri": "https://localhost:8080/"
    },
    "id": "MtYCn8jyipQl",
    "outputId": "164f3930-07d2-47c0-b84e-34a50f382a1e"
   },
   "outputs": [
    {
     "data": {
      "text/plain": [
       "array([[38.5       , 19.95      ],\n",
       "       [19.95      , 13.91428571]])"
      ]
     },
     "execution_count": 97,
     "metadata": {},
     "output_type": "execute_result"
    }
   ],
   "source": [
    "cov_matrix = np.cov(x_, y_)\n",
    "cov_matrix"
   ]
  },
  {
   "cell_type": "markdown",
   "metadata": {
    "id": "89kMAkgMitHd"
   },
   "source": [
    "Perhatikan bahwa cov() memiliki parameter opsional bias, yang defaultnya adalah False, dan ddof, yang defaultnya adalah None. Nilai defaultnya cocok untuk mendapatkan sample covariance matrix. Elemen kiri atas covariance matrix adalah covariance dari x dan x, atau variance dari x. Demikian pula, elemen kanan bawah adalah covariance y dan y, atau variance y. Kita dapat memeriksa apakah ini benar:\n"
   ]
  },
  {
   "cell_type": "code",
   "execution_count": null,
   "metadata": {
    "colab": {
     "base_uri": "https://localhost:8080/"
    },
    "id": "BN0ju10civx6",
    "outputId": "ec4126d6-9aee-4fd1-fac0-a61f1dc0f7f6"
   },
   "outputs": [
    {
     "data": {
      "text/plain": [
       "38.5"
      ]
     },
     "execution_count": 98,
     "metadata": {},
     "output_type": "execute_result"
    }
   ],
   "source": [
    "x_.var(ddof=1)"
   ]
  },
  {
   "cell_type": "code",
   "execution_count": null,
   "metadata": {
    "colab": {
     "base_uri": "https://localhost:8080/"
    },
    "id": "iq0N6F--pyCL",
    "outputId": "28742b4e-479d-4812-aeda-6ae00c8b898d"
   },
   "outputs": [
    {
     "data": {
      "text/plain": [
       "13.914285714285711"
      ]
     },
     "execution_count": 99,
     "metadata": {},
     "output_type": "execute_result"
    }
   ],
   "source": [
    "y_.var(ddof=1)"
   ]
  },
  {
   "cell_type": "markdown",
   "metadata": {
    "id": "YqVnU3r5izDK"
   },
   "source": [
    "Seperti yang kita lihat, varians dari x dan y sama dengan cov_matrix[0, 0] dan cov_matrix[1, 1].\n",
    "\n",
    "Dua elemen lain dari covariance matrix adalah sama dan mewakili covariance aktual antara x dan y:\n"
   ]
  },
  {
   "cell_type": "code",
   "execution_count": null,
   "metadata": {
    "colab": {
     "base_uri": "https://localhost:8080/"
    },
    "id": "y9_sHd0-p2T5",
    "outputId": "34482910-5907-4db6-f628-cb9e15b4d0ad"
   },
   "outputs": [
    {
     "data": {
      "text/plain": [
       "19.95"
      ]
     },
     "execution_count": 174,
     "metadata": {},
     "output_type": "execute_result"
    }
   ],
   "source": [
    "cov_xy = cov_matrix[0, 1]\n",
    "cov_xy"
   ]
  },
  {
   "cell_type": "code",
   "execution_count": null,
   "metadata": {
    "colab": {
     "base_uri": "https://localhost:8080/"
    },
    "id": "GMbgLbl4i1Ku",
    "outputId": "48447559-48c3-4559-f463-f67a8f1a1ace"
   },
   "outputs": [
    {
     "data": {
      "text/plain": [
       "19.95"
      ]
     },
     "execution_count": 175,
     "metadata": {},
     "output_type": "execute_result"
    }
   ],
   "source": [
    "cov_xy = cov_matrix[1, 0]\n",
    "cov_xy"
   ]
  },
  {
   "cell_type": "markdown",
   "metadata": {
    "id": "PFrtarYOmCyA"
   },
   "source": [
    "Kita akan mendapatkan nilai kovarian yang sama dengan np.cov() seperti pada Python pure.\n",
    "\n",
    "Series Pandas memiliki metode .cov() yang dapat digunakan untuk menghitung kovarian:"
   ]
  },
  {
   "cell_type": "code",
   "execution_count": null,
   "metadata": {
    "colab": {
     "base_uri": "https://localhost:8080/"
    },
    "id": "ov-NBjWZmDsH",
    "outputId": "9911258b-c9ad-4004-99ce-643e3033744c"
   },
   "outputs": [
    {
     "data": {
      "text/plain": [
       "19.95"
      ]
     },
     "execution_count": 100,
     "metadata": {},
     "output_type": "execute_result"
    }
   ],
   "source": [
    "cov_xy = x__.cov(y__)\n",
    "cov_xy "
   ]
  },
  {
   "cell_type": "code",
   "execution_count": null,
   "metadata": {
    "colab": {
     "base_uri": "https://localhost:8080/"
    },
    "id": "DZI4YCK4mEVn",
    "outputId": "fcc848e1-442d-4b86-9a02-2d2b53beea32"
   },
   "outputs": [
    {
     "data": {
      "text/plain": [
       "19.95"
      ]
     },
     "execution_count": 177,
     "metadata": {},
     "output_type": "execute_result"
    }
   ],
   "source": [
    "cov_xy = y__.cov(x__)\n",
    "cov_xy"
   ]
  },
  {
   "cell_type": "markdown",
   "metadata": {
    "id": "WTQ4A_-gmTxJ"
   },
   "source": [
    "Di sini, kita memanggil .cov() pada satu objek Series dan meneruskan objek lainnya sebagai argumen pertama.\n",
    "\n",
    "Correlation Coefficient\n",
    "Correlation coefficient, atau Pearson product-moment correlation coefficient, dilambangkan dengan simbol 𝑟. Coefficient  adalah ukuran lain dari korelasi antar data. Kita dapat menganggapnya sebagai standardized covariance. Berikut beberapa infonya:\n",
    "\n",
    "The value 𝑟 > 0 indicates positive correlation.\n",
    "The value 𝑟 < 0 indicates negative correlation.\n",
    "The value r = 1 is the maximum possible value of 𝑟. It corresponds to a perfect positive linear relationship between variables.\n",
    "The value r = −1 is the minimum possible value of 𝑟. It corresponds to a perfect negative linear relationship between variables.\n",
    "The value r ≈ 0, or when 𝑟 is around zero, means that the correlation between variables is weak.\n",
    "Rumus matematika untuk correlation coefficient adalah 𝑟 = 𝑠ˣʸ / (𝑠ˣ𝑠ʸ) di mana 𝑠ˣ dan 𝑠ʸ masing-masing adalah standard deviations dari 𝑦 dan 𝑦. Jika kita memiliki mean (mean_x dan mean_y) dan standard deviations (std_x, std_y) untuk dataset x dan y, serta covariannya cov_xy, maka kita dapat menghitung correlation coefficient dengan Python pure:"
   ]
  },
  {
   "cell_type": "code",
   "execution_count": null,
   "metadata": {
    "id": "ec5LUNNYqERf"
   },
   "outputs": [],
   "source": [
    "var_x = sum((item - mean_x)**2 for item in x) / (n - 1)"
   ]
  },
  {
   "cell_type": "code",
   "execution_count": null,
   "metadata": {
    "id": "0ePypTagqFIX"
   },
   "outputs": [],
   "source": [
    "var_y = sum((item - mean_y)**2 for item in y) / (n - 1)"
   ]
  },
  {
   "cell_type": "code",
   "execution_count": null,
   "metadata": {
    "id": "Z7PmzeU0qHlB"
   },
   "outputs": [],
   "source": [
    " std_x, std_y = var_x ** 0.5, var_y ** 0.5"
   ]
  },
  {
   "cell_type": "code",
   "execution_count": null,
   "metadata": {
    "colab": {
     "base_uri": "https://localhost:8080/"
    },
    "id": "9DyuP2J_mVz4",
    "outputId": "9c9574d4-aef2-4219-e7d6-93c97ff62847"
   },
   "outputs": [
    {
     "data": {
      "text/plain": [
       "0.861950005631606"
      ]
     },
     "execution_count": 181,
     "metadata": {},
     "output_type": "execute_result"
    }
   ],
   "source": [
    "r = cov_xy / (std_x * std_y)\n",
    "r"
   ]
  },
  {
   "cell_type": "markdown",
   "metadata": {
    "id": "-tamrpUXmaPK"
   },
   "source": [
    "Kita mendapatkan variabel r yang mewakili correlation coefficient.\n",
    "\n",
    "scipy.stats memiliki pearsonr() yang menghitung correlation coefficient dan the 𝑝-value:"
   ]
  },
  {
   "cell_type": "code",
   "execution_count": null,
   "metadata": {
    "colab": {
     "base_uri": "https://localhost:8080/"
    },
    "id": "ch3gk6ZamcOx",
    "outputId": "c54363a9-ef17-4e20-e214-dbff49140b55"
   },
   "outputs": [
    {
     "name": "stdout",
     "output_type": "stream",
     "text": [
      "0.861950005631606\n",
      "5.122760847201171e-07\n"
     ]
    }
   ],
   "source": [
    "r, p = scipy.stats.pearsonr(x_, y_)\n",
    "print(r)\n",
    "print(p)"
   ]
  },
  {
   "cell_type": "markdown",
   "metadata": {
    "id": "ufD8TAKqmgMK"
   },
   "source": [
    "pearsonr() mengembalikan tuple dengan dua angka. Yang pertama adalah 𝑟 dan yang kedua adalah 𝑝-value.\n",
    "\n",
    "Mirip dengan kasus covariance matrix, kita dapat menerapkan np.corrcoef() dengan x_ dan y_ sebagai argumen dan mendapatkan correlation coefficient matrix:"
   ]
  },
  {
   "cell_type": "code",
   "execution_count": null,
   "metadata": {
    "colab": {
     "base_uri": "https://localhost:8080/"
    },
    "id": "_aCdGnGpmiOg",
    "outputId": "77e68df9-804e-4171-9bd9-d1f386265c51"
   },
   "outputs": [
    {
     "data": {
      "text/plain": [
       "array([[1.        , 0.86195001],\n",
       "       [0.86195001, 1.        ]])"
      ]
     },
     "execution_count": 101,
     "metadata": {},
     "output_type": "execute_result"
    }
   ],
   "source": [
    "corr_matrix = np.corrcoef(x_, y_)\n",
    "corr_matrix"
   ]
  },
  {
   "cell_type": "markdown",
   "metadata": {
    "id": "3KXxJ-ArmkX3"
   },
   "source": [
    "Elemen kiri atas adalah correlation coefficient antara x_ dan x_. Elemen kanan bawah adalah correlation coefficient antara y_ dan y_. Nilainya sama dengan 1.0. Dua elemen lainnya sama dan mewakili koefisien korelasi aktual antara x_ dan y_:"
   ]
  },
  {
   "cell_type": "code",
   "execution_count": null,
   "metadata": {
    "colab": {
     "base_uri": "https://localhost:8080/"
    },
    "id": "Qozb1BdkqdId",
    "outputId": "43bf715b-39ee-4f69-bc8e-57ef854f89be"
   },
   "outputs": [
    {
     "data": {
      "text/plain": [
       "0.8619500056316061"
      ]
     },
     "execution_count": 184,
     "metadata": {},
     "output_type": "execute_result"
    }
   ],
   "source": [
    "r = corr_matrix[0, 1]\n",
    "r"
   ]
  },
  {
   "cell_type": "code",
   "execution_count": null,
   "metadata": {
    "colab": {
     "base_uri": "https://localhost:8080/"
    },
    "id": "MtjewilmmmM4",
    "outputId": "1ffa8935-d0d5-4e97-81ad-25ff4c1829f4"
   },
   "outputs": [
    {
     "data": {
      "text/plain": [
       "0.861950005631606"
      ]
     },
     "execution_count": 185,
     "metadata": {},
     "output_type": "execute_result"
    }
   ],
   "source": [
    "r = corr_matrix[1, 0]\n",
    "r"
   ]
  },
  {
   "cell_type": "markdown",
   "metadata": {
    "id": "SxSCplMqmogr"
   },
   "source": [
    "Tentu saja, hasilnya sama dengan Python pure dan pearsonr().\n",
    "\n",
    "Kita bisa mendapatkan correlation coefficient dengan scipy.stats.linregress():"
   ]
  },
  {
   "cell_type": "code",
   "execution_count": null,
   "metadata": {
    "colab": {
     "base_uri": "https://localhost:8080/"
    },
    "id": "F_CJqzC6mrCv",
    "outputId": "6c33ad18-1734-4b6c-cfc7-79cfc3202f26"
   },
   "outputs": [
    {
     "data": {
      "text/plain": [
       "LinregressResult(slope=0.5181818181818181, intercept=5.714285714285714, rvalue=0.861950005631606, pvalue=5.122760847201164e-07, stderr=0.06992387660074979)"
      ]
     },
     "execution_count": 186,
     "metadata": {},
     "output_type": "execute_result"
    }
   ],
   "source": [
    "scipy.stats.linregress(x_, y_)\n"
   ]
  },
  {
   "cell_type": "markdown",
   "metadata": {
    "id": "MgMWFoepmy24"
   },
   "source": [
    "\n",
    "linregress() mengambil x_ dan y_, melakukan regresi linier, dan mengembalikan hasilnya. slope dan intercept menentukan persamaan regression line, sedangkan rvalue  adalah correlation coefficient. Untuk mengakses nilai tertentu dari hasil linregress(), termasuk correlation coefficient, gunakan dot notation:"
   ]
  },
  {
   "cell_type": "code",
   "execution_count": null,
   "metadata": {
    "colab": {
     "base_uri": "https://localhost:8080/"
    },
    "id": "GL1Z1gpom5Aw",
    "outputId": "482bde28-bb79-4cc0-a495-91462791a257"
   },
   "outputs": [
    {
     "data": {
      "text/plain": [
       "0.861950005631606"
      ]
     },
     "execution_count": 187,
     "metadata": {},
     "output_type": "execute_result"
    }
   ],
   "source": [
    "result = scipy.stats.linregress(x_, y_)\n",
    "r = result.rvalue\n",
    "r"
   ]
  },
  {
   "cell_type": "markdown",
   "metadata": {
    "id": "-DBiBuykm311"
   },
   "source": [
    "Series Pandas memiliki method .corr() untuk menghitung correlation coefficient:\n",
    "\n"
   ]
  },
  {
   "cell_type": "code",
   "execution_count": null,
   "metadata": {
    "colab": {
     "base_uri": "https://localhost:8080/"
    },
    "id": "NI9c549Em3eP",
    "outputId": "cca82145-d202-4a0a-b623-bcb74ca50201"
   },
   "outputs": [
    {
     "data": {
      "text/plain": [
       "0.8619500056316061"
      ]
     },
     "execution_count": 188,
     "metadata": {},
     "output_type": "execute_result"
    }
   ],
   "source": [
    "r = x__.corr(y__)\n",
    "r"
   ]
  },
  {
   "cell_type": "code",
   "execution_count": null,
   "metadata": {
    "colab": {
     "base_uri": "https://localhost:8080/"
    },
    "id": "OCjyccr1qy3e",
    "outputId": "6800c707-d9c7-4408-f4f6-09e6f72e93e7"
   },
   "outputs": [
    {
     "data": {
      "text/plain": [
       "0.861950005631606"
      ]
     },
     "execution_count": 189,
     "metadata": {},
     "output_type": "execute_result"
    }
   ],
   "source": [
    "r = y__.corr(x__)\n",
    "r"
   ]
  },
  {
   "cell_type": "markdown",
   "metadata": {
    "id": "YExN8zykm3GB"
   },
   "source": [
    "## Working With 2D Data\n",
    "Statisticians sering bekerja dengan data 2D. Berikut beberapa contoh format data 2D:\n",
    "\n",
    "* Database tables\n",
    "* CSV files\n",
    "* Excel, Calc, and Google spreadsheets\n",
    "\n",
    "NumPy dan SciPy menyediakan cara yang komprehensif untuk bekerja dengan data 2D. Panda memiliki kelas DataFrame khusus untuk menangani 2D labeled data.\n",
    "\n",
    "## Axes\n",
    "Start by creating a 2D NumPy array:\n",
    "\n",
    "\n",
    "\n"
   ]
  },
  {
   "cell_type": "code",
   "execution_count": null,
   "metadata": {
    "colab": {
     "base_uri": "https://localhost:8080/"
    },
    "id": "Umer292jm2s-",
    "outputId": "1b80ee38-4b30-48ca-f15c-a2e6cfaa8b9e"
   },
   "outputs": [
    {
     "data": {
      "text/plain": [
       "array([[ 1,  1,  1],\n",
       "       [ 2,  3,  1],\n",
       "       [ 4,  9,  2],\n",
       "       [ 8, 27,  4],\n",
       "       [16,  1,  1]])"
      ]
     },
     "execution_count": 102,
     "metadata": {},
     "output_type": "execute_result"
    }
   ],
   "source": [
    "a = np.array([[1, 1, 1],\n",
    "               [2, 3, 1],\n",
    "               [4, 9, 2],\n",
    "               [8, 27, 4],\n",
    "               [16, 1, 1]])\n",
    "a"
   ]
  },
  {
   "cell_type": "markdown",
   "metadata": {
    "id": "zET6Zm90nalb"
   },
   "source": [
    "Sekarang kita memiliki kumpulan data 2D, yang akan kita gunakan di section ini. Kita dapat menerapkan fungsi dan metode statistik Python ke dalamnya seperti yang kita lakukan pada data 1D:"
   ]
  },
  {
   "cell_type": "code",
   "execution_count": null,
   "metadata": {
    "colab": {
     "base_uri": "https://localhost:8080/"
    },
    "id": "FmHbJlvCnctO",
    "outputId": "9a3728da-5c96-45e4-9a20-57e8d98851c4"
   },
   "outputs": [
    {
     "data": {
      "text/plain": [
       "53.40000000000001"
      ]
     },
     "execution_count": 191,
     "metadata": {},
     "output_type": "execute_result"
    }
   ],
   "source": [
    "np.mean(a)\n",
    "a.mean()\n",
    "np.median(a)\n",
    "a.var(ddof=1)"
   ]
  },
  {
   "cell_type": "markdown",
   "metadata": {
    "id": "qvKZHDTqndl6"
   },
   "source": [
    "Seperti yang kita lihat, kita mendapatkan statistik (seperti mean, median, atau varians) di semua data dalam array a. Terkadang, perilaku ini yang kita inginkan, tetapi dalam beberapa kasus, kita ingin jumlah ini dihitung untuk setiap baris atau kolom dari larik 2D kita .\n",
    "\n",
    "Fungsi dan metode yang kita gunakan sejauh ini memiliki satu parameter opsional yang disebut axis, yang penting untuk menangani data 2D. axis dapat mengambil salah satu dari nilai berikut:\n",
    "\n",
    "axis=None says to calculate the statistics across all data in the array. The examples above work like this. This behavior is often the default in NumPy.\n",
    "axis=0 says to calculate the statistics across all rows, that is, for each column of the array. This behavior is often the default for SciPy statistical functions.\n",
    "axis=1 says to calculate the statistics across all columns, that is, for each row of the array.\n",
    "Let’s see axis=0 in action with np.mean():"
   ]
  },
  {
   "cell_type": "code",
   "execution_count": null,
   "metadata": {
    "colab": {
     "base_uri": "https://localhost:8080/"
    },
    "id": "SG3Z2IWaneMd",
    "outputId": "2d079571-c364-41e0-feda-f3586bde1c1d"
   },
   "outputs": [
    {
     "data": {
      "text/plain": [
       "array([6.2, 8.2, 1.8])"
      ]
     },
     "execution_count": 192,
     "metadata": {},
     "output_type": "execute_result"
    }
   ],
   "source": [
    "np.mean(a, axis=0)\n",
    "a.mean(axis=0)"
   ]
  },
  {
   "cell_type": "markdown",
   "metadata": {
    "id": "XpzBewconesj"
   },
   "source": [
    "\n",
    "Dua pernyataan di atas mengembalikan array NumPy baru dengan mean untuk setiap kolom a. Dalam contoh ini, mean dari kolom pertama adalah 6.2. Kolom kedua memiliki mean 8.2, sedangkan kolom ketiga memiliki 1.8.\n",
    "\n",
    "Jika kita memberikan axis=1 pada mean(), kita akan mendapatkan hasil untuk setiap baris:"
   ]
  },
  {
   "cell_type": "code",
   "execution_count": null,
   "metadata": {
    "colab": {
     "base_uri": "https://localhost:8080/"
    },
    "id": "Gu6Khq7_n0Fb",
    "outputId": "9417af86-75da-4719-f82b-9baccda0ff90"
   },
   "outputs": [
    {
     "data": {
      "text/plain": [
       "array([ 1.,  2.,  5., 13.,  6.])"
      ]
     },
     "execution_count": 193,
     "metadata": {},
     "output_type": "execute_result"
    }
   ],
   "source": [
    "np.mean(a, axis=1)\n",
    "a.mean(axis=1)"
   ]
  },
  {
   "cell_type": "markdown",
   "metadata": {
    "id": "6SF2VJxzn5Ve"
   },
   "source": [
    "Seperti yang kita lihat, baris pertama a memiliki mean 1.0, baris kedua 2.0, dan seterusnya.\n",
    "\n",
    "axis parameter bekerja dengan cara yang sama dengan fungsi dan metode NumPy lainnya:"
   ]
  },
  {
   "cell_type": "code",
   "execution_count": null,
   "metadata": {
    "colab": {
     "base_uri": "https://localhost:8080/"
    },
    "id": "GcutEhPZlqaY",
    "outputId": "9efbbeae-361c-43a8-f9db-5dd1fc7e538f"
   },
   "outputs": [
    {
     "data": {
      "text/plain": [
       "array([4., 3., 1.])"
      ]
     },
     "execution_count": 194,
     "metadata": {},
     "output_type": "execute_result"
    }
   ],
   "source": [
    "np.median(a, axis=0)"
   ]
  },
  {
   "cell_type": "code",
   "execution_count": null,
   "metadata": {
    "colab": {
     "base_uri": "https://localhost:8080/"
    },
    "id": "UVoVp46KlqDR",
    "outputId": "336ce0fb-9b4c-41b5-8fbc-650850792a44"
   },
   "outputs": [
    {
     "data": {
      "text/plain": [
       "array([1., 2., 4., 8., 1.])"
      ]
     },
     "execution_count": 195,
     "metadata": {},
     "output_type": "execute_result"
    }
   ],
   "source": [
    "np.median(a, axis=1)"
   ]
  },
  {
   "cell_type": "code",
   "execution_count": null,
   "metadata": {
    "colab": {
     "base_uri": "https://localhost:8080/"
    },
    "id": "uODF8hD8lp1E",
    "outputId": "e2214f31-de51-48e1-dbe2-4bf509053536"
   },
   "outputs": [
    {
     "data": {
      "text/plain": [
       "array([ 37.2, 121.2,   1.7])"
      ]
     },
     "execution_count": 196,
     "metadata": {},
     "output_type": "execute_result"
    }
   ],
   "source": [
    "a.var(axis=0, ddof=1)"
   ]
  },
  {
   "cell_type": "code",
   "execution_count": null,
   "metadata": {
    "colab": {
     "base_uri": "https://localhost:8080/"
    },
    "id": "m8RZjgnXlpmY",
    "outputId": "5d463723-ffec-4cdc-b03e-ae8ce3c53156"
   },
   "outputs": [
    {
     "data": {
      "text/plain": [
       "array([  0.,   1.,  13., 151.,  75.])"
      ]
     },
     "execution_count": 197,
     "metadata": {},
     "output_type": "execute_result"
    }
   ],
   "source": [
    "a.var(axis=1, ddof=1)"
   ]
  },
  {
   "cell_type": "markdown",
   "metadata": {
    "id": "EIG0WtzhloPn"
   },
   "source": [
    "Kita mendapatkan medians dan sample variations untuk semua kolom (axis=0)) dan baris (axis=1) dari array a.\n",
    "\n",
    "Ini sangat mirip saat kita bekerja dengan fungsi statistik SciPy. Tetapi ingat bahwa dalam kasus ini, nilai default untuk axis adalah 0:"
   ]
  },
  {
   "cell_type": "code",
   "execution_count": null,
   "metadata": {
    "colab": {
     "base_uri": "https://localhost:8080/"
    },
    "id": "oUpazuyAliqY",
    "outputId": "8a6e828a-df79-4b5d-d773-57dae979c6ff"
   },
   "outputs": [
    {
     "data": {
      "text/plain": [
       "array([4.        , 3.73719282, 1.51571657])"
      ]
     },
     "execution_count": 198,
     "metadata": {},
     "output_type": "execute_result"
    }
   ],
   "source": [
    "scipy.stats.gmean(a)  # Default: axis=0"
   ]
  },
  {
   "cell_type": "code",
   "execution_count": null,
   "metadata": {
    "colab": {
     "base_uri": "https://localhost:8080/"
    },
    "id": "L-Am-d6KliUt",
    "outputId": "ff4950d8-16be-4c3f-dd41-e7fcc9963342"
   },
   "outputs": [
    {
     "data": {
      "text/plain": [
       "array([4.        , 3.73719282, 1.51571657])"
      ]
     },
     "execution_count": 199,
     "metadata": {},
     "output_type": "execute_result"
    }
   ],
   "source": [
    "scipy.stats.gmean(a, axis=0)"
   ]
  },
  {
   "cell_type": "markdown",
   "metadata": {
    "id": "__CYxNfJlgNg"
   },
   "source": [
    "Jika kita menghilangkan axis atau memberikan axis=0, kita akan mendapatkan hasil di semua baris, untuk setiap kolom. Misalnya, kolom pertama a memilikigeometric mean 4.0, dan seterusnya.\n",
    "\n",
    "Jika kita menentukan axis=1, kita akan mendapatkan penghitungan di semua kolom, untuk setiap baris:"
   ]
  },
  {
   "cell_type": "code",
   "execution_count": null,
   "metadata": {
    "colab": {
     "base_uri": "https://localhost:8080/"
    },
    "id": "Bnt3hDp5ldzU",
    "outputId": "65b940d0-9e3e-4e7e-a563-d9bb6dc222d0"
   },
   "outputs": [
    {
     "data": {
      "text/plain": [
       "array([1.        , 1.81712059, 4.16016765, 9.52440631, 2.5198421 ])"
      ]
     },
     "execution_count": 200,
     "metadata": {},
     "output_type": "execute_result"
    }
   ],
   "source": [
    " scipy.stats.gmean(a, axis=1)"
   ]
  },
  {
   "cell_type": "markdown",
   "metadata": {
    "id": "9wt9ThQFlbjK"
   },
   "source": [
    "Dalam contoh ini, geometric mean dari baris pertama a adalah 1.0. Untuk baris kedua, kira-kira 1.82, dan seterusnya.\n",
    "\n",
    "Jika Anda menginginkan statistik untuk seluruh dataset, maka Anda harus menyediakan axis=None:"
   ]
  },
  {
   "cell_type": "code",
   "execution_count": null,
   "metadata": {
    "colab": {
     "base_uri": "https://localhost:8080/"
    },
    "id": "_tuUUd2blXzg",
    "outputId": "3dd58e00-a482-4eac-bb87-44feae290944"
   },
   "outputs": [
    {
     "data": {
      "text/plain": [
       "2.829705017016332"
      ]
     },
     "execution_count": 201,
     "metadata": {},
     "output_type": "execute_result"
    }
   ],
   "source": [
    "scipy.stats.gmean(a, axis=None)"
   ]
  },
  {
   "cell_type": "markdown",
   "metadata": {
    "id": "u_kJMW-OlWhl"
   },
   "source": [
    "Geometric mean dari semua item dalam array a adalah kira-kira 2.83.\n",
    "\n",
    "Kita bisa mendapatkan statistics summary dengan satu panggilan fungsi untuk data 2D dengan scipy.stats.describe(). Ini berfungsi mirip dengan array 1D, tetapi kita harus berhati-hati dengan axisparameter:"
   ]
  },
  {
   "cell_type": "code",
   "execution_count": null,
   "metadata": {
    "colab": {
     "base_uri": "https://localhost:8080/"
    },
    "id": "my07L6hzlLIJ",
    "outputId": "360d4893-f33a-4ca3-d251-444e8e2dfc88"
   },
   "outputs": [
    {
     "data": {
      "text/plain": [
       "DescribeResult(nobs=15, minmax=(1, 27), mean=5.4, variance=53.40000000000001, skewness=2.264965290423389, kurtosis=5.212690982795767)"
      ]
     },
     "execution_count": 202,
     "metadata": {},
     "output_type": "execute_result"
    }
   ],
   "source": [
    "scipy.stats.describe(a, axis=None, ddof=1, bias=False)"
   ]
  },
  {
   "cell_type": "code",
   "execution_count": null,
   "metadata": {
    "colab": {
     "base_uri": "https://localhost:8080/"
    },
    "id": "DaX6AIkIlKtd",
    "outputId": "6be82630-a233-48dc-bb6e-e6e380c393a9"
   },
   "outputs": [
    {
     "data": {
      "text/plain": [
       "DescribeResult(nobs=5, minmax=(array([1, 1, 1]), array([16, 27,  4])), mean=array([6.2, 8.2, 1.8]), variance=array([ 37.2, 121.2,   1.7]), skewness=array([1.32531471, 1.79809454, 1.71439233]), kurtosis=array([1.30376344, 3.14969121, 2.66435986]))"
      ]
     },
     "execution_count": 203,
     "metadata": {},
     "output_type": "execute_result"
    }
   ],
   "source": [
    "scipy.stats.describe(a, ddof=1, bias=False)  # Default: axis=0"
   ]
  },
  {
   "cell_type": "code",
   "execution_count": null,
   "metadata": {
    "colab": {
     "base_uri": "https://localhost:8080/"
    },
    "id": "ARNyIBKplKZh",
    "outputId": "10d37d5b-3513-4b09-b702-4806863fa6c5"
   },
   "outputs": [
    {
     "data": {
      "text/plain": [
       "DescribeResult(nobs=3, minmax=(array([1, 1, 2, 4, 1]), array([ 1,  3,  9, 27, 16])), mean=array([ 1.,  2.,  5., 13.,  6.]), variance=array([  0.,   1.,  13., 151.,  75.]), skewness=array([0.        , 0.        , 1.15206964, 1.52787436, 1.73205081]), kurtosis=array([-3. , -1.5, -1.5, -1.5, -1.5]))"
      ]
     },
     "execution_count": 204,
     "metadata": {},
     "output_type": "execute_result"
    }
   ],
   "source": [
    "scipy.stats.describe(a, axis=1, ddof=1, bias=False)"
   ]
  },
  {
   "cell_type": "markdown",
   "metadata": {
    "id": "9I75J5uslBtM"
   },
   "source": [
    "Saat kita memberikan axis=None, kita mendapatkan summary di semua data. Sebagian besar hasil adalah skalar. Jika kita mengatur axis=0 atau menghilangkannya, maka nilai yang dikembalikan adalah summary untuk setiap kolom. Jadi, sebagian besar hasil adalah array dengan jumlah item yang sama dengan jumlah kolom. Jika kita menyetel axis=1, maka describe()mengembalikan summary untuk semua baris.\n",
    "\n",
    "Kita bisa mendapatkan nilai tertentu dari ringkasan dengan dot notation:\n",
    "\n"
   ]
  },
  {
   "cell_type": "code",
   "execution_count": null,
   "metadata": {
    "colab": {
     "base_uri": "https://localhost:8080/"
    },
    "id": "69QCwHuulC1l",
    "outputId": "696cdcaa-d848-450e-8235-cfd69da1cce6"
   },
   "outputs": [
    {
     "data": {
      "text/plain": [
       "array([ 1.,  2.,  5., 13.,  6.])"
      ]
     },
     "execution_count": 205,
     "metadata": {},
     "output_type": "execute_result"
    }
   ],
   "source": [
    "result = scipy.stats.describe(a, axis=1, ddof=1, bias=False)\n",
    "result.mean"
   ]
  },
  {
   "cell_type": "markdown",
   "metadata": {
    "id": "i2fWMRHUk9gx"
   },
   "source": [
    "DataFrames\n",
    "Kelas DataFrame adalah salah satu tipe data fundamental Pandas. DataFrame sangat nyaman digunakan karena memiliki label untuk baris dan kolom. Gunakan array a dan buat DataFrame:"
   ]
  },
  {
   "cell_type": "code",
   "execution_count": null,
   "metadata": {
    "id": "q3JzdBwZku4V"
   },
   "outputs": [],
   "source": [
    "row_names = ['first', 'second', 'third', 'fourth', 'fifth']\n",
    "col_names = ['A', 'B', 'C']\n"
   ]
  },
  {
   "cell_type": "code",
   "execution_count": null,
   "metadata": {
    "colab": {
     "base_uri": "https://localhost:8080/",
     "height": 200
    },
    "id": "z_5_voZ1kyZ7",
    "outputId": "9030ead3-e67b-471e-b668-7ef862cac3a0"
   },
   "outputs": [
    {
     "data": {
      "text/html": [
       "<div>\n",
       "<style scoped>\n",
       "    .dataframe tbody tr th:only-of-type {\n",
       "        vertical-align: middle;\n",
       "    }\n",
       "\n",
       "    .dataframe tbody tr th {\n",
       "        vertical-align: top;\n",
       "    }\n",
       "\n",
       "    .dataframe thead th {\n",
       "        text-align: right;\n",
       "    }\n",
       "</style>\n",
       "<table border=\"1\" class=\"dataframe\">\n",
       "  <thead>\n",
       "    <tr style=\"text-align: right;\">\n",
       "      <th></th>\n",
       "      <th>A</th>\n",
       "      <th>B</th>\n",
       "      <th>C</th>\n",
       "    </tr>\n",
       "  </thead>\n",
       "  <tbody>\n",
       "    <tr>\n",
       "      <th>first</th>\n",
       "      <td>1</td>\n",
       "      <td>1</td>\n",
       "      <td>1</td>\n",
       "    </tr>\n",
       "    <tr>\n",
       "      <th>second</th>\n",
       "      <td>2</td>\n",
       "      <td>3</td>\n",
       "      <td>1</td>\n",
       "    </tr>\n",
       "    <tr>\n",
       "      <th>third</th>\n",
       "      <td>4</td>\n",
       "      <td>9</td>\n",
       "      <td>2</td>\n",
       "    </tr>\n",
       "    <tr>\n",
       "      <th>fourth</th>\n",
       "      <td>8</td>\n",
       "      <td>27</td>\n",
       "      <td>4</td>\n",
       "    </tr>\n",
       "    <tr>\n",
       "      <th>fifth</th>\n",
       "      <td>16</td>\n",
       "      <td>1</td>\n",
       "      <td>1</td>\n",
       "    </tr>\n",
       "  </tbody>\n",
       "</table>\n",
       "</div>"
      ],
      "text/plain": [
       "         A   B  C\n",
       "first    1   1  1\n",
       "second   2   3  1\n",
       "third    4   9  2\n",
       "fourth   8  27  4\n",
       "fifth   16   1  1"
      ]
     },
     "execution_count": 105,
     "metadata": {},
     "output_type": "execute_result"
    }
   ],
   "source": [
    "df = pd.DataFrame(a, index=row_names, columns=col_names)\n",
    "df"
   ]
  },
  {
   "cell_type": "markdown",
   "metadata": {
    "id": "MbkRMUn3ktpm"
   },
   "source": [
    "Dalam praktiknya, nama kolom penting dan harus deskriptif. Nama baris terkadang ditentukan secara otomatis sebagai 0, 1, dan seterusnya. Kita dapat menentukannya secara eksplisit dengan index parameter, meskipun kita bebas untuk menghilangkan indeks jika kita mau.\n",
    "\n",
    "Metode DataFrame sangat mirip dengan metode Series, meskipun perilakunya berbeda. Jika kita memanggil metode statistics Python tanpa argumen, maka DataFrame akan mengembalikan hasil untuk setiap kolom:"
   ]
  },
  {
   "cell_type": "code",
   "execution_count": null,
   "metadata": {
    "colab": {
     "base_uri": "https://localhost:8080/"
    },
    "id": "-9oMqvrWkg9Y",
    "outputId": "2ffd1047-9cda-40f3-93fb-8628f4b9eadd"
   },
   "outputs": [
    {
     "data": {
      "text/plain": [
       "A    6.2\n",
       "B    8.2\n",
       "C    1.8\n",
       "dtype: float64"
      ]
     },
     "execution_count": 106,
     "metadata": {},
     "output_type": "execute_result"
    }
   ],
   "source": [
    "df.mean()"
   ]
  },
  {
   "cell_type": "code",
   "execution_count": null,
   "metadata": {
    "colab": {
     "base_uri": "https://localhost:8080/"
    },
    "id": "XjQEmcJPkeqw",
    "outputId": "39478301-304f-4bf6-9a5e-4db342032cb0"
   },
   "outputs": [
    {
     "data": {
      "text/plain": [
       "A     37.2\n",
       "B    121.2\n",
       "C      1.7\n",
       "dtype: float64"
      ]
     },
     "execution_count": 107,
     "metadata": {},
     "output_type": "execute_result"
    }
   ],
   "source": [
    "df.var()"
   ]
  },
  {
   "cell_type": "markdown",
   "metadata": {
    "id": "2bomBi14kIbc"
   },
   "source": [
    "Apa yang kita dapatkan adalah Series baru yang menyimpan hasil. Dalam hal ini, Series menyimpan mean dan variance untuk setiap kolom. Jika kita menginginkan hasil untuk setiap baris, maka tentukan parameter axis=1:"
   ]
  },
  {
   "cell_type": "code",
   "execution_count": null,
   "metadata": {
    "colab": {
     "base_uri": "https://localhost:8080/"
    },
    "id": "g1w-wy2wkREy",
    "outputId": "378b47e3-ebf2-4930-f37b-bf931f432e0e"
   },
   "outputs": [
    {
     "data": {
      "text/plain": [
       "first      1.0\n",
       "second     2.0\n",
       "third      5.0\n",
       "fourth    13.0\n",
       "fifth      6.0\n",
       "dtype: float64"
      ]
     },
     "execution_count": 108,
     "metadata": {},
     "output_type": "execute_result"
    }
   ],
   "source": [
    "df.mean(axis=1)"
   ]
  },
  {
   "cell_type": "code",
   "execution_count": null,
   "metadata": {
    "colab": {
     "base_uri": "https://localhost:8080/"
    },
    "id": "WAyySUyHkQvw",
    "outputId": "542ab7a7-f2d6-4e1e-a4a5-a8dd444b2626"
   },
   "outputs": [
    {
     "data": {
      "text/plain": [
       "first       0.0\n",
       "second      1.0\n",
       "third      13.0\n",
       "fourth    151.0\n",
       "fifth      75.0\n",
       "dtype: float64"
      ]
     },
     "execution_count": 212,
     "metadata": {},
     "output_type": "execute_result"
    }
   ],
   "source": [
    "df.var(axis=1)"
   ]
  },
  {
   "cell_type": "markdown",
   "metadata": {
    "id": "GdlIIaSQkOab"
   },
   "source": [
    "Hasilnya adalah Series dengan kuantitas yang diinginkan untuk setiap baris. Label 'first', 'second', dan seterusnya mengacu pada baris yang berbeda.\n",
    "\n",
    "Kita dapat mengisolasi setiap kolom DataFrame seperti ini:"
   ]
  },
  {
   "cell_type": "code",
   "execution_count": null,
   "metadata": {
    "colab": {
     "base_uri": "https://localhost:8080/"
    },
    "id": "9_MWYWDkkKzj",
    "outputId": "f74acb64-e5df-4341-8fb9-c1d5826eee74"
   },
   "outputs": [
    {
     "data": {
      "text/plain": [
       "first      1\n",
       "second     2\n",
       "third      4\n",
       "fourth     8\n",
       "fifth     16\n",
       "Name: A, dtype: int64"
      ]
     },
     "execution_count": 213,
     "metadata": {},
     "output_type": "execute_result"
    }
   ],
   "source": [
    "df['A']"
   ]
  },
  {
   "cell_type": "code",
   "execution_count": null,
   "metadata": {
    "colab": {
     "base_uri": "https://localhost:8080/"
    },
    "id": "qQbPGsdfkEXV",
    "outputId": "50d60bc7-dd17-48d8-c406-3ccc24d08d83"
   },
   "outputs": [
    {
     "data": {
      "text/plain": [
       "6.2"
      ]
     },
     "execution_count": 214,
     "metadata": {},
     "output_type": "execute_result"
    }
   ],
   "source": [
    "df['A'].mean()"
   ]
  },
  {
   "cell_type": "code",
   "execution_count": null,
   "metadata": {
    "colab": {
     "base_uri": "https://localhost:8080/"
    },
    "id": "naN8KK_XkEFM",
    "outputId": "342f0b72-8e4e-4c5c-c066-ce00c3fd6d9a"
   },
   "outputs": [
    {
     "data": {
      "text/plain": [
       "37.20000000000001"
      ]
     },
     "execution_count": 215,
     "metadata": {},
     "output_type": "execute_result"
    }
   ],
   "source": [
    "df['A'].var()"
   ]
  },
  {
   "cell_type": "markdown",
   "metadata": {
    "id": "GnZFpSkYkBz2"
   },
   "source": [
    "Terkadang, kita mungkin ingin menggunakan DataFrame sebagai array NumPy dan menerapkan beberapa fungsi padanya. Dimungkinkan untuk mendapatkan semua data dari DataFrame dengan .values atau .to_numpy():"
   ]
  },
  {
   "cell_type": "code",
   "execution_count": null,
   "metadata": {
    "colab": {
     "base_uri": "https://localhost:8080/"
    },
    "id": "3hVBiPaPj9Cb",
    "outputId": "f5eae41c-acf7-49b7-ca1f-18b86334781d"
   },
   "outputs": [
    {
     "data": {
      "text/plain": [
       "array([[ 1,  1,  1],\n",
       "       [ 2,  3,  1],\n",
       "       [ 4,  9,  2],\n",
       "       [ 8, 27,  4],\n",
       "       [16,  1,  1]])"
      ]
     },
     "execution_count": 216,
     "metadata": {},
     "output_type": "execute_result"
    }
   ],
   "source": [
    "df.values"
   ]
  },
  {
   "cell_type": "code",
   "execution_count": null,
   "metadata": {
    "colab": {
     "base_uri": "https://localhost:8080/"
    },
    "id": "zCraF7wFj8uh",
    "outputId": "967882a7-5fed-4ca3-8e55-a499786561ec"
   },
   "outputs": [
    {
     "data": {
      "text/plain": [
       "array([[ 1,  1,  1],\n",
       "       [ 2,  3,  1],\n",
       "       [ 4,  9,  2],\n",
       "       [ 8, 27,  4],\n",
       "       [16,  1,  1]])"
      ]
     },
     "execution_count": 217,
     "metadata": {},
     "output_type": "execute_result"
    }
   ],
   "source": [
    "df.to_numpy()"
   ]
  },
  {
   "cell_type": "markdown",
   "metadata": {
    "id": "mfc-i5tCj6iR"
   },
   "source": [
    "df.values dan df.to_numpy() memberi kita array NumPy dengan semua item dari DataFrame tanpa label baris dan kolom. Perhatikan bahwa df.to_numpy() lebih fleksibel karena kita bisa menentukan tipe data item dan apakah kita ingin menggunakan data yang ada atau menyalinnya.\n",
    "\n",
    "Seperti Series, objek DataFrame memiliki metode .describe() yang mengembalikan DataFrame lain dengan statistics summary untuk semua kolom:"
   ]
  },
  {
   "cell_type": "code",
   "execution_count": null,
   "metadata": {
    "colab": {
     "base_uri": "https://localhost:8080/",
     "height": 290
    },
    "id": "oJh35uaJjA6U",
    "outputId": "6d9f1965-e5be-4e97-bef8-d7d51e60cddf"
   },
   "outputs": [
    {
     "data": {
      "text/html": [
       "<div>\n",
       "<style scoped>\n",
       "    .dataframe tbody tr th:only-of-type {\n",
       "        vertical-align: middle;\n",
       "    }\n",
       "\n",
       "    .dataframe tbody tr th {\n",
       "        vertical-align: top;\n",
       "    }\n",
       "\n",
       "    .dataframe thead th {\n",
       "        text-align: right;\n",
       "    }\n",
       "</style>\n",
       "<table border=\"1\" class=\"dataframe\">\n",
       "  <thead>\n",
       "    <tr style=\"text-align: right;\">\n",
       "      <th></th>\n",
       "      <th>A</th>\n",
       "      <th>B</th>\n",
       "      <th>C</th>\n",
       "    </tr>\n",
       "  </thead>\n",
       "  <tbody>\n",
       "    <tr>\n",
       "      <th>count</th>\n",
       "      <td>5.00000</td>\n",
       "      <td>5.000000</td>\n",
       "      <td>5.00000</td>\n",
       "    </tr>\n",
       "    <tr>\n",
       "      <th>mean</th>\n",
       "      <td>6.20000</td>\n",
       "      <td>8.200000</td>\n",
       "      <td>1.80000</td>\n",
       "    </tr>\n",
       "    <tr>\n",
       "      <th>std</th>\n",
       "      <td>6.09918</td>\n",
       "      <td>11.009087</td>\n",
       "      <td>1.30384</td>\n",
       "    </tr>\n",
       "    <tr>\n",
       "      <th>min</th>\n",
       "      <td>1.00000</td>\n",
       "      <td>1.000000</td>\n",
       "      <td>1.00000</td>\n",
       "    </tr>\n",
       "    <tr>\n",
       "      <th>25%</th>\n",
       "      <td>2.00000</td>\n",
       "      <td>1.000000</td>\n",
       "      <td>1.00000</td>\n",
       "    </tr>\n",
       "    <tr>\n",
       "      <th>50%</th>\n",
       "      <td>4.00000</td>\n",
       "      <td>3.000000</td>\n",
       "      <td>1.00000</td>\n",
       "    </tr>\n",
       "    <tr>\n",
       "      <th>75%</th>\n",
       "      <td>8.00000</td>\n",
       "      <td>9.000000</td>\n",
       "      <td>2.00000</td>\n",
       "    </tr>\n",
       "    <tr>\n",
       "      <th>max</th>\n",
       "      <td>16.00000</td>\n",
       "      <td>27.000000</td>\n",
       "      <td>4.00000</td>\n",
       "    </tr>\n",
       "  </tbody>\n",
       "</table>\n",
       "</div>"
      ],
      "text/plain": [
       "              A          B        C\n",
       "count   5.00000   5.000000  5.00000\n",
       "mean    6.20000   8.200000  1.80000\n",
       "std     6.09918  11.009087  1.30384\n",
       "min     1.00000   1.000000  1.00000\n",
       "25%     2.00000   1.000000  1.00000\n",
       "50%     4.00000   3.000000  1.00000\n",
       "75%     8.00000   9.000000  2.00000\n",
       "max    16.00000  27.000000  4.00000"
      ]
     },
     "execution_count": 218,
     "metadata": {},
     "output_type": "execute_result"
    }
   ],
   "source": [
    "df.describe()"
   ]
  },
  {
   "cell_type": "markdown",
   "metadata": {
    "id": "-Xz98MRmjAhA"
   },
   "source": [
    "Ringkasan tersebut berisi hasil sebagai berikut:\n",
    "\n",
    "* count: the number of items in each column\n",
    "* mean: the mean of each column\n",
    "* std: the standard deviation\n",
    "* min and max: the minimum and maximum values\n",
    "* 25%, 50%, and 75%: the percentiles\n",
    "\n",
    "Jika kita ingin objek DataFrame yang dihasilkan berisi persentil lain, kita harus menentukan nilai parameter opsional percentiles.\n",
    "\n",
    "Kita dapat mengakses setiap item summary seperti ini:"
   ]
  },
  {
   "cell_type": "code",
   "execution_count": null,
   "metadata": {
    "colab": {
     "base_uri": "https://localhost:8080/"
    },
    "id": "BuAnXpaVi_6n",
    "outputId": "95900622-3b91-4d91-ef57-036770fe7813"
   },
   "outputs": [
    {
     "data": {
      "text/plain": [
       "6.2"
      ]
     },
     "execution_count": 219,
     "metadata": {},
     "output_type": "execute_result"
    }
   ],
   "source": [
    "df.describe().at['mean', 'A']"
   ]
  },
  {
   "cell_type": "code",
   "execution_count": null,
   "metadata": {
    "colab": {
     "base_uri": "https://localhost:8080/"
    },
    "id": "sGaxM7sNjrpE",
    "outputId": "34b1847a-1660-4923-d4d6-794bf2248216"
   },
   "outputs": [
    {
     "data": {
      "text/plain": [
       "3.0"
      ]
     },
     "execution_count": 220,
     "metadata": {},
     "output_type": "execute_result"
    }
   ],
   "source": [
    "df.describe().at['50%', 'B']"
   ]
  },
  {
   "cell_type": "markdown",
   "metadata": {
    "id": "O5sPKE_Ii_Md"
   },
   "source": [
    "# Memvisualisasikan Data (Opsional)\n",
    "Pengenalan Python ke Ilmu Data Siswa dapat melakukan bagian ini di bawah ini di rumah.\n",
    "\n",
    "Selain menghitung jumlah numerik seperti mean, median, atau varians, Anda dapat menggunakan metode visual untuk menyajikan, mendeskripsikan, dan meringkas data. Di bagian ini, Anda akan mempelajari cara menyajikan data secara visual menggunakan grafik berikut:\n",
    "\n",
    "Box plots\n",
    "Histograms\n",
    "Pie charts\n",
    "Bar charts\n",
    "X-Y plots\n",
    "Heatmaps\n",
    "\n",
    "matplotlib.pyplot adalah perpustakaan yang sangat nyaman dan banyak digunakan, meskipun itu bukan satu-satunya perpustakaan Python yang tersedia untuk tujuan ini. Anda dapat mengimpornya seperti ini:"
   ]
  },
  {
   "cell_type": "code",
   "execution_count": null,
   "metadata": {
    "id": "M68oVOeWi95r"
   },
   "outputs": [],
   "source": [
    "import matplotlib.pyplot as plt\n",
    "plt.style.use('ggplot')"
   ]
  },
  {
   "cell_type": "markdown",
   "metadata": {
    "id": "45-C5n9ci7fN"
   },
   "source": [
    "Sekarang, Anda telah mengimpor matplotlib.pyplot dan siap digunakan. Pernyataan kedua menetapkan gaya untuk plot Anda dengan memilih warna, lebar garis, dan elemen gaya lainnya. Anda bebas untuk menghilangkan ini jika Anda puas dengan pengaturan gaya default.\n",
    "\n",
    "Anda akan menggunakan angka pseudo-acak untuk mendapatkan data untuk digunakan. Anda tidak perlu pengetahuan tentang angka acak untuk dapat memahami bagian ini. Anda hanya perlu beberapa nomor arbitrer, dan generator pseudo-acak adalah alat yang mudah untuk mendapatkannya. Modul np.random menghasilkan array angka pseudo-acak:\n",
    "\n",
    "Nomor yang didistribusikan secara normal dihasilkan dengan np.random.randn(). Bilangan bulat yang didistribusikan secara seragam dihasilkan dengan np.random.randint().\n",
    "\n",
    "## Box Plots\n",
    "The box plot adalah alat yang sangat baik untuk secara visual mewakili statistik deskriptif dari kumpulan data yang diberikan. Hal ini dapat menunjukkan jangkauan, jangkauan interkuartil, median, modus, outlier, dan semua kuartil. Pertama, buat beberapa data untuk direpresentasikan dengan plot kotak: "
   ]
  },
  {
   "cell_type": "code",
   "execution_count": null,
   "metadata": {
    "id": "xiF6bBcAeKf5"
   },
   "outputs": [],
   "source": [
    "np.random.seed(seed=0)\n",
    "x = np.random.randn(1000)\n",
    "y = np.random.randn(100)\n",
    "z = np.random.randn(10)"
   ]
  },
  {
   "cell_type": "markdown",
   "metadata": {
    "id": "0VjybpqJdh-b"
   },
   "source": [
    "The first statement sets the seed of the NumPy random number generator with seed(),sehingga Anda bisa mendapatkan hasil yang sama setiap kali Anda menjalankan kode. Anda tidak harus sets the seed, tetapi jika Anda tidak menentukan nilai ini, maka Anda akan mendapatkan hasil yang berbeda setiap kali.\n",
    "\n",
    "Pernyataan lain menghasilkan tiga array NumPy dengan nomor pseudo-acak terdistribusi normal. x mengacu pada larik dengan 1000 item, y memiliki 100, dan z berisi 10 item. Sekarang setelah Anda memiliki data untuk dikerjakan, Anda dapat menerapkan .boxplot() untuk mendapatkan plot kotak:"
   ]
  },
  {
   "cell_type": "code",
   "execution_count": null,
   "metadata": {
    "colab": {
     "base_uri": "https://localhost:8080/",
     "height": 317
    },
    "id": "dzmYh_O2eHvY",
    "outputId": "48d25b5b-6a88-4db3-9410-027b42dd354a"
   },
   "outputs": [
    {
     "name": "stderr",
     "output_type": "stream",
     "text": [
      "/usr/local/lib/python3.7/dist-packages/numpy/core/_asarray.py:83: VisibleDeprecationWarning: Creating an ndarray from ragged nested sequences (which is a list-or-tuple of lists-or-tuples-or ndarrays with different lengths or shapes) is deprecated. If you meant to do this, you must specify 'dtype=object' when creating the ndarray\n",
      "  return array(a, dtype, copy=False, order=order)\n"
     ]
    },
    {
     "data": {
      "image/png": "[encoded data removed]",
      "text/plain": [
       "<Figure size 432x288 with 1 Axes>"
      ]
     },
     "metadata": {},
     "output_type": "display_data"
    }
   ],
   "source": [
    "fig, ax = plt.subplots()\n",
    "ax.boxplot((x, y, z), vert=False, showmeans=True, meanline=True,           labels=('x', 'y', 'z'), patch_artist=True,           medianprops={'linewidth': 2, 'color': 'purple'},           meanprops={'linewidth': 2, 'color': 'red'})\n",
    "plt.show()"
   ]
  },
  {
   "cell_type": "markdown",
   "metadata": {
    "id": "MTZdLm4Pdh3y"
   },
   "source": [
    "The parameters of .boxplot() define the following:\n",
    "\n",
    "x adalah data. \n",
    "vert mengatur orientasi plot ke horizontal ketika False. Orientasi default adalah vertikal. showmeans menunjukkan rata-rata data Anda ketika Benar. meanline mewakili mean sebagai garis ketika Benar. Representasi default adalah titik. labels: label data Anda. patch_artist menentukan cara menggambar grafik. medianprops menunjukkan sifat-sifat garis yang mewakili median. meanprops menunjukkan sifat-sifat garis atau titik yang mewakili mean. Kode di atas menghasilkan gambar seperti ini:"
   ]
  },
  {
   "cell_type": "markdown",
   "metadata": {
    "id": "vpIL-B8Odhyw"
   },
   "source": [
    "Anda dapat melihat tiga plot kotak. Masing-masing sesuai dengan satu set data (x, y, atau z) dan menunjukkan hal berikut:\n",
    "\n",
    "Berarti adalah garis putus-putus merah. Median adalah garis ungu. Kuartil pertama adalah tepi kiri persegi panjang biru. Kuartil ketiga adalah tepi kanan persegi panjang biru. Jangkauan antarkuartil adalah panjang persegi panjang biru. Rentang berisi semuanya dari kiri ke kanan. Outlier adalah titik-titik di kiri dan kanan. Plot kotak dapat menampilkan begitu banyak informasi dalam satu gambar!\n",
    "\n",
    "Histogram Histogram sangat berguna ketika ada sejumlah besar nilai unik dalam kumpulan data. Histogram membagi nilai dari kumpulan data yang diurutkan ke dalam interval, juga disebut bin. Seringkali, semua tempat sampah memiliki lebar yang sama, meskipun hal ini tidak harus terjadi. Nilai batas bawah dan atas bin disebut tepi bin.\n",
    "\n",
    "Frekuensi adalah nilai tunggal yang sesuai dengan setiap bin. Ini adalah jumlah elemen dataset dengan nilai di antara tepi bin. Secara konvensi, semua tempat sampah kecuali yang paling kanan setengah terbuka. Mereka menyertakan nilai yang sama dengan batas bawah, tetapi mengecualikan nilai yang sama dengan batas atas. Bin paling kanan ditutup karena mencakup kedua batas. Jika Anda membagi dataset dengan tepi bin 0, 5, 10, dan 15, maka ada tiga bin:\n",
    "\n",
    "Bin pertama dan paling kiri berisi nilai lebih besar atau sama dengan 0 dan kurang dari 5. Bin kedua berisi nilai lebih besar atau sama dengan 5 dan kurang dari 10. Bin ketiga dan paling kanan berisi nilai lebih besar atau sama dengan 10 dan kurang dari atau sama dengan 15. Fungsi np.histogram() adalah cara mudah untuk mendapatkan data untuk histogram:\n",
    "\n"
   ]
  },
  {
   "cell_type": "code",
   "execution_count": null,
   "metadata": {
    "colab": {
     "base_uri": "https://localhost:8080/"
    },
    "id": "M8u90I--MjpF",
    "outputId": "71c27a05-b4aa-4bae-f4ca-ddbda4b94f89"
   },
   "outputs": [
    {
     "data": {
      "text/plain": [
       "array([  9,  20,  70, 146, 217, 239, 160,  86,  38,  15])"
      ]
     },
     "execution_count": 113,
     "metadata": {},
     "output_type": "execute_result"
    }
   ],
   "source": [
    "hist, bin_edges = np.histogram(x, bins=10)\n",
    "hist \n"
   ]
  },
  {
   "cell_type": "code",
   "execution_count": null,
   "metadata": {
    "colab": {
     "base_uri": "https://localhost:8080/"
    },
    "id": "dd1q5K_sMrb-",
    "outputId": "7b6a2197-ba84-4128-dde9-f81a934e68ea"
   },
   "outputs": [
    {
     "data": {
      "text/plain": [
       "array([-3.04614305, -2.46559324, -1.88504342, -1.3044936 , -0.72394379,\n",
       "       -0.14339397,  0.43715585,  1.01770566,  1.59825548,  2.1788053 ,\n",
       "        2.75935511])"
      ]
     },
     "execution_count": 114,
     "metadata": {},
     "output_type": "execute_result"
    }
   ],
   "source": [
    "bin_edges"
   ]
  },
  {
   "cell_type": "markdown",
   "metadata": {
    "id": "EMykZNtoMiaU"
   },
   "source": [
    "Dibutuhkan array dengan data Anda dan jumlah (atau tepi) tempat sampah dan mengembalikan dua array NumPy:\n",
    "\n",
    "hist berisi frekuensi atau jumlah item yang sesuai dengan setiap bin.\n",
    "bin_edges berisi tepi atau batas bin.\n",
    "Apa yang dihitung histogram(), .hist() dapat ditampilkan secara grafis:"
   ]
  },
  {
   "cell_type": "code",
   "execution_count": null,
   "metadata": {
    "colab": {
     "base_uri": "https://localhost:8080/",
     "height": 286
    },
    "id": "fwEZYQtZd96f",
    "outputId": "5c10e1d8-0e41-420c-d409-4178efff3a67"
   },
   "outputs": [
    {
     "data": {
      "image/png": "[encoded data removed]",
      "text/plain": [
       "<Figure size 432x288 with 1 Axes>"
      ]
     },
     "metadata": {},
     "output_type": "display_data"
    }
   ],
   "source": [
    "fig, ax = plt.subplots()\n",
    "ax.hist(x, bin_edges, cumulative=False)\n",
    "ax.set_xlabel('x')\n",
    "ax.set_ylabel('Frequency')\n",
    "plt.show()"
   ]
  },
  {
   "cell_type": "markdown",
   "metadata": {
    "id": "6Bxmp6MsdhvR"
   },
   "source": [
    "Argumen pertama .hist() adalah urutan dengan data Anda. Argumen kedua mendefinisikan tepi tempat sampah. Yang ketiga menonaktifkan opsi untuk membuat histogram dengan nilai kumulatif. Kode di atas menghasilkan gambar seperti ini:"
   ]
  },
  {
   "cell_type": "markdown",
   "metadata": {
    "id": "U7gVPNEydhrO"
   },
   "source": [
    "Anda dapat melihat tepi bin pada sumbu horizontal dan frekuensi pada sumbu vertikal.\n",
    "\n",
    "Dimungkinkan untuk mendapatkan histogram dengan jumlah item kumulatif jika Anda memberikan argumen kumulatif=True ke .hist():"
   ]
  },
  {
   "cell_type": "code",
   "execution_count": null,
   "metadata": {
    "colab": {
     "base_uri": "https://localhost:8080/",
     "height": 282
    },
    "id": "StWJxxIZd4Ww",
    "outputId": "e58dc102-aa5b-4997-c8fe-7af978f55482"
   },
   "outputs": [
    {
     "data": {
      "image/png": "[encoded data removed]",
      "text/plain": [
       "<Figure size 432x288 with 1 Axes>"
      ]
     },
     "metadata": {},
     "output_type": "display_data"
    }
   ],
   "source": [
    "fig, ax = plt.subplots()\n",
    "ax.hist(x, bin_edges, cumulative=True)\n",
    "ax.set_xlabel('x')\n",
    "ax.set_ylabel('Frequency')\n",
    "plt.show()"
   ]
  },
  {
   "cell_type": "markdown",
   "metadata": {
    "id": "swrhToFXdhmY"
   },
   "source": [
    "Ini menunjukkan histogram dengan nilai kumulatif. Frekuensi bin pertama dan paling kiri adalah jumlah item dalam bin ini. Frekuensi bin kedua adalah jumlah dari jumlah item di bin pertama dan kedua. Tempat sampah lainnya mengikuti pola yang sama. Akhirnya, frekuensi bin terakhir dan paling kanan adalah jumlah total item dalam dataset (dalam hal ini, 1000). Anda juga dapat langsung menggambar histogram dengan pd.Series.hist() menggunakan matplotlib di latar belakang.\n",
    "\n",
    "## Pie Charts\n",
    "Diagram lingkaran mewakili data dengan sejumlah kecil label dan frekuensi relatif yang diberikan. Mereka bekerja dengan baik bahkan dengan label yang tidak dapat dipesan (seperti data nominal). Diagram lingkaran adalah lingkaran yang dibagi menjadi beberapa bagian. Setiap irisan sesuai dengan satu label berbeda dari kumpulan data dan memiliki luas yang sebanding dengan frekuensi relatif yang terkait dengan label tersebut.\n",
    "\n",
    "Mari kita definisikan data yang terkait dengan tiga label:"
   ]
  },
  {
   "cell_type": "code",
   "execution_count": null,
   "metadata": {
    "id": "0SWTiBNwdvfk"
   },
   "outputs": [],
   "source": [
    "# Now, create a pie chart with .pie():\n",
    "x, y, z = 128, 256, 1024\n"
   ]
  },
  {
   "cell_type": "code",
   "execution_count": null,
   "metadata": {
    "colab": {
     "base_uri": "https://localhost:8080/",
     "height": 247
    },
    "id": "BhzlEfzKdsvw",
    "outputId": "42539fdc-e6f5-4a8f-cecd-6a8d8ff57442"
   },
   "outputs": [
    {
     "data": {
      "image/png": "[encoded data removed]",
      "text/plain": [
       "<Figure size 432x288 with 1 Axes>"
      ]
     },
     "metadata": {},
     "output_type": "display_data"
    }
   ],
   "source": [
    "fig, ax = plt.subplots()\n",
    "ax.pie((x, y, z), labels=('x', 'y', 'z'), autopct='%1.1f%%')\n",
    "plt.show()"
   ]
  },
  {
   "cell_type": "markdown",
   "metadata": {
    "id": "GdkfQHGOdhis"
   },
   "source": [
    "The first argument of .pie() is your data, and the second is the sequence of the corresponding labels. autopct defines the format of the relative frequencies shown on the figure. You’ll get a figure that looks like this:"
   ]
  },
  {
   "cell_type": "markdown",
   "metadata": {
    "id": "xlEwE-37dhSa"
   },
   "source": [
    "Pie Charts menunjukkan x sebagai bagian terkecil dari lingkaran, y sebagai bagian terbesar berikutnya, dan kemudian z sebagai bagian terbesar. Persentase menunjukkan ukuran relatif dari setiap nilai dibandingkan dengan jumlah mereka.\n",
    "\n",
    "# Bar Charts\n",
    "Bagan batang juga menggambarkan data yang sesuai dengan label yang diberikan atau nilai numerik diskrit. Mereka dapat menunjukkan pasangan data dari dua kumpulan data. Item dari satu set adalah label, sedangkan item yang sesuai dari yang lain adalah frekuensinya. Secara opsional, mereka juga dapat menunjukkan kesalahan yang terkait dengan frekuensi.\n",
    "\n",
    "Diagram batang menunjukkan persegi panjang paralel yang disebut batang. Setiap batang sesuai dengan satu label dan memiliki tinggi yang sebanding dengan frekuensi atau frekuensi relatif labelnya. Mari kita buat tiga set data, masing-masing dengan 21 item:\n"
   ]
  },
  {
   "cell_type": "code",
   "execution_count": null,
   "metadata": {
    "id": "1tlyeVUPM7F8"
   },
   "outputs": [],
   "source": [
    "x = np.arange(21)\n",
    "y = np.random.randint(21, size=21)\n",
    "err = np.random.randn(21)\n"
   ]
  },
  {
   "cell_type": "markdown",
   "metadata": {
    "id": "D5p6TKE3M5wV"
   },
   "source": [
    "Anda menggunakan np.arange() untuk mendapatkan x, atau larik bilangan bulat berurutan dari 0 hingga 20. Anda akan menggunakan ini untuk mewakili label. y adalah larik bilangan bulat acak terdistribusi seragam, juga antara 0 dan 20. Larik ini akan mewakili frekuensi. err berisi angka floating-point terdistribusi normal, yang merupakan kesalahan. Nilai-nilai ini opsional.\n",
    "\n",
    "Anda dapat membuat diagram batang dengan .bar() jika Anda menginginkan batang vertikal atau .barh() jika Anda ingin batang horizontal:"
   ]
  },
  {
   "cell_type": "code",
   "execution_count": null,
   "metadata": {
    "colab": {
     "base_uri": "https://localhost:8080/",
     "height": 282
    },
    "id": "-xI5hb7xdkVd",
    "outputId": "5a7d6ce2-f456-4296-ec3a-4901a5253c81"
   },
   "outputs": [
    {
     "data": {
      "image/png": "[encoded data removed]",
      "text/plain": [
       "<Figure size 432x288 with 1 Axes>"
      ]
     },
     "metadata": {},
     "output_type": "display_data"
    }
   ],
   "source": [
    "fig, ax = plt.subplots()\n",
    "ax.bar(x, y, yerr=err)\n",
    "ax.set_xlabel('x')\n",
    "ax.set_ylabel('y')\n",
    "plt.show()"
   ]
  },
  {
   "cell_type": "markdown",
   "metadata": {
    "id": "EwZdTXCidEqm"
   },
   "source": [
    "Ketinggian batang merah sesuai dengan frekuensi y, sedangkan panjang garis hitam menunjukkan kesalahan err. Jika Anda tidak ingin menyertakan kesalahan, hilangkan parameter yerr dari .bar().\n",
    "\n",
    "Plot X-Y Plot xy atau plot sebar mewakili pasangan data dari dua kumpulan data. Sumbu x horizontal menunjukkan nilai dari himpunan x, sedangkan sumbu y vertikal menunjukkan nilai yang sesuai dari himpunan y. Anda dapat secara opsional memasukkan garis regresi dan koefisien korelasi. Mari buat dua kumpulan data dan lakukan regresi linier dengan scipy.stats.linregress():"
   ]
  },
  {
   "cell_type": "code",
   "execution_count": null,
   "metadata": {
    "colab": {
     "base_uri": "https://localhost:8080/"
    },
    "id": "apoyAiTGNOQZ",
    "outputId": "668bdfc7-6f16-4370-d3bc-71deab686bfe"
   },
   "outputs": [
    {
     "name": "stdout",
     "output_type": "stream",
     "text": [
      "Regression line: y=5.49+2.02x, r=0.99\n"
     ]
    }
   ],
   "source": [
    "x = np.arange(21)\n",
    "y = 5 + 2 * x + 2 * np.random.randn(21)\n",
    "slope, intercept, r, *__ = scipy.stats.linregress(x, y)\n",
    "line = f'Regression line: y={intercept:.2f}+{slope:.2f}x, r={r:.2f}'\n",
    "print(line)"
   ]
  },
  {
   "cell_type": "markdown",
   "metadata": {
    "id": "7fy26xIHdFGE"
   },
   "source": []
  },
  {
   "cell_type": "markdown",
   "metadata": {
    "id": "aXSMB5qQdFk8"
   },
   "source": [
    "Dataset x  array dengan bilangan bulat dari 0 hingga 20. y dihitung sebagai fungsi linier dari x yang terdistorsi dengan beberapa random noise.\n",
    "\n",
    "linregress mengembalikan beberapa nilai. Anda akan membutuhkan kemiringan dan intersep dari garis regresi, serta koefisien korelasi r. Kemudian Anda dapat menerapkan .plot() untuk mendapatkan plot xy:"
   ]
  },
  {
   "cell_type": "code",
   "execution_count": null,
   "metadata": {
    "colab": {
     "base_uri": "https://localhost:8080/",
     "height": 282
    },
    "id": "rOEfib5TdZYr",
    "outputId": "b031b0b7-0164-4b2c-dab7-0ce91aa641de"
   },
   "outputs": [
    {
     "data": {
      "image/png": "[encoded data removed]",
      "text/plain": [
       "<Figure size 432x288 with 1 Axes>"
      ]
     },
     "metadata": {},
     "output_type": "display_data"
    }
   ],
   "source": [
    "fig, ax = plt.subplots()\n",
    "ax.plot(x, y, linewidth=0, marker='s', label='Data points')\n",
    "ax.plot(x, intercept + slope * x, label=line)\n",
    "ax.set_xlabel('x')\n",
    "ax.set_ylabel('y')\n",
    "ax.legend(facecolor='white')\n",
    "plt.show()"
   ]
  },
  {
   "cell_type": "markdown",
   "metadata": {
    "id": "52NB3UR-dF75"
   },
   "source": [
    "Anda dapat melihat titik data (pasangan xy) sebagai kotak merah, serta garis regresi biru.\n",
    "\n",
    "Heatmaps dapat digunakan untuk menampilkan matriks secara visual. Warna mewakili angka atau elemen matriks. Peta panas sangat berguna untuk menggambarkan matriks kovarians dan korelasi. Anda dapat membuat peta panas untuk matriks kovarians dengan .imshow():"
   ]
  },
  {
   "cell_type": "code",
   "execution_count": null,
   "metadata": {
    "colab": {
     "base_uri": "https://localhost:8080/",
     "height": 265
    },
    "id": "uiTL2HsXdRd3",
    "outputId": "738c7f88-7887-4a5a-a909-3e81158fb221"
   },
   "outputs": [
    {
     "data": {
      "image/png": "[encoded data removed]",
      "text/plain": [
       "<Figure size 432x288 with 1 Axes>"
      ]
     },
     "metadata": {},
     "output_type": "display_data"
    }
   ],
   "source": [
    "matrix = np.cov(x, y).round(decimals=2)\n",
    "fig, ax = plt.subplots()\n",
    "ax.imshow(matrix)\n",
    "ax.grid(False)\n",
    "ax.xaxis.set(ticks=(0, 1), ticklabels=('x', 'y'))\n",
    "ax.yaxis.set(ticks=(0, 1), ticklabels=('x', 'y'))\n",
    "ax.set_ylim(1.5, -0.5)\n",
    "for i in range(2):    \n",
    "  for j in range(2):        \n",
    "    ax.text(j, i, matrix[i, j], ha='center', va='center', color='w')\n",
    "plt.show()"
   ]
  },
  {
   "cell_type": "markdown",
   "metadata": {
    "id": "qvPwjgvCdSyi"
   },
   "source": [
    "Here, the heatmap berisi label 'x' dan 'y' serta angka-angka dari matriks kovarians. Anda akan mendapatkan angka seperti ini:\n",
    "\n",
    "\n",
    "\n"
   ]
  },
  {
   "cell_type": "markdown",
   "metadata": {
    "id": "12_cWuILdGlx"
   },
   "source": [
    "Bidang kuning mewakili elemen terbesar dari matriks 130.34, sedangkan bidang ungu sesuai dengan elemen terkecil 38.5. Kotak biru di antaranya terkait dengan nilai 69,9.\n",
    "\n",
    "Anda dapat memperoleh peta panas untuk matriks koefisien korelasi mengikuti logika yang sama:"
   ]
  },
  {
   "cell_type": "code",
   "execution_count": null,
   "metadata": {
    "colab": {
     "base_uri": "https://localhost:8080/",
     "height": 265
    },
    "id": "w89JOZ_ndHOh",
    "outputId": "20102efa-ab16-4995-8724-82959dfbe034"
   },
   "outputs": [
    {
     "data": {
      "image/png": "[encoded data removed]",
      "text/plain": [
       "<Figure size 432x288 with 1 Axes>"
      ]
     },
     "metadata": {},
     "output_type": "display_data"
    }
   ],
   "source": [
    "matrix = np.corrcoef(x, y).round(decimals=2)\n",
    "fig, ax = plt.subplots()\n",
    "ax.imshow(matrix)\n",
    "ax.grid(False)\n",
    "ax.xaxis.set(ticks=(0, 1), ticklabels=('x', 'y'))\n",
    "ax.yaxis.set(ticks=(0, 1), ticklabels=('x', 'y'))\n",
    "ax.set_ylim(1.5, -0.5)\n",
    "for i in range(2):    \n",
    "  for j in range(2):        \n",
    "    ax.text(j, i, matrix[i, j], ha='center', va='center', color='w')\n",
    "plt.show()"
   ]
  },
  {
   "cell_type": "markdown",
   "metadata": {
    "id": "Ka7fAXlHdH7l"
   },
   "source": [
    "The yellow color represents the value 1.0, and the purple color shows 0.99.\n",
    "\n"
   ]
  },
  {
   "cell_type": "code",
   "execution_count": null,
   "metadata": {
    "id": "cUpkJjfbgguo"
   },
   "outputs": [],
   "source": [
    "import random \n",
    "import pandas as pd \n",
    "import seaborn as sns \n",
    "import matplotlib.pyplot as plt\n",
    "random.seed(101)\n",
    "data_gaji =[int(random.gauss(5000, 1000)) for num in range(1000)]\n",
    "dfGaji = pd.DataFrame(data_gaji, columns = ['Gaji ($)'])"
   ]
  },
  {
   "cell_type": "code",
   "execution_count": null,
   "metadata": {
    "colab": {
     "base_uri": "https://localhost:8080/",
     "height": 200
    },
    "id": "v9eKBTakghVq",
    "outputId": "f5cdefcd-6697-43ca-a23f-cee8ef704a31"
   },
   "outputs": [
    {
     "data": {
      "text/html": [
       "<div>\n",
       "<style scoped>\n",
       "    .dataframe tbody tr th:only-of-type {\n",
       "        vertical-align: middle;\n",
       "    }\n",
       "\n",
       "    .dataframe tbody tr th {\n",
       "        vertical-align: top;\n",
       "    }\n",
       "\n",
       "    .dataframe thead th {\n",
       "        text-align: right;\n",
       "    }\n",
       "</style>\n",
       "<table border=\"1\" class=\"dataframe\">\n",
       "  <thead>\n",
       "    <tr style=\"text-align: right;\">\n",
       "      <th></th>\n",
       "      <th>Gaji ($)</th>\n",
       "    </tr>\n",
       "  </thead>\n",
       "  <tbody>\n",
       "    <tr>\n",
       "      <th>0</th>\n",
       "      <td>4425</td>\n",
       "    </tr>\n",
       "    <tr>\n",
       "      <th>1</th>\n",
       "      <td>4678</td>\n",
       "    </tr>\n",
       "    <tr>\n",
       "      <th>2</th>\n",
       "      <td>7216</td>\n",
       "    </tr>\n",
       "    <tr>\n",
       "      <th>3</th>\n",
       "      <td>4508</td>\n",
       "    </tr>\n",
       "    <tr>\n",
       "      <th>4</th>\n",
       "      <td>3555</td>\n",
       "    </tr>\n",
       "  </tbody>\n",
       "</table>\n",
       "</div>"
      ],
      "text/plain": [
       "   Gaji ($)\n",
       "0      4425\n",
       "1      4678\n",
       "2      7216\n",
       "3      4508\n",
       "4      3555"
      ]
     },
     "execution_count": 3,
     "metadata": {},
     "output_type": "execute_result"
    }
   ],
   "source": [
    "dfGaji.head()"
   ]
  },
  {
   "cell_type": "code",
   "execution_count": null,
   "metadata": {
    "colab": {
     "base_uri": "https://localhost:8080/",
     "height": 290
    },
    "id": "oM9ixe9HgnLO",
    "outputId": "4f57f7b2-8daa-4f78-b703-d85ef9433c95"
   },
   "outputs": [
    {
     "data": {
      "text/html": [
       "<div>\n",
       "<style scoped>\n",
       "    .dataframe tbody tr th:only-of-type {\n",
       "        vertical-align: middle;\n",
       "    }\n",
       "\n",
       "    .dataframe tbody tr th {\n",
       "        vertical-align: top;\n",
       "    }\n",
       "\n",
       "    .dataframe thead th {\n",
       "        text-align: right;\n",
       "    }\n",
       "</style>\n",
       "<table border=\"1\" class=\"dataframe\">\n",
       "  <thead>\n",
       "    <tr style=\"text-align: right;\">\n",
       "      <th></th>\n",
       "      <th>Gaji ($)</th>\n",
       "    </tr>\n",
       "  </thead>\n",
       "  <tbody>\n",
       "    <tr>\n",
       "      <th>count</th>\n",
       "      <td>1000.000000</td>\n",
       "    </tr>\n",
       "    <tr>\n",
       "      <th>mean</th>\n",
       "      <td>5024.404000</td>\n",
       "    </tr>\n",
       "    <tr>\n",
       "      <th>std</th>\n",
       "      <td>1034.981682</td>\n",
       "    </tr>\n",
       "    <tr>\n",
       "      <th>min</th>\n",
       "      <td>1573.000000</td>\n",
       "    </tr>\n",
       "    <tr>\n",
       "      <th>25%</th>\n",
       "      <td>4338.750000</td>\n",
       "    </tr>\n",
       "    <tr>\n",
       "      <th>50%</th>\n",
       "      <td>5060.000000</td>\n",
       "    </tr>\n",
       "    <tr>\n",
       "      <th>75%</th>\n",
       "      <td>5765.250000</td>\n",
       "    </tr>\n",
       "    <tr>\n",
       "      <th>max</th>\n",
       "      <td>8719.000000</td>\n",
       "    </tr>\n",
       "  </tbody>\n",
       "</table>\n",
       "</div>"
      ],
      "text/plain": [
       "          Gaji ($)\n",
       "count  1000.000000\n",
       "mean   5024.404000\n",
       "std    1034.981682\n",
       "min    1573.000000\n",
       "25%    4338.750000\n",
       "50%    5060.000000\n",
       "75%    5765.250000\n",
       "max    8719.000000"
      ]
     },
     "execution_count": 4,
     "metadata": {},
     "output_type": "execute_result"
    }
   ],
   "source": [
    "dfGaji.describe()\n"
   ]
  },
  {
   "cell_type": "code",
   "execution_count": null,
   "metadata": {
    "colab": {
     "base_uri": "https://localhost:8080/",
     "height": 572
    },
    "id": "A4e_mK7wgoke",
    "outputId": "81e22b2e-7021-40a3-c5a5-f3b119a3a729"
   },
   "outputs": [
    {
     "name": "stderr",
     "output_type": "stream",
     "text": [
      "/usr/local/lib/python3.7/dist-packages/seaborn/_decorators.py:43: FutureWarning: Pass the following variable as a keyword arg: x. From version 0.12, the only valid positional argument will be `data`, and passing other arguments without an explicit keyword will result in an error or misinterpretation.\n",
      "  FutureWarning\n"
     ]
    },
    {
     "data": {
      "text/plain": [
       "Text(1573, 0.2, 'Outlier')"
      ]
     },
     "execution_count": 5,
     "metadata": {},
     "output_type": "execute_result"
    },
    {
     "data": {
      "image/png": "[encoded data removed]",
      "text/plain": [
       "<Figure size 576x576 with 1 Axes>"
      ]
     },
     "metadata": {
      "needs_background": "light"
     },
     "output_type": "display_data"
    }
   ],
   "source": [
    "plt.figure(figsize = (8,8))\n",
    "sns.boxplot(data_gaji)\n",
    "plt.title('Boxplot data gaji', fontsize = 20)\n",
    "plt.annotate('Q1', (np.percentile(data_gaji, 25), 0.4), xytext = (np.percentile(data_gaji, 25), 0.5),arrowprops = dict(facecolor = 'black'), fontsize = 12 )\n",
    "plt.annotate('Q2', (np.percentile(data_gaji, 50), 0.4), xytext = (np.percentile(data_gaji, 50), 0.5),arrowprops = dict(facecolor = 'black'), fontsize = 12 )\n",
    "plt.annotate('Q3', (np.percentile(data_gaji, 75), 0.4), xytext = (np.percentile(data_gaji, 75), 0.5),arrowprops = dict(facecolor = 'black'), fontsize = 12 )\n",
    "IQR = np.percentile(data_gaji, 75) - np.percentile(data_gaji, 25)\n",
    "batas_bawah = np.percentile(data_gaji, 25) - (1.5 * IQR)\n",
    "batas_atas =  np.percentile(data_gaji, 75) + (1.5 * IQR)\n",
    "plt.annotate('Batas bawah',(batas_bawah+50, 0.2), xytext = (batas_bawah, 0.35)\n",
    "             ,arrowprops = dict(facecolor = 'blue'), fontsize = 12 )\n",
    "plt.annotate('Batas atas', (batas_atas-100, 0.2), xytext = (batas_atas, 0.35),arrowprops = dict(facecolor = 'red'), fontsize = 12 )\n",
    "plt.annotate('Outlier', (min(data_gaji), 0.04), xytext = (min(data_gaji), 0.2),arrowprops = dict(facecolor = 'green'), fontsize = 12 )"
   ]
  },
  {
   "cell_type": "markdown",
   "metadata": {
    "id": "J1Df5vEAhQ45"
   },
   "source": [
    "Boxplot diatas menunjukkan bagaimana data kita tersebar. Dapat terlihat bahwa antara Q1 hingga Q3 (atau 50% data) tersebar hanya dia antara $4000an hingga $6000an dengan 50% data yang lain tersebar di luar dari itu. Dengan menggunakan metode IQR juga kita mampu mendapatkan batas bawah dan atas untuk membedakan data mana yang termasuk outlier (ditandakan dengan titik hitam).\n",
    "\n",
    "Selain itu, melalui standard deviation juga kita bisa melihat bahwa data kita tersebar sebesar $1034 dari mean. Dengan menggunakan Empirical rule sebelumnya, kita bisa memperkirakan persebaran data kita seperti gambar dibawah\n"
   ]
  },
  {
   "cell_type": "code",
   "execution_count": null,
   "metadata": {
    "colab": {
     "base_uri": "https://localhost:8080/",
     "height": 615
    },
    "id": "g1xMy-PFgyPV",
    "outputId": "c7815270-7249-4141-a207-f2b8e0fa58a4"
   },
   "outputs": [
    {
     "name": "stderr",
     "output_type": "stream",
     "text": [
      "/usr/local/lib/python3.7/dist-packages/seaborn/distributions.py:2619: FutureWarning: `distplot` is a deprecated function and will be removed in a future version. Please adapt your code to use either `displot` (a figure-level function with similar flexibility) or `histplot` (an axes-level function for histograms).\n",
      "  warnings.warn(msg, FutureWarning)\n"
     ]
    },
    {
     "data": {
      "text/plain": [
       "Text(8127.796184860947, 0.00045, '3 * STD')"
      ]
     },
     "execution_count": 6,
     "metadata": {},
     "output_type": "execute_result"
    },
    {
     "data": {
      "image/png": "[encoded data removed]",
      "text/plain": [
       "<Figure size 576x576 with 1 Axes>"
      ]
     },
     "metadata": {
      "needs_background": "light"
     },
     "output_type": "display_data"
    }
   ],
   "source": [
    "plt.figure(figsize = (8,8))\n",
    "sns.distplot(data_gaji)\n",
    "plt.axvline(x = np.mean(data_gaji), ls = '--', c ='red')\n",
    "plt.axvline(x = np.mean(data_gaji) - np.std(data_gaji), ls = '--', c = 'blue')\n",
    "plt.axvline(x = np.mean(data_gaji) + np.std(data_gaji), ls = '--', c = 'blue')\n",
    "plt.axvline(x = np.mean(data_gaji) - 2*np.std(data_gaji), ls = '--', c = 'green')\n",
    "plt.axvline(x = np.mean(data_gaji) + 2*np.std(data_gaji), ls = '--', c = 'green')\n",
    "plt.axvline(x = np.mean(data_gaji) - 3*np.std(data_gaji), ls = '--', c = 'black')\n",
    "plt.axvline(x = np.mean(data_gaji) + 3*np.std(data_gaji), ls = '--', c = 'black')\n",
    "plt.annotate('Mean', (np.mean(data_gaji), 0.0004), xytext = (np.mean(data_gaji), 0.00045),arrowprops = dict(facecolor = 'red'), fontsize = 12 )\n",
    "plt.annotate('1 * STD', ((np.mean(data_gaji) - np.std(data_gaji)), 0.0004), xytext = ((np.mean(data_gaji) - np.std(data_gaji)), 0.00045),arrowprops = dict(facecolor = 'blue') )\n",
    "plt.annotate('1 * STD', ((np.mean(data_gaji) + np.std(data_gaji)), 0.0004), xytext = ((np.mean(data_gaji) + np.std(data_gaji)), 0.00045),arrowprops = dict(facecolor = 'blue') )\n",
    "plt.annotate('2 * STD', ((np.mean(data_gaji) - 2*np.std(data_gaji)), 0.0004),xytext = ((np.mean(data_gaji) - 2*np.std(data_gaji)), 0.00045),arrowprops = dict(facecolor = 'green') )\n",
    "plt.annotate('2 * STD', ((np.mean(data_gaji) + 2*np.std(data_gaji)), 0.0004), xytext = ((np.mean(data_gaji) + 2*np.std(data_gaji)), 0.00045),arrowprops = dict(facecolor = 'green') )\n",
    "plt.annotate('3 * STD', ((np.mean(data_gaji) - 3*np.std(data_gaji)), 0.0004),xytext = ((np.mean(data_gaji) - 3*np.std(data_gaji)), 0.00045),arrowprops = dict(facecolor = 'black') )\n",
    "plt.annotate('3 * STD', ((np.mean(data_gaji) + 3*np.std(data_gaji)), 0.0004),xytext = ((np.mean(data_gaji) + 3*np.std(data_gaji)), 0.00045),arrowprops = dict(facecolor = 'black') )\n"
   ]
  },
  {
   "cell_type": "markdown",
   "metadata": {
    "id": "WqdFMEqyhB8h"
   },
   "source": [
    "1*STD adalah 68% data kita yang berada di antara mean ± 1 * Standard Deviation data, 2*STD adalah 95% data kita yang berada di antara mean ± 2* Standard Deviation, dan 3*STD adalah 99.7% data kita yang berada di antara mean ± 3 * Standard Deviation sehingga kita menggangap bahwa data yang sudah melebihi dari 3 * STD sudah berada di posisi 0.3% yang terlalu jauh posisinya dibandingkan mean sehingga bisa dianggap sebagai outlier."
   ]
  },
  {
   "cell_type": "markdown",
   "metadata": {
    "id": "e_VZrSjLMk_T"
   },
   "source": [
    "--------"
   ]
  },
  {
   "cell_type": "markdown",
   "metadata": {
    "id": "LoLOu4EWMo37"
   },
   "source": [
    "\n",
    "**Tipe Data**\n",
    "\n",
    "| Data Kualitatif  |  Data Kuantitatif |\n",
    "|:-----------------|:------------------|\n",
    "| Data non numerik  | Data numerik dihasilkan dari |\n",
    "| * Atribute  | * Perhitungan | \n",
    "|  * label  | * Pengukuran |\n",
    " \n",
    "\n",
    "\n",
    "Contoh  : Menu dan Harga \n",
    "\n"
   ]
  },
  {
   "cell_type": "markdown",
   "metadata": {
    "id": "3dSKjiXRMqyh"
   },
   "source": []
  },
  {
   "cell_type": "markdown",
   "metadata": {
    "id": "inGpsTULOB14"
   },
   "source": [
    "**Skala Pengukuran (Level of Measurements)**\n",
    "\n",
    "Terdapat 4 Skala Pengukuran (Level of Measurements) dalam bidang statistika:\n",
    "1. Nominal\n",
    "2. Ordinal\n",
    "3. Interval\n",
    "4. Rasio (Ratio)\n"
   ]
  },
  {
   "cell_type": "markdown",
   "metadata": {
    "id": "aUtEzl_aOLQH"
   },
   "source": [
    "**Skala Pengukuran Nominal**\n",
    ">> Berasosiasi dengan tipe data kualitatif\n",
    "\n",
    ">> Berfokus pada pengelompokkan atau pengkategorian data berdasarkan nama, label, atau kualitas\n",
    "\n",
    ">> Tidak dapat dikenakan operasi matematika\n",
    ">>>Contoh: \n",
    ">>>>merk kendaraan bermotor\n",
    "\n",
    ">>>>kota kelahiran\n",
    "\n",
    ">>>>nama siswa, nama bulan, nama hari\n",
    "\n",
    ">>>>nomor kendaraan bermotor, nomor induk siswa\n"
   ]
  },
  {
   "cell_type": "markdown",
   "metadata": {
    "id": "TCovVh0XPSzj"
   },
   "source": [
    "**Skala Pengukuran Ordinal**\n",
    "\n",
    "* Berasosiasi dengan tipe data kualitatif\n",
    "\n",
    "* Data dapat dikelompokkan\n",
    "\n",
    "* Data dapat disusun berdasarkan urutan, peringkat, atau ranking\n",
    "* Tidak dapat dikenakan operasi matematika\n",
    "\n",
    "Contoh: \n",
    "* tingkat kepuasan pelanggan: sangat puas, puas, cukup, kecewa, sangat kecewa\n",
    "* temperatur udara: panas, sejuk, dingin\n",
    "* peringkat siswa di kelas\n"
   ]
  },
  {
   "cell_type": "code",
   "execution_count": null,
   "metadata": {
    "id": "MeU4DC_qPSZq"
   },
   "outputs": [],
   "source": []
  },
  {
   "cell_type": "markdown",
   "metadata": {
    "id": "bEsnyfsMOREF"
   },
   "source": [
    "**Skala Pengukuran Rasio (Ratio)**\n",
    "\n",
    "* Berasosiasi dengan tipe data kuantitatif\n",
    "* Data dapat dikelompokkan\n",
    "* Data dapat disusun berdasarkan urutan, peringkat, atau ranking\n",
    "* Dapat dikenakan operasi matematika untuk menghitung selisih nilai\n",
    "* Memiliki nilai nol yang absolut (inherent zero)\n",
    "* Dapat dikenakan operasi matematika terkait perkalian\n",
    "\n",
    "Contoh: \n",
    "* usia anak 7 tahun\n",
    "* berat badan 65 Kg\n",
    "* harga nasi goreng Rp 25,000\n"
   ]
  },
  {
   "cell_type": "markdown",
   "metadata": {
    "id": "13CbBdzBPKaW"
   },
   "source": [
    "**Skala Pengukuran Interval**\n",
    "\n",
    "* Berasosiasi dengan tipe data kuantitatif\n",
    "* Data dapat dikelompokkan\n",
    "* Data dapat disusun berdasarkan urutan, peringkat, atau ranking\n",
    "* Dapat dikenakan operasi matematika untuk menghitung selisih nilai\n",
    "* Nilai numerik merepresentasikan posisi pada suatu skala ukur tertentu\n",
    "* Tidak memiliki nilai nol yang absolut (no inherent zero)\n",
    "* Tidak dapat dikenakan operasi matematika terkait perkalian\n",
    "\n",
    "Contoh: \n",
    "* temperatur udara 32 derajad celsius\n",
    "* tahun 2020\n"
   ]
  },
  {
   "cell_type": "markdown",
   "metadata": {
    "id": "EBiXJxCnMgvr"
   },
   "source": [
    "---------"
   ]
  },
  {
   "cell_type": "markdown",
   "metadata": {
    "id": "WezCMkznJSPn"
   },
   "source": [
    "| Type of Variabel  | Best measure of central tendency |\n",
    "|:-----------------:|:--------------------------------|\n",
    "| Nominal | Mode | \n",
    "| Ordinal | Median |\n",
    "| Interval / Ratio (not skewed) | Mean |\n",
    "| Internal / Ratio (skewed) | Median  |"
   ]
  },
  {
   "cell_type": "markdown",
   "metadata": {
    "id": "rXDrAkteZwRc"
   },
   "source": [
    "## Mean\n",
    "\n",
    "**Kelebihan**\n",
    "* Rata-rata lebih populer dan lebih mudah digunakan.\n",
    "* Dalam satu set data, rata-rata selalu ada dan hanya ada satu rata-rata.\n",
    "* Dalam penghitungannya selalu mempertimbangkan semua nilai data.\n",
    "* Tidak peka terhadap penambahan jumlah data.\n",
    "* Variasinya paling stabil.\n",
    "* Cocok digunakan untuk data yang homogen.\n",
    "\n",
    "**Kelemahan**\n",
    "* Sangat peka terhadap data ekstrim. Jika data ekstrimnya banyak, rata-rata menjadi kurang mewakili (representatif).\n",
    "* Tidak dapat digunakan untuk data kualitatif.\n",
    "* Tidak cocok untuk data heterogen.\n",
    "\n",
    "\n",
    "\n",
    "## Median\n",
    "\n",
    "**Kelebihan**\n",
    "* Tidak dipengaruhi oleh data ekstrim.\n",
    "* Dapat digunakan untuk data kualitatif maupun kuantitatif.\n",
    "* Cocok untuk data heterogen.\n",
    "\n",
    "**Kelemahan**\n",
    "* Tidak mempertimbangkan semua nilai data.\n",
    "* Kurang menggambarkan rata-rata populasi.\n",
    "* Peka terhadap penambahan jumlah data.\n",
    "\n",
    "\n",
    "\n",
    "## Modus\n",
    "\n",
    "**Kelebihan**\n",
    "* Tidak dipengaruhi oleh data ekstrim.\n",
    "* Cocok digunakan untuk data kuantitatif maupun kualitatif.\n",
    "\n",
    "**Kelemahan**\n",
    "* Modus tidak selalu ada dalam satu set data.\n",
    "* Kadang dalam satu set data terdapat dua atau lebih modus. Jika hal itu terjadi modus menjadi sulit digunakan.\n",
    "* Kurang mempertimbangkan semua nilai.\n",
    "* Peka terhadap penambahan jumlah data."
   ]
  },
  {
   "cell_type": "markdown",
   "metadata": {
    "id": "uOYkw1o6RNh6"
   },
   "source": [
    "## Pertanyaan level Data menggunakan Dataset titanic\n",
    "\n",
    "Menganalisa Data titatinc \n"
   ]
  },
  {
   "cell_type": "markdown",
   "metadata": {
    "id": "StrLF5UzRNBk"
   },
   "source": [
    "\n",
    "\n",
    "| “Feature in the dataset” | What it represent | Level of Data | \n",
    "|:---------|:----------|:-----------|\n",
    "|PassengerId |“Identity number of passenger” | Nominal | \n",
    "|Pclass|“Passenger class (1:1st class; 2: 2nd class; 3: 3rd class), passenger class is used as a measure of the socioeconomic status of the passenger” | Ordinal | \n",
    "| Survived |  “Survival status (0:Not survived; 1:Survived)” | Nominal | \n",
    "| Name |  Name | Nominal | \n",
    "| Sibsp | “Number of siblings/spouses aboard | Ratio | \n",
    "|Ticket | Ticket Number | Nominal | \n",
    "| Cabin | Cabin Number | Nominal | \n",
    "| Sex | Gender pesenger | Nominal | \n",
    "| Age | Age | Ratio | \n",
    "|Parch | Number of Parent/ Childer board | Ratio | \n",
    "| Fare | Passenger fare (Britsh pound)  | Ratio | \n",
    "| Embarked | Port of embarkation (with c being Cherbourg , Q : Quenstown , S : Southampton | Nominal | \n",
    "\n",
    "\n"
   ]
  },
  {
   "cell_type": "markdown",
   "metadata": {
    "id": "_3fn5gxPRMs2"
   },
   "source": [
    "## Q/A "
   ]
  },
  {
   "cell_type": "markdown",
   "metadata": {
    "id": "hXRsc85VKTl6"
   },
   "source": [
    "\n",
    "\n",
    "**Apa yang paling baik dalam mengukur pusat data?** \n",
    "\n",
    "*Tidak ada yang paling baik antara mean, median dan modus dalam mengukur pemusatan data. Hal ini disebakan karena metode pengukuran yang digunakan akan bergantung jenis data yang kita miliki seperti: apakah data yang kita miliki berupa data nominal atau kontinyu ,apakah pada data kita terdapat outlier atau tidak, apakah data kita berdistribusi normal atau memiliki kemencengan (skewed), serta apa yang hendak kita tampilkan dari data kita.*\n",
    "\n",
    "**Pada strongly skewed data, indicator apa yang dapat digunakan untuk mengukur pemusatan data?**\n",
    "\n",
    "*Pada kondisi tersebut indikator terbaik untuk menunjukkan ukuran pemusatan data adalah median atau modus, dimana median biasanya lebih disukai.*"
   ]
  },
  {
   "cell_type": "markdown",
   "metadata": {
    "id": "uOiDbPyxKkYK"
   },
   "source": [
    " **Apakah setiap data memiliki median,modus, dan mean?**\n",
    "\n",
    "*Bisa ya bisa tidak. Setiap data kontinyu memiliki median,modus, dan mean. untuk data ordinal memiliki median dan modus. untuk data nominal hanya memiliki modus. Sampai saat ini tidak ada kesepakatan apakah mean dapat digunakan pada data ordinal.*\n",
    "\n",
    "**Kapan nilai mean dapat digunakan dengan sangat baik dalam mengukur pemusatan data?**\n",
    "\n",
    "*Nilai mean sangat baik digunakan saat distribusi data kita simetris atau berdistribusi normal. Selain itu nilai rata-rata digunakan jika jenis data kita adalah interval dan rasio.*\n"
   ]
  },
  {
   "cell_type": "markdown",
   "metadata": {
    "id": "pafjR5wUKIk4"
   },
   "source": [
    "\n",
    "\n",
    "**Kapan nilai modus dapat digunakan dengan sangat baik dalam mengukur pemusatan data?**\n",
    "\n",
    "*Modus sangat baiik untuk mengukur ukuran pemusatan data jika data kita merupakan data nominal. Selain itu modus juga dapat digunakan jika distribusi dari data kita berdistribusi normal.*\n",
    "\n",
    "**Kapan nilai median dapat digunakan dengan sangat baik dalam mengukur pemusatan data?**\n",
    "\n",
    "*Median sangat baik digunakan jika data kita miring (skewed) atau ketika data kita adalah ordinal.*\n",
    "\n",
    "\n"
   ]
  },
  {
   "cell_type": "markdown",
   "metadata": {
    "id": "S_8YJQIbKLJL"
   },
   "source": [
    "\n",
    "**Indikator apakah yang digunakan untuk mengukur pemusatan data jika data kita memiliki outlier?**\n",
    "\n",
    "*Median bisanya digunakan dalam kondisi ini. Nilai mean cenderung akan dihindari karena nilai mean cenderung sensitive terhadap adanya outlier.*\n",
    "\n",
    "**Jika data kita berdistribusi normal, indicator apakah yang dapat digunakan untuk mengukur pemusatan data?**\n",
    "\n",
    "*Pada kondisi tersebut seluruh indikator pemusatan data dapat digunakan sama baiknya.*"
   ]
  },
  {
   "cell_type": "markdown",
   "metadata": {
    "id": "y4RMgBi2a9Zr"
   },
   "source": [
    "* Box plots: Ordinal, ratio, interval\n",
    "* Histograms: Ratio, interval\n",
    "* Pie charts: Nominal, ordinal\n",
    "* Scatter plots: Ratio, interval\n",
    "* Stacked bar charts: Nominal, ordinal”\n"
   ]
  },
  {
   "cell_type": "code",
   "execution_count": null,
   "metadata": {
    "id": "SoryPN47a9Hc"
   },
   "outputs": [],
   "source": []
  },
  {
   "cell_type": "markdown",
   "metadata": {
    "id": "UJ-9uLXsdLbh"
   },
   "source": [
    "# Pertanyaan "
   ]
  },
  {
   "cell_type": "markdown",
   "metadata": {
    "id": "U04scwdib9Wo"
   },
   "source": [
    "Klasifikasikan variabel-variabel berikut berdasarkan jenis datanya.\n",
    "\n",
    "* pH scale\n",
    "* Language proficiency\n",
    "* Likert Scale (used in surveys)\n",
    "* Work experience\n",
    "* Time of the day\n",
    "* Social security number\n",
    "* Distance\n",
    "* Year of birth\n"
   ]
  },
  {
   "cell_type": "markdown",
   "metadata": {
    "id": "mnhd-9mvdGrA"
   },
   "source": [
    "## Jawaban"
   ]
  },
  {
   "cell_type": "markdown",
   "metadata": {
    "id": "71ARf82ebc8W"
   },
   "source": [
    "* pH scale: Interval\n",
    "\n",
    "The pH scale does not have an absolute zero point. While the values can be compared, we cannot calculate ratios.\n",
    "\n",
    "* Language proficiency: Ordinal \n",
    "  \n",
    "  Proficiency in a language has various levels like “beginner”, “intermediate”, and “advanced” that are ordered, and hence come under the ordinal scale.\n",
    "\n",
    "* Likert Scale (used in surveys): Ordinal.\n",
    "\n",
    "  The Likert Scale is often used in surveys, with values like “not satisfied”, “satisfied”, and “very satisfied”. These values form a logical order, and therefore any variable representing the Likert Scale is an ordinal variable.\n",
    "\n",
    "* Work experience: Ratio\n",
    "  \n",
    "  As there is an absolute zero for this variable and one can perform arithmetic operations, including calculation of ratios, this variable is a ratio variable.\n",
    "\n",
    "* Time of the day: Interval\n",
    "  \n",
    "  Time (on a 12-hour scale) does not have an absolute zero point. We can calculate the difference between two points of time, but cannot calculate ratios.\n",
    "\n",
    "* Social security number: Nominal\n",
    "  \n",
    "  Values for identifiers like social security numbers are not ordered and do not lend themselves to mathematical operations.\n",
    "\n",
    "* Distance: Ratio\n",
    "\n",
    "  With a reference point as 0 and values that can be added, subtracted, multiplied, and divided, distance is a ratio variable.\n",
    "\n",
    "* Year of birth: Interval\n",
    "  \n",
    "  There is no absolute zero point for such a variable. You can calculate the difference between two years, but we cannot find out ratios.”\n"
   ]
  },
  {
   "cell_type": "markdown",
   "metadata": {
    "id": "jLBBxbIweC1F"
   },
   "source": [
    "Visualisasi : \n",
    "\n",
    "\n",
    "\n",
    "Cluster Bar Chart \n",
    "\n",
    "Sex , Survived dan die  berdasarkan jumlah \n",
    "\n",
    "Scatter Plot : \n",
    "\n",
    "Relation beetwen Variabel \n",
    "\n",
    "\n",
    "\n",
    "Box Plot \n",
    "\n",
    "Age & Survived \n",
    "\n",
    "\n",
    "Histogram \n",
    "\n",
    "Age & Fare \n",
    "\n",
    "\n",
    "\n",
    "Pie : \n",
    "Passeger Class \n",
    "\n",
    "\n",
    "Bar \n",
    "\n",
    "Pria dan Wanita \n",
    "\n",
    "Age & Fare \n"
   ]
  }
 ],
 "metadata": {
  "colab": {
   "collapsed_sections": [],
   "name": "09-P4DS-Descriptive-Statistics.ipynb",
   "provenance": [],
   "toc_visible": true
  },
  "kernelspec": {
   "display_name": "Python 3",
   "language": "python",
   "name": "python3"
  },
  "language_info": {
   "codemirror_mode": {
    "name": "ipython",
    "version": 3
   },
   "file_extension": ".py",
   "mimetype": "text/x-python",
   "name": "python",
   "nbconvert_exporter": "python",
   "pygments_lexer": "ipython3",
   "version": "3.7.4"
  }
 },
 "nbformat": 4,
 "nbformat_minor": 1
}
