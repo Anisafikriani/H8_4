{
 "cells": [
  {
   "cell_type": "markdown",
   "metadata": {},
   "source": [
    "# Function\n",
    "Function adalah blok kode yang terorganisir dan dapat digunakan kembai (reuse code)"
   ]
  },
  {
   "cell_type": "markdown",
   "metadata": {},
   "source": [
    "## Penerapan function"
   ]
  },
  {
   "cell_type": "markdown",
   "metadata": {},
   "source": [
    "### Penerapan Function pada luas persegi"
   ]
  },
  {
   "cell_type": "code",
   "execution_count": 3,
   "metadata": {},
   "outputs": [],
   "source": [
    "# function luas \n",
    "# p = panjang \n",
    "# l = lebar \n",
    "# luas = p x l \n",
    "def func_luas(p,l): \n",
    "    \"function untuk menghitung luas\"\n",
    "    print(p*l)\n",
    "               # return None "
   ]
  },
  {
   "cell_type": "code",
   "execution_count": 4,
   "metadata": {},
   "outputs": [
    {
     "name": "stdout",
     "output_type": "stream",
     "text": [
      "100\n"
     ]
    }
   ],
   "source": [
    "func_luas(20,5)"
   ]
  },
  {
   "cell_type": "code",
   "execution_count": 5,
   "metadata": {},
   "outputs": [
    {
     "name": "stdout",
     "output_type": "stream",
     "text": [
      "100\n",
      "None\n"
     ]
    }
   ],
   "source": [
    "print(func_luas(20,5)) ## menampilkan return dari function "
   ]
  },
  {
   "cell_type": "code",
   "execution_count": 6,
   "metadata": {},
   "outputs": [],
   "source": [
    "def func_luas2(p,l): \n",
    "    \"function untuk menghitung luas\"\n",
    "    return p*l    # return value"
   ]
  },
  {
   "cell_type": "code",
   "execution_count": 7,
   "metadata": {},
   "outputs": [
    {
     "name": "stdout",
     "output_type": "stream",
     "text": [
      "Luas : 120\n"
     ]
    }
   ],
   "source": [
    "luas = func_luas2(30,4)\n",
    "print(\"Luas :\",luas)"
   ]
  },
  {
   "cell_type": "code",
   "execution_count": 8,
   "metadata": {},
   "outputs": [],
   "source": [
    "def printme( str ):\n",
    "   \"This prints a passed string into this function\"\n",
    "   print(str)\n",
    "   return"
   ]
  },
  {
   "cell_type": "code",
   "execution_count": 9,
   "metadata": {},
   "outputs": [
    {
     "name": "stdout",
     "output_type": "stream",
     "text": [
      "iketutg\n",
      "None\n"
     ]
    }
   ],
   "source": [
    "hasil = printme(\"iketutg\")\n",
    "print(hasil)"
   ]
  },
  {
   "cell_type": "markdown",
   "metadata": {},
   "source": [
    "### Penerapan function pada pengecekan nilai ganjil atau genap"
   ]
  },
  {
   "cell_type": "code",
   "execution_count": 10,
   "metadata": {},
   "outputs": [
    {
     "name": "stdout",
     "output_type": "stream",
     "text": [
      "Bilangan Ganjil\n",
      "None\n"
     ]
    }
   ],
   "source": [
    "def cekbilangan(x):\n",
    "    if x % 2:\n",
    "        print(\"Bilangan Ganjil\") \n",
    "    else : \n",
    "        print(\"Bilangan Genap\")\n",
    "    return \n",
    "\n",
    "print(cekbilangan(11))"
   ]
  },
  {
   "cell_type": "code",
   "execution_count": 11,
   "metadata": {},
   "outputs": [
    {
     "name": "stdout",
     "output_type": "stream",
     "text": [
      "Bilangan Genap\n",
      "None\n"
     ]
    }
   ],
   "source": [
    "def cekbilangan(x):\n",
    "    if x % 2:\n",
    "        print(\"Bilangan Ganjil\") \n",
    "    else : \n",
    "        print(\"Bilangan Genap\")\n",
    "    return \n",
    "\n",
    "print(cekbilangan(12))"
   ]
  },
  {
   "cell_type": "markdown",
   "metadata": {},
   "source": [
    "## Calling a Function"
   ]
  },
  {
   "cell_type": "code",
   "execution_count": 12,
   "metadata": {},
   "outputs": [
    {
     "name": "stdout",
     "output_type": "stream",
     "text": [
      "I'm first call to user defined function!\n",
      "Again second call to the same function\n"
     ]
    }
   ],
   "source": [
    "# Function definition is here\n",
    "def printme( str ):\n",
    "   \"This prints a passed string into this function\"\n",
    "   print(str)\n",
    "   return;\n",
    "\n",
    "# Now you can call printme function\n",
    "printme(\"I'm first call to user defined function!\")\n",
    "printme(\"Again second call to the same function\")"
   ]
  },
  {
   "cell_type": "markdown",
   "metadata": {},
   "source": [
    "## Function Arguments"
   ]
  },
  {
   "cell_type": "code",
   "execution_count": 13,
   "metadata": {},
   "outputs": [
    {
     "name": "stdout",
     "output_type": "stream",
     "text": [
      "hello\n"
     ]
    }
   ],
   "source": [
    "# Function definition is here\n",
    "def printme( str ):\n",
    "   \"This prints a passed string into this function\"\n",
    "   print(str)\n",
    "   return;\n",
    "\n",
    "# Now you can call printme function\n",
    "printme(\"hello\") # rubah parameter "
   ]
  },
  {
   "cell_type": "code",
   "execution_count": 14,
   "metadata": {},
   "outputs": [
    {
     "name": "stdout",
     "output_type": "stream",
     "text": [
      "Jack is a developer\n",
      "developer is a Jack\n"
     ]
    }
   ],
   "source": [
    "def func(name, job):\n",
    "    print(name, 'is a', job)\n",
    "\n",
    "func('Jack', 'developer')\n",
    "# Prints Jack is a developer\n",
    "\n",
    "func('developer', 'Jack')"
   ]
  },
  {
   "cell_type": "code",
   "execution_count": 15,
   "metadata": {},
   "outputs": [
    {
     "name": "stdout",
     "output_type": "stream",
     "text": [
      "Hacktiv8\n"
     ]
    }
   ],
   "source": [
    "# Function definition is here\n",
    "def printme( str ):\n",
    "    \"This prints a passed string into this function\"\n",
    "    print(str)\n",
    "    return;\n",
    "\n",
    "# Now you can call printme function\n",
    "printme(str = \"Hacktiv8\")"
   ]
  },
  {
   "cell_type": "code",
   "execution_count": 16,
   "metadata": {},
   "outputs": [
    {
     "name": "stdout",
     "output_type": "stream",
     "text": [
      "Jack is a developer\n"
     ]
    }
   ],
   "source": [
    "# Keyword arguments can be put in any order\n",
    "def func(name, job):\n",
    "    print(name, 'is a', job)\n",
    "\n",
    "func(name='Jack', job='developer') # ?\n"
   ]
  },
  {
   "cell_type": "code",
   "execution_count": 17,
   "metadata": {},
   "outputs": [
    {
     "name": "stdout",
     "output_type": "stream",
     "text": [
      "Jack is a developer\n"
     ]
    }
   ],
   "source": [
    "func(job='developer', name='Jack') # ? "
   ]
  },
  {
   "cell_type": "code",
   "execution_count": 18,
   "metadata": {},
   "outputs": [
    {
     "name": "stdout",
     "output_type": "stream",
     "text": [
      " Nama : Ketut\n",
      " Amt  : 10\n",
      " Disc : 90.5\n"
     ]
    }
   ],
   "source": [
    "def printme(nama , intamt , fldisc):\n",
    "    \"This prints a passed string,int, float into this function\"\n",
    "    print(\" Nama :\",nama)\n",
    "    print(\" Amt  :\", intamt ) \n",
    "    print(\" Disc :\",fldisc)\n",
    "    return\n",
    "\n",
    "printme(intamt = 10 , fldisc = 90.5 , nama = \"Ketut\" )"
   ]
  },
  {
   "cell_type": "markdown",
   "metadata": {},
   "source": [
    "## Nested Functions"
   ]
  },
  {
   "cell_type": "code",
   "execution_count": 19,
   "metadata": {},
   "outputs": [
    {
     "name": "stdout",
     "output_type": "stream",
     "text": [
      "6\n"
     ]
    }
   ],
   "source": [
    "def outer(a, b):\n",
    "    def inner(c, d):\n",
    "        return c + d\n",
    "    return inner(a, b)\n",
    "\n",
    "result = outer(2, 4)\n",
    "\n",
    "print(result)"
   ]
  },
  {
   "cell_type": "code",
   "execution_count": 20,
   "metadata": {},
   "outputs": [],
   "source": [
    "def countdown(num):  \n",
    "    newnum = 0            # 3                # 2                        # 1  \n",
    "    if num <= 1: \n",
    "        print('Stop')\n",
    "        newnum = num \n",
    "        #print(newvar)\n",
    "        return newnum\n",
    "    else:\n",
    "        print(num)           # print 3             # 2                     # 1 \n",
    "        newnum = countdown(num-1)\n",
    "    \n",
    "    return newnum  #  num = 3-1 = 2      # num =  2 -1  = 1        num 1          0"
   ]
  },
  {
   "cell_type": "code",
   "execution_count": 21,
   "metadata": {},
   "outputs": [
    {
     "name": "stdout",
     "output_type": "stream",
     "text": [
      "4\n",
      "3\n",
      "2\n",
      "Stop\n",
      "1\n"
     ]
    }
   ],
   "source": [
    "hasilakhir = countdown(4)\n",
    "print(hasilakhir)"
   ]
  },
  {
   "cell_type": "markdown",
   "metadata": {},
   "source": [
    "## Latihan membuat CRUD "
   ]
  },
  {
   "cell_type": "code",
   "execution_count": 22,
   "metadata": {},
   "outputs": [],
   "source": [
    "# Variabel global untuk menyimpan data Buku\n",
    "buku = []\n",
    "\n",
    "# fungsi untuk menampilkan semua data\n",
    "def show_data():\n",
    "    if len(buku) <= 0:\n",
    "        print (\"BELUM ADA DATA\")\n",
    "    else:\n",
    "        for indeks in range(len(buku)):\n",
    "            print (\"[%d] %s\" % (indeks, buku[indeks]))\n",
    "\n",
    "\n",
    "# fungsi untuk menambah data\n",
    "def insert_data():\n",
    "    buku_baru = input(\"Judul Buku: \")\n",
    "    buku.append(buku_baru)\n",
    "\n",
    "# fungsi untuk edit data\n",
    "def edit_data():\n",
    "    show_data()\n",
    "    indeks = input(\"Inputkan ID buku: \")\n",
    "    if(int(indeks) > len(buku)):\n",
    "        print(\"ID salah\")\n",
    "    else:\n",
    "        judul_baru = input(\"Judul baru: \")\n",
    "        buku[int(indeks)] = judul_baru\n",
    "\n",
    "# fungsi untuk menhapus data\n",
    "def delete_data():\n",
    "    show_data()\n",
    "    indeks = input(\"Inputkan ID buku: \")\n",
    "    if(int(indeks) > len(buku)):\n",
    "        print (\"ID salah\")\n",
    "    else:\n",
    "        buku.remove(buku[int(indeks)])\n",
    "\n",
    "# fungsi untuk menampilkan menu\n",
    "def show_menu():\n",
    "    print (\"\\n\")\n",
    "    print (\"----------- MENU ----------\")\n",
    "    print (\"[1] Show Data\")\n",
    "    print (\"[2] Insert Data\")\n",
    "    print (\"[3] Edit Data\")\n",
    "    print (\"[4] Delete Data\")\n",
    "    print (\"[5] Exit\")\n",
    "    \n",
    "    menu =input(\"PILIH MENU> \")\n",
    "    print (\"\\n\")\n",
    "\n",
    "    if int(menu) == 1:\n",
    "        show_data()\n",
    "    elif int(menu) == 2:\n",
    "        insert_data()\n",
    "    elif int(menu) == 3:\n",
    "        edit_data()\n",
    "    elif int(menu) == 4:\n",
    "        delete_data()\n",
    "    elif int(menu) == 5:\n",
    "        exit()\n",
    "    else:\n",
    "        print (\"Salah pilih!\")"
   ]
  },
  {
   "cell_type": "code",
   "execution_count": null,
   "metadata": {},
   "outputs": [
    {
     "name": "stdout",
     "output_type": "stream",
     "text": [
      "\n",
      "\n",
      "----------- MENU ----------\n",
      "[1] Show Data\n",
      "[2] Insert Data\n",
      "[3] Edit Data\n",
      "[4] Delete Data\n",
      "[5] Exit\n",
      "PILIH MENU> 4\n",
      "\n",
      "\n",
      "BELUM ADA DATA\n"
     ]
    }
   ],
   "source": [
    "show_menu()"
   ]
  },
  {
   "cell_type": "code",
   "execution_count": null,
   "metadata": {},
   "outputs": [],
   "source": [
    "def formatrupiah(uang):\n",
    "    y = str(uang)\n",
    "    if len(y) <= 3 :\n",
    "        return 'Rp ' + y     ## Rp. 100\n",
    "    else :\n",
    "        p = y[-3:]\n",
    "        q = y[:-3]\n",
    "        return   formatrupiah(q) + '.' + p\n",
    "        print ('Rp ' +  formatrupiah(q) + '.' + p)"
   ]
  },
  {
   "cell_type": "code",
   "execution_count": null,
   "metadata": {},
   "outputs": [],
   "source": [
    "formatrupiah(100000)"
   ]
  },
  {
   "cell_type": "code",
   "execution_count": null,
   "metadata": {},
   "outputs": [],
   "source": [
    "formatrupiah(100000)"
   ]
  },
  {
   "cell_type": "markdown",
   "metadata": {},
   "source": [
    "#### Buatlah suatu fungsi numerik / angka menjadi huruf  \n",
    "\n",
    "contoh :\n",
    "pada saat di input 1000 \n",
    "maka akan mencetak :  **\"seribu\"** \n",
    "\n",
    "Input angka ? 100000 \n",
    "maka akan mencetak :  **\"seratus ribu\"** \n",
    "\n",
    "    Gunakan Function Recursion \n",
    "    Gunakan Operator Pembagi untuk mendapatkan bilang pertama ( Contoh 87 :  87 / 10 = 8 ) \n",
    "    Dan gunakan Operator Modulus untuk mendapatkan bilang akhir  ( Contoh  87  :  87 % 10 = 7 ) "
   ]
  },
  {
   "cell_type": "code",
   "execution_count": null,
   "metadata": {},
   "outputs": [],
   "source": [
    "def Terbilang(bil):\n",
    "    angka = [\"\",\"Satu\",\"Dua\",\"Tiga\",\"Empat\",\"Lima\",\"Enam\",\n",
    "             \"Tujuh\",\"Delapan\",\"Sembilan\",\"Sepuluh\",\"Sebelas\"]\n",
    "    Hasil = \" \"\n",
    "    n = int(bil)\n",
    "    if n>= 0 and n <= 11:\n",
    "        Hasil = angka[n]\n",
    "    elif n <20:\n",
    "        Hasil = Terbilang (n-10) + \" Belas \"\n",
    "    elif n <100:\n",
    "        Hasil = Terbilang (n/10) + \" Puluh \" + Terbilang (n%10)\n",
    "    elif n <200:\n",
    "        Hasil = \" Seratus \" + Terbilang (n-100)\n",
    "    elif n <1000:\n",
    "        Hasil = Terbilang (n/100) + \" Ratus \" + Terbilang (n%100)\n",
    "    elif n <2000:\n",
    "        Hasil = \" Seribu \" + Terbilang (n-1000)\n",
    "    elif n <1000000:\n",
    "        Hasil = Terbilang (n/1000) + \" Ribu \" + Terbilang (n%1000)\n",
    "    elif n <1000000000:\n",
    "        Hasil = Terbilang (n/1000000) + \" Juta \" + Terbilang (n%1000000)\n",
    "    elif n <1000000000000:\n",
    "        Hasil = Terbilang (n/1000000000) + \" Milyar \" + Terbilang (n%1000000000)\n",
    "    elif n <1000000000000000:\n",
    "        Hasil = Terbilang (n/1000000000000) + \" Triliyun \" + Terbilang (n%1000000000000)\n",
    "    else:\n",
    "        Hasil = \"Angka Hanya sama Triliyun\"\n",
    "\n",
    "    return Hasil\n",
    "\n",
    "\n",
    "\n",
    "huruf = Terbilang(\"87\")\n",
    "print(f\"Terbilang : {huruf}\")"
   ]
  },
  {
   "cell_type": "markdown",
   "metadata": {},
   "source": [
    "# Python Modules"
   ]
  },
  {
   "cell_type": "code",
   "execution_count": null,
   "metadata": {},
   "outputs": [],
   "source": [
    "# mod.py \n",
    "s = \"Hacktiv8-PTP Python For Data Science\"\n",
    "a = [100, 200, 300]\n",
    "\n",
    "def foo(arg):\n",
    "    print(f'arg = {arg}')\n",
    "\n",
    "class Foo:\n",
    "    pass"
   ]
  },
  {
   "cell_type": "code",
   "execution_count": null,
   "metadata": {},
   "outputs": [],
   "source": [
    ">>> import mod\n",
    ">>> print(mod.s)\n",
    "Hacktiv8-PTP Python For Data Science\n",
    ">>> mod.a\n",
    "[100, 200, 300]\n",
    ">>> mod.foo(['quux', 'corge', 'grault'])\n",
    "arg = ['quux', 'corge', 'grault']\n",
    ">>> x = mod.Foo()\n",
    ">>> x\n",
    "<mod.Foo object at 0x03C181F0>"
   ]
  },
  {
   "cell_type": "markdown",
   "metadata": {},
   "source": [
    "## Reloading a Module"
   ]
  },
  {
   "cell_type": "code",
   "execution_count": null,
   "metadata": {},
   "outputs": [],
   "source": [
    "a = [100, 200, 300]\n",
    "print('a =', a)"
   ]
  },
  {
   "cell_type": "markdown",
   "metadata": {},
   "source": [
    "# Packages\n",
    "ackages memungkinkan penataan hierarki nama modul menggunakan notasi titik. Dengan cara yang sama seperti modul membantu menghindari tabrakan antara nama variabel global, packages membantu menghindari tabrakan antara nama modul"
   ]
  },
  {
   "cell_type": "code",
   "execution_count": null,
   "metadata": {},
   "outputs": [],
   "source": [
    "# mod1.py\n",
    "\n",
    "def foo():\n",
    "    print('[mod1] foo()')\n",
    "\n",
    "class Foo:\n",
    "    pass"
   ]
  },
  {
   "cell_type": "code",
   "execution_count": null,
   "metadata": {},
   "outputs": [],
   "source": [
    "# mod2.py \n",
    "\n",
    "def bar():\n",
    "    print('[mod2] bar()')\n",
    "\n",
    "class Bar:\n",
    "    pass"
   ]
  },
  {
   "cell_type": "code",
   "execution_count": null,
   "metadata": {},
   "outputs": [],
   "source": []
  }
 ],
 "metadata": {
  "kernelspec": {
   "display_name": "Python 3",
   "language": "python",
   "name": "python3"
  },
  "language_info": {
   "codemirror_mode": {
    "name": "ipython",
    "version": 3
   },
   "file_extension": ".py",
   "mimetype": "text/x-python",
   "name": "python",
   "nbconvert_exporter": "python",
   "pygments_lexer": "ipython3",
   "version": "3.7.4"
  }
 },
 "nbformat": 4,
 "nbformat_minor": 2
}
