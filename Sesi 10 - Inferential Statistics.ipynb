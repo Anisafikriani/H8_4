{
 "cells": [
  {
   "cell_type": "markdown",
   "metadata": {
    "id": "6sRTp11OHolc"
   },
   "source": [
    "## Probability "
   ]
  },
  {
   "cell_type": "code",
   "execution_count": 1,
   "metadata": {
    "id": "xUg57JPsRb0b"
   },
   "outputs": [],
   "source": [
    "# for inline plots in jupyter\n",
    "%matplotlib inline\n",
    "# import matplotlib\n",
    "import matplotlib.pyplot as plt\n",
    "# for latex equations\n",
    "from IPython.display import Math, Latex\n",
    "# for displaying images\n",
    "from IPython.core.display import Image"
   ]
  },
  {
   "cell_type": "code",
   "execution_count": 2,
   "metadata": {
    "id": "wWVJkkCoPNfV"
   },
   "outputs": [],
   "source": [
    "# import seaborn\n",
    "import seaborn as sns\n",
    "# settings for seaborn plotting style\n",
    "sns.set(color_codes=True)\n",
    "# settings for seaborn plot sizes\n",
    "sns.set(rc={'figure.figsize':(5,5)})\n",
    "\n",
    "# settings for seaborn plot sizes\n",
    "#sns.set(rc={'figure.figsize':(4.5,3)})"
   ]
  },
  {
   "cell_type": "markdown",
   "metadata": {
    "id": "YFd4zH94PVVQ"
   },
   "source": [
    "## Uniform Distribution\n",
    "\n",
    "\n",
    "adalah bentuk distribusi probabilitas di mana suatu peristiwa memiliki kemungkinan yang sama untuk terjadi dalam interval tertentu. \n",
    "\n",
    "\n"
   ]
  },
  {
   "cell_type": "code",
   "execution_count": null,
   "metadata": {
    "colab": {
     "base_uri": "https://localhost:8080/"
    },
    "id": "JcfxM5nvaE28",
    "outputId": "35dab03d-9848-4b18-fec6-faa462f94572"
   },
   "outputs": [],
   "source": []
  },
  {
   "cell_type": "code",
   "execution_count": 3,
   "metadata": {
    "id": "evy5dqVdPhEg"
   },
   "outputs": [],
   "source": [
    "from scipy.stats import uniform"
   ]
  },
  {
   "cell_type": "code",
   "execution_count": 4,
   "metadata": {
    "colab": {
     "base_uri": "https://localhost:8080/"
    },
    "id": "1YYUD4nRPlhJ",
    "outputId": "0b5e416d-72be-4e81-f1e9-86d9b996677a"
   },
   "outputs": [
    {
     "name": "stdout",
     "output_type": "stream",
     "text": [
      "[10.10520863 16.76653754 12.57980839 ... 15.47714522 21.01874256\n",
      " 22.4215056 ]\n"
     ]
    }
   ],
   "source": [
    "# random numbers from uniform distribution\n",
    "# generate 20 number dari 10 s/d 30 \n",
    "n = 10000\n",
    "start = 10\n",
    "width = 20\n",
    "data_uniform = uniform.rvs(size=n, loc = start, scale=width)\n",
    "print(data_uniform)"
   ]
  },
  {
   "cell_type": "markdown",
   "metadata": {
    "id": "Pa5dRPnUPnd3"
   },
   "source": [
    "Kita dapat menggunakan distplot Seaborn untuk memplot histogram distribusi yang baru saja kita buat. Distplot Seaborn menggunakan banyak argumen untuk menyesuaikan plot. Di sini, kita  dapat menentukan jumlah bins di histogram, menentukan warna histogram dan menentukan density plot option dengan opsi kde dan linewidth dengan hist_kws. Kita juga dapat menyetel label untuk sumbu x dan y menggunakan argumen xlabel dan ylabel."
   ]
  },
  {
   "cell_type": "code",
   "execution_count": 5,
   "metadata": {
    "colab": {
     "base_uri": "https://localhost:8080/",
     "height": 411
    },
    "id": "f-VrQjL-Pphh",
    "outputId": "5191c552-c45c-4de1-c54e-921d0f07e9eb"
   },
   "outputs": [
    {
     "data": {
      "text/plain": [
       "[Text(0, 0.5, 'Frequency'), Text(0.5, 0, 'Uniform Distribution ')]"
      ]
     },
     "execution_count": 5,
     "metadata": {},
     "output_type": "execute_result"
    },
    {
     "data": {
      "image/png": "[encoded data removed]",
      "text/plain": [
       "<Figure size 360x360 with 1 Axes>"
      ]
     },
     "metadata": {},
     "output_type": "display_data"
    }
   ],
   "source": [
    "ax = sns.distplot(data_uniform,\n",
    "                  bins=100,\n",
    "                  kde=True,\n",
    "                  color='skyblue',\n",
    "                  hist_kws={\"linewidth\": 15,'alpha':1})\n",
    "ax.set(xlabel='Uniform Distribution ', ylabel='Frequency')"
   ]
  },
  {
   "cell_type": "markdown",
   "metadata": {
    "id": "_D4Ad2t-VICX"
   },
   "source": [
    "Contoh : \n",
    "\n",
    "* menebak ulang tahun \n",
    "* Melempar Dadu \n",
    "* Lempar Coin \n",
    "* Spining Spinner"
   ]
  },
  {
   "cell_type": "markdown",
   "metadata": {
    "id": "eqQZZlhXPy6e"
   },
   "source": [
    "## Normal Distribution\n",
    "\n",
    "Normal Distribution, juga dikenal sebagai Gaussian distribution, ada di mana-mana dalam Data Science. Kita akan menemukannya di banyak tempat terutama dalam topik inferensi statistik.\n",
    "\n",
    "Distribusi normal memiliki kurva kerapatan berbentuk lonceng yang dijelaskan dengan mean μ dan deviasi standarnya σ. Kurva kepadatan simetris, berpusat di sekitar meannya, dengan penyebarannya ditentukan oleh deviasi standarnya yang menunjukkan bahwa data di dekat mean lebih sering terjadi daripada data yang jauh dari mean.\n",
    "\n"
   ]
  },
  {
   "cell_type": "markdown",
   "metadata": {
    "id": "5sg08Xql57rv"
   },
   "source": [
    "Karakteristik Distribusi Normal\n",
    "\n",
    "* Teori distribusi ini memiliki nilai mean, median, dan modus yang sama. \n",
    "* Kurva distribusi selalu bersifat simetris dengan bentuk lonceng (bell curve).\n",
    "* Mean (nilai rata-rata) dan nilai standar deviasi akan menentukan bentuk dan lokasi distribusi.\n",
    "Jumlah luas daerah di bawah kurva normal bernilai 1, yakni ½ di sisi kiri dan ½ di sisi kanan.\n",
    "* Dalam kurva distribusi, dapat disimpulkan jika setengah data populasi akan memiliki nilai yang kurang dari angka rata-rata, sedangkan sebagian lagi memiliki nilai yang lebih besar.\n",
    "* Masing-masing ekor kurva di kedua sisi memanjang tak berbatas. "
   ]
  },
  {
   "cell_type": "markdown",
   "metadata": {
    "id": "gVMFdUqG7bYJ"
   },
   "source": [
    "Penerapan distribusi Gauss dianggap penting : \n",
    "\n",
    "* Dapat meningkatkan objektivitas penilaian.\n",
    "* Dapat menghindari terjadinya bias atau penilaian yang condong pada satu kategori saja. \n",
    "* Dapat membantu menentukan tingkat normalitas dan kecenderungan sentral. \n"
   ]
  },
  {
   "cell_type": "markdown",
   "metadata": {
    "id": "gxrOHdHY1Hcv"
   },
   "source": [
    "Hampir 68% data berada dalam jarak satu standard deviation dari mean di kedua sisi dan 95% dalam dua standard deviation. Juga perlu disebutkan bahwa distribusi dengan mean 0 dan standard deviation 1 disebut standard normal distribution.\n",
    "\n",
    "Kita dapat membuat normally distributed random variable menggunakan scipy.stats module yaitu norm.rvs() . Argumen loc sesuai dengan rata-rata distribusi, scale sesuai dengan standard deviation dan size sesuai dengan jumlah variasi acak."
   ]
  },
  {
   "cell_type": "code",
   "execution_count": 6,
   "metadata": {
    "id": "rYF4ZZS71K7c"
   },
   "outputs": [],
   "source": [
    "from scipy.stats import norm\n",
    "# generate random numbers from N(0,1)\n",
    "data_normal = norm.rvs(size=10000,loc=0,scale=1)"
   ]
  },
  {
   "cell_type": "markdown",
   "metadata": {
    "id": "5fd-d01M1Ngz"
   },
   "source": [
    "Kita dapat memvisualisasikan distribusi seperti yang kita lakukan dengan uniform distribution, menggunakan fungsi distplot seaborn."
   ]
  },
  {
   "cell_type": "code",
   "execution_count": 7,
   "metadata": {
    "colab": {
     "base_uri": "https://localhost:8080/",
     "height": 411
    },
    "id": "kjqPseKC1Pkd",
    "outputId": "95c6b26f-7e1b-41d7-8986-c1e7014ad5e7"
   },
   "outputs": [
    {
     "data": {
      "text/plain": [
       "[Text(0, 0.5, 'Frequency'), Text(0.5, 0, 'Normal Distribution')]"
      ]
     },
     "execution_count": 7,
     "metadata": {},
     "output_type": "execute_result"
    },
    {
     "data": {
      "image/png": "[encoded data removed]",
      "text/plain": [
       "<Figure size 360x360 with 1 Axes>"
      ]
     },
     "metadata": {},
     "output_type": "display_data"
    }
   ],
   "source": [
    "ax = sns.distplot(data_normal,\n",
    "                  bins=100,\n",
    "                  kde=True,\n",
    "                  color='skyblue',\n",
    "                  hist_kws={\"linewidth\": 15,'alpha':1})\n",
    "ax.set(xlabel='Normal Distribution', ylabel='Frequency')"
   ]
  },
  {
   "cell_type": "markdown",
   "metadata": {
    "id": "DCN3w0toe_fS"
   },
   "source": [
    "## Poisson Distribution\n",
    "\n",
    "Poisson random variable biasanya digunakan untuk memodelkan berapa kali suatu peristiwa terjadi dalam interval waktu. Misalnya, jumlah pengguna yang berkunjung di situs web dalam suatu interval dapat dianggap sebagai proses Poisson. Distribusi Poisson dijelaskan dalam tingkat (μ) di mana peristiwa terjadi. Suatu peristiwa dapat terjadi 0, 1, 2,… kali dalam satu interval. Jumlah rata-rata kejadian dalam suatu interval ditentukan λ (lambda). Lambda adalah tingkat peristiwa, juga disebut rate parameter.\n",
    "\n",
    "Kita dapat menghasilkan poisson distributed discrete random variable menggunakan scipy.stats module's poisson.rvs() method."
   ]
  },
  {
   "cell_type": "markdown",
   "metadata": {
    "id": "5rlg83saTYO0"
   },
   "source": [
    "Poisson Distribution merupakan suatu discrete probability distribution yang memenuhi kriteria berikut:\n",
    "- Random variable x merepresentasikan banyaknya kemunculan suatu event dalam interval waktu tertentu.\n",
    "- Nilai probability untuk kemunculan event adalah sama untuk setiap interval.\n",
    "- Jumlah kemunculan event pada suatu interval adalah independent terhadap jumlah kemunculan event pada interval lainnya.\n"
   ]
  },
  {
   "cell_type": "code",
   "execution_count": 8,
   "metadata": {
    "id": "UHgDFZd2fImm"
   },
   "outputs": [],
   "source": [
    "from scipy.stats import poisson\n",
    "data_poisson = poisson.rvs(mu=3, size=10000)"
   ]
  },
  {
   "cell_type": "markdown",
   "metadata": {
    "id": "XDg456LdfKE7"
   },
   "source": [
    "Kita dapat memvisualisasikan distribusi seperti yang kita lakukan dengan uniform distribution, menggunakan fungsi distplot seaborn."
   ]
  },
  {
   "cell_type": "code",
   "execution_count": 9,
   "metadata": {
    "colab": {
     "base_uri": "https://localhost:8080/",
     "height": 411
    },
    "id": "HNtRehfVfRor",
    "outputId": "814b54ae-559f-4332-ad7d-4b99cf9bb4a3"
   },
   "outputs": [
    {
     "data": {
      "text/plain": [
       "[Text(0, 0.5, 'Frequency'), Text(0.5, 0, 'Poisson Distribution')]"
      ]
     },
     "execution_count": 9,
     "metadata": {},
     "output_type": "execute_result"
    },
    {
     "data": {
      "image/png": "[encoded data removed]",
      "text/plain": [
       "<Figure size 360x360 with 1 Axes>"
      ]
     },
     "metadata": {},
     "output_type": "display_data"
    }
   ],
   "source": [
    "ax = sns.distplot(data_poisson,\n",
    "                  bins=30,\n",
    "                  kde=False,\n",
    "                  color='skyblue',\n",
    "                  hist_kws={\"linewidth\": 15,'alpha':1})\n",
    "ax.set(xlabel='Poisson Distribution', ylabel='Frequency')"
   ]
  },
  {
   "cell_type": "markdown",
   "metadata": {
    "id": "sxKRUuvn1Sid"
   },
   "source": [
    "## Gamma Distribution\n",
    "\n",
    "Gamma distribution adalah two-parameter family dari continuous probability distributions. Meskipun jarang digunakan dalam bentuk mentahnya tetapi distribusi lain yang populer digunakan seperti exponential, chi-squared, erlang distributions adalah kasus khusus dari distribusi gamma.\n",
    "\n",
    "Gamma distribution terlihat seperti:"
   ]
  },
  {
   "cell_type": "markdown",
   "metadata": {
    "id": "xA8LqB_c1mqV"
   },
   "source": [
    "Kita dapat membuat gamma distributed random variable menggunakan metode gamma.rvs() modul scipy.stats yang mengambil parameter shape a sebagai argumennya. Ketika a adalah bilangan bulat, gamma tereduksi menjadi distribusi Erlang, dan ketika a = 1 menjadi distribusi eksponensial. Untuk menggeser distribusi, gunakan argumen loc, untuk scale gunakan argumen scale , size menentukan jumlah variasi acak dalam distribusi."
   ]
  },
  {
   "cell_type": "code",
   "execution_count": 10,
   "metadata": {
    "id": "4KjirpQiJVQr"
   },
   "outputs": [],
   "source": [
    "from scipy.stats import gamma\n",
    "gamma.rvs?"
   ]
  },
  {
   "cell_type": "code",
   "execution_count": 11,
   "metadata": {
    "colab": {
     "base_uri": "https://localhost:8080/"
    },
    "id": "X5z9VVvR1ojs",
    "outputId": "9d432126-103f-41a5-8f37-7e3d9d617b98"
   },
   "outputs": [
    {
     "name": "stdout",
     "output_type": "stream",
     "text": [
      "[7.31851668 1.86003606 1.22313374 ... 7.59928926 4.91598163 9.2833564 ]\n"
     ]
    }
   ],
   "source": [
    "from scipy.stats import gamma\n",
    "data_gamma = gamma.rvs(a=5, size=10000)\n",
    "print(data_gamma)"
   ]
  },
  {
   "cell_type": "markdown",
   "metadata": {
    "id": "qPuFAz9K1q9Q"
   },
   "source": [
    "Kita dapat memvisualisasikan distribusi seperti yang kita lakukan dengan uniform distribution, menggunakan fungsi distplot seaborn.\n",
    "\n"
   ]
  },
  {
   "cell_type": "code",
   "execution_count": 12,
   "metadata": {
    "colab": {
     "base_uri": "https://localhost:8080/",
     "height": 411
    },
    "id": "3UeuhcLT1zEz",
    "outputId": "4bf3674c-294f-49b8-b55e-f9f523cfab45"
   },
   "outputs": [
    {
     "data": {
      "text/plain": [
       "[Text(0, 0.5, 'Frequency'), Text(0.5, 0, 'Gamma Distribution')]"
      ]
     },
     "execution_count": 12,
     "metadata": {},
     "output_type": "execute_result"
    },
    {
     "data": {
      "image/png": "[encoded data removed]",
      "text/plain": [
       "<Figure size 360x360 with 1 Axes>"
      ]
     },
     "metadata": {},
     "output_type": "display_data"
    }
   ],
   "source": [
    "ax = sns.distplot(data_gamma,\n",
    "                  kde=True,\n",
    "                  bins=100,\n",
    "                  color='skyblue',\n",
    "                  hist_kws={\"linewidth\": 15,'alpha':1})\n",
    "ax.set(xlabel='Gamma Distribution', ylabel='Frequency')\n"
   ]
  },
  {
   "cell_type": "markdown",
   "metadata": {
    "id": "9yqy1p3RflvV"
   },
   "source": [
    "Kita akan melihat contoh Poison distribution & Gamma Distribution pada contoh FIFA 2018"
   ]
  },
  {
   "cell_type": "markdown",
   "metadata": {
    "id": "r593Pxuw1_zW"
   },
   "source": [
    "## Exponential Distribution\n",
    "\n",
    "Exponential distribution menggambarkan waktu antara peristiwa dalam Poisson point process, yaitu proses di mana peristiwa terjadi terus menerus dan independen pada tingkat rata-rata yang konstan.\n",
    "\n",
    "Distribusi eksponensial yang menurun terlihat seperti ini:"
   ]
  },
  {
   "cell_type": "markdown",
   "metadata": {
    "id": "ZLFIWqdh2EeN"
   },
   "source": [
    "Kita dapat menghasilkan exponentially distributed random variable menggunakan scipy.stats module's expon.rvs()."
   ]
  },
  {
   "cell_type": "code",
   "execution_count": 14,
   "metadata": {
    "id": "v0v6og0Z2GDj"
   },
   "outputs": [],
   "source": [
    "from scipy.stats import expon\n",
    "data_expon = expon.rvs(scale=1,loc=0,size=1000)"
   ]
  },
  {
   "cell_type": "markdown",
   "metadata": {
    "id": "bbvYS5Ol2H8i"
   },
   "source": [
    "Kita dapat memvisualisasikan distribusi seperti yang kita lakukan dengan uniform distribution, menggunakan fungsi distplot seaborn."
   ]
  },
  {
   "cell_type": "code",
   "execution_count": 15,
   "metadata": {
    "colab": {
     "base_uri": "https://localhost:8080/",
     "height": 412
    },
    "id": "U-wKe7Fv2MoD",
    "outputId": "0e8b5a27-7f0a-4bb0-9350-f85540a9047f"
   },
   "outputs": [
    {
     "data": {
      "text/plain": [
       "[Text(0, 0.5, 'Frequency'), Text(0.5, 0, 'Exponential Distribution')]"
      ]
     },
     "execution_count": 15,
     "metadata": {},
     "output_type": "execute_result"
    },
    {
     "data": {
      "image/png": "[encoded data removed]",
      "text/plain": [
       "<Figure size 360x360 with 1 Axes>"
      ]
     },
     "metadata": {},
     "output_type": "display_data"
    }
   ],
   "source": [
    "ax = sns.distplot(data_expon,\n",
    "                  kde=True,\n",
    "                  bins=100,\n",
    "                  color='skyblue',\n",
    "                  hist_kws={\"linewidth\": 15,'alpha':1})\n",
    "ax.set(xlabel='Exponential Distribution', ylabel='Frequency')"
   ]
  },
  {
   "cell_type": "markdown",
   "metadata": {
    "id": "eUQKsnb22hPj"
   },
   "source": [
    "## Binomial Distribution\n",
    "\n",
    "Distribusi di mana hanya dua hasil yang mungkin, seperti sukses atau gagal, untung atau rugi, menang atau kalah dan di mana probabilitas keberhasilan dan kegagalan sama untuk semua percobaan disebut Binomial Distribution. Namun, hasil tidak harus sama kemungkinannya, dan setiap percobaan tidak bergantung satu sama lain. Parameter dari sebuah distribusi binomial adalah n dan p dimana n adalah jumlah total percobaan, dan p adalah probabilitas keberhasilan pada setiap percobaan.\n",
    "\n",
    "Kita dapat menghasilkan binomial distributed discrete random variable dengan manggunakan  scipy.stats module's binom.rvs() method."
   ]
  },
  {
   "cell_type": "markdown",
   "metadata": {
    "id": "IpLuYIZNO81N"
   },
   "source": [
    "Binomial experiment merupakan suatu probability experiment yang memenuhi kriteria berikut:\n",
    "\n",
    "- Memiliki jumlah percobaan (trials) yang tetap dan setiap trial independent terhadap trials lainnya.\n",
    "- Setiap trial hanya memiliki dua kemungkinan outcomes; biasa dikategorikan sebagai success (S) atau failure (F).\n",
    "- Memiliki nilai probability success yang sama untuk tiap trial.\n",
    "- Random variabel x merepresentasikan jumlah kemunculan success dalam suatu experiment."
   ]
  },
  {
   "cell_type": "markdown",
   "metadata": {
    "id": "jK6nU5bDPtmb"
   },
   "source": [
    "- n : Banyaknya trials pada suatu experiment \n",
    "- p : Nilai probability success pada suatu trial\n",
    "- q : Nilai probability failure pada suatu trial\n",
    "   ( q = 1 - p ) \n",
    "- x : Jumlah kemunculan success pada suatu experiment\n",
    "   "
   ]
  },
  {
   "cell_type": "markdown",
   "metadata": {
    "id": "mi8yleGoQCLE"
   },
   "source": [
    "Contoh : \n",
    "\n",
    "Suatu teknik pembibitan ikan arwana memiliki tingkat keberhasilan 90%. Teknik ini lalu diterapkan pada 10 kolam ikan . \n",
    "\n",
    "Nilai random variable merepresentasikan banyaknya empang yang berhasil melakukan pembibitan. \n",
    "\n",
    "Apakah experiment ini bisa dikategorikan sebagai binomial experiment?"
   ]
  },
  {
   "cell_type": "markdown",
   "metadata": {
    "id": "zw7Z_lwMQTQ3"
   },
   "source": [
    "- n = 10 \n",
    "- p = 90% = 0.90 \n",
    "- q = 1 - 0.90 = 0.10 \n",
    "- x = { 1, 2,3,4,5,6,7,8,9,10}"
   ]
  },
  {
   "cell_type": "code",
   "execution_count": 16,
   "metadata": {
    "id": "9krBfIm32u6P"
   },
   "outputs": [],
   "source": [
    "from scipy.stats import binom\n",
    "data_binom = binom.rvs(n=10,p=0.9,size=10000)\n"
   ]
  },
  {
   "cell_type": "markdown",
   "metadata": {
    "id": "hMUknzTI2w-l"
   },
   "source": [
    "Kita dapat memvisualisasikan distribusi seperti yang kita lakukan dengan uniform distribution, menggunakan fungsi distplot seaborn.\n",
    "\n"
   ]
  },
  {
   "cell_type": "code",
   "execution_count": 17,
   "metadata": {
    "colab": {
     "base_uri": "https://localhost:8080/",
     "height": 411
    },
    "id": "NYP0VpSs2ylO",
    "outputId": "93656609-daf4-450a-9bc1-6d6482775742"
   },
   "outputs": [
    {
     "data": {
      "text/plain": [
       "[Text(0, 0.5, 'Frequency'), Text(0.5, 0, 'Binomial Distribution')]"
      ]
     },
     "execution_count": 17,
     "metadata": {},
     "output_type": "execute_result"
    },
    {
     "data": {
      "image/png": "[encoded data removed]",
      "text/plain": [
       "<Figure size 360x360 with 1 Axes>"
      ]
     },
     "metadata": {},
     "output_type": "display_data"
    }
   ],
   "source": [
    "ax = sns.distplot(data_binom,\n",
    "                  kde=False,\n",
    "                  color='skyblue',\n",
    "                  hist_kws={\"linewidth\": 15,'alpha':1})\n",
    "ax.set(xlabel='Binomial Distribution', ylabel='Frequency')\n"
   ]
  },
  {
   "cell_type": "markdown",
   "metadata": {
    "id": "tvYvZPZu23r5"
   },
   "source": [
    "Perhatikan bahwa karena probabilitas success lebih besar dari 0,5 distribusi miring ke arah kanan.\n",
    "\n"
   ]
  },
  {
   "cell_type": "markdown",
   "metadata": {
    "id": "jS62X4qENoN4"
   },
   "source": []
  },
  {
   "cell_type": "markdown",
   "metadata": {
    "id": "kCXxwN5J3DYu"
   },
   "source": [
    "## Bernoulli Distribution\n",
    "\n",
    "Bernoulli distribution hanya memiliki dua kemungkinan hasil, yaitu 1 (berhasil) dan 0 (gagal), dan dalam sekali percobaan, misalnya, lemparan koin. Jadi variabel random X yang berdistribusi Bernoulli dapat mengambil nilai 1 dengan probabilitas berhasil, p, dan bernilai 0 dengan probabilitas gagal, q atau 1 − p. Probabilitas keberhasilan dan kegagalan tidak harus sama besarnya. Bernoulli distribution adalah kasus khusus dari binomial distribution di mana percobaan dilakukan tunggal (n = 1).\n",
    "\n",
    "Kita dapat menghasilkan bernoulli distributed discrete random variable dengan menggunakan scipy.stats module's bernoulli.rvs() method.\n",
    "\n"
   ]
  },
  {
   "cell_type": "code",
   "execution_count": 18,
   "metadata": {
    "id": "mX6jAd-n3JmZ"
   },
   "outputs": [],
   "source": [
    "from scipy.stats import bernoulli\n",
    "data_bern = bernoulli.rvs(size=10000,p=0.6)"
   ]
  },
  {
   "cell_type": "markdown",
   "metadata": {
    "id": "WgRygz6j3LqW"
   },
   "source": [
    "Kita dapat memvisualisasikan distribusi seperti yang kita lakukan dengan uniform distribution, menggunakan fungsi distplot seaborn."
   ]
  },
  {
   "cell_type": "code",
   "execution_count": 19,
   "metadata": {
    "colab": {
     "base_uri": "https://localhost:8080/",
     "height": 411
    },
    "id": "O9cGRyDY3Nah",
    "outputId": "f83389ad-182e-4ecf-c677-6f222da37fdf"
   },
   "outputs": [
    {
     "data": {
      "text/plain": [
       "[Text(0, 0.5, 'Frequency'), Text(0.5, 0, 'Bernoulli Distribution')]"
      ]
     },
     "execution_count": 19,
     "metadata": {},
     "output_type": "execute_result"
    },
    {
     "data": {
      "image/png": "[encoded data removed]",
      "text/plain": [
       "<Figure size 360x360 with 1 Axes>"
      ]
     },
     "metadata": {},
     "output_type": "display_data"
    }
   ],
   "source": [
    "ax= sns.distplot(data_bern,\n",
    "                 kde=False,\n",
    "                 color=\"skyblue\",\n",
    "                 hist_kws={\"linewidth\": 15,'alpha':1})\n",
    "ax.set(xlabel='Bernoulli Distribution', ylabel='Frequency')\n"
   ]
  },
  {
   "cell_type": "markdown",
   "metadata": {
    "id": "Wcs6k45phDK9"
   },
   "source": [
    "# Confidence Intervals"
   ]
  },
  {
   "cell_type": "markdown",
   "metadata": {
    "id": "1wDtA8nm3Wom"
   },
   "source": [
    "\n",
    "\n",
    "\n",
    "\n"
   ]
  },
  {
   "cell_type": "markdown",
   "metadata": {
    "id": "RJ06lVch4BYW"
   },
   "source": [
    "## CI for the population Proportion in Python\n",
    "\n",
    "Kita akan menggunakan dataset Heart dari Kaggle. Pertama, kita mengimpor packages dan dataset:"
   ]
  },
  {
   "cell_type": "code",
   "execution_count": 20,
   "metadata": {
    "colab": {
     "base_uri": "https://localhost:8080/",
     "height": 423
    },
    "id": "bxiD6DTX4Ls-",
    "outputId": "bc8b5d5c-7464-44e5-f8df-64180029f5e3"
   },
   "outputs": [
    {
     "data": {
      "text/html": [
       "<div>\n",
       "<style scoped>\n",
       "    .dataframe tbody tr th:only-of-type {\n",
       "        vertical-align: middle;\n",
       "    }\n",
       "\n",
       "    .dataframe tbody tr th {\n",
       "        vertical-align: top;\n",
       "    }\n",
       "\n",
       "    .dataframe thead th {\n",
       "        text-align: right;\n",
       "    }\n",
       "</style>\n",
       "<table border=\"1\" class=\"dataframe\">\n",
       "  <thead>\n",
       "    <tr style=\"text-align: right;\">\n",
       "      <th></th>\n",
       "      <th>age</th>\n",
       "      <th>sex</th>\n",
       "      <th>cp</th>\n",
       "      <th>trestbps</th>\n",
       "      <th>chol</th>\n",
       "      <th>fbs</th>\n",
       "      <th>restecg</th>\n",
       "      <th>thalach</th>\n",
       "      <th>exang</th>\n",
       "      <th>oldpeak</th>\n",
       "      <th>slope</th>\n",
       "      <th>ca</th>\n",
       "      <th>thal</th>\n",
       "      <th>target</th>\n",
       "    </tr>\n",
       "  </thead>\n",
       "  <tbody>\n",
       "    <tr>\n",
       "      <td>0</td>\n",
       "      <td>52</td>\n",
       "      <td>1</td>\n",
       "      <td>0</td>\n",
       "      <td>125</td>\n",
       "      <td>212</td>\n",
       "      <td>0</td>\n",
       "      <td>1</td>\n",
       "      <td>168</td>\n",
       "      <td>0</td>\n",
       "      <td>1.0</td>\n",
       "      <td>2</td>\n",
       "      <td>2</td>\n",
       "      <td>3</td>\n",
       "      <td>0</td>\n",
       "    </tr>\n",
       "    <tr>\n",
       "      <td>1</td>\n",
       "      <td>53</td>\n",
       "      <td>1</td>\n",
       "      <td>0</td>\n",
       "      <td>140</td>\n",
       "      <td>203</td>\n",
       "      <td>1</td>\n",
       "      <td>0</td>\n",
       "      <td>155</td>\n",
       "      <td>1</td>\n",
       "      <td>3.1</td>\n",
       "      <td>0</td>\n",
       "      <td>0</td>\n",
       "      <td>3</td>\n",
       "      <td>0</td>\n",
       "    </tr>\n",
       "    <tr>\n",
       "      <td>2</td>\n",
       "      <td>70</td>\n",
       "      <td>1</td>\n",
       "      <td>0</td>\n",
       "      <td>145</td>\n",
       "      <td>174</td>\n",
       "      <td>0</td>\n",
       "      <td>1</td>\n",
       "      <td>125</td>\n",
       "      <td>1</td>\n",
       "      <td>2.6</td>\n",
       "      <td>0</td>\n",
       "      <td>0</td>\n",
       "      <td>3</td>\n",
       "      <td>0</td>\n",
       "    </tr>\n",
       "    <tr>\n",
       "      <td>3</td>\n",
       "      <td>61</td>\n",
       "      <td>1</td>\n",
       "      <td>0</td>\n",
       "      <td>148</td>\n",
       "      <td>203</td>\n",
       "      <td>0</td>\n",
       "      <td>1</td>\n",
       "      <td>161</td>\n",
       "      <td>0</td>\n",
       "      <td>0.0</td>\n",
       "      <td>2</td>\n",
       "      <td>1</td>\n",
       "      <td>3</td>\n",
       "      <td>0</td>\n",
       "    </tr>\n",
       "    <tr>\n",
       "      <td>4</td>\n",
       "      <td>62</td>\n",
       "      <td>0</td>\n",
       "      <td>0</td>\n",
       "      <td>138</td>\n",
       "      <td>294</td>\n",
       "      <td>1</td>\n",
       "      <td>1</td>\n",
       "      <td>106</td>\n",
       "      <td>0</td>\n",
       "      <td>1.9</td>\n",
       "      <td>1</td>\n",
       "      <td>3</td>\n",
       "      <td>2</td>\n",
       "      <td>0</td>\n",
       "    </tr>\n",
       "    <tr>\n",
       "      <td>...</td>\n",
       "      <td>...</td>\n",
       "      <td>...</td>\n",
       "      <td>...</td>\n",
       "      <td>...</td>\n",
       "      <td>...</td>\n",
       "      <td>...</td>\n",
       "      <td>...</td>\n",
       "      <td>...</td>\n",
       "      <td>...</td>\n",
       "      <td>...</td>\n",
       "      <td>...</td>\n",
       "      <td>...</td>\n",
       "      <td>...</td>\n",
       "      <td>...</td>\n",
       "    </tr>\n",
       "    <tr>\n",
       "      <td>1020</td>\n",
       "      <td>59</td>\n",
       "      <td>1</td>\n",
       "      <td>1</td>\n",
       "      <td>140</td>\n",
       "      <td>221</td>\n",
       "      <td>0</td>\n",
       "      <td>1</td>\n",
       "      <td>164</td>\n",
       "      <td>1</td>\n",
       "      <td>0.0</td>\n",
       "      <td>2</td>\n",
       "      <td>0</td>\n",
       "      <td>2</td>\n",
       "      <td>1</td>\n",
       "    </tr>\n",
       "    <tr>\n",
       "      <td>1021</td>\n",
       "      <td>60</td>\n",
       "      <td>1</td>\n",
       "      <td>0</td>\n",
       "      <td>125</td>\n",
       "      <td>258</td>\n",
       "      <td>0</td>\n",
       "      <td>0</td>\n",
       "      <td>141</td>\n",
       "      <td>1</td>\n",
       "      <td>2.8</td>\n",
       "      <td>1</td>\n",
       "      <td>1</td>\n",
       "      <td>3</td>\n",
       "      <td>0</td>\n",
       "    </tr>\n",
       "    <tr>\n",
       "      <td>1022</td>\n",
       "      <td>47</td>\n",
       "      <td>1</td>\n",
       "      <td>0</td>\n",
       "      <td>110</td>\n",
       "      <td>275</td>\n",
       "      <td>0</td>\n",
       "      <td>0</td>\n",
       "      <td>118</td>\n",
       "      <td>1</td>\n",
       "      <td>1.0</td>\n",
       "      <td>1</td>\n",
       "      <td>1</td>\n",
       "      <td>2</td>\n",
       "      <td>0</td>\n",
       "    </tr>\n",
       "    <tr>\n",
       "      <td>1023</td>\n",
       "      <td>50</td>\n",
       "      <td>0</td>\n",
       "      <td>0</td>\n",
       "      <td>110</td>\n",
       "      <td>254</td>\n",
       "      <td>0</td>\n",
       "      <td>0</td>\n",
       "      <td>159</td>\n",
       "      <td>0</td>\n",
       "      <td>0.0</td>\n",
       "      <td>2</td>\n",
       "      <td>0</td>\n",
       "      <td>2</td>\n",
       "      <td>1</td>\n",
       "    </tr>\n",
       "    <tr>\n",
       "      <td>1024</td>\n",
       "      <td>54</td>\n",
       "      <td>1</td>\n",
       "      <td>0</td>\n",
       "      <td>120</td>\n",
       "      <td>188</td>\n",
       "      <td>0</td>\n",
       "      <td>1</td>\n",
       "      <td>113</td>\n",
       "      <td>0</td>\n",
       "      <td>1.4</td>\n",
       "      <td>1</td>\n",
       "      <td>1</td>\n",
       "      <td>3</td>\n",
       "      <td>0</td>\n",
       "    </tr>\n",
       "  </tbody>\n",
       "</table>\n",
       "<p>1025 rows × 14 columns</p>\n",
       "</div>"
      ],
      "text/plain": [
       "      age  sex  cp  trestbps  chol  fbs  restecg  thalach  exang  oldpeak  \\\n",
       "0      52    1   0       125   212    0        1      168      0      1.0   \n",
       "1      53    1   0       140   203    1        0      155      1      3.1   \n",
       "2      70    1   0       145   174    0        1      125      1      2.6   \n",
       "3      61    1   0       148   203    0        1      161      0      0.0   \n",
       "4      62    0   0       138   294    1        1      106      0      1.9   \n",
       "...   ...  ...  ..       ...   ...  ...      ...      ...    ...      ...   \n",
       "1020   59    1   1       140   221    0        1      164      1      0.0   \n",
       "1021   60    1   0       125   258    0        0      141      1      2.8   \n",
       "1022   47    1   0       110   275    0        0      118      1      1.0   \n",
       "1023   50    0   0       110   254    0        0      159      0      0.0   \n",
       "1024   54    1   0       120   188    0        1      113      0      1.4   \n",
       "\n",
       "      slope  ca  thal  target  \n",
       "0         2   2     3       0  \n",
       "1         0   0     3       0  \n",
       "2         0   0     3       0  \n",
       "3         2   1     3       0  \n",
       "4         1   3     2       0  \n",
       "...     ...  ..   ...     ...  \n",
       "1020      2   0     2       1  \n",
       "1021      1   1     3       0  \n",
       "1022      1   1     2       0  \n",
       "1023      2   0     2       1  \n",
       "1024      1   1     3       0  \n",
       "\n",
       "[1025 rows x 14 columns]"
      ]
     },
     "execution_count": 20,
     "metadata": {},
     "output_type": "execute_result"
    }
   ],
   "source": [
    "import pandas as pd\n",
    "import numpy as np\n",
    "df = pd.read_csv('https://raw.githubusercontent.com/iketutg/my_example_ds/main/data/heart.csv')\n",
    "df"
   ]
  },
  {
   "cell_type": "code",
   "execution_count": 21,
   "metadata": {
    "colab": {
     "base_uri": "https://localhost:8080/"
    },
    "id": "bf4VmNsdr-MA",
    "outputId": "e6818df1-f41b-444a-b92c-a0191f6fca76"
   },
   "outputs": [
    {
     "name": "stdout",
     "output_type": "stream",
     "text": [
      "<class 'pandas.core.frame.DataFrame'>\n",
      "RangeIndex: 1025 entries, 0 to 1024\n",
      "Data columns (total 14 columns):\n",
      "age         1025 non-null int64\n",
      "sex         1025 non-null int64\n",
      "cp          1025 non-null int64\n",
      "trestbps    1025 non-null int64\n",
      "chol        1025 non-null int64\n",
      "fbs         1025 non-null int64\n",
      "restecg     1025 non-null int64\n",
      "thalach     1025 non-null int64\n",
      "exang       1025 non-null int64\n",
      "oldpeak     1025 non-null float64\n",
      "slope       1025 non-null int64\n",
      "ca          1025 non-null int64\n",
      "thal        1025 non-null int64\n",
      "target      1025 non-null int64\n",
      "dtypes: float64(1), int64(13)\n",
      "memory usage: 112.2 KB\n"
     ]
    }
   ],
   "source": [
    "df.info()"
   ]
  },
  {
   "cell_type": "markdown",
   "metadata": {
    "id": "Rw0ZWmLQ4MeT"
   },
   "source": [
    "Kolom terakhir dari data adalah 'target'. Menandakan jika seseorang menderita penyakit jantung atau tidak.\n",
    "\n",
    "We are going to construct a CI for the female population proportion that has heart disease.\n",
    "\n",
    "Pertama, ganti 1 dan 0 dengan 'Pria' dan 'Wanita' di kolom baru 'Sex1'."
   ]
  },
  {
   "cell_type": "code",
   "execution_count": null,
   "metadata": {
    "id": "vlC44LUlrcA4"
   },
   "outputs": [],
   "source": []
  },
  {
   "cell_type": "code",
   "execution_count": 22,
   "metadata": {
    "id": "GBTOIC0T4PZq"
   },
   "outputs": [],
   "source": [
    "df['Sex1'] = df.sex.replace({1: \"Male\", 0: \"Female\"})\n"
   ]
  },
  {
   "cell_type": "code",
   "execution_count": 23,
   "metadata": {
    "colab": {
     "base_uri": "https://localhost:8080/",
     "height": 206
    },
    "id": "BA9e7RDarc_J",
    "outputId": "7d3ca400-9147-4ab1-e1aa-66293309f412"
   },
   "outputs": [
    {
     "data": {
      "text/html": [
       "<div>\n",
       "<style scoped>\n",
       "    .dataframe tbody tr th:only-of-type {\n",
       "        vertical-align: middle;\n",
       "    }\n",
       "\n",
       "    .dataframe tbody tr th {\n",
       "        vertical-align: top;\n",
       "    }\n",
       "\n",
       "    .dataframe thead th {\n",
       "        text-align: right;\n",
       "    }\n",
       "</style>\n",
       "<table border=\"1\" class=\"dataframe\">\n",
       "  <thead>\n",
       "    <tr style=\"text-align: right;\">\n",
       "      <th></th>\n",
       "      <th>age</th>\n",
       "      <th>sex</th>\n",
       "      <th>cp</th>\n",
       "      <th>trestbps</th>\n",
       "      <th>chol</th>\n",
       "      <th>fbs</th>\n",
       "      <th>restecg</th>\n",
       "      <th>thalach</th>\n",
       "      <th>exang</th>\n",
       "      <th>oldpeak</th>\n",
       "      <th>slope</th>\n",
       "      <th>ca</th>\n",
       "      <th>thal</th>\n",
       "      <th>target</th>\n",
       "      <th>Sex1</th>\n",
       "    </tr>\n",
       "  </thead>\n",
       "  <tbody>\n",
       "    <tr>\n",
       "      <td>0</td>\n",
       "      <td>52</td>\n",
       "      <td>1</td>\n",
       "      <td>0</td>\n",
       "      <td>125</td>\n",
       "      <td>212</td>\n",
       "      <td>0</td>\n",
       "      <td>1</td>\n",
       "      <td>168</td>\n",
       "      <td>0</td>\n",
       "      <td>1.0</td>\n",
       "      <td>2</td>\n",
       "      <td>2</td>\n",
       "      <td>3</td>\n",
       "      <td>0</td>\n",
       "      <td>Male</td>\n",
       "    </tr>\n",
       "    <tr>\n",
       "      <td>1</td>\n",
       "      <td>53</td>\n",
       "      <td>1</td>\n",
       "      <td>0</td>\n",
       "      <td>140</td>\n",
       "      <td>203</td>\n",
       "      <td>1</td>\n",
       "      <td>0</td>\n",
       "      <td>155</td>\n",
       "      <td>1</td>\n",
       "      <td>3.1</td>\n",
       "      <td>0</td>\n",
       "      <td>0</td>\n",
       "      <td>3</td>\n",
       "      <td>0</td>\n",
       "      <td>Male</td>\n",
       "    </tr>\n",
       "    <tr>\n",
       "      <td>2</td>\n",
       "      <td>70</td>\n",
       "      <td>1</td>\n",
       "      <td>0</td>\n",
       "      <td>145</td>\n",
       "      <td>174</td>\n",
       "      <td>0</td>\n",
       "      <td>1</td>\n",
       "      <td>125</td>\n",
       "      <td>1</td>\n",
       "      <td>2.6</td>\n",
       "      <td>0</td>\n",
       "      <td>0</td>\n",
       "      <td>3</td>\n",
       "      <td>0</td>\n",
       "      <td>Male</td>\n",
       "    </tr>\n",
       "    <tr>\n",
       "      <td>3</td>\n",
       "      <td>61</td>\n",
       "      <td>1</td>\n",
       "      <td>0</td>\n",
       "      <td>148</td>\n",
       "      <td>203</td>\n",
       "      <td>0</td>\n",
       "      <td>1</td>\n",
       "      <td>161</td>\n",
       "      <td>0</td>\n",
       "      <td>0.0</td>\n",
       "      <td>2</td>\n",
       "      <td>1</td>\n",
       "      <td>3</td>\n",
       "      <td>0</td>\n",
       "      <td>Male</td>\n",
       "    </tr>\n",
       "    <tr>\n",
       "      <td>4</td>\n",
       "      <td>62</td>\n",
       "      <td>0</td>\n",
       "      <td>0</td>\n",
       "      <td>138</td>\n",
       "      <td>294</td>\n",
       "      <td>1</td>\n",
       "      <td>1</td>\n",
       "      <td>106</td>\n",
       "      <td>0</td>\n",
       "      <td>1.9</td>\n",
       "      <td>1</td>\n",
       "      <td>3</td>\n",
       "      <td>2</td>\n",
       "      <td>0</td>\n",
       "      <td>Female</td>\n",
       "    </tr>\n",
       "  </tbody>\n",
       "</table>\n",
       "</div>"
      ],
      "text/plain": [
       "   age  sex  cp  trestbps  chol  fbs  restecg  thalach  exang  oldpeak  slope  \\\n",
       "0   52    1   0       125   212    0        1      168      0      1.0      2   \n",
       "1   53    1   0       140   203    1        0      155      1      3.1      0   \n",
       "2   70    1   0       145   174    0        1      125      1      2.6      0   \n",
       "3   61    1   0       148   203    0        1      161      0      0.0      2   \n",
       "4   62    0   0       138   294    1        1      106      0      1.9      1   \n",
       "\n",
       "   ca  thal  target    Sex1  \n",
       "0   2     3       0    Male  \n",
       "1   0     3       0    Male  \n",
       "2   0     3       0    Male  \n",
       "3   1     3       0    Male  \n",
       "4   3     2       0  Female  "
      ]
     },
     "execution_count": 23,
     "metadata": {},
     "output_type": "execute_result"
    }
   ],
   "source": [
    "df.head()"
   ]
  },
  {
   "cell_type": "markdown",
   "metadata": {
    "id": "V3qzgH744RKu"
   },
   "source": [
    "Kita tidak membutuhkan semua kolom dalam dataset. Kita hanya akan menggunakan kolom 'target' yang berisi apakah seseorang menderita penyakit jantung atau tidak dan kolom Sex1 yang baru saja kita buat. Buat DataFrame hanya dengan dua kolom ini dan drop semua nilai null.\n",
    "\n"
   ]
  },
  {
   "cell_type": "code",
   "execution_count": 24,
   "metadata": {
    "id": "i4sYLgkc4S6a"
   },
   "outputs": [],
   "source": [
    "dx = df[[\"target\", \"Sex1\"]].dropna()\n"
   ]
  },
  {
   "cell_type": "markdown",
   "metadata": {
    "id": "CtuPNd_o4UZP"
   },
   "source": [
    "Kita membutuhkan jumlah wanita yang memiliki penyakit jantung. Baris kode di bawah ini menunjukkan jumlah pria dan wanita yang menderita penyakit jantung dan yang tidak menderita penyakit jantung.\n",
    "\n"
   ]
  },
  {
   "cell_type": "code",
   "execution_count": 25,
   "metadata": {
    "colab": {
     "base_uri": "https://localhost:8080/",
     "height": 143
    },
    "id": "sa1BU4iZ4WJm",
    "outputId": "839c5fef-e7cb-404c-8af4-cdc36cdc2c3f"
   },
   "outputs": [
    {
     "data": {
      "text/html": [
       "<div>\n",
       "<style scoped>\n",
       "    .dataframe tbody tr th:only-of-type {\n",
       "        vertical-align: middle;\n",
       "    }\n",
       "\n",
       "    .dataframe tbody tr th {\n",
       "        vertical-align: top;\n",
       "    }\n",
       "\n",
       "    .dataframe thead th {\n",
       "        text-align: right;\n",
       "    }\n",
       "</style>\n",
       "<table border=\"1\" class=\"dataframe\">\n",
       "  <thead>\n",
       "    <tr style=\"text-align: right;\">\n",
       "      <th>Sex1</th>\n",
       "      <th>Female</th>\n",
       "      <th>Male</th>\n",
       "    </tr>\n",
       "    <tr>\n",
       "      <th>target</th>\n",
       "      <th></th>\n",
       "      <th></th>\n",
       "    </tr>\n",
       "  </thead>\n",
       "  <tbody>\n",
       "    <tr>\n",
       "      <td>0</td>\n",
       "      <td>86</td>\n",
       "      <td>413</td>\n",
       "    </tr>\n",
       "    <tr>\n",
       "      <td>1</td>\n",
       "      <td>226</td>\n",
       "      <td>300</td>\n",
       "    </tr>\n",
       "  </tbody>\n",
       "</table>\n",
       "</div>"
      ],
      "text/plain": [
       "Sex1    Female  Male\n",
       "target              \n",
       "0           86   413\n",
       "1          226   300"
      ]
     },
     "execution_count": 25,
     "metadata": {},
     "output_type": "execute_result"
    }
   ],
   "source": [
    "pdcross = pd.crosstab(dx.target, dx.Sex1)\n",
    "pdcross "
   ]
  },
  {
   "cell_type": "code",
   "execution_count": 26,
   "metadata": {
    "colab": {
     "base_uri": "https://localhost:8080/"
    },
    "id": "0CeiJMm0365f",
    "outputId": "3a75207a-be8c-4eaf-a754-226d5e40f51c"
   },
   "outputs": [
    {
     "data": {
      "text/plain": [
       "312"
      ]
     },
     "execution_count": 26,
     "metadata": {},
     "output_type": "execute_result"
    }
   ],
   "source": [
    "fem_not_heart = pdcross.Female[0]\n",
    "fem_hearth = pdcross.Female[1]\n",
    "total = pdcross.Female.sum()\n",
    "total "
   ]
  },
  {
   "cell_type": "markdown",
   "metadata": {
    "id": "0YX53iMv4Xpq"
   },
   "source": [
    "Wanita penderita penyakit jantung berjumlah 226 orang. Hitung proporsi penduduk wanita yang menderita penyakit jantung.\n",
    "\n"
   ]
  },
  {
   "cell_type": "code",
   "execution_count": 27,
   "metadata": {
    "colab": {
     "base_uri": "https://localhost:8080/"
    },
    "id": "K6i-q8Zq4Zbo",
    "outputId": "9fde8859-5325-4b83-b693-5fdfc807381c"
   },
   "outputs": [
    {
     "data": {
      "text/plain": [
       "0.7243589743589743"
      ]
     },
     "execution_count": 27,
     "metadata": {},
     "output_type": "execute_result"
    }
   ],
   "source": [
    "p_fm = fem_hearth/pdcross.Female.sum()\n",
    "p_fm"
   ]
  },
  {
   "cell_type": "code",
   "execution_count": 28,
   "metadata": {
    "colab": {
     "base_uri": "https://localhost:8080/"
    },
    "id": "75Qj2lbIsTvF",
    "outputId": "5d26b793-7210-47fd-ced1-ee7bc731b9e2"
   },
   "outputs": [
    {
     "data": {
      "text/plain": [
       "0.42075736325385693"
      ]
     },
     "execution_count": 28,
     "metadata": {},
     "output_type": "execute_result"
    }
   ],
   "source": [
    "p_m = pdcross.Male[1] / pdcross.Male.sum() \n",
    "p_m"
   ]
  },
  {
   "cell_type": "markdown",
   "metadata": {
    "id": "Y9XP86L54bpK"
   },
   "source": [
    "‘p_fm’ adalah 0,72. Hitung jumlah populasi wanita:\n"
   ]
  },
  {
   "cell_type": "code",
   "execution_count": 29,
   "metadata": {
    "colab": {
     "base_uri": "https://localhost:8080/"
    },
    "id": "esqnLYvl4eEq",
    "outputId": "fb91e7ef-0c22-45f3-bfa0-7c1e9cec3980"
   },
   "outputs": [
    {
     "data": {
      "text/plain": [
       "312"
      ]
     },
     "execution_count": 29,
     "metadata": {},
     "output_type": "execute_result"
    }
   ],
   "source": [
    "# populasi wanita\n",
    "n = pdcross.Female.sum()\n",
    "n"
   ]
  },
  {
   "cell_type": "markdown",
   "metadata": {
    "id": "Qw0NGn0e4hWI"
   },
   "source": [
    "Jumlah populasi perempuan adalah 312. Hitung standard error\n"
   ]
  },
  {
   "cell_type": "code",
   "execution_count": 30,
   "metadata": {
    "colab": {
     "base_uri": "https://localhost:8080/"
    },
    "id": "qBS7RadP4jHQ",
    "outputId": "a16ed95a-53f5-4741-c7bb-d1b75e23ac88"
   },
   "outputs": [
    {
     "data": {
      "text/plain": [
       "0.02529714756803247"
      ]
     },
     "execution_count": 30,
     "metadata": {},
     "output_type": "execute_result"
    }
   ],
   "source": [
    "se_female = np.sqrt(p_fm * (1 - p_fm) / n)\n",
    "se_female"
   ]
  },
  {
   "cell_type": "markdown",
   "metadata": {
    "id": "Ttsa_Pt-4oiU"
   },
   "source": [
    "Standard error adalah 0.025.\n",
    "\n",
    "Sekarang buat CI menggunakan rumus di atas. z-score adalah 1.96 untuk confidence interval 95%.\n",
    "\n"
   ]
  },
  {
   "cell_type": "code",
   "execution_count": 31,
   "metadata": {
    "colab": {
     "base_uri": "https://localhost:8080/"
    },
    "id": "B8z45IrV4rNM",
    "outputId": "85b45065-4629-4794-d068-526749002099"
   },
   "outputs": [
    {
     "data": {
      "text/plain": [
       "(0.6747765651256307, 0.773941383592318)"
      ]
     },
     "execution_count": 31,
     "metadata": {},
     "output_type": "execute_result"
    }
   ],
   "source": [
    "z_score = 1.96\n",
    "lcb = p_fm - z_score* se_female #lower limit of the CI\n",
    "ucb = p_fm + z_score* se_female #upper limit of the CI\n",
    "lcb, ucb"
   ]
  },
  {
   "cell_type": "markdown",
   "metadata": {
    "id": "AAWt_-lG4vk5"
   },
   "source": [
    "Confidence interval adalah 0.67 dan 0.77.\n",
    "\n",
    "Kita dapat menghitungnya menggunakan library 'statsmodels'."
   ]
  },
  {
   "cell_type": "code",
   "execution_count": 32,
   "metadata": {
    "colab": {
     "base_uri": "https://localhost:8080/"
    },
    "id": "Vl288j4b4xko",
    "outputId": "5a6ee177-d4ec-4294-e4a7-8ef5b728c86a"
   },
   "outputs": [
    {
     "data": {
      "text/plain": [
       "(0.6747774762140357, 0.773940472503913)"
      ]
     },
     "execution_count": 32,
     "metadata": {},
     "output_type": "execute_result"
    }
   ],
   "source": [
    "import statsmodels.api as sm\n",
    "sm.stats.proportion_confint(n * p_fm, n)"
   ]
  },
  {
   "cell_type": "markdown",
   "metadata": {
    "id": "aRU92hRG4zu5"
   },
   "source": [
    "Dengan hasil yang sama.\n",
    "\n",
    "## Calculation of CI of mean\n",
    "\n",
    "Kita akan menggunakan heart disease dataset yang sama. Dataset tersebut memiliki kolom 'chol' yang berisi tingkat kolesterol.\n",
    "\n",
    "Berikut kode untuk mendapatkan mean, standard deviation, dan population size dari populasi pria dan wanita:"
   ]
  },
  {
   "cell_type": "code",
   "execution_count": 33,
   "metadata": {
    "colab": {
     "base_uri": "https://localhost:8080/",
     "height": 175
    },
    "id": "IcTQYI-_44Uz",
    "outputId": "0ac839cb-afd0-4cfa-e798-5518da76eb2a"
   },
   "outputs": [
    {
     "data": {
      "text/html": [
       "<div>\n",
       "<style scoped>\n",
       "    .dataframe tbody tr th:only-of-type {\n",
       "        vertical-align: middle;\n",
       "    }\n",
       "\n",
       "    .dataframe tbody tr th {\n",
       "        vertical-align: top;\n",
       "    }\n",
       "\n",
       "    .dataframe thead tr th {\n",
       "        text-align: left;\n",
       "    }\n",
       "\n",
       "    .dataframe thead tr:last-of-type th {\n",
       "        text-align: right;\n",
       "    }\n",
       "</style>\n",
       "<table border=\"1\" class=\"dataframe\">\n",
       "  <thead>\n",
       "    <tr>\n",
       "      <th></th>\n",
       "      <th colspan=\"3\" halign=\"left\">chol</th>\n",
       "    </tr>\n",
       "    <tr>\n",
       "      <th></th>\n",
       "      <th>mean</th>\n",
       "      <th>std</th>\n",
       "      <th>size</th>\n",
       "    </tr>\n",
       "    <tr>\n",
       "      <th>Sex1</th>\n",
       "      <th></th>\n",
       "      <th></th>\n",
       "      <th></th>\n",
       "    </tr>\n",
       "  </thead>\n",
       "  <tbody>\n",
       "    <tr>\n",
       "      <td>Female</td>\n",
       "      <td>261.455128</td>\n",
       "      <td>64.466781</td>\n",
       "      <td>312</td>\n",
       "    </tr>\n",
       "    <tr>\n",
       "      <td>Male</td>\n",
       "      <td>239.237027</td>\n",
       "      <td>43.155535</td>\n",
       "      <td>713</td>\n",
       "    </tr>\n",
       "  </tbody>\n",
       "</table>\n",
       "</div>"
      ],
      "text/plain": [
       "              chol                \n",
       "              mean        std size\n",
       "Sex1                              \n",
       "Female  261.455128  64.466781  312\n",
       "Male    239.237027  43.155535  713"
      ]
     },
     "execution_count": 33,
     "metadata": {},
     "output_type": "execute_result"
    }
   ],
   "source": [
    "df.groupby(\"Sex1\").agg({\"chol\": [np.mean, np.std, np.size]})\n"
   ]
  },
  {
   "cell_type": "markdown",
   "metadata": {
    "id": "I_S1wKHr45HV"
   },
   "source": [
    "Jika kita mengekstrak parameter yang diperlukan hanya untuk populasi wanita:\n",
    "\n"
   ]
  },
  {
   "cell_type": "code",
   "execution_count": 34,
   "metadata": {
    "id": "wGgEZNH447dP"
   },
   "outputs": [],
   "source": [
    "mean_fe = 261.45  #mean cholesterol of female\n",
    "sd = 64.4         #standard deviation for female population\n",
    "n = 312           #Total number of female\n",
    "z = 1.96          #z-score from the z table mentioned before"
   ]
  },
  {
   "cell_type": "markdown",
   "metadata": {
    "id": "9VpLHnKs49OJ"
   },
   "source": [
    "Di sini 1.96 adalah z-score untuk confidence level 95%.\n",
    "\n",
    "**Calculate the standard error using the formula for the standard error of the mean**"
   ]
  },
  {
   "cell_type": "code",
   "execution_count": 35,
   "metadata": {
    "colab": {
     "base_uri": "https://localhost:8080/"
    },
    "id": "N-KHOCLP5GbI",
    "outputId": "28c0ec2b-bd7f-4a10-ddab-4d2b11589772"
   },
   "outputs": [
    {
     "data": {
      "text/plain": [
       "3.6459320499455985"
      ]
     },
     "execution_count": 35,
     "metadata": {},
     "output_type": "execute_result"
    }
   ],
   "source": [
    "se = sd / np.sqrt(n)\n",
    "se "
   ]
  },
  {
   "cell_type": "markdown",
   "metadata": {
    "id": "49K9HSpq5Hj0"
   },
   "source": [
    "Sekarang kita memiliki yang dibutuhkan untuk menghitung CI untuk mean cholesterol pada populasi wanita.\n",
    "\n",
    "Construct the CI"
   ]
  },
  {
   "cell_type": "code",
   "execution_count": 36,
   "metadata": {
    "colab": {
     "base_uri": "https://localhost:8080/"
    },
    "id": "VDnznnZF5JFj",
    "outputId": "85800ae8-e2be-42e0-c997-610652c6c5bc"
   },
   "outputs": [
    {
     "data": {
      "text/plain": [
       "(254.3039731821066, 268.59602681789335)"
      ]
     },
     "execution_count": 36,
     "metadata": {},
     "output_type": "execute_result"
    }
   ],
   "source": [
    "lcb = mean_fe - z* se  #lower limit of the CI\n",
    "ucb = mean_fe + z* se  #upper limit of the CI\n",
    "lcb, ucb"
   ]
  },
  {
   "cell_type": "markdown",
   "metadata": {
    "id": "Bxfufd3d5a01"
   },
   "source": [
    "CI adalah 254.303 and 268.596\n",
    "\n",
    "That means the true mean of the cholesterol of the female population will fall between 254.303 and 268.596\n",
    "\n",
    "\n"
   ]
  },
  {
   "cell_type": "markdown",
   "metadata": {
    "id": "dfrjqc47hUoM"
   },
   "source": [
    "## Other Example of Confidence Intervals"
   ]
  },
  {
   "cell_type": "code",
   "execution_count": 37,
   "metadata": {
    "id": "BaH-e_m25gQd"
   },
   "outputs": [],
   "source": [
    "import pandas as pd\n",
    "import seaborn as sns\n",
    "import scipy.stats as stats\n",
    "import numpy as np\n",
    "import random\n",
    "import warnings\n",
    "import matplotlib.pyplot as plt\n",
    "%matplotlib inline\n",
    "\n",
    "sns.set(rc={'figure.figsize':(13, 7.5)})\n",
    "sns.set_context('talk')"
   ]
  },
  {
   "cell_type": "markdown",
   "metadata": {
    "id": "rDAfnro35jUM"
   },
   "source": [
    "**Generate Data of People's Mass in Pounds**\n",
    "\n",
    "Di bawah ini, kita generate dua distribusi normal menggunakan metode numpy random module's normal() untuk pria dan wanita. Kita menggabungkan dua array ini dan assign ke kolom us_people_mass_pounds di df_ppl_mass DataFrame."
   ]
  },
  {
   "cell_type": "code",
   "execution_count": 38,
   "metadata": {
    "id": "tXj-jofG5n4d"
   },
   "outputs": [],
   "source": [
    "np.random.seed(42)\n",
    "normal_distribution_us_male_mass_pounds = np.random.normal(loc=181, scale=24, size=6000)\n",
    "normal_distribution_us_female_mass_pounds = np.random.normal(loc=132, scale=22, size=6500)\n",
    "all_mass_values = np.concatenate((normal_distribution_us_male_mass_pounds, normal_distribution_us_female_mass_pounds), axis=0)\n",
    "df_ppl_mass = pd.DataFrame(data={'us_people_mass_pounds': all_mass_values})"
   ]
  },
  {
   "cell_type": "code",
   "execution_count": 39,
   "metadata": {
    "colab": {
     "base_uri": "https://localhost:8080/",
     "height": 206
    },
    "id": "XF-BlmPM5sB1",
    "outputId": "fa28029a-b6d0-41b5-d974-20567adb4393"
   },
   "outputs": [
    {
     "data": {
      "text/html": [
       "<div>\n",
       "<style scoped>\n",
       "    .dataframe tbody tr th:only-of-type {\n",
       "        vertical-align: middle;\n",
       "    }\n",
       "\n",
       "    .dataframe tbody tr th {\n",
       "        vertical-align: top;\n",
       "    }\n",
       "\n",
       "    .dataframe thead th {\n",
       "        text-align: right;\n",
       "    }\n",
       "</style>\n",
       "<table border=\"1\" class=\"dataframe\">\n",
       "  <thead>\n",
       "    <tr style=\"text-align: right;\">\n",
       "      <th></th>\n",
       "      <th>us_people_mass_pounds</th>\n",
       "    </tr>\n",
       "  </thead>\n",
       "  <tbody>\n",
       "    <tr>\n",
       "      <td>0</td>\n",
       "      <td>192.921140</td>\n",
       "    </tr>\n",
       "    <tr>\n",
       "      <td>1</td>\n",
       "      <td>177.681657</td>\n",
       "    </tr>\n",
       "    <tr>\n",
       "      <td>2</td>\n",
       "      <td>196.544525</td>\n",
       "    </tr>\n",
       "    <tr>\n",
       "      <td>3</td>\n",
       "      <td>217.552717</td>\n",
       "    </tr>\n",
       "    <tr>\n",
       "      <td>4</td>\n",
       "      <td>175.380319</td>\n",
       "    </tr>\n",
       "  </tbody>\n",
       "</table>\n",
       "</div>"
      ],
      "text/plain": [
       "   us_people_mass_pounds\n",
       "0             192.921140\n",
       "1             177.681657\n",
       "2             196.544525\n",
       "3             217.552717\n",
       "4             175.380319"
      ]
     },
     "execution_count": 39,
     "metadata": {},
     "output_type": "execute_result"
    }
   ],
   "source": [
    "df_ppl_mass.head()"
   ]
  },
  {
   "cell_type": "markdown",
   "metadata": {
    "id": "0vDJXXxw5wzi"
   },
   "source": [
    "\n",
    "**View Distribution of U.S. People's Mass**\n",
    "\n",
    "Gunakan metode seaborn distplot() untuk membuat histogram di kolom us_people_mass_pounds.\n",
    "\n"
   ]
  },
  {
   "cell_type": "code",
   "execution_count": 40,
   "metadata": {
    "colab": {
     "base_uri": "https://localhost:8080/",
     "height": 582
    },
    "id": "3kJCZEOW53SY",
    "outputId": "2b91a66f-91f3-4270-90c0-205d831e6d75"
   },
   "outputs": [
    {
     "data": {
      "image/png": "[encoded data removed]",
      "text/plain": [
       "<Figure size 936x540 with 1 Axes>"
      ]
     },
     "metadata": {},
     "output_type": "display_data"
    }
   ],
   "source": [
    "sns.distplot(df_ppl_mass['us_people_mass_pounds'], color=\"darkslategrey\")\n",
    "plt.xlabel(\"mass [pounds]\", labelpad=14)\n",
    "plt.ylabel(\"probability of occurence\", labelpad=14)\n",
    "plt.title(\"Distribution of Mass of People in U.S.\", y=1.015, fontsize=20);"
   ]
  },
  {
   "cell_type": "markdown",
   "metadata": {
    "id": "HHhKTqpi55tb"
   },
   "source": [
    "Sulit untuk mengkarakterisasi distribusi ini. Distribusi tersebut memiliki satu puncak disekitar 140 pounds, dan itu bukan distribusi normal karena tidak ada simetri di sekitar nilai pusat.\n",
    "\n"
   ]
  },
  {
   "cell_type": "code",
   "execution_count": 41,
   "metadata": {
    "colab": {
     "base_uri": "https://localhost:8080/"
    },
    "id": "2adV8_wv5_IY",
    "outputId": "240e8f4b-786f-4ac0-d111-69536cabda6d"
   },
   "outputs": [
    {
     "data": {
      "text/plain": [
       "155.4232805942338"
      ]
     },
     "execution_count": 41,
     "metadata": {},
     "output_type": "execute_result"
    }
   ],
   "source": [
    "# Calculation Population Mean\n",
    "pop_mean_mass = df_ppl_mass['us_people_mass_pounds'].mean()\n",
    "pop_mean_mass"
   ]
  },
  {
   "cell_type": "code",
   "execution_count": 42,
   "metadata": {
    "colab": {
     "base_uri": "https://localhost:8080/"
    },
    "id": "MTWUhyzb6QOL",
    "outputId": "b0409104-8ce7-4679-f136-e2e7715e212f"
   },
   "outputs": [
    {
     "data": {
      "text/plain": [
       "33.585190883958624"
      ]
     },
     "execution_count": 42,
     "metadata": {},
     "output_type": "execute_result"
    }
   ],
   "source": [
    "# Calculate Population Standard Deviation\n",
    "pop_std_dev_mass = df_ppl_mass['us_people_mass_pounds'].std()\n",
    "pop_std_dev_mass"
   ]
  },
  {
   "cell_type": "markdown",
   "metadata": {
    "id": "_FHB23iJ6RqN"
   },
   "source": [
    "Kita akan mengambil 300 sampel masing-masing dari 25 nilai acak. Untuk setiap sampel, kita akan menghitung rata-rata sampel. Kita menyimpan semua sample means tersebut dalam list sample_means."
   ]
  },
  {
   "cell_type": "code",
   "execution_count": 43,
   "metadata": {
    "id": "kbm5N3xy6T_w"
   },
   "outputs": [],
   "source": [
    "sample_means = []\n",
    "n = 25\n",
    "for sample in range(0, 300):\n",
    "    # random sampling done with replacement\n",
    "    sample_values = np.random.choice(a=df_ppl_mass['us_people_mass_pounds'], size=n)    \n",
    "    sample_mean = np.mean(sample_values)\n",
    "    sample_means.append(sample_mean)"
   ]
  },
  {
   "cell_type": "code",
   "execution_count": 44,
   "metadata": {
    "colab": {
     "base_uri": "https://localhost:8080/",
     "height": 585
    },
    "id": "dF2xAQ6O6WdX",
    "outputId": "d6d32c36-407c-40c0-cb46-11a3f8197da6"
   },
   "outputs": [
    {
     "data": {
      "image/png": "[encoded data removed]",
      "text/plain": [
       "<Figure size 936x540 with 1 Axes>"
      ]
     },
     "metadata": {},
     "output_type": "display_data"
    }
   ],
   "source": [
    "# View Distribution of Sample Means (Otherwise Called Sampling Distribution)\n",
    "sns.distplot(sample_means)\n",
    "plt.title(\"Distribution of Sample Means ($n=25$) of People's Mass in Pounds\", y=1.015, fontsize=20)\n",
    "plt.xlabel(\"sample mean mass [pounds]\", labelpad=14)\n",
    "plt.ylabel(\"frequency of occurence\", labelpad=14);"
   ]
  },
  {
   "cell_type": "markdown",
   "metadata": {
    "id": "_PLBd7z86YuM"
   },
   "source": [
    "Distribusi sample means terlihat normal. Kurva cukup simetris di sekitar nilai tengah dan median kira-kira setara dengan mean (lihat di bawah). Berdasarkan central limit theorem, pengambilan sampel dalam jumlah yang cukup dengan ukuran yang memadai akan menghasilkan distribusi sample means yang normal.\n",
    "\n",
    "**Calculate Sampling Distribution (n=25) Summary Statistics**\n",
    "\n",
    "Berikut adalah ringkasan perhitungan statistik untuk distribusi pengambilan sampel yang divisualisasikan di atas."
   ]
  },
  {
   "cell_type": "code",
   "execution_count": 45,
   "metadata": {
    "colab": {
     "base_uri": "https://localhost:8080/"
    },
    "id": "SxlW6_fP6doJ",
    "outputId": "51ed0cd5-aabf-438a-cb0e-074d1f6291c8"
   },
   "outputs": [
    {
     "data": {
      "text/plain": [
       "155.3008268518431"
      ]
     },
     "execution_count": 45,
     "metadata": {},
     "output_type": "execute_result"
    }
   ],
   "source": [
    "# Calculate Median of Sample Means\n",
    "median_of_sample_means = np.median(sample_means)\n",
    "median_of_sample_means"
   ]
  },
  {
   "cell_type": "code",
   "execution_count": 46,
   "metadata": {
    "colab": {
     "base_uri": "https://localhost:8080/"
    },
    "id": "V3miEzE06f4T",
    "outputId": "1a213140-3e8e-4d0b-ce55-4efd49258e10"
   },
   "outputs": [
    {
     "data": {
      "text/plain": [
       "155.12418330193915"
      ]
     },
     "execution_count": 46,
     "metadata": {},
     "output_type": "execute_result"
    }
   ],
   "source": [
    "# Calculate Mean of Sample Means\n",
    "mean_of_sample_means = np.mean(sample_means)\n",
    "mean_of_sample_means"
   ]
  },
  {
   "cell_type": "code",
   "execution_count": 47,
   "metadata": {
    "colab": {
     "base_uri": "https://localhost:8080/"
    },
    "id": "x3-IZHDS6h1O",
    "outputId": "e9c5a4b0-4442-42f5-b6e4-0a3fbc8d2bab"
   },
   "outputs": [
    {
     "data": {
      "text/plain": [
       "155.4232805942338"
      ]
     },
     "execution_count": 47,
     "metadata": {},
     "output_type": "execute_result"
    }
   ],
   "source": [
    "pop_mean_mass\n"
   ]
  },
  {
   "cell_type": "markdown",
   "metadata": {
    "id": "VSjoAn0z6kx6"
   },
   "source": [
    "Nilai mean_of_sample_means ini kira-kira sama dengan nilai population mean kita yang ditetapkan ke variabel pop_mean_mass. Berdasarkan central limit theorem, hal ini akan selalu terjadi."
   ]
  },
  {
   "cell_type": "code",
   "execution_count": 48,
   "metadata": {
    "colab": {
     "base_uri": "https://localhost:8080/"
    },
    "id": "zNsGOL9T6lbl",
    "outputId": "b92b9f5f-c274-4c6c-db71-037310eece20"
   },
   "outputs": [
    {
     "data": {
      "text/plain": [
       "6.734407481483423"
      ]
     },
     "execution_count": 48,
     "metadata": {},
     "output_type": "execute_result"
    }
   ],
   "source": [
    "# Calculate Standard Deviation of Sample Means\n",
    "std_dev_of_sample_means = np.std(sample_means)\n",
    "std_dev_of_sample_means"
   ]
  },
  {
   "cell_type": "markdown",
   "metadata": {
    "id": "Jta0j-_z6q5H"
   },
   "source": [
    "Equation for Standard Deviation of Sampling Distribution\n",
    "\n",
    "Standard deviation dari sample means lebih sering disebut standard error (SE). Persamaan untuk standard error adalah:\n",
    "\n",
    "SE=σ/√n\n",
    "\n",
    "σ is population standard deviation\n",
    "n is sample size"
   ]
  },
  {
   "cell_type": "code",
   "execution_count": 49,
   "metadata": {
    "colab": {
     "base_uri": "https://localhost:8080/"
    },
    "id": "kJH2WS506svm",
    "outputId": "6af12a82-4bdd-4172-885d-a86bc676a3b2"
   },
   "outputs": [
    {
     "data": {
      "text/plain": [
       "6.717038176791725"
      ]
     },
     "execution_count": 49,
     "metadata": {},
     "output_type": "execute_result"
    }
   ],
   "source": [
    "standard_error = pop_std_dev_mass/np.sqrt(n)\n",
    "standard_error"
   ]
  },
  {
   "cell_type": "code",
   "execution_count": 50,
   "metadata": {
    "colab": {
     "base_uri": "https://localhost:8080/"
    },
    "id": "mD--3O3B6vZM",
    "outputId": "c6d9f8ff-055a-4dbc-96fb-84027d36e628"
   },
   "outputs": [
    {
     "data": {
      "text/plain": [
       "6.734407481483423"
      ]
     },
     "execution_count": 50,
     "metadata": {},
     "output_type": "execute_result"
    }
   ],
   "source": [
    "std_dev_of_sample_means\n"
   ]
  },
  {
   "cell_type": "markdown",
   "metadata": {
    "id": "LeIX1k736xeG"
   },
   "source": [
    "Nilai standard error ini sama dengan nilai yang dihitung di atas untuk std_dev_of_sample_means.\n",
    "\n",
    "**Critical Z-Scores**\n",
    "\n",
    "Kira-kira 95% nilai akan berada dalam 2 standard errors dari mean. Mari kita hitung nilai z-score tepat yang mengikat 95% data. Kita tahu bahwa ekor pada setiap ujung harus 2,5% atau 0,025 dari total area under the curve dari sampling distribution.\n",
    "\n",
    "Di bawah ini kita menggunakan z-score 1,96 untuk menghitung ekor 0,025."
   ]
  },
  {
   "cell_type": "code",
   "execution_count": 51,
   "metadata": {
    "colab": {
     "base_uri": "https://localhost:8080/"
    },
    "id": "4WtrevRF61pK",
    "outputId": "34818824-3189-40a2-c414-bed9805519c5"
   },
   "outputs": [
    {
     "data": {
      "text/plain": [
       "0.024997895148220484"
      ]
     },
     "execution_count": 51,
     "metadata": {},
     "output_type": "execute_result"
    }
   ],
   "source": [
    "tail = 1 - stats.norm.cdf(1.96)\n",
    "tail"
   ]
  },
  {
   "cell_type": "code",
   "execution_count": 52,
   "metadata": {
    "id": "pVyKmp7O7BfM"
   },
   "outputs": [
    {
     "data": {
      "text/plain": [
       "0.950004209703559"
      ]
     },
     "execution_count": 52,
     "metadata": {},
     "output_type": "execute_result"
    }
   ],
   "source": [
    "# The area under the curve between the z-critcal scores is approximately 0.95\n",
    "1 - (tail * 2)"
   ]
  },
  {
   "cell_type": "markdown",
   "metadata": {
    "id": "aYSLyZYR7Cvq"
   },
   "source": [
    "Mari kita hitung batas yang tepat untuk area di mana 95% mean sampel berada dari mean populasi.\n",
    "\n"
   ]
  },
  {
   "cell_type": "code",
   "execution_count": 53,
   "metadata": {
    "colab": {
     "base_uri": "https://localhost:8080/"
    },
    "id": "mGiyG4N07HZ5",
    "outputId": "c0e12a3c-d104-4a0a-d22c-fc035f724051"
   },
   "outputs": [
    {
     "data": {
      "text/plain": [
       "141.95878847542738"
      ]
     },
     "execution_count": 53,
     "metadata": {},
     "output_type": "execute_result"
    }
   ],
   "source": [
    "lower_95_perc_bound = mean_of_sample_means - 1.96*standard_error\n",
    "lower_95_perc_bound\n"
   ]
  },
  {
   "cell_type": "code",
   "execution_count": 54,
   "metadata": {
    "colab": {
     "base_uri": "https://localhost:8080/"
    },
    "id": "CtXlDQb97KNb",
    "outputId": "d5ea66fe-34b7-41ce-ffb8-9c140c6289b8"
   },
   "outputs": [
    {
     "data": {
      "text/plain": [
       "168.28957812845093"
      ]
     },
     "execution_count": 54,
     "metadata": {},
     "output_type": "execute_result"
    }
   ],
   "source": [
    "upper_95_perc_bound = mean_of_sample_means + 1.96*standard_error\n",
    "upper_95_perc_bound"
   ]
  },
  {
   "cell_type": "code",
   "execution_count": 55,
   "metadata": {
    "colab": {
     "base_uri": "https://localhost:8080/",
     "height": 530
    },
    "id": "nCWceL5k7KuO",
    "outputId": "8f06bdfb-0202-4a37-f043-442a6bae55a7"
   },
   "outputs": [
    {
     "data": {
      "image/png": "[encoded data removed]",
      "text/plain": [
       "<Figure size 936x540 with 1 Axes>"
      ]
     },
     "metadata": {},
     "output_type": "display_data"
    }
   ],
   "source": [
    "kde = stats.gaussian_kde(sample_means)\n",
    "pos = np.linspace(np.min(sample_means), np.max(sample_means), 10000)\n",
    "plt.plot(pos, kde(pos), color='teal')\n",
    "shade = np.linspace(lower_95_perc_bound, upper_95_perc_bound, 300)\n",
    "plt.fill_between(shade, kde(shade), alpha=0.45, color='teal',)\n",
    "plt.text(x=154, y=.01, horizontalalignment='center', fontsize=17, \n",
    "         s=\"95% of sample means fall within\\nthis shaded area of plus or minus\\n1.96 z-scores from the mean\", \n",
    "         bbox=dict(facecolor='whitesmoke', boxstyle=\"round, pad=0.1\"))\n",
    "plt.title(\"Distribution of Sample Means ($n=25$) of People's Mass in Pounds\", y=1.015, fontsize=20)\n",
    "plt.xlabel(\"sample mean mass [pounds]\", labelpad=14)\n",
    "plt.ylabel(\"frequency of occurence\", labelpad=14);"
   ]
  },
  {
   "cell_type": "markdown",
   "metadata": {
    "id": "KSjl6obY7T6D"
   },
   "source": [
    "# Hypothesis Testing\n",
    "\n",
    "Hipotesis adalah anggapan dasar adalah jawaban sementara terhadap masalah yang masih bersifat praduga karena masih harus dibuktikan kebenarannya. Hipotesis harus dapat diuji, baik dengan eksperimen atau observasi. Sebagai contoh:\n",
    "\n",
    "* A new medicine you think might work.\n",
    "* A way of teaching you think might be better.\n",
    "* A possible location of new species.\n",
    "* A fairer way to administer standardized tests.\n",
    "\n",
    "**What is a Hypothesis Statement?**\n",
    "\n",
    "Jika kita akan mengajukan hipotesis, biasanya pernyataan dibuat. Pernyataan kita akan terlihat seperti ini: “Jika saya… (melakukan A pada variabel independen)…. Kemudian (B akan terjadi pada variabel dependen).” Sebagai contoh:\n",
    "\n",
    "* If I (decrease the amount of water given to herbs) then (the herbs will increase in size).\n",
    "* If I (give patients counseling in addition to medication) then (their overall depression scale will decrease).\n",
    "* If I (give exams at noon instead of 7) then (student test scores will improve).\n",
    "* If I (look in this certain location) then (I am more likely to find new species).\n",
    "\n",
    "Pernyataan hipotesis yang baik harus:\n",
    "\n",
    "* Include an “if” and “then” statement (according to the University of California).\n",
    "* Include both the independent and dependent variables.\n",
    "* Be testable by experiment, survey or other scientifically sound technique.\n",
    "* Be based on information in prior research (either yours or someone else’s).\n",
    "* Have design criteria (for engineering or programming projects).\n",
    "\n",
    "## What is Hypothesis Testing\n",
    "\n",
    "Hypothesis testing dalam statistik adalah cara kita menguji hasil survei atau eksperimen untuk melihat apakah kita memiliki hasil yang bermakna. Kita pada dasarnya menguji apakah hasil kita valid dengan mencari tahu kemungkinan bahwa hasil kita terjadi secara kebetulan. Jika hasil kita mungkin terjadi secara kebetulan, eksperimen tidak akan dapat diulang sehingga hanya sedikit berguna.\n",
    "\n",
    "Pengujian hipotesis dapat menjadi salah satu aspek yang paling membingungkan bagi siswa, terutama karena sebelum kita dapat melakukan pengujian, kita harus mengetahui apa null hypothesis kita. Seringkali, masalah kata rumit yang kita hadapi sulit untuk diuraikan. Tapi itu lebih mudah dari yang kita pikirkan; yang perlu kita lakukan adalah:\n",
    "\n",
    "* Figure out your null hypothesis,\n",
    "* State your null hypothesis,\n",
    "* Choose what kind of test you need to perform,\n",
    "* Either support or reject the null hypothesis.\n",
    "\n",
    "## What is the Null Hypothesis?\n",
    "\n",
    "Null hypothesis selalu merupakan fakta yang diterima. Contoh sederhana null hypothesis yang secara umum diterima sebagai benar adalah:\n",
    "\n",
    "* DNA is shaped like a double helix.\n",
    "* There are 8 planets in the solar system (excluding Pluto).\n",
    "* Taking Vioxx can increase your risk of heart problems (a drug now taken off the market).\n",
    "\n",
    "**Hypothesis Testing Examples: Basic Example**\n",
    "\n",
    "Researcher berpendapat bahwa jika pasien operasi lutut menjalani terapi fisik dua kali seminggu (bukan 3 kali), masa pemulihannya akan lebih lama. Waktu pemulihan rata-rata untuk pasien operasi lutut adalah 8.2 minggu.\n",
    "\n",
    "Hypothesis statement dalam pertanyaan ini adalah bahwa researcher percaya waktu pemulihan rata-rata lebih dari 8.2 minggu. Ini dapat ditulis dalam istilah matematika sebagai: H1: μ> 8.2\n",
    "\n",
    "Selanjutnya, kita harus menyatakan null hypothesis, yang akan terjadi jika researcher salah. Pada contoh di atas, jika peneliti salah maka waktu pemulihan kurang dari atau sama dengan 8,2 minggu. Dalam matematika, yaitu: H0 μ ≤ 8.2\n",
    "\n",
    "## Statistical Test Interpretation\n",
    "\n",
    "Hasil uji hipotesis statistik harus diinterpretasikan agar kita dapat mulai membuat klaim.\n",
    "\n",
    "Ada dua bentuk umum yang dapat diambil oleh statistical hypothesis test, dan harus ditafsirkan dengan cara yang berbeda. Dua bentuk tersebut adalah adalah p-value and critical values.\n",
    "\n",
    "**Interpret the p-value**\n",
    "\n",
    "Kita menggambarkan temuan sebagai statistically significant dengan menafsirkan p-value.\n",
    "\n",
    "Statistical hypothesis test dapat mengembalikan nilai yang disebut p atau p-value. Ini adalah kuantitas yang dapat kita gunakan untuk menafsirkan atau mengukur hasil tes: reject or fail to reject the null hypothesis. Ini dilakukan dengan membandingkan p-value dengan nilai ambang yang dipilih sebelumnya yang disebut significance level.\n",
    "\n",
    "Significance level sering kali disebut dengan Greek lower case letter - alpha.\n",
    "\n",
    "Nilai umum yang digunakan untuk alpha adalah 5% atau 0,05. Alpha value yang lebih kecil menunjukkan interpretasi yang lebih kuat dari null hypothesis, seperti 1% atau 0,1%.\n",
    "\n",
    "p-value dibandingkan dengan alpha value yang dipilih sebelumnya. Hasil signifikan secara statistik saat p-value is less than alpha. Ini menandakan bahwa: default hypothesis dapat ditolak.\n",
    "\n",
    "* **If p-value > alpha: Fail to reject the null hypothesis (i.e. not signifiant result).**\n",
    "* **If p-value <= alpha: Reject the null hypothesis (i.e. significant result).**\n",
    "\n",
    "For example, if we were performing a test of whether a data sample was normal and we calculated a p-value of .07, we could state something like:\n",
    "\n",
    "The test found that the data sample was normal, failing to reject the null hypothesis at a 5% significance level.\n",
    "\n"
   ]
  },
  {
   "cell_type": "code",
   "execution_count": 56,
   "metadata": {
    "colab": {
     "base_uri": "https://localhost:8080/"
    },
    "id": "GXqFxxjuG_qT",
    "outputId": "0c0b6502-1336-48d8-9332-a2290eedc967"
   },
   "outputs": [],
   "source": [
    "import statsmodels.api as sm\n",
    "import numpy as np\n",
    "import matplotlib.pyplot as plt\n",
    "import pandas as pd"
   ]
  },
  {
   "cell_type": "markdown",
   "metadata": {
    "id": "AoRuRJLdHEQy"
   },
   "source": [
    "## One Population Proportion\n",
    "\n",
    "**Research Question**\n",
    "\n",
    "Pada tahun-tahun sebelumnya, 52% orang tua percaya bahwa elektronik dan media sosial adalah penyebab kurang tidur remaja mereka. Apakah saat ini semakin banyak orang tua yang percaya bahwa kurang tidur remaja mereka disebabkan oleh elektronik dan media sosial?\n",
    "\n",
    "Population: Orang tua dengan remaja (usia 13-18)\n",
    "Parameter of Interest: p\n",
    "\n",
    "Null Hypothesis: p = 0.52\n",
    "Alternative Hypthosis: p > 0.52 (note that this is a one-sided test)\n",
    "\n",
    "Data: 1018 orang disurvei. 56% dari mereka yang disurvei percaya bahwa kurang tidur remaja mereka disebabkan oleh elektronik dan media sosial.\n",
    "\n",
    "**Use of proportions_ztest() from statsmodels**\n",
    "\n",
    "Perhatikan argumen alternative = \"larger\" yang menunjukkan one-sided test. Fungsi ini mengembalikan dua nilai - z-statistic dan p-value yang sesuai."
   ]
  },
  {
   "cell_type": "code",
   "execution_count": 57,
   "metadata": {
    "id": "lbFrLAKHHKzX"
   },
   "outputs": [],
   "source": [
    "n = 1018\n",
    "pnull = .52\n",
    "phat = .56"
   ]
  },
  {
   "cell_type": "code",
   "execution_count": 58,
   "metadata": {
    "colab": {
     "base_uri": "https://localhost:8080/"
    },
    "id": "KENJde_vHMZl",
    "outputId": "2ef70df7-19b1-4d06-cb6e-51b492912cba"
   },
   "outputs": [
    {
     "data": {
      "text/plain": [
       "(2.571067795759113, 0.005069273865860533)"
      ]
     },
     "execution_count": 58,
     "metadata": {},
     "output_type": "execute_result"
    }
   ],
   "source": [
    "sm.stats.proportions_ztest(phat * n, n, pnull, alternative='larger')"
   ]
  },
  {
   "cell_type": "markdown",
   "metadata": {
    "id": "FdBmS975HOhY"
   },
   "source": [
    "**Conclusion of the hypothesis test**\n",
    "\n",
    "Karena nilai p-value dari z-test cukup kecil, kita dapat reject the Null hypothesis bahwa persentase orang tua yang percaya bahwa kurang tidur remaja mereka disebabkan oleh elektronik dan media sosial sama dengan tahun-tahun sebelumnya. Perkiraan yaitu 52%.\n",
    "\n",
    "Meskipun, kita tidak menerima hipotesis alternatif, secara informal berarti bahwa ada kemungkinan besar proporsi ini lebih dari 52%.\n",
    "\n",
    "## Difference in Population Means\n",
    "**Research Question**\n",
    "\n",
    "Dengan mempertimbangkan data NHANES, apakah pria memiliki Body Mass Index rata-rata yang lebih tinggi secara signifikan daripada wanita?\n",
    "\n",
    "Population: Adults in the NHANES data.\n",
    "Parameter of Interest: μ1−μ2, Body Mass Index.\n",
    "\n",
    "Null Hypothesis: μ1=μ2\n",
    "Alternative Hypthosis: μ1≠μ2\n",
    "\n",
    "Data:\n",
    "\n",
    "2976 Females\n",
    "\n",
    "μ1=29.94\n",
    "\n",
    "σ1=7.75\n",
    "\n",
    "\n",
    "2759 Male Adults\n",
    "\n",
    "μ2=28.78\n",
    "\n",
    "σ2=6.25\n",
    "\n",
    "\n",
    "\n",
    "μ1−μ2=1.16\n",
    "\n"
   ]
  },
  {
   "cell_type": "code",
   "execution_count": null,
   "metadata": {
    "colab": {
     "base_uri": "https://localhost:8080/",
     "height": 226
    },
    "id": "SpQ28MyDHZFI",
    "outputId": "3ef6a4a3-b102-47e1-c7a0-53c88abeb7c1"
   },
   "outputs": [],
   "source": [
    "url = \"https://raw.githubusercontent.com/ardhiraka/PFDS_sources/master/nhanes_2015_2016.csv\"\n",
    "da = pd.read_csv(url)\n",
    "da.head()"
   ]
  },
  {
   "cell_type": "code",
   "execution_count": null,
   "metadata": {
    "id": "w_xZ3H6AHyJH"
   },
   "outputs": [],
   "source": [
    "females = da[da[\"RIAGENDR\"] == 2]\n",
    "male = da[da[\"RIAGENDR\"] == 1]"
   ]
  },
  {
   "cell_type": "code",
   "execution_count": null,
   "metadata": {
    "colab": {
     "base_uri": "https://localhost:8080/"
    },
    "id": "6uFhzPwfHf6Q",
    "outputId": "9f7b07a8-f309-4616-c6ff-947968353f82"
   },
   "outputs": [],
   "source": [
    "n1 = len(females)\n",
    "mu1 = females[\"BMXBMI\"].mean()\n",
    "sd1 = females[\"BMXBMI\"].std()\n",
    "\n",
    "(n1, mu1, sd1)"
   ]
  },
  {
   "cell_type": "code",
   "execution_count": null,
   "metadata": {
    "colab": {
     "base_uri": "https://localhost:8080/"
    },
    "id": "7gTz6Qn_HjEI",
    "outputId": "a1242ade-923c-41e5-8173-0f45eafbe737"
   },
   "outputs": [],
   "source": [
    "n2 = len(male)\n",
    "mu2 = male[\"BMXBMI\"].mean()\n",
    "sd2 = male[\"BMXBMI\"].std()\n",
    "\n",
    "(n2, mu2, sd2)\n"
   ]
  },
  {
   "cell_type": "code",
   "execution_count": null,
   "metadata": {
    "colab": {
     "base_uri": "https://localhost:8080/"
    },
    "id": "cjEGlX0fH6qZ",
    "outputId": "a3ac7416-acf2-4c2a-89ad-e0f432380c00"
   },
   "outputs": [],
   "source": [
    "sm.stats.ztest(females[\"BMXBMI\"].dropna(), male[\"BMXBMI\"].dropna(),alternative='two-sided')"
   ]
  },
  {
   "cell_type": "markdown",
   "metadata": {
    "id": "e65bxgVUIAuc"
   },
   "source": [
    "**Conclusion of the hypothesis test**\n",
    "\n",
    "Karena p-value (6.59e-10) sangat kecil, kita dapat **reject the Null hypothesis** bahwa rata-rata BMI laki-laki sama dengan perempuan. Catatan, kita menggunakan alternative=\"two-sided\" dalam z-test karena di sini kita memeriksa ketidaksamaan.\n",
    "\n",
    "Kita juga dapat memplot histogram dari data untuk memeriksa apakah kira-kira distribusinya mengikuti distribusi Normal."
   ]
  },
  {
   "cell_type": "code",
   "execution_count": null,
   "metadata": {
    "colab": {
     "base_uri": "https://localhost:8080/",
     "height": 577
    },
    "id": "sTcNB_3fIIKy",
    "outputId": "546d1b8d-54ea-4d40-a582-53007fbb6c94"
   },
   "outputs": [],
   "source": [
    "plt.figure(figsize=(7,4))\n",
    "plt.title(\"Female BMI histogram\",fontsize=16)\n",
    "plt.hist(females[\"BMXBMI\"].dropna(),edgecolor='k',color='pink',bins=25)\n",
    "plt.show()\n",
    "\n",
    "plt.figure(figsize=(7,4))\n",
    "plt.title(\"Male BMI histogram\",fontsize=16)\n",
    "plt.hist(male[\"BMXBMI\"].dropna(),edgecolor='k',color='blue',bins=25)\n",
    "plt.show()"
   ]
  },
  {
   "cell_type": "markdown",
   "metadata": {
    "id": "1Bmc1H5HIOkx"
   },
   "source": [
    "# Hypothesis Testing for One Proportion\n",
    "Kita akan menggunakan dataset Heart dari Kaggle. Pertama, kita mengimpor packages dan dataset:\n",
    "\n"
   ]
  },
  {
   "cell_type": "code",
   "execution_count": null,
   "metadata": {
    "colab": {
     "base_uri": "https://localhost:8080/",
     "height": 206
    },
    "id": "GM2DECZvKHk1",
    "outputId": "ad859bed-4958-442e-d7f8-77d6a62dd76c"
   },
   "outputs": [],
   "source": [
    "import pandas as pd\n",
    "import numpy as np\n",
    "import statsmodels.api as sm\n",
    "import scipy.stats.distributions as dist\n",
    "df = pd.read_csv('https://raw.githubusercontent.com/iketutg/my_example_ds/main/data/heart.csv')\n",
    "df.head()"
   ]
  },
  {
   "cell_type": "markdown",
   "metadata": {
    "id": "HDcIEtgPKKqw"
   },
   "source": [
    "Kolom terakhir dari data adalah 'target'. Menandakan jika seseorang menderita penyakit jantung atau tidak. Pertanyaan penelitiannya adalah, **“The population proportion of Ireland having heart disease is 42%. Are more people suffering from heart disease in the US”**?\n",
    "\n",
    "Sekarang, temukan jawaban atas pertanyaan penelitian ini selangkah demi selangkah.\n",
    "\n",
    "**Step 1**: define the null hypothesis and alternative hypothesis.\n",
    "\n",
    "Dalam permasalahan ini, null hypothesis adalah population proportion yang menderita penyakit jantung di AS kurang dari atau sama dengan 42%.\n",
    "\n",
    "Dan hipotesis alternatifnya adalah proporsi penduduk Amerika Serikat yang menderita penyakit jantung lebih dari 42%."
   ]
  },
  {
   "cell_type": "markdown",
   "metadata": {
    "id": "mnpU6Me-Kebr"
   },
   "source": [
    "Ho: p0 = 0.42  #null hypothesis\n",
    "\n",
    "Ha: p > 0.42   #alternative hypothesis"
   ]
  },
  {
   "cell_type": "markdown",
   "metadata": {
    "id": "SsEgBRGPKmuG"
   },
   "source": [
    "Mari kita lihat apakah kita dapat menemukan bukti untuk reject the null hypothesis.\n",
    "\n",
    "**Step 2**: Assume that the dataset above is a representative sample from the population of the US. So, calculate the population proportion of the US having heart disease."
   ]
  },
  {
   "cell_type": "code",
   "execution_count": null,
   "metadata": {
    "colab": {
     "base_uri": "https://localhost:8080/"
    },
    "id": "5KSViYn7y-r7",
    "outputId": "503a5568-a111-4381-da71-7b3c8c15bc40"
   },
   "outputs": [
    {
     "name": "stdout",
     "output_type": "stream",
     "text": [
      "<class 'pandas.core.frame.DataFrame'>\n",
      "RangeIndex: 1025 entries, 0 to 1024\n",
      "Data columns (total 14 columns):\n",
      " #   Column    Non-Null Count  Dtype  \n",
      "---  ------    --------------  -----  \n",
      " 0   age       1025 non-null   int64  \n",
      " 1   sex       1025 non-null   int64  \n",
      " 2   cp        1025 non-null   int64  \n",
      " 3   trestbps  1025 non-null   int64  \n",
      " 4   chol      1025 non-null   int64  \n",
      " 5   fbs       1025 non-null   int64  \n",
      " 6   restecg   1025 non-null   int64  \n",
      " 7   thalach   1025 non-null   int64  \n",
      " 8   exang     1025 non-null   int64  \n",
      " 9   oldpeak   1025 non-null   float64\n",
      " 10  slope     1025 non-null   int64  \n",
      " 11  ca        1025 non-null   int64  \n",
      " 12  thal      1025 non-null   int64  \n",
      " 13  target    1025 non-null   int64  \n",
      "dtypes: float64(1), int64(13)\n",
      "memory usage: 112.2 KB\n"
     ]
    }
   ],
   "source": [
    "df.info()"
   ]
  },
  {
   "cell_type": "code",
   "execution_count": null,
   "metadata": {
    "colab": {
     "base_uri": "https://localhost:8080/"
    },
    "id": "-K9VY8eTKrCh",
    "outputId": "094ae5ca-0e06-4681-ff17-1660bdde076c"
   },
   "outputs": [
    {
     "data": {
      "text/plain": [
       "0.0"
      ]
     },
     "execution_count": 127,
     "metadata": {},
     "output_type": "execute_result"
    }
   ],
   "source": [
    "p_us = len(df[df['target']=='1'])/len(df)\n",
    "p_us"
   ]
  },
  {
   "cell_type": "code",
   "execution_count": null,
   "metadata": {
    "colab": {
     "base_uri": "https://localhost:8080/"
    },
    "id": "32e19c7Isxc9",
    "outputId": "4dd05d9f-1713-4b38-bbfd-fb8a2fe34352"
   },
   "outputs": [
    {
     "data": {
      "text/plain": [
       "0.5131707317073171"
      ]
     },
     "execution_count": 130,
     "metadata": {},
     "output_type": "execute_result"
    }
   ],
   "source": [
    "p_us = len(df[df['target']==1])/len(df)\n",
    "p_us"
   ]
  },
  {
   "cell_type": "markdown",
   "metadata": {
    "id": "OU8ptGtxK2q_"
   },
   "source": [
    "Population proportion sampel yang mengalami penyakit jantung adalah 0.51 atau 51%. Persentase ini lebih dari null hypothesis, yaitu 42%.\n",
    "\n",
    "Tetapi pertanyaannya adalah apakah secara signifikan lebih dari 42%. Jika kita mengambil sampel acak yang berbeda, proporsi populasi yang diamati saat ini (51%) bisa berbeda.\n",
    "\n",
    "Untuk mengetahui apakah population proportion yang diamati secara signifikan lebih dari null hypothesis, lakukan hypothesis test.\n",
    "\n",
    "**Step 3**: Calculate the Test Statistic:\n",
    "\n",
    "Berikut rumus test-statistics:\n",
    "\n"
   ]
  },
  {
   "cell_type": "markdown",
   "metadata": {
    "id": "xcVcI110OWk0"
   },
   "source": [
    "<img src=\"https://i.ibb.co/yyvSPPK/s10-10.png\" width=\"500\" align=\"center\">"
   ]
  },
  {
   "cell_type": "markdown",
   "metadata": {
    "id": "252G-vRg3_KP"
   },
   "source": [
    "Kita menggunakan rumus ini untuk standard error:\n"
   ]
  },
  {
   "cell_type": "markdown",
   "metadata": {
    "id": "GLKn7nIOOXqY"
   },
   "source": [
    "<img src=\"https://i.ibb.co/7ptWqF7/s10-11.png\" width=\"300\" align=\"center\">"
   ]
  },
  {
   "cell_type": "markdown",
   "metadata": {
    "id": "xdJdwItfLBcC"
   },
   "source": [
    "Dalam rumus ini, p0 adalah 0,42 (menurut null hypothesis) dan n adalah ukuran sample population. Sekarang hitung Standard error dan test statistics:"
   ]
  },
  {
   "cell_type": "code",
   "execution_count": null,
   "metadata": {
    "colab": {
     "base_uri": "https://localhost:8080/"
    },
    "id": "ZWtje7LlNvH3",
    "outputId": "728ec1e2-d370-4154-e8d2-20992b35c6c5"
   },
   "outputs": [
    {
     "data": {
      "text/plain": [
       "0.015416177755376521"
      ]
     },
     "execution_count": 131,
     "metadata": {},
     "output_type": "execute_result"
    }
   ],
   "source": [
    "se = np.sqrt(0.42 * (1-0.42) / len(df))\n",
    "se "
   ]
  },
  {
   "cell_type": "markdown",
   "metadata": {
    "id": "dstxwy-NLELz"
   },
   "source": [
    "Lakukan test statistics menggunakan rumus test statistics di atas:\n"
   ]
  },
  {
   "cell_type": "code",
   "execution_count": null,
   "metadata": {
    "colab": {
     "base_uri": "https://localhost:8080/"
    },
    "id": "BgSyG7xNLUl7",
    "outputId": "72734c3d-2a0c-4abb-8302-f4a928d9d365"
   },
   "outputs": [
    {
     "data": {
      "text/plain": [
       "6.04369858636477"
      ]
     },
     "execution_count": 132,
     "metadata": {},
     "output_type": "execute_result"
    }
   ],
   "source": [
    "#Best estimate\n",
    "be = p_us\n",
    "\n",
    "#hypothesized estimate\n",
    "he = 0.42\n",
    "test_stat = (be - he)/se\n",
    "test_stat"
   ]
  },
  {
   "cell_type": "markdown",
   "metadata": {
    "id": "x0RtNDPZLX8v"
   },
   "source": [
    "Hasil test statistics adalah 6.043.\n",
    "\n",
    "**Step 4**: Calculate the p-value\n",
    "\n",
    "Test statistic ini juga disebut z-score. Kita dapat menemukan p-value dari z_table atau kita dapat menemukan p-value dari rumus ini dengan python."
   ]
  },
  {
   "cell_type": "code",
   "execution_count": null,
   "metadata": {
    "colab": {
     "base_uri": "https://localhost:8080/"
    },
    "id": "A6VJWpLjLdMw",
    "outputId": "e6682b8b-6734-4284-aacb-02e467202c43"
   },
   "outputs": [
    {
     "name": "stdout",
     "output_type": "stream",
     "text": [
      "1.5062078087269162e-09\n"
     ]
    }
   ],
   "source": [
    "pvalue = 2*dist.norm.cdf(-np.abs(test_stat))\n",
    "print(pvalue)"
   ]
  },
  {
   "cell_type": "markdown",
   "metadata": {
    "id": "JzAGg102Le_Q"
   },
   "source": [
    "**p-value adalah 1.5062078087269162e-09.**\n",
    "\n",
    "**Step 5**: Infer the conclusion from the p-value\n",
    "\n",
    "Pertimbangkan significance level alpha adalah 5% atau 0.05. Tingkat signifikansi 5% atau kurang berarti ada kemungkinan 95% atau lebih besar bahwa hasilnya tidak acak.\n",
    "\n",
    "Di sini p-value lebih rendah dari significance level yang kita tentukan yaitu 0.05. Jadi, kita reject the null hypothesis. Artinya, terdapat perbedaan yang signifikan dalam proporsi penduduk yang menderita penyakit jantung di Irlandia dan US.\n"
   ]
  },
  {
   "cell_type": "markdown",
   "metadata": {
    "id": "o_sY2KLI0Utp"
   },
   "source": [
    "# **Statistical Hypothesis Test Cheat sheet (Optional)**"
   ]
  },
  {
   "cell_type": "markdown",
   "metadata": {
    "id": "gDb5B8_JtCzn"
   },
   "source": [
    "\n",
    "\n",
    "# Normality Tests\n",
    "\n",
    "Bagian ini mencantumkan uji statistik yang dapat Anda gunakan untuk memeriksa apakah data Anda memiliki distribusi Gaussian.\n",
    "\n",
    "Menguji apakah sampel data memiliki distribusi Gaussian.\n",
    "\n",
    "**Assumption** \n",
    "\n",
    "* Pengamatan pada setiap sampel bersifat independen dan terdistribusi secara identik (iid).\n",
    "\n",
    "**Interpretation**\n",
    "\n",
    "* H0: sampel memiliki distribusi Gaussian.\n",
    "* H1 : sampel tidak berdistribusi Gaussian."
   ]
  },
  {
   "cell_type": "markdown",
   "metadata": {
    "id": "7xB0PbeD1ECD"
   },
   "source": [
    "## **Shapiro-Wilk Test** "
   ]
  },
  {
   "cell_type": "code",
   "execution_count": null,
   "metadata": {
    "colab": {
     "base_uri": "https://localhost:8080/"
    },
    "id": "MY8whKPAL01v",
    "outputId": "451b2e1d-c458-487d-ec61-f25d1d7a7a81"
   },
   "outputs": [
    {
     "name": "stdout",
     "output_type": "stream",
     "text": [
      "stat=0.895, p=0.193\n",
      "Probably Gaussian\n"
     ]
    }
   ],
   "source": [
    "# Example of the Shapiro-Wilk Normality Test\n",
    "\n",
    "from scipy.stats import shapiro\n",
    "data = [0.873, 2.817, 0.121, -0.945, -0.055, -1.436, 0.360, -1.478, -1.637, -1.869]\n",
    "stat, p = shapiro(data)\n",
    "print('stat=%.3f, p=%.3f' % (stat, p))\n",
    "if p > 0.05:\n",
    "    print('Probably Gaussian')\n",
    "else:\n",
    "    print('Probably not Gaussian')"
   ]
  },
  {
   "cell_type": "markdown",
   "metadata": {
    "id": "5j9HlOsQL5FF"
   },
   "source": [
    "## **D’Agostino’s K^2 Test**\n"
   ]
  },
  {
   "cell_type": "code",
   "execution_count": null,
   "metadata": {
    "colab": {
     "base_uri": "https://localhost:8080/"
    },
    "id": "jTGdI359L7Qa",
    "outputId": "b3984597-4ae7-46c3-8af7-e6173921c8e4"
   },
   "outputs": [
    {
     "name": "stdout",
     "output_type": "stream",
     "text": [
      "stat=3.392, p=0.183\n",
      "Probably Gaussian\n"
     ]
    },
    {
     "name": "stderr",
     "output_type": "stream",
     "text": [
      "/usr/local/lib/python3.7/dist-packages/scipy/stats/stats.py:1535: UserWarning: kurtosistest only valid for n>=20 ... continuing anyway, n=10\n",
      "  \"anyway, n=%i\" % int(n))\n"
     ]
    }
   ],
   "source": [
    "# Example of the D'Agostino's K^2 Normality Test\n",
    "from scipy.stats import normaltest\n",
    "data = [0.873, 2.817, 0.121, -0.945, -0.055, -1.436, 0.360, -1.478, -1.637, -1.869]\n",
    "stat, p = normaltest(data)\n",
    "print('stat=%.3f, p=%.3f' % (stat, p))\n",
    "if p > 0.05:\n",
    "    print('Probably Gaussian')\n",
    "else:\n",
    "    print('Probably not Gaussian')"
   ]
  },
  {
   "cell_type": "markdown",
   "metadata": {
    "id": "6Q-MZ6QmMTa4"
   },
   "source": [
    "## **Anderson-Darling Test**\n"
   ]
  },
  {
   "cell_type": "code",
   "execution_count": null,
   "metadata": {
    "colab": {
     "base_uri": "https://localhost:8080/"
    },
    "id": "_YOAMyrEMWpL",
    "outputId": "2f3951ec-d784-44eb-d69a-46bd25f5b665"
   },
   "outputs": [
    {
     "name": "stdout",
     "output_type": "stream",
     "text": [
      "stat=0.424\n",
      "Probably Gaussian at the 15.0% level\n",
      "Probably Gaussian at the 10.0% level\n",
      "Probably Gaussian at the 5.0% level\n",
      "Probably Gaussian at the 2.5% level\n",
      "Probably Gaussian at the 1.0% level\n"
     ]
    }
   ],
   "source": [
    "# Example of the Anderson-Darling Normality Test\n",
    "from scipy.stats import anderson\n",
    "data = [0.873, 2.817, 0.121, -0.945, -0.055, -1.436, 0.360, -1.478, -1.637, -1.869]\n",
    "result = anderson(data)\n",
    "print('stat=%.3f' % (result.statistic))\n",
    "for i in range(len(result.critical_values)):\n",
    "    sl, cv = result.significance_level[i], result.critical_values[i]\n",
    "    if result.statistic < cv:\n",
    "        print('Probably Gaussian at the %.1f%% level' % (sl))\n",
    "    else:\n",
    "        print('Probably not Gaussian at the %.1f%% level' % (sl))"
   ]
  },
  {
   "cell_type": "markdown",
   "metadata": {
    "id": "_ioteBo8MaAQ"
   },
   "source": [
    "# Correlation Tests\n",
    "Bagian ini berisi daftar uji statistik yang dapat Anda gunakan untuk memeriksa apakah dua sampel terkait.\n"
   ]
  },
  {
   "cell_type": "markdown",
   "metadata": {
    "id": "U1TSoqF2yO6w"
   },
   "source": [
    "## **Pearson’s Correlation Coefficient**\n",
    "\n",
    "Menguji apakah dua sampel memiliki hubungan linier.\n",
    "\n",
    "**Assumptions**\n",
    "\n",
    "* Pengamatan pada setiap sampel bersifat independen dan terdistribusi secara identik (iid).\n",
    "* Pengamatan pada setiap sampel berdistribusi normal.\n",
    "* Pengamatan pada setiap sampel memiliki varians yang sama.\n",
    "\n",
    "**Interpretation**\n",
    "\n",
    "* H0: kedua sampel saling bebas.\n",
    "* H1: ada ketergantungan antar sampel."
   ]
  },
  {
   "cell_type": "code",
   "execution_count": null,
   "metadata": {
    "colab": {
     "base_uri": "https://localhost:8080/"
    },
    "id": "CqTGNhF_Mlqq",
    "outputId": "de07e816-d43b-4cbe-bf7e-1095d22faa57"
   },
   "outputs": [
    {
     "name": "stdout",
     "output_type": "stream",
     "text": [
      "stat=0.688, p=0.028\n",
      "Probably dependent\n"
     ]
    }
   ],
   "source": [
    "# Example of the Pearson's Correlation test\n",
    "from scipy.stats import pearsonr\n",
    "data1 = [0.873, 2.817, 0.121, -0.945, -0.055, -1.436, 0.360, -1.478, -1.637, -1.869]\n",
    "data2 = [0.353, 3.517, 0.125, -7.545, -0.555, -1.536, 3.350, -1.578, -3.537, -1.579]\n",
    "stat, p = pearsonr(data1, data2)\n",
    "print('stat=%.3f, p=%.3f' % (stat, p))\n",
    "if p > 0.05:\n",
    "    print('Probably independent')\n",
    "else:\n",
    "    print('Probably dependent')"
   ]
  },
  {
   "cell_type": "markdown",
   "metadata": {
    "id": "z0QrNKhWMw1R"
   },
   "source": [
    "## **Spearman’s Rank Correlation**\n",
    "\n",
    "Menguji apakah dua sampel memiliki hubungan monoton.\n",
    "\n",
    "**Assumptions*8\n",
    "\n",
    "* Pengamatan pada setiap sampel bersifat independen dan terdistribusi secara identik (iid).\n",
    "* Pengamatan di setiap sampel dapat diberi peringkat.\n",
    "\n",
    "**Interpretation**\n",
    "\n",
    "* H0: kedua sampel saling bebas.\n",
    "* H1: ada ketergantungan antar sampel.\n",
    "\n"
   ]
  },
  {
   "cell_type": "code",
   "execution_count": null,
   "metadata": {
    "colab": {
     "base_uri": "https://localhost:8080/"
    },
    "id": "i0IF843nM6SH",
    "outputId": "0fea7aa3-5a30-4bf1-b811-1eb10e613f47"
   },
   "outputs": [
    {
     "name": "stdout",
     "output_type": "stream",
     "text": [
      "stat=0.855, p=0.002\n",
      "Probably dependent\n"
     ]
    }
   ],
   "source": [
    "# Example of the Spearman's Rank Correlation Test\n",
    "from scipy.stats import spearmanr\n",
    "data1 = [0.873, 2.817, 0.121, -0.945, -0.055, -1.436, 0.360, -1.478, -1.637, -1.869]\n",
    "data2 = [0.353, 3.517, 0.125, -7.545, -0.555, -1.536, 3.350, -1.578, -3.537, -1.579]\n",
    "stat, p = spearmanr(data1, data2)\n",
    "print('stat=%.3f, p=%.3f' % (stat, p))\n",
    "if p > 0.05:\n",
    "    print('Probably independent')\n",
    "else:\n",
    "    print('Probably dependent')"
   ]
  },
  {
   "cell_type": "markdown",
   "metadata": {
    "id": "yGGChBdCM9tx"
   },
   "source": [
    "## **Kendall’s Rank Correlation**\n",
    "Menguji apakah dua sampel memiliki hubungan monoton.\n",
    "\n",
    "**Assumptions**\n",
    "\n",
    "* Pengamatan pada setiap sampel bersifat independen dan terdistribusi secara identik (iid).\n",
    "* Pengamatan di setiap sampel dapat diberi peringkat.\n",
    "\n",
    "**Interpretation**\n",
    "\n",
    "* H0: kedua sampel saling bebas.\n",
    "* H1: ada ketergantungan antar sampel."
   ]
  },
  {
   "cell_type": "code",
   "execution_count": null,
   "metadata": {
    "colab": {
     "base_uri": "https://localhost:8080/"
    },
    "id": "-1PcR0DhNJZr",
    "outputId": "0dfa2e09-54e3-4cd4-b054-e97387f4e960"
   },
   "outputs": [
    {
     "name": "stdout",
     "output_type": "stream",
     "text": [
      "stat=0.733, p=0.002\n",
      "Probably dependent\n"
     ]
    }
   ],
   "source": [
    "# Example of the Kendall's Rank Correlation Test\n",
    "from scipy.stats import kendalltau\n",
    "data1 = [0.873, 2.817, 0.121, -0.945, -0.055, -1.436, 0.360, -1.478, -1.637, -1.869]\n",
    "data2 = [0.353, 3.517, 0.125, -7.545, -0.555, -1.536, 3.350, -1.578, -3.537, -1.579]\n",
    "stat, p = kendalltau(data1, data2)\n",
    "print('stat=%.3f, p=%.3f' % (stat, p))\n",
    "if p > 0.05:\n",
    "    print('Probably independent')\n",
    "else:\n",
    "    print('Probably dependent')"
   ]
  },
  {
   "cell_type": "markdown",
   "metadata": {
    "id": "ZqtdAinoNKey"
   },
   "source": [
    "## **Chi-Squared Test**\n",
    "Menguji apakah dua variabel kategoris terkait atau independen.\n",
    "\n",
    "**Assumptions**\n",
    "\n",
    "* Pengamatan yang digunakan dalam perhitungan tabel kontingensi adalah independen.\n",
    "* 25 atau lebih contoh di setiap sel tabel kontingensi.\n",
    "\n",
    "**Interpretation**\n",
    "\n",
    "* H0: kedua sampel saling bebas.\n",
    "* H1: ada ketergantungan antar sampel."
   ]
  },
  {
   "cell_type": "code",
   "execution_count": null,
   "metadata": {
    "colab": {
     "base_uri": "https://localhost:8080/"
    },
    "id": "Bn8jshZuNdf0",
    "outputId": "9c501fac-10c1-4999-cdee-1d9045e5d741"
   },
   "outputs": [
    {
     "name": "stdout",
     "output_type": "stream",
     "text": [
      "stat=0.272, p=0.873\n",
      "Probably independent\n"
     ]
    }
   ],
   "source": [
    "# Example of the Chi-Squared Test\n",
    "from scipy.stats import chi2_contingency\n",
    "table = [[10, 20, 30],[6,  9,  17]]\n",
    "stat, p, dof, expected = chi2_contingency(table)\n",
    "print('stat=%.3f, p=%.3f' % (stat, p))\n",
    "if p > 0.05:\n",
    "    print('Probably independent')\n",
    "else:\n",
    "    print('Probably dependent')\n"
   ]
  },
  {
   "cell_type": "markdown",
   "metadata": {
    "id": "8YrLSMuQz05B"
   },
   "source": [
    "# Stationary Tests\n",
    "\n",
    "Bagian ini mencantumkan tes statistik yang dapat Anda gunakan untuk memeriksa apakah deret waktu stasioner atau tidak."
   ]
  },
  {
   "cell_type": "markdown",
   "metadata": {
    "id": "SICcz02vNfqO"
   },
   "source": [
    "## Tes Root Unit Dickey-Fuller Unit Root Test\n",
    "\n",
    "Menguji apakah deret waktu memiliki akar unit, mis. memiliki trend atau lebih umum bersifat autoregressive.\n",
    "\n",
    "**Assumptions**\n",
    "\n",
    "* Pengamatan di dipesan sementara.\n",
    "\n",
    "**Interpretation**\n",
    "\n",
    "\n",
    "* H0: ada akar unit (seri tidak stasioner).\n",
    "* H1: akar unit tidak ada (seri stasioner)."
   ]
  },
  {
   "cell_type": "markdown",
   "metadata": {
    "id": "CfEbyyUmziAw"
   },
   "source": [
    "## **Chi-Squared Test**\n",
    "Menguji apakah dua variabel kategoris terkait atau independen.\n",
    "\n",
    "**Assumptions**\n",
    "\n",
    "* Pengamatan yang digunakan dalam perhitungan tabel kontingensi adalah independen.\n",
    "* 25 atau lebih contoh di setiap sel tabel kontingensi.\n",
    "\n",
    "**Interpretation**\n",
    "\n",
    "* H0: kedua sampel saling bebas.\n",
    "* H1: ada ketergantungan antar sampel."
   ]
  },
  {
   "cell_type": "code",
   "execution_count": null,
   "metadata": {
    "colab": {
     "base_uri": "https://localhost:8080/"
    },
    "id": "j2wc9GceNkeu",
    "outputId": "a875f0d0-281f-48ef-d1d5-a57987355662"
   },
   "outputs": [
    {
     "name": "stdout",
     "output_type": "stream",
     "text": [
      "stat=0.175, p=0.971\n",
      "Probably not Stationary\n"
     ]
    }
   ],
   "source": [
    "# Example of the Augmented Dickey-Fuller unit root test\n",
    "from statsmodels.tsa.stattools import adfuller\n",
    "data = [0, 1, 2, 3, 4, 5, 6, 7, 8, 9]\n",
    "stat, p, lags, obs, crit, t = adfuller(data)\n",
    "print('stat=%.3f, p=%.3f' % (stat, p))\n",
    "if p > 0.05:\n",
    "    print('Probably not Stationary')\n",
    "else:\n",
    "    print('Probably Stationary')"
   ]
  },
  {
   "cell_type": "markdown",
   "metadata": {
    "id": "hT6Tsv04Npwx"
   },
   "source": [
    "## **Kwiatkowski-Phillips-Schmidt-Shin**\n",
    "\n",
    "Menguji apakah deret waktu tren stasioner atau tidak.\n",
    "\n",
    "**Assumptions**\n",
    "\n",
    "* Pengamatan di dipesan sementara.\n",
    "\n",
    "**Interpretation**\n",
    "\n",
    "* H0: time series tidak trend-stasioner.\n",
    "* H1: deret waktu adalah tren-stasioner."
   ]
  },
  {
   "cell_type": "code",
   "execution_count": null,
   "metadata": {
    "colab": {
     "base_uri": "https://localhost:8080/"
    },
    "id": "b_1sAZE-NnB1",
    "outputId": "048880dc-270d-427e-8002-aca6ca853164"
   },
   "outputs": [
    {
     "name": "stdout",
     "output_type": "stream",
     "text": [
      "stat=0.410, p=0.073\n",
      "Probably not Stationary\n"
     ]
    },
    {
     "name": "stderr",
     "output_type": "stream",
     "text": [
      "/usr/local/lib/python3.7/dist-packages/statsmodels/tsa/stattools.py:1685: FutureWarning: The behavior of using lags=None will change in the next release. Currently lags=None is the same as lags='legacy', and so a sample-size lag length is used. After the next release, the default will change to be the same as lags='auto' which uses an automatic lag length selection method. To silence this warning, either use 'auto' or 'legacy'\n",
      "  warn(msg, FutureWarning)\n"
     ]
    }
   ],
   "source": [
    "# Example of the Kwiatkowski-Phillips-Schmidt-Shin test\n",
    "from statsmodels.tsa.stattools import kpss\n",
    "data = [0, 1, 2, 3, 4, 5, 6, 7, 8, 9]\n",
    "stat, p, lags, crit = kpss(data)\n",
    "print('stat=%.3f, p=%.3f' % (stat, p))\n",
    "if p > 0.05:\n",
    "    print('Probably not Stationary')\n",
    "else:\n",
    "    print('Probably Stationary')"
   ]
  },
  {
   "cell_type": "markdown",
   "metadata": {
    "id": "Jpt1TFgSxoOJ"
   },
   "source": [
    "# Parametric Statistical Hypothesis Tests\n",
    "\n",
    "Bagian ini mencantumkan uji statistik yang dapat Anda gunakan untuk membandingkan sampel data."
   ]
  },
  {
   "cell_type": "markdown",
   "metadata": {
    "id": "1ccPB1qrN2R_"
   },
   "source": [
    "\n",
    "\n",
    "## **Student’s t-test**\n",
    "Menguji apakah mean dari dua sampel independen berbeda secara signifikan.\n",
    "\n",
    "**Assumptions**\n",
    "\n",
    "* Pengamatan pada setiap sampel bersifat independen dan terdistribusi secara identik (iid).\n",
    "* Pengamatan pada setiap sampel berdistribusi normal.\n",
    "* Pengamatan pada setiap sampel memiliki varians yang sama.\n",
    "\n",
    "**Interpretation**\n",
    "\n",
    "* H0: rata-rata sampel sama.\n",
    "* H1: rata-rata sampel tidak sama."
   ]
  },
  {
   "cell_type": "code",
   "execution_count": null,
   "metadata": {
    "colab": {
     "base_uri": "https://localhost:8080/"
    },
    "id": "quuSdUjbObHR",
    "outputId": "6fe05b66-7350-4f28-ec87-a7073ab6febb"
   },
   "outputs": [
    {
     "name": "stdout",
     "output_type": "stream",
     "text": [
      "stat=-0.326, p=0.748\n",
      "Probably the same distribution\n"
     ]
    }
   ],
   "source": [
    "# Example of the Student's t-test\n",
    "from scipy.stats import ttest_ind\n",
    "data1 = [0.873, 2.817, 0.121, -0.945, -0.055, -1.436, 0.360, -1.478, -1.637, -1.869]\n",
    "data2 = [1.142, -0.432, -0.938, -0.729, -0.846, -0.157, 0.500, 1.183, -1.075, -0.169]\n",
    "stat, p = ttest_ind(data1, data2)\n",
    "print('stat=%.3f, p=%.3f' % (stat, p))\n",
    "if p > 0.05:\n",
    "    print('Probably the same distribution')\n",
    "else:\n",
    "    print('Probably different distributions')"
   ]
  },
  {
   "cell_type": "markdown",
   "metadata": {
    "id": "KOESOsHEOfYT"
   },
   "source": [
    "## Paired Student’s t-test\n",
    "\n",
    "Menguji apakah mean dari dua sampel berpasangan berbeda secara signifikan.\n",
    "\n",
    "**Assumptions** \n",
    "\n",
    "* Pengamatan pada setiap sampel bersifat independen dan terdistribusi secara identik (iid).\n",
    "* Pengamatan pada setiap sampel berdistribusi normal.\n",
    "* Pengamatan pada setiap sampel memiliki varians yang sama.\n",
    "* Pengamatan di setiap sampel dipasangkan.\n",
    "\n",
    "**Interpretation**\n",
    "\n",
    "* H0: rata-rata sampel sama.\n",
    "* H1: rata-rata sampel tidak sama."
   ]
  },
  {
   "cell_type": "code",
   "execution_count": null,
   "metadata": {
    "colab": {
     "base_uri": "https://localhost:8080/"
    },
    "id": "2mIbGUhBOh_d",
    "outputId": "b4647da3-bf64-4af8-bdc5-e23837f601ab"
   },
   "outputs": [
    {
     "name": "stdout",
     "output_type": "stream",
     "text": [
      "stat=-0.334, p=0.746\n",
      "Probably the same distribution\n"
     ]
    }
   ],
   "source": [
    "# Example of the Paired Student's t-test\n",
    "from scipy.stats import ttest_rel\n",
    "data1 = [0.873, 2.817, 0.121, -0.945, -0.055, -1.436, 0.360, -1.478, -1.637, -1.869]\n",
    "data2 = [1.142, -0.432, -0.938, -0.729, -0.846, -0.157, 0.500, 1.183, -1.075, -0.169]\n",
    "stat, p = ttest_rel(data1, data2)\n",
    "print('stat=%.3f, p=%.3f' % (stat, p))\n",
    "if p > 0.05:\n",
    "    print('Probably the same distribution')\n",
    "else:\n",
    "    print('Probably different distributions')"
   ]
  },
  {
   "cell_type": "markdown",
   "metadata": {
    "id": "RsCn7NgvOkbP"
   },
   "source": [
    "## **Analysis of Variance Test (ANOVA)**\n",
    "\n",
    "Menguji apakah mean dari dua atau lebih sampel independen berbeda secara signifikan.\n",
    "\n",
    "**Assumptions**\n",
    "\n",
    "* Pengamatan pada setiap sampel bersifat independen dan terdistribusi secara identik (iid).\n",
    "* Pengamatan pada setiap sampel berdistribusi normal.\n",
    "* Pengamatan pada setiap sampel memiliki varians yang sama.\n",
    "\n",
    "**Interpretation**\n",
    "\n",
    "* H0: rata-rata sampel sama.\n",
    "* H1: satu atau lebih rata-rata sampel tidak sama."
   ]
  },
  {
   "cell_type": "code",
   "execution_count": null,
   "metadata": {
    "colab": {
     "base_uri": "https://localhost:8080/"
    },
    "id": "O5zsJRHVPD4I",
    "outputId": "c01e2a6e-ecb5-4f96-d5b4-1ccb6e690831"
   },
   "outputs": [
    {
     "name": "stdout",
     "output_type": "stream",
     "text": [
      "stat=0.096, p=0.908\n",
      "Probably the same distribution\n"
     ]
    }
   ],
   "source": [
    "# Example of the Analysis of Variance Test\n",
    "from scipy.stats import f_oneway\n",
    "data1 = [0.873, 2.817, 0.121, -0.945, -0.055, -1.436, 0.360, -1.478, -1.637, -1.869]\n",
    "data2 = [1.142, -0.432, -0.938, -0.729, -0.846, -0.157, 0.500, 1.183, -1.075, -0.169]\n",
    "data3 = [-0.208, 0.696, 0.928, -1.148, -0.213, 0.229, 0.137, 0.269, -0.870, -1.204]\n",
    "stat, p = f_oneway(data1, data2, data3)\n",
    "print('stat=%.3f, p=%.3f' % (stat, p))\n",
    "if p > 0.05:\n",
    "    print('Probably the same distribution')\n",
    "else:\n",
    "    print('Probably different distributions')"
   ]
  },
  {
   "cell_type": "markdown",
   "metadata": {
    "id": "ilJ4eN7vwODR"
   },
   "source": [
    "# Nonparametric Statistical Hypothesis Tests\n",
    "\n"
   ]
  },
  {
   "cell_type": "markdown",
   "metadata": {
    "id": "Tgx1aOksPK1s"
   },
   "source": [
    "\n",
    "## **Mann-Whitney U Test**\n",
    "Menguji apakah distribusi dua sampel berpasangan sama atau tidak.\n",
    "\n",
    "**Assumptions**\n",
    "\n",
    "* Pengamatan pada setiap sampel bersifat independen dan terdistribusi secara identik (iid).\n",
    "* Pengamatan di setiap sampel dapat diberi peringkat.\n",
    "* Pengamatan di setiap sampel dipasangkan.\n",
    "\n",
    "**Interpretation**\n",
    "\n",
    "* H0: distribusi kedua sampel sama.\n",
    "* H1: distribusi kedua sampel tidak sama."
   ]
  },
  {
   "cell_type": "code",
   "execution_count": null,
   "metadata": {
    "colab": {
     "base_uri": "https://localhost:8080/"
    },
    "id": "f4mntHjhPYAH",
    "outputId": "56117cfe-9ff8-4ddb-cfd9-f4961116e5f5"
   },
   "outputs": [
    {
     "name": "stdout",
     "output_type": "stream",
     "text": [
      "stat=40.000, p=0.236\n",
      "Probably the same distribution\n"
     ]
    }
   ],
   "source": [
    "# Example of the Mann-Whitney U Test\n",
    "from scipy.stats import mannwhitneyu\n",
    "data1 = [0.873, 2.817, 0.121, -0.945, -0.055, -1.436, 0.360, -1.478, -1.637, -1.869]\n",
    "data2 = [1.142, -0.432, -0.938, -0.729, -0.846, -0.157, 0.500, 1.183, -1.075, -0.169]\n",
    "stat, p = mannwhitneyu(data1, data2)\n",
    "print('stat=%.3f, p=%.3f' % (stat, p))\n",
    "if p > 0.05:\n",
    "    print('Probably the same distribution')\n",
    "else:\n",
    "    print('Probably different distributions')"
   ]
  },
  {
   "cell_type": "markdown",
   "metadata": {
    "id": "FmLvDcWuSrhI"
   },
   "source": [
    "## **Wilcoxon Signed-Rank Test**\n",
    "Menguji apakah distribusi dua sampel berpasangan sama atau tidak.\n",
    "\n",
    "**Assumptions**\n",
    "\n",
    "* Pengamatan pada setiap sampel bersifat independen dan terdistribusi secara identik (iid).\n",
    "* Pengamatan di setiap sampel dapat diberi peringkat.\n",
    "* Pengamatan di setiap sampel dipasangkan.\n",
    "\n",
    "**Interpretation**\n",
    "\n",
    "* H0: distribusi kedua sampel sama.\n",
    "* H1: distribusi kedua sampel tidak sama."
   ]
  },
  {
   "cell_type": "code",
   "execution_count": null,
   "metadata": {
    "colab": {
     "base_uri": "https://localhost:8080/"
    },
    "id": "ve_75OTISvyO",
    "outputId": "613c01e8-44ca-4cf7-d131-d694b8e35866"
   },
   "outputs": [
    {
     "name": "stdout",
     "output_type": "stream",
     "text": [
      "stat=21.000, p=0.508\n",
      "Probably the same distribution\n"
     ]
    }
   ],
   "source": [
    "\n",
    "# Example of the Wilcoxon Signed-Rank Test\n",
    "from scipy.stats import wilcoxon\n",
    "data1 = [0.873, 2.817, 0.121, -0.945, -0.055, -1.436, 0.360, -1.478, -1.637, -1.869]\n",
    "data2 = [1.142, -0.432, -0.938, -0.729, -0.846, -0.157, 0.500, 1.183, -1.075, -0.169]\n",
    "stat, p = wilcoxon(data1, data2)\n",
    "print('stat=%.3f, p=%.3f' % (stat, p))\n",
    "if p > 0.05:\n",
    "    print('Probably the same distribution')\n",
    "else:\n",
    "    print('Probably different distributions')\n"
   ]
  },
  {
   "cell_type": "markdown",
   "metadata": {
    "id": "RRkuzN02Su38"
   },
   "source": [
    "## **Kruskal-Wallis H Test**\n",
    "Menguji apakah distribusi dua atau lebih sampel independen sama atau tidak.\n",
    "\n",
    "**Assumptions**\n",
    "\n",
    "* Pengamatan pada setiap sampel bersifat independen dan terdistribusi identik (iid).\n",
    "* Pengamatan di setiap sampel dapat diurutkan.\n",
    "\n",
    "**Interpretation**\n",
    "\n",
    "* H0: the distributions of all samples are equal.\n",
    "* H1: the distributions of one or more samples are not equal."
   ]
  },
  {
   "cell_type": "code",
   "execution_count": null,
   "metadata": {
    "colab": {
     "base_uri": "https://localhost:8080/"
    },
    "id": "U1CGeMGDSBgi",
    "outputId": "a546e5f4-beaa-43ca-ac56-b7c08ee1f32a"
   },
   "outputs": [
    {
     "name": "stdout",
     "output_type": "stream",
     "text": [
      "stat=0.571, p=0.450\n",
      "Probably the same distribution\n"
     ]
    }
   ],
   "source": [
    "# Example of the Kruskal-Wallis H Test\n",
    "from scipy.stats import kruskal\n",
    "data1 = [0.873, 2.817, 0.121, -0.945, -0.055, -1.436, 0.360, -1.478, -1.637, -1.869]\n",
    "data2 = [1.142, -0.432, -0.938, -0.729, -0.846, -0.157, 0.500, 1.183, -1.075, -0.169]\n",
    "stat, p = kruskal(data1, data2)\n",
    "print('stat=%.3f, p=%.3f' % (stat, p))\n",
    "if p > 0.05:\n",
    "    print('Probably the same distribution')\n",
    "else:\n",
    "    print('Probably different distributions')"
   ]
  },
  {
   "cell_type": "markdown",
   "metadata": {
    "id": "D_AkMZsMSEgE"
   },
   "source": []
  },
  {
   "cell_type": "markdown",
   "metadata": {
    "id": "qbSBxoEKPl1N"
   },
   "source": [
    "## **Friedman Test**\n",
    "\n",
    "Menguji apakah distribusi dua atau lebih sampel berpasangan sama atau tidak.\n",
    "\n",
    "**Assumptions**\n",
    "\n",
    "* Pengamatan pada setiap sampel bersifat independen dan terdistribusi identik (iid).\n",
    "* Pengamatan di setiap sampel dapat diurutkan.\n",
    "* Pengamatan di setiap sampel dipasangkan.\n",
    "\n",
    "**Interpretation**\n",
    "\n",
    "* H0: distribusi semua sampel adalah sama.\n",
    "* H1: distribusi satu atau lebih sampel tidak sama.\n"
   ]
  },
  {
   "cell_type": "code",
   "execution_count": null,
   "metadata": {
    "colab": {
     "base_uri": "https://localhost:8080/"
    },
    "id": "pScWkhiVt2me",
    "outputId": "f6147a47-1861-40c4-c18b-409615274940"
   },
   "outputs": [
    {
     "name": "stdout",
     "output_type": "stream",
     "text": [
      "stat=0.800, p=0.670\n",
      "Probably the same distribution\n"
     ]
    }
   ],
   "source": [
    "# Example of the Friedman Test\n",
    "from scipy.stats import friedmanchisquare\n",
    "data1 = [0.873, 2.817, 0.121, -0.945, -0.055, -1.436, 0.360, -1.478, -1.637, -1.869]\n",
    "data2 = [1.142, -0.432, -0.938, -0.729, -0.846, -0.157, 0.500, 1.183, -1.075, -0.169]\n",
    "data3 = [-0.208, 0.696, 0.928, -1.148, -0.213, 0.229, 0.137, 0.269, -0.870, -1.204]\n",
    "stat, p = friedmanchisquare(data1, data2, data3)\n",
    "print('stat=%.3f, p=%.3f' % (stat, p))\n",
    "if p > 0.05:\n",
    "    print('Probably the same distribution')\n",
    "else:\n",
    "    print('Probably different distributions')"
   ]
  },
  {
   "cell_type": "markdown",
   "metadata": {
    "id": "_yP7Cs_0emHV"
   },
   "source": [
    "---------\n"
   ]
  },
  {
   "cell_type": "markdown",
   "metadata": {
    "id": "p3vha8wlen1R"
   },
   "source": [
    "Done"
   ]
  },
  {
   "cell_type": "markdown",
   "metadata": {
    "id": "9UVr_uJ3eo93"
   },
   "source": [
    "--------"
   ]
  },
  {
   "cell_type": "markdown",
   "metadata": {
    "id": "4NR78uDVeqKr"
   },
   "source": [
    "# Meand and Standard Deviation\n",
    "\n",
    "https://i.ibb.co/mCQMWnw/5-1-mean-and-std.png"
   ]
  },
  {
   "cell_type": "markdown",
   "metadata": {
    "id": "bhc6F2AslkbW"
   },
   "source": [
    "-------\n"
   ]
  },
  {
   "cell_type": "markdown",
   "metadata": {
    "id": "PP78ZNS1lmXi"
   },
   "source": [
    "### Z SCore \n",
    "\n",
    "Standard Score (z-score) merepresentasikan nilai simpangan suatu entri data terhadap mean dari dataset yang diukur berdasarkan standard deviation.\n",
    "\n",
    "Nilai z-score bisa negatif, positif, atau nol.\n",
    "\n",
    "# $z = \\frac{value - mean}{standard\\_deviation} = \\frac{x - \\mu}{\\sigma}$\n"
   ]
  },
  {
   "cell_type": "markdown",
   "metadata": {
    "id": "ojMLKYpNnuVd"
   },
   "source": [
    "### The Standard Normal Distribution\n",
    "\n",
    "<img src=\"https://i.ibb.co/5TtQTQF/5-1-standard-normal-distribution.png\" width=\"500\" align=\"center\">\n",
    "\n"
   ]
  },
  {
   "cell_type": "markdown",
   "metadata": {
    "id": "aN-CkZbBnUvb"
   },
   "source": [
    "\n",
    "\n",
    "- The normal distribution with a mean of $0$ and a standard deviation of $1$ is called the standard normal distribution. \n",
    "- The horizontal scale of the graph of the standard normal distribution corresponds to $z$-scores.\n",
    "- $z = \\frac{value - mean}{standard\\_deviation} = \\frac{x - \\mu}{\\sigma}$\n",
    "\n",
    "![](./image/5_1_standard_normal_distribution.png)\n",
    "\n",
    "It is important that you know the difference between $x$ and $z$.\n",
    "The random variable $x$ is sometimes called a raw score and represents values in a nonstandard normal distribution, whereas $z$ represents values in the standard normal distribution."
   ]
  },
  {
   "cell_type": "markdown",
   "metadata": {
    "id": "rH5aFzjgooZ9"
   },
   "source": [
    "### Properties of the Standard Normal Distribution\n",
    "\n",
    "1. The cumulative area is close to $0$ for $z$-scores close to $z = -3.49$.\n",
    "2. The cumulative area increases as the $z$-scores increase.\n",
    "3. The cumulative area for $z = 0$ is $0.5$.\n",
    "4. The cumulative area is close to $1$ for $z$-scores close to $z = 3.49$."
   ]
  },
  {
   "cell_type": "markdown",
   "metadata": {
    "id": "aKtzYRRIlc_o"
   },
   "source": [
    "### Tabel Standard Distribution Normal"
   ]
  },
  {
   "cell_type": "code",
   "execution_count": null,
   "metadata": {
    "id": "oZ6UWI69PkdT"
   },
   "outputs": [],
   "source": [
    "# Example of the Friedman Test\n",
    "from scipy.stats import friedmanchisquare\n",
    "data1 = [0.873, 2.817, 0.121, -0.945, -0.055, -1.436, 0.360, -1.478, -1.637, -1.869]\n",
    "data2 = [1.142, -0.432, -0.938, -0.729, -0.846, -0.157, 0.500, 1.183, -1.075, -0.169]\n",
    "data3 = [-0.208, 0.696, 0.928, -1.148, -0.213, 0.229, 0.137, 0.269, -0.870, -1.204]\n",
    "stat, p = friedmanchisquare(data1, data2, data3)\n",
    "print('stat=%.3f, p=%.3f' % (stat, p))\n",
    "if p > 0.05:\n",
    "    print('Probably the same distribution')\n",
    "else:\n",
    "    print('Probably different distributions')"
   ]
  },
  {
   "cell_type": "code",
   "execution_count": null,
   "metadata": {
    "id": "Jly78LO5PAVu"
   },
   "outputs": [],
   "source": [
    "def normalProbabilityDensity(x):\n",
    "    constant = 1.0 / np.sqrt(2*np.pi)\n",
    "    return(constant * np.exp((-x**2) / 2.0) )"
   ]
  },
  {
   "cell_type": "code",
   "execution_count": null,
   "metadata": {
    "id": "UHMpeIvBPJOR"
   },
   "outputs": [],
   "source": [
    "import numpy as np \n",
    "import pandas as pd\n",
    "from scipy.integrate import quad\n",
    "\n",
    "standard_normal_table = pd.DataFrame(data = [],\n",
    "                                     index = np.round(np.arange(0, 3.5, .1),2),\n",
    "                                     columns = np.round(np.arange(0.00, .1, .01), 2))\n",
    "\n",
    "for index in standard_normal_table.index:\n",
    "    for column in standard_normal_table.columns:\n",
    "        z = np.round(index + column, 2)\n",
    "        value, _ = quad(normalProbabilityDensity, np.NINF, z)\n",
    "        standard_normal_table.loc[index, column] = value\n",
    "\n",
    "standard_normal_table.index = standard_normal_table.index.astype(str)\n",
    "standard_normal_table.columns = [str(column).ljust(4,'0') for column in standard_normal_table.columns]"
   ]
  },
  {
   "cell_type": "code",
   "execution_count": null,
   "metadata": {
    "colab": {
     "base_uri": "https://localhost:8080/",
     "height": 1000
    },
    "id": "Ncmmoz6yPdjw",
    "outputId": "7b67e519-99e8-4c27-d5dc-c6f8d61dd470"
   },
   "outputs": [
    {
     "data": {
      "text/html": [
       "<div>\n",
       "<style scoped>\n",
       "    .dataframe tbody tr th:only-of-type {\n",
       "        vertical-align: middle;\n",
       "    }\n",
       "\n",
       "    .dataframe tbody tr th {\n",
       "        vertical-align: top;\n",
       "    }\n",
       "\n",
       "    .dataframe thead th {\n",
       "        text-align: right;\n",
       "    }\n",
       "</style>\n",
       "<table border=\"1\" class=\"dataframe\">\n",
       "  <thead>\n",
       "    <tr style=\"text-align: right;\">\n",
       "      <th></th>\n",
       "      <th>0.00</th>\n",
       "      <th>0.01</th>\n",
       "      <th>0.02</th>\n",
       "      <th>0.03</th>\n",
       "      <th>0.04</th>\n",
       "      <th>0.05</th>\n",
       "      <th>0.06</th>\n",
       "      <th>0.07</th>\n",
       "      <th>0.08</th>\n",
       "      <th>0.09</th>\n",
       "    </tr>\n",
       "  </thead>\n",
       "  <tbody>\n",
       "    <tr>\n",
       "      <th>0.0</th>\n",
       "      <td>0.5</td>\n",
       "      <td>0.503989</td>\n",
       "      <td>0.507978</td>\n",
       "      <td>0.511966</td>\n",
       "      <td>0.515953</td>\n",
       "      <td>0.519939</td>\n",
       "      <td>0.523922</td>\n",
       "      <td>0.527903</td>\n",
       "      <td>0.531881</td>\n",
       "      <td>0.535856</td>\n",
       "    </tr>\n",
       "    <tr>\n",
       "      <th>0.1</th>\n",
       "      <td>0.539828</td>\n",
       "      <td>0.543795</td>\n",
       "      <td>0.547758</td>\n",
       "      <td>0.551717</td>\n",
       "      <td>0.55567</td>\n",
       "      <td>0.559618</td>\n",
       "      <td>0.563559</td>\n",
       "      <td>0.567495</td>\n",
       "      <td>0.571424</td>\n",
       "      <td>0.575345</td>\n",
       "    </tr>\n",
       "    <tr>\n",
       "      <th>0.2</th>\n",
       "      <td>0.57926</td>\n",
       "      <td>0.583166</td>\n",
       "      <td>0.587064</td>\n",
       "      <td>0.590954</td>\n",
       "      <td>0.594835</td>\n",
       "      <td>0.598706</td>\n",
       "      <td>0.602568</td>\n",
       "      <td>0.60642</td>\n",
       "      <td>0.610261</td>\n",
       "      <td>0.614092</td>\n",
       "    </tr>\n",
       "    <tr>\n",
       "      <th>0.3</th>\n",
       "      <td>0.617911</td>\n",
       "      <td>0.62172</td>\n",
       "      <td>0.625516</td>\n",
       "      <td>0.6293</td>\n",
       "      <td>0.633072</td>\n",
       "      <td>0.636831</td>\n",
       "      <td>0.640576</td>\n",
       "      <td>0.644309</td>\n",
       "      <td>0.648027</td>\n",
       "      <td>0.651732</td>\n",
       "    </tr>\n",
       "    <tr>\n",
       "      <th>0.4</th>\n",
       "      <td>0.655422</td>\n",
       "      <td>0.659097</td>\n",
       "      <td>0.662757</td>\n",
       "      <td>0.666402</td>\n",
       "      <td>0.670031</td>\n",
       "      <td>0.673645</td>\n",
       "      <td>0.677242</td>\n",
       "      <td>0.680822</td>\n",
       "      <td>0.684386</td>\n",
       "      <td>0.687933</td>\n",
       "    </tr>\n",
       "    <tr>\n",
       "      <th>0.5</th>\n",
       "      <td>0.691462</td>\n",
       "      <td>0.694974</td>\n",
       "      <td>0.698468</td>\n",
       "      <td>0.701944</td>\n",
       "      <td>0.705401</td>\n",
       "      <td>0.70884</td>\n",
       "      <td>0.71226</td>\n",
       "      <td>0.715661</td>\n",
       "      <td>0.719043</td>\n",
       "      <td>0.722405</td>\n",
       "    </tr>\n",
       "    <tr>\n",
       "      <th>0.6</th>\n",
       "      <td>0.725747</td>\n",
       "      <td>0.729069</td>\n",
       "      <td>0.732371</td>\n",
       "      <td>0.735653</td>\n",
       "      <td>0.738914</td>\n",
       "      <td>0.742154</td>\n",
       "      <td>0.745373</td>\n",
       "      <td>0.748571</td>\n",
       "      <td>0.751748</td>\n",
       "      <td>0.754903</td>\n",
       "    </tr>\n",
       "    <tr>\n",
       "      <th>0.7</th>\n",
       "      <td>0.758036</td>\n",
       "      <td>0.761148</td>\n",
       "      <td>0.764238</td>\n",
       "      <td>0.767305</td>\n",
       "      <td>0.77035</td>\n",
       "      <td>0.773373</td>\n",
       "      <td>0.776373</td>\n",
       "      <td>0.77935</td>\n",
       "      <td>0.782305</td>\n",
       "      <td>0.785236</td>\n",
       "    </tr>\n",
       "    <tr>\n",
       "      <th>0.8</th>\n",
       "      <td>0.788145</td>\n",
       "      <td>0.79103</td>\n",
       "      <td>0.793892</td>\n",
       "      <td>0.796731</td>\n",
       "      <td>0.799546</td>\n",
       "      <td>0.802337</td>\n",
       "      <td>0.805105</td>\n",
       "      <td>0.80785</td>\n",
       "      <td>0.81057</td>\n",
       "      <td>0.813267</td>\n",
       "    </tr>\n",
       "    <tr>\n",
       "      <th>0.9</th>\n",
       "      <td>0.81594</td>\n",
       "      <td>0.818589</td>\n",
       "      <td>0.821214</td>\n",
       "      <td>0.823814</td>\n",
       "      <td>0.826391</td>\n",
       "      <td>0.828944</td>\n",
       "      <td>0.831472</td>\n",
       "      <td>0.833977</td>\n",
       "      <td>0.836457</td>\n",
       "      <td>0.838913</td>\n",
       "    </tr>\n",
       "    <tr>\n",
       "      <th>1.0</th>\n",
       "      <td>0.841345</td>\n",
       "      <td>0.843752</td>\n",
       "      <td>0.846136</td>\n",
       "      <td>0.848495</td>\n",
       "      <td>0.85083</td>\n",
       "      <td>0.853141</td>\n",
       "      <td>0.855428</td>\n",
       "      <td>0.85769</td>\n",
       "      <td>0.859929</td>\n",
       "      <td>0.862143</td>\n",
       "    </tr>\n",
       "    <tr>\n",
       "      <th>1.1</th>\n",
       "      <td>0.864334</td>\n",
       "      <td>0.8665</td>\n",
       "      <td>0.868643</td>\n",
       "      <td>0.870762</td>\n",
       "      <td>0.872857</td>\n",
       "      <td>0.874928</td>\n",
       "      <td>0.876976</td>\n",
       "      <td>0.879</td>\n",
       "      <td>0.881</td>\n",
       "      <td>0.882977</td>\n",
       "    </tr>\n",
       "    <tr>\n",
       "      <th>1.2</th>\n",
       "      <td>0.88493</td>\n",
       "      <td>0.886861</td>\n",
       "      <td>0.888768</td>\n",
       "      <td>0.890651</td>\n",
       "      <td>0.892512</td>\n",
       "      <td>0.89435</td>\n",
       "      <td>0.896165</td>\n",
       "      <td>0.897958</td>\n",
       "      <td>0.899727</td>\n",
       "      <td>0.901475</td>\n",
       "    </tr>\n",
       "    <tr>\n",
       "      <th>1.3</th>\n",
       "      <td>0.9032</td>\n",
       "      <td>0.904902</td>\n",
       "      <td>0.906582</td>\n",
       "      <td>0.908241</td>\n",
       "      <td>0.909877</td>\n",
       "      <td>0.911492</td>\n",
       "      <td>0.913085</td>\n",
       "      <td>0.914657</td>\n",
       "      <td>0.916207</td>\n",
       "      <td>0.917736</td>\n",
       "    </tr>\n",
       "    <tr>\n",
       "      <th>1.4</th>\n",
       "      <td>0.919243</td>\n",
       "      <td>0.92073</td>\n",
       "      <td>0.922196</td>\n",
       "      <td>0.923641</td>\n",
       "      <td>0.925066</td>\n",
       "      <td>0.926471</td>\n",
       "      <td>0.927855</td>\n",
       "      <td>0.929219</td>\n",
       "      <td>0.930563</td>\n",
       "      <td>0.931888</td>\n",
       "    </tr>\n",
       "    <tr>\n",
       "      <th>1.5</th>\n",
       "      <td>0.933193</td>\n",
       "      <td>0.934478</td>\n",
       "      <td>0.935745</td>\n",
       "      <td>0.936992</td>\n",
       "      <td>0.93822</td>\n",
       "      <td>0.939429</td>\n",
       "      <td>0.94062</td>\n",
       "      <td>0.941792</td>\n",
       "      <td>0.942947</td>\n",
       "      <td>0.944083</td>\n",
       "    </tr>\n",
       "    <tr>\n",
       "      <th>1.6</th>\n",
       "      <td>0.945201</td>\n",
       "      <td>0.946301</td>\n",
       "      <td>0.947384</td>\n",
       "      <td>0.948449</td>\n",
       "      <td>0.949497</td>\n",
       "      <td>0.950529</td>\n",
       "      <td>0.951543</td>\n",
       "      <td>0.95254</td>\n",
       "      <td>0.953521</td>\n",
       "      <td>0.954486</td>\n",
       "    </tr>\n",
       "    <tr>\n",
       "      <th>1.7</th>\n",
       "      <td>0.955435</td>\n",
       "      <td>0.956367</td>\n",
       "      <td>0.957284</td>\n",
       "      <td>0.958185</td>\n",
       "      <td>0.95907</td>\n",
       "      <td>0.959941</td>\n",
       "      <td>0.960796</td>\n",
       "      <td>0.961636</td>\n",
       "      <td>0.962462</td>\n",
       "      <td>0.963273</td>\n",
       "    </tr>\n",
       "    <tr>\n",
       "      <th>1.8</th>\n",
       "      <td>0.96407</td>\n",
       "      <td>0.964852</td>\n",
       "      <td>0.96562</td>\n",
       "      <td>0.966375</td>\n",
       "      <td>0.967116</td>\n",
       "      <td>0.967843</td>\n",
       "      <td>0.968557</td>\n",
       "      <td>0.969258</td>\n",
       "      <td>0.969946</td>\n",
       "      <td>0.970621</td>\n",
       "    </tr>\n",
       "    <tr>\n",
       "      <th>1.9</th>\n",
       "      <td>0.971283</td>\n",
       "      <td>0.971933</td>\n",
       "      <td>0.972571</td>\n",
       "      <td>0.973197</td>\n",
       "      <td>0.97381</td>\n",
       "      <td>0.974412</td>\n",
       "      <td>0.975002</td>\n",
       "      <td>0.975581</td>\n",
       "      <td>0.976148</td>\n",
       "      <td>0.976705</td>\n",
       "    </tr>\n",
       "    <tr>\n",
       "      <th>2.0</th>\n",
       "      <td>0.97725</td>\n",
       "      <td>0.977784</td>\n",
       "      <td>0.978308</td>\n",
       "      <td>0.978822</td>\n",
       "      <td>0.979325</td>\n",
       "      <td>0.979818</td>\n",
       "      <td>0.980301</td>\n",
       "      <td>0.980774</td>\n",
       "      <td>0.981237</td>\n",
       "      <td>0.981691</td>\n",
       "    </tr>\n",
       "    <tr>\n",
       "      <th>2.1</th>\n",
       "      <td>0.982136</td>\n",
       "      <td>0.982571</td>\n",
       "      <td>0.982997</td>\n",
       "      <td>0.983414</td>\n",
       "      <td>0.983823</td>\n",
       "      <td>0.984222</td>\n",
       "      <td>0.984614</td>\n",
       "      <td>0.984997</td>\n",
       "      <td>0.985371</td>\n",
       "      <td>0.985738</td>\n",
       "    </tr>\n",
       "    <tr>\n",
       "      <th>2.2</th>\n",
       "      <td>0.986097</td>\n",
       "      <td>0.986447</td>\n",
       "      <td>0.986791</td>\n",
       "      <td>0.987126</td>\n",
       "      <td>0.987455</td>\n",
       "      <td>0.987776</td>\n",
       "      <td>0.988089</td>\n",
       "      <td>0.988396</td>\n",
       "      <td>0.988696</td>\n",
       "      <td>0.988989</td>\n",
       "    </tr>\n",
       "    <tr>\n",
       "      <th>2.3</th>\n",
       "      <td>0.989276</td>\n",
       "      <td>0.989556</td>\n",
       "      <td>0.98983</td>\n",
       "      <td>0.990097</td>\n",
       "      <td>0.990358</td>\n",
       "      <td>0.990613</td>\n",
       "      <td>0.990863</td>\n",
       "      <td>0.991106</td>\n",
       "      <td>0.991344</td>\n",
       "      <td>0.991576</td>\n",
       "    </tr>\n",
       "    <tr>\n",
       "      <th>2.4</th>\n",
       "      <td>0.991802</td>\n",
       "      <td>0.992024</td>\n",
       "      <td>0.99224</td>\n",
       "      <td>0.992451</td>\n",
       "      <td>0.992656</td>\n",
       "      <td>0.992857</td>\n",
       "      <td>0.993053</td>\n",
       "      <td>0.993244</td>\n",
       "      <td>0.993431</td>\n",
       "      <td>0.993613</td>\n",
       "    </tr>\n",
       "    <tr>\n",
       "      <th>2.5</th>\n",
       "      <td>0.99379</td>\n",
       "      <td>0.993963</td>\n",
       "      <td>0.994132</td>\n",
       "      <td>0.994297</td>\n",
       "      <td>0.994457</td>\n",
       "      <td>0.994614</td>\n",
       "      <td>0.994766</td>\n",
       "      <td>0.994915</td>\n",
       "      <td>0.99506</td>\n",
       "      <td>0.995201</td>\n",
       "    </tr>\n",
       "    <tr>\n",
       "      <th>2.6</th>\n",
       "      <td>0.995339</td>\n",
       "      <td>0.995473</td>\n",
       "      <td>0.995604</td>\n",
       "      <td>0.995731</td>\n",
       "      <td>0.995855</td>\n",
       "      <td>0.995975</td>\n",
       "      <td>0.996093</td>\n",
       "      <td>0.996207</td>\n",
       "      <td>0.996319</td>\n",
       "      <td>0.996427</td>\n",
       "    </tr>\n",
       "    <tr>\n",
       "      <th>2.7</th>\n",
       "      <td>0.996533</td>\n",
       "      <td>0.996636</td>\n",
       "      <td>0.996736</td>\n",
       "      <td>0.996833</td>\n",
       "      <td>0.996928</td>\n",
       "      <td>0.99702</td>\n",
       "      <td>0.99711</td>\n",
       "      <td>0.997197</td>\n",
       "      <td>0.997282</td>\n",
       "      <td>0.997365</td>\n",
       "    </tr>\n",
       "    <tr>\n",
       "      <th>2.8</th>\n",
       "      <td>0.997445</td>\n",
       "      <td>0.997523</td>\n",
       "      <td>0.997599</td>\n",
       "      <td>0.997673</td>\n",
       "      <td>0.997744</td>\n",
       "      <td>0.997814</td>\n",
       "      <td>0.997882</td>\n",
       "      <td>0.997948</td>\n",
       "      <td>0.998012</td>\n",
       "      <td>0.998074</td>\n",
       "    </tr>\n",
       "    <tr>\n",
       "      <th>2.9</th>\n",
       "      <td>0.998134</td>\n",
       "      <td>0.998193</td>\n",
       "      <td>0.99825</td>\n",
       "      <td>0.998305</td>\n",
       "      <td>0.998359</td>\n",
       "      <td>0.998411</td>\n",
       "      <td>0.998462</td>\n",
       "      <td>0.998511</td>\n",
       "      <td>0.998559</td>\n",
       "      <td>0.998605</td>\n",
       "    </tr>\n",
       "    <tr>\n",
       "      <th>3.0</th>\n",
       "      <td>0.99865</td>\n",
       "      <td>0.998694</td>\n",
       "      <td>0.998736</td>\n",
       "      <td>0.998777</td>\n",
       "      <td>0.998817</td>\n",
       "      <td>0.998856</td>\n",
       "      <td>0.998893</td>\n",
       "      <td>0.99893</td>\n",
       "      <td>0.998965</td>\n",
       "      <td>0.998999</td>\n",
       "    </tr>\n",
       "    <tr>\n",
       "      <th>3.1</th>\n",
       "      <td>0.999032</td>\n",
       "      <td>0.999065</td>\n",
       "      <td>0.999096</td>\n",
       "      <td>0.999126</td>\n",
       "      <td>0.999155</td>\n",
       "      <td>0.999184</td>\n",
       "      <td>0.999211</td>\n",
       "      <td>0.999238</td>\n",
       "      <td>0.999264</td>\n",
       "      <td>0.999289</td>\n",
       "    </tr>\n",
       "    <tr>\n",
       "      <th>3.2</th>\n",
       "      <td>0.999313</td>\n",
       "      <td>0.999336</td>\n",
       "      <td>0.999359</td>\n",
       "      <td>0.999381</td>\n",
       "      <td>0.999402</td>\n",
       "      <td>0.999423</td>\n",
       "      <td>0.999443</td>\n",
       "      <td>0.999462</td>\n",
       "      <td>0.999481</td>\n",
       "      <td>0.999499</td>\n",
       "    </tr>\n",
       "    <tr>\n",
       "      <th>3.3</th>\n",
       "      <td>0.999517</td>\n",
       "      <td>0.999534</td>\n",
       "      <td>0.99955</td>\n",
       "      <td>0.999566</td>\n",
       "      <td>0.999581</td>\n",
       "      <td>0.999596</td>\n",
       "      <td>0.99961</td>\n",
       "      <td>0.999624</td>\n",
       "      <td>0.999638</td>\n",
       "      <td>0.999651</td>\n",
       "    </tr>\n",
       "    <tr>\n",
       "      <th>3.4</th>\n",
       "      <td>0.999663</td>\n",
       "      <td>0.999675</td>\n",
       "      <td>0.999687</td>\n",
       "      <td>0.999698</td>\n",
       "      <td>0.999709</td>\n",
       "      <td>0.99972</td>\n",
       "      <td>0.99973</td>\n",
       "      <td>0.99974</td>\n",
       "      <td>0.999749</td>\n",
       "      <td>0.999758</td>\n",
       "    </tr>\n",
       "  </tbody>\n",
       "</table>\n",
       "</div>"
      ],
      "text/plain": [
       "         0.00      0.01      0.02  ...      0.07      0.08      0.09\n",
       "0.0       0.5  0.503989  0.507978  ...  0.527903  0.531881  0.535856\n",
       "0.1  0.539828  0.543795  0.547758  ...  0.567495  0.571424  0.575345\n",
       "0.2   0.57926  0.583166  0.587064  ...   0.60642  0.610261  0.614092\n",
       "0.3  0.617911   0.62172  0.625516  ...  0.644309  0.648027  0.651732\n",
       "0.4  0.655422  0.659097  0.662757  ...  0.680822  0.684386  0.687933\n",
       "0.5  0.691462  0.694974  0.698468  ...  0.715661  0.719043  0.722405\n",
       "0.6  0.725747  0.729069  0.732371  ...  0.748571  0.751748  0.754903\n",
       "0.7  0.758036  0.761148  0.764238  ...   0.77935  0.782305  0.785236\n",
       "0.8  0.788145   0.79103  0.793892  ...   0.80785   0.81057  0.813267\n",
       "0.9   0.81594  0.818589  0.821214  ...  0.833977  0.836457  0.838913\n",
       "1.0  0.841345  0.843752  0.846136  ...   0.85769  0.859929  0.862143\n",
       "1.1  0.864334    0.8665  0.868643  ...     0.879     0.881  0.882977\n",
       "1.2   0.88493  0.886861  0.888768  ...  0.897958  0.899727  0.901475\n",
       "1.3    0.9032  0.904902  0.906582  ...  0.914657  0.916207  0.917736\n",
       "1.4  0.919243   0.92073  0.922196  ...  0.929219  0.930563  0.931888\n",
       "1.5  0.933193  0.934478  0.935745  ...  0.941792  0.942947  0.944083\n",
       "1.6  0.945201  0.946301  0.947384  ...   0.95254  0.953521  0.954486\n",
       "1.7  0.955435  0.956367  0.957284  ...  0.961636  0.962462  0.963273\n",
       "1.8   0.96407  0.964852   0.96562  ...  0.969258  0.969946  0.970621\n",
       "1.9  0.971283  0.971933  0.972571  ...  0.975581  0.976148  0.976705\n",
       "2.0   0.97725  0.977784  0.978308  ...  0.980774  0.981237  0.981691\n",
       "2.1  0.982136  0.982571  0.982997  ...  0.984997  0.985371  0.985738\n",
       "2.2  0.986097  0.986447  0.986791  ...  0.988396  0.988696  0.988989\n",
       "2.3  0.989276  0.989556   0.98983  ...  0.991106  0.991344  0.991576\n",
       "2.4  0.991802  0.992024   0.99224  ...  0.993244  0.993431  0.993613\n",
       "2.5   0.99379  0.993963  0.994132  ...  0.994915   0.99506  0.995201\n",
       "2.6  0.995339  0.995473  0.995604  ...  0.996207  0.996319  0.996427\n",
       "2.7  0.996533  0.996636  0.996736  ...  0.997197  0.997282  0.997365\n",
       "2.8  0.997445  0.997523  0.997599  ...  0.997948  0.998012  0.998074\n",
       "2.9  0.998134  0.998193   0.99825  ...  0.998511  0.998559  0.998605\n",
       "3.0   0.99865  0.998694  0.998736  ...   0.99893  0.998965  0.998999\n",
       "3.1  0.999032  0.999065  0.999096  ...  0.999238  0.999264  0.999289\n",
       "3.2  0.999313  0.999336  0.999359  ...  0.999462  0.999481  0.999499\n",
       "3.3  0.999517  0.999534   0.99955  ...  0.999624  0.999638  0.999651\n",
       "3.4  0.999663  0.999675  0.999687  ...   0.99974  0.999749  0.999758\n",
       "\n",
       "[35 rows x 10 columns]"
      ]
     },
     "execution_count": 25,
     "metadata": {},
     "output_type": "execute_result"
    }
   ],
   "source": [
    "standard_normal_table"
   ]
  },
  {
   "cell_type": "markdown",
   "metadata": {
    "id": "yILL9W20WQZM"
   },
   "source": [
    "-------"
   ]
  },
  {
   "cell_type": "markdown",
   "metadata": {
    "id": "PuCUUHcSWSqB"
   },
   "source": [
    "# Contoh Piala Dunia FIFA 2018\n",
    "\n",
    "Referensi dari buku : Think Bayes , Allen B Downey\n"
   ]
  },
  {
   "cell_type": "markdown",
   "metadata": {
    "id": "OLfjZlEgZtew"
   },
   "source": [
    "[proses Poisson](https://en.wikipedia.org/wiki/Poisson_point_process), yang merupakan model yang digunakan untuk menggambarkan peristiwa yang terjadi pada interval acak.\n",
    "Sebagai contoh proses Poisson, kami akan memodelkan mencetak gol dalam sepak bola, yang merupakan bahasa Inggris Amerika untuk permainan yang oleh orang lain disebut \"sepak bola\".\n",
    "Kami akan menggunakan gol yang dicetak dalam permainan untuk memperkirakan parameter proses Poisson; maka kita akan menggunakan distribusi posterior untuk membuat prediksi.\n",
    "\n",
    "Dan kita akan memecahkan Masalah Piala Dunia."
   ]
  },
  {
   "cell_type": "markdown",
   "metadata": {
    "id": "4Q-NVJ4rZvB-"
   },
   "source": [
    "## Masalah Piala Dunia\n",
    "\n",
    "Di final Piala Dunia FIFA 2018, Prancis mengalahkan Kroasia 4 gol menjadi 2. Berdasarkan hasil ini:\n",
    "\n",
    "1. Seberapa yakinkah kita bahwa Prancis adalah tim yang lebih baik?\n",
    "\n",
    "2. Jika tim yang sama bermain lagi, berapa peluang Prancis akan menang lagi?\n",
    "\n",
    "Untuk menjawab pertanyaan-pertanyaan ini, kita harus membuat beberapa keputusan pemodelan.\n",
    "\n",
    "* Pertama, saya akan berasumsi bahwa untuk tim mana pun melawan tim lain, ada tingkat perolehan gol yang tidak diketahui, diukur dalam gol per pertandingan, yang akan saya tunjukkan dengan variabel Python `lam` atau huruf Yunani $\\lambda$, diucapkan \"lambda\".\n",
    "\n",
    "* Kedua, saya akan berasumsi bahwa gol memiliki kemungkinan yang sama selama setiap menit permainan. Jadi, dalam permainan 90 menit, peluang mencetak gol selama satu menit adalah $\\lambda/90$.\n",
    "\n",
    "* Ketiga, saya akan berasumsi bahwa sebuah tim tidak pernah mencetak dua gol pada menit yang sama.\n",
    "\n",
    "Ini adalah bagian dari penyederhaan \n",
    "\n",
    "Dalam hal ini, model berguna karena jika asumsi-asumsi ini\n",
    "benar, setidaknya secara kasar, jumlah gol yang dicetak dalam permainan mengikuti distribusi Poisson, setidaknya secara kasar."
   ]
  },
  {
   "cell_type": "markdown",
   "metadata": {
    "id": "OdxcPTorWWGz"
   },
   "source": [
    "## The Poisson Distribution\n",
    "\n",
    "Jika jumlah gol yang dicetak dalam suatu permainan mengikuti [Poisson distribution](https://en.wikipedia.org/wiki/Poisson_distribution) dengan tingkat mencetak gol, , probabilitas mencetak gol adalah\n",
    "\n",
    "Jika jumlah gol yang dicetak dalam sebuah permainan mengikuti a dengan tingkat perolehan gol, $\\lambda$, probabilitas mencetak gol $k$ adalah\n",
    "\n",
    "$$\\lambda^k \\exp(-\\lambda) ~/~ k!$$\n",
    "\n",
    "for any non-negative value of $k$.\n",
    "\n",
    "SciPy provides a `poisson` object that represents a Poisson distribution.\n",
    "We can create one with $\\lambda=1.4$ like this:\n",
    "\n",
    "\n"
   ]
  },
  {
   "cell_type": "code",
   "execution_count": null,
   "metadata": {
    "colab": {
     "base_uri": "https://localhost:8080/"
    },
    "id": "9tEDExBfWRyI",
    "outputId": "79157d3a-63dd-4367-80ae-32abe0e32cda"
   },
   "outputs": [
    {
     "data": {
      "text/plain": [
       "scipy.stats._distn_infrastructure.rv_frozen"
      ]
     },
     "execution_count": 15,
     "metadata": {},
     "output_type": "execute_result"
    }
   ],
   "source": [
    "from scipy.stats import poisson\n",
    "\n",
    "lam = 1.4\n",
    "dist = poisson(lam)\n",
    "type(dist)"
   ]
  },
  {
   "cell_type": "markdown",
   "metadata": {
    "id": "UyVPHYVjX7ZJ"
   },
   "source": [
    "Hasilnya adalah objek yang mewakili variabel acak \"frozen\" dan menyediakan `pmf`, yang mengevaluasi fungsi massa probabilitas dari distribusi Poisson."
   ]
  },
  {
   "cell_type": "code",
   "execution_count": null,
   "metadata": {
    "colab": {
     "base_uri": "https://localhost:8080/"
    },
    "id": "EnrJparAWbXz",
    "outputId": "93794f7d-528a-4547-9c61-dc9bf51dd68d"
   },
   "outputs": [
    {
     "data": {
      "text/plain": [
       "0.039471954028253146"
      ]
     },
     "execution_count": 18,
     "metadata": {},
     "output_type": "execute_result"
    }
   ],
   "source": [
    "k = 4\n",
    "dist.pmf(k)"
   ]
  },
  {
   "cell_type": "markdown",
   "metadata": {
    "id": "2wSwOxOyYWIY"
   },
   "source": [
    "Hasil ini menyiratkan bahwa jika rata-rata tingkat mencetak gol adalah 1,4 gol per game, kemungkinan mencetak 4 gol dalam game adalah sekitar 4%.\n",
    "\n",
    "Kami akan menggunakan fungsi berikut untuk membuat `Pmf` yang mewakili distribusi Poisson."
   ]
  },
  {
   "cell_type": "code",
   "execution_count": null,
   "metadata": {
    "colab": {
     "base_uri": "https://localhost:8080/"
    },
    "id": "J0XZh4oHf8pc",
    "outputId": "876a06da-4a2f-47e5-8a23-a99bbb55d2eb"
   },
   "outputs": [
    {
     "name": "stdout",
     "output_type": "stream",
     "text": [
      "Collecting empiricaldist\n",
      "  Downloading empiricaldist-0.6.2.tar.gz (9.5 kB)\n",
      "Building wheels for collected packages: empiricaldist\n",
      "  Building wheel for empiricaldist (setup.py) ... \u001b[?25l\u001b[?25hdone\n",
      "  Created wheel for empiricaldist: filename=empiricaldist-0.6.2-py3-none-any.whl size=10737 sha256=64a65119fff2ab86e8b52c1d3bc1aff1190c4795388c6293d941144c96f14287\n",
      "  Stored in directory: /root/.cache/pip/wheels/34/22/5f/9ba9db604d08670e283b2e04551dd407f44cf889fdb9617ce5\n",
      "Successfully built empiricaldist\n",
      "Installing collected packages: empiricaldist\n",
      "Successfully installed empiricaldist-0.6.2\n"
     ]
    }
   ],
   "source": [
    "!pip install empiricaldist"
   ]
  },
  {
   "cell_type": "code",
   "execution_count": null,
   "metadata": {
    "id": "yboqVJBNWdq-"
   },
   "outputs": [],
   "source": [
    "from empiricaldist import Pmf \n",
    "\n",
    "def make_poisson_pmf(lam, qs):\n",
    "    \"\"\"Make a Pmf of a Poisson distribution.\"\"\"\n",
    "    ps = poisson(lam).pmf(qs)\n",
    "    pmf = Pmf(ps, qs)\n",
    "    pmf.normalize()\n",
    "    return pmf"
   ]
  },
  {
   "cell_type": "markdown",
   "metadata": {
    "id": "o7IKsXDVYkxE"
   },
   "source": [
    "`make_poisson_pmf` mengambil parameter tingkat skor gol, `lam`, dan larik kuantitas, `qs`, di mana ia harus mengevaluasi PMF Poisson. Ini mengembalikan objek `Pmf`.\n",
    "\n",
    "Misalnya, inilah distribusi gol yang dicetak untuk `lam=1.4`, dihitung untuk nilai `k` dari 0 hingga 9.\""
   ]
  },
  {
   "cell_type": "code",
   "execution_count": null,
   "metadata": {
    "id": "g7tm51R-WhdG"
   },
   "outputs": [],
   "source": [
    "import numpy as np\n",
    "\n",
    "lam = 1.4\n",
    "goals = np.arange(10)\n",
    "pmf_goals = make_poisson_pmf(lam, goals)"
   ]
  },
  {
   "cell_type": "code",
   "execution_count": null,
   "metadata": {
    "id": "1D6zMyCohCT6"
   },
   "outputs": [],
   "source": [
    "\n",
    "def decorate(**options):\n",
    "    \"\"\"Decorate the current axes.\n",
    "\n",
    "    Call decorate with keyword arguments like\n",
    "    decorate(title='Title',\n",
    "             xlabel='x',\n",
    "             ylabel='y')\n",
    "\n",
    "    The keyword arguments can be any of the axis properties\n",
    "    https://matplotlib.org/api/axes_api.html\n",
    "    \"\"\"\n",
    "    ax = plt.gca()\n",
    "    ax.set(**options)\n",
    "\n",
    "    handles, labels = ax.get_legend_handles_labels()\n",
    "    if handles:\n",
    "        ax.legend(handles, labels)\n",
    "\n",
    "    plt.tight_layout()"
   ]
  },
  {
   "cell_type": "code",
   "execution_count": null,
   "metadata": {
    "id": "iy4gc2bNWkoE"
   },
   "outputs": [],
   "source": [
    "\n",
    "def decorate_goals(title=''):\n",
    "    decorate(xlabel='Number of goals',\n",
    "        ylabel='PMF',\n",
    "        title=title)"
   ]
  },
  {
   "cell_type": "code",
   "execution_count": null,
   "metadata": {
    "colab": {
     "base_uri": "https://localhost:8080/",
     "height": 365
    },
    "id": "TPi8wabOWtVz",
    "outputId": "897347a7-94ee-4446-ef8b-a853965a81ba"
   },
   "outputs": [
    {
     "data": {
      "image/png": "[encoded data removed]",
      "text/plain": [
       "<Figure size 360x360 with 1 Axes>"
      ]
     },
     "metadata": {},
     "output_type": "display_data"
    }
   ],
   "source": [
    "pmf_goals.bar(label=r'Poisson distribution with $\\lambda=1.4$')\n",
    "\n",
    "decorate_goals('Distribution of goals scored')"
   ]
  },
  {
   "cell_type": "markdown",
   "metadata": {
    "id": "FU5o3oDeZEIp"
   },
   "source": [
    "Hasil yang paling mungkin adalah 0, 1, dan 2; nilai yang lebih tinggi mungkin tetapi semakin tidak mungkin.\n",
    "\n",
    "Nilai di atas 7 diabaikan.\n",
    "\n",
    "Distribusi ini menunjukkan bahwa jika kita mengetahui tingkat skor gol, kita dapat memprediksi jumlah gol.\n",
    "\n",
    "Sekarang mari kita membalikkannya: mengingat sejumlah gol, apa yang bisa kita katakan tentang tingkat perolehan gol?\n",
    "\n",
    "Untuk menjawabnya, kita perlu memikirkan distribusi `lam` sebelumnya, yang mewakili kisaran nilai yang mungkin dan probabilitasnya sebelum kita melihat skornya."
   ]
  },
  {
   "cell_type": "markdown",
   "metadata": {
    "id": "Mr6YJxg6bDUE"
   },
   "source": [
    "Didalam pertandingan sepak bola, Anda memiliki beberapa informasi tentang lam (lambda). Di sebagian besar permainan, tim masing-masing mencetak beberapa gol. Dalam kasus yang jarang terjadi, sebuah tim mungkin mencetak lebih dari 5 gol, tetapi mereka hampir tidak pernah mencetak lebih dari 10.\n",
    "\n",
    "Dengan menggunakan data dari Piala Dunia sebelumnya, saya memperkirakan bahwa rata-rata setiap tim mencetak sekitar 1,4 gol per pertandingan. Jadi saya akan mengatur rata-rata lam menjadi 1,4.\n",
    "\n",
    "Untuk tim yang bagus melawan tim yang buruk, kami berharap lam lebih tinggi; untuk tim yang buruk melawan yang bagus, kami berharap itu lebih rendah.\n",
    "Untuk memodelkan distribusi tingkat perolehan gol, saya akan menggunakan distribusi gamma, yang saya pilih karena:\n",
    "\n"
   ]
  },
  {
   "cell_type": "markdown",
   "metadata": {
    "id": "5AejRWbVbEe6"
   },
   "source": [
    "1. “Tingkat skor gol terus menerus dan non-negatif, dan distribusi gamma sesuai untuk kuantitas semacam ini.\n",
    "2. Distribusi gamma hanya memiliki satu parameter, alpha, yang merupakan mean. Jadi mudah untuk membangun distribusi gamma dengan rata-rata yang kita inginkan.\n",
    "3. Seperti yang akan kita lihat, bentuk distribusi gamma adalah pilihan yang masuk akal, mengingat apa yang kita ketahui tentang sepak bola.”\n"
   ]
  },
  {
   "cell_type": "markdown",
   "metadata": {
    "id": "T9w0KPE-bJcE"
   },
   "source": [
    "\n",
    "SciPy menyediakan gamma, yang membuat objek yang mewakili distribusi gamma. Dan objek gamma menyediakan pdf, yang mengevaluasi fungsi kepadatan probabilitas (PDF) dari distribusi gamma.\n",
    "Inilah cara kami menggunakannya:\n",
    "\n",
    "---\n",
    "\n"
   ]
  },
  {
   "cell_type": "code",
   "execution_count": null,
   "metadata": {
    "colab": {
     "base_uri": "https://localhost:8080/"
    },
    "id": "Fng4HPKvbD2u",
    "outputId": "9d9aee54-2f1e-4b98-8cde-297ae28e86c9"
   },
   "outputs": [
    {
     "name": "stdout",
     "output_type": "stream",
     "text": [
      "[0.00000000e+00 4.05992285e-01 4.84730481e-01 5.15830938e-01\n",
      " 5.23664860e-01 5.18069457e-01 5.04232738e-01 4.85266496e-01\n",
      " 4.63177696e-01 4.39318203e-01 4.14622386e-01 3.89744839e-01\n",
      " 3.65145833e-01 3.41147147e-01 3.17970016e-01 2.95761751e-01\n",
      " 2.74614870e-01 2.54581111e-01 2.35681863e-01 2.17916017e-01\n",
      " 2.01265929e-01 1.85701980e-01 1.71186077e-01 1.57674352e-01\n",
      " 1.45119231e-01 1.33471035e-01 1.22679194e-01 1.12693180e-01\n",
      " 1.03463196e-01 9.49407002e-02 8.70787698e-02 7.98323681e-02\n",
      " 7.31585144e-02 6.70163876e-02 6.13673765e-02 5.61750878e-02\n",
      " 5.14053232e-02 4.70260320e-02 4.30072463e-02 3.93210034e-02\n",
      " 3.59412599e-02 3.28437997e-02 3.00061393e-02 2.74074316e-02\n",
      " 2.50283707e-02 2.28510976e-02 2.08591086e-02 1.90371664e-02\n",
      " 1.73712156e-02 1.58483006e-02 1.44564887e-02 1.31847968e-02\n",
      " 1.20231222e-02 1.09621773e-02 9.99342898e-03 9.10904094e-03\n",
      " 8.30182053e-03 7.56516882e-03 6.89303416e-03 6.27986908e-03\n",
      " 5.72059019e-03 5.21054107e-03 4.74545781e-03 4.32143726e-03\n",
      " 3.93490756e-03 3.58260097e-03 3.26152883e-03 2.96895846e-03\n",
      " 2.70239181e-03 2.45954595e-03 2.23833493e-03 2.03685328e-03\n",
      " 1.85336073e-03 1.68626822e-03 1.53412501e-03 1.39560694e-03\n",
      " 1.26950555e-03 1.15471819e-03 1.05023893e-03 9.55150172e-04\n",
      " 8.68615087e-04 7.89870570e-04 7.18220865e-04 6.53031703e-04\n",
      " 5.93724944e-04 5.39773678e-04 4.90697748e-04 4.46059648e-04\n",
      " 4.05460785e-04 3.68538057e-04 3.34960731e-04 3.04427583e-04\n",
      " 2.76664302e-04 2.51421102e-04 2.28470557e-04 2.07605614e-04\n",
      " 1.88637788e-04 1.71395513e-04 1.55722632e-04 1.41477030e-04\n",
      " 1.28529379e-04]\n"
     ]
    }
   ],
   "source": [
    "import numpy as np \n",
    "from scipy.stats import gamma\n",
    "\n",
    "alpha = 1.4\n",
    "qs = np.linspace(0, 10, 101)\n",
    "ps = gamma(alpha).pdf(qs)\n",
    "\n",
    "print(ps)"
   ]
  },
  {
   "cell_type": "code",
   "execution_count": null,
   "metadata": {
    "colab": {
     "base_uri": "https://localhost:8080/",
     "height": 365
    },
    "id": "c4e4I-DBbYFd",
    "outputId": "84d38b81-889e-41a9-913b-5df78f337f91"
   },
   "outputs": [
    {
     "data": {
      "image/png": "[encoded data removed]",
      "text/plain": [
       "<Figure size 360x360 with 1 Axes>"
      ]
     },
     "metadata": {},
     "output_type": "display_data"
    }
   ],
   "source": [
    "from empiricaldist import Pmf\n",
    "\n",
    "prior = Pmf(ps, qs)\n",
    "prior.normalize()\n",
    "\n",
    "def decorate_rate(title=''):\n",
    "    decorate(xlabel='Goal scoring rate (lam)',\n",
    "        ylabel='PMF',\n",
    "        title=title)\n",
    "    \n",
    "prior.plot(style='--', label='prior', color='C5')\n",
    "decorate_rate(r'Prior distribution of $\\lambda$')    "
   ]
  },
  {
   "cell_type": "markdown",
   "metadata": {
    "id": "DAW_dvlib01r"
   },
   "source": [
    "“Distribusi ini mewakili pengetahuan kami sebelumnya tentang mencetak gol: lam biasanya kurang dari 2, kadang-kadang setinggi 6, dan jarang lebih tinggi dari itu."
   ]
  },
  {
   "cell_type": "code",
   "execution_count": null,
   "metadata": {
    "colab": {
     "base_uri": "https://localhost:8080/"
    },
    "id": "dBh5hF8cbk24",
    "outputId": "67770643-1686-4895-c07f-18b7bb6d5660"
   },
   "outputs": [
    {
     "data": {
      "text/plain": [
       "1.4140818156118378"
      ]
     },
     "execution_count": 41,
     "metadata": {},
     "output_type": "execute_result"
    }
   ],
   "source": [
    "prior.mean()"
   ]
  },
  {
   "cell_type": "markdown",
   "metadata": {
    "id": "EqauzSwwcMon"
   },
   "source": [
    "## Pembaruan\n",
    "\n",
    "Misalkan Anda diberi tingkat mencetak gol, $\\lambda$, dan diminta untuk menghitung probabilitas mencetak sejumlah gol, $k$. Itulah pertanyaan yang kami jawab dengan menghitung Poisson PMF.\n",
    "\n",
    "Misalnya, jika $\\lambda$ adalah 1,4, probabilitas mencetak 4 gol dalam sebuah permainan adalah:"
   ]
  },
  {
   "cell_type": "code",
   "execution_count": null,
   "metadata": {
    "colab": {
     "base_uri": "https://localhost:8080/"
    },
    "id": "4f9W6h9Nb7jL",
    "outputId": "a416c42f-4ab3-4f26-8009-e5028605c5c6"
   },
   "outputs": [
    {
     "data": {
      "text/plain": [
       "0.039471954028253146"
      ]
     },
     "execution_count": 42,
     "metadata": {},
     "output_type": "execute_result"
    }
   ],
   "source": [
    "\n",
    "from scipy.stats import poisson\n",
    "\n",
    "lam = 1.4\n",
    "k = 4\n",
    "poisson(lam).pmf(k)\n",
    "\n"
   ]
  },
  {
   "cell_type": "markdown",
   "metadata": {
    "id": "4uYfUhdNdubY"
   },
   "source": [
    "Sekarang misalkan kita memiliki nilai array yang mungkin untuk $\\lambda$; kita dapat menghitung kemungkinan data untuk setiap nilai hipotetis lam, seperti ini:"
   ]
  },
  {
   "cell_type": "code",
   "execution_count": null,
   "metadata": {
    "id": "GJStojaydv4x"
   },
   "outputs": [],
   "source": [
    "\n",
    "lams = prior.qs\n",
    "k = 4\n",
    "likelihood = poisson(lams).pmf(k)"
   ]
  },
  {
   "cell_type": "markdown",
   "metadata": {
    "id": "u20b9Z8_cucZ"
   },
   "source": [
    "Dan hanya itu yang perlu kita lakukan pembaruan.\n",
    "Untuk mendapatkan distribusi posterior, kami mengalikan prior dengan kemungkinan yang baru saja kami hitung dan menormalkan hasilnya.\n",
    "\n",
    "Fungsi berikut merangkum langkah-langkah ini."
   ]
  },
  {
   "cell_type": "code",
   "execution_count": null,
   "metadata": {
    "id": "yeGvnsPNeYwK"
   },
   "outputs": [],
   "source": [
    "def update_poisson(pmf, data):\n",
    "    \"\"\"Update Pmf with a Poisson likelihood.\"\"\"\n",
    "    k = data\n",
    "    lams = pmf.qs\n",
    "    likelihood = poisson(lams).pmf(k)\n",
    "    pmf *= likelihood\n",
    "    pmf.normalize()"
   ]
  },
  {
   "cell_type": "markdown",
   "metadata": {
    "id": "dYTIQ9Zzef1w"
   },
   "source": [
    "Parameter pertama adalah prior; \n",
    "yang kedua adalah jumlah gol.\n",
    "\n",
    "Dalam contoh ini, Prancis mencetak 4 gol, kita akan meng copy sebelumnya dan memperbaruinya dengan data."
   ]
  },
  {
   "cell_type": "code",
   "execution_count": null,
   "metadata": {
    "id": "5wZGR6fOcng8"
   },
   "outputs": [],
   "source": [
    "france = prior.copy()\n",
    "update_poisson(france, 4)\n",
    "# Inilah yang tampak seperti distribusi posterior\n",
    "\n"
   ]
  },
  {
   "cell_type": "code",
   "execution_count": null,
   "metadata": {
    "colab": {
     "base_uri": "https://localhost:8080/",
     "height": 365
    },
    "id": "EBR0lSuxdI5H",
    "outputId": "f1a22d12-f3d5-4f4d-a63f-7a7f40391061"
   },
   "outputs": [
    {
     "data": {
      "image/png": "[encoded data removed]",
      "text/plain": [
       "<Figure size 360x360 with 1 Axes>"
      ]
     },
     "metadata": {},
     "output_type": "display_data"
    }
   ],
   "source": [
    "prior.plot(style='--', label='prior', color='C5')\n",
    "france.plot(label='France posterior', color='C3')\n",
    "\n",
    "decorate_rate('Posterior distribution for France')"
   ]
  },
  {
   "cell_type": "code",
   "execution_count": null,
   "metadata": {
    "colab": {
     "base_uri": "https://localhost:8080/",
     "height": 365
    },
    "id": "LGYwQrlKdDYo",
    "outputId": "5e5f354f-4cf5-4a60-e17d-5722b0d467d6"
   },
   "outputs": [
    {
     "data": {
      "image/png": "[encoded data removed]",
      "text/plain": [
       "<Figure size 360x360 with 1 Axes>"
      ]
     },
     "metadata": {},
     "output_type": "display_data"
    }
   ],
   "source": [
    "\n",
    "croatia = prior.copy()\n",
    "update_poisson(croatia, 2)\n",
    "\n",
    "prior.plot(style='--', label='prior', color='C5')\n",
    "croatia.plot(label='Croatia posterior', color='C0')\n",
    "\n",
    "decorate_rate('Posterior distribution for Croatia')\n",
    "\n"
   ]
  },
  {
   "cell_type": "code",
   "execution_count": null,
   "metadata": {
    "colab": {
     "base_uri": "https://localhost:8080/"
    },
    "id": "7pE8bWx7dE6v",
    "outputId": "9f80d87a-a349-4ac4-cbb8-1200814d0f35"
   },
   "outputs": [
    {
     "name": "stdout",
     "output_type": "stream",
     "text": [
      "1.6999765866755225 2.699772393342308\n"
     ]
    }
   ],
   "source": [
    "print(croatia.mean(), france.mean())"
   ]
  },
  {
   "cell_type": "markdown",
   "metadata": {
    "id": "_E7y2IUrJRW-"
   },
   "source": [
    "# Example Confidence Intervals  with data\n",
    "\n"
   ]
  },
  {
   "cell_type": "markdown",
   "metadata": {
    "id": "3PIgLxsfJaXz"
   },
   "source": [
    "Data Pemilihan walikota Polling Baim Wong & Rafi Ahmad \n",
    "\n",
    "Kita mempunyai data yang besar dan kita mempunyai data sample \n",
    "\n",
    "\n",
    "\n"
   ]
  },
  {
   "cell_type": "code",
   "execution_count": null,
   "metadata": {
    "id": "7JNyDqkIJZbP"
   },
   "outputs": [],
   "source": [
    "import math\n",
    "import io\n",
    "import numpy as np\n",
    "import pandas as pd\n",
    "import matplotlib\n",
    "import matplotlib.pyplot as plt\n",
    "import scipy.stats\n",
    "import scipy.optimize\n",
    "import scipy.spatial\n"
   ]
  },
  {
   "cell_type": "code",
   "execution_count": null,
   "metadata": {
    "id": "8_0f3FOWLcyN"
   },
   "outputs": [],
   "source": [
    "%matplotlib inline"
   ]
  },
  {
   "cell_type": "code",
   "execution_count": null,
   "metadata": {
    "colab": {
     "base_uri": "https://localhost:8080/",
     "height": 206
    },
    "id": "ItTAR8WmLeCD",
    "outputId": "53a92964-4304-4486-afa6-64efdd5e1202"
   },
   "outputs": [
    {
     "data": {
      "text/html": [
       "<div>\n",
       "<style scoped>\n",
       "    .dataframe tbody tr th:only-of-type {\n",
       "        vertical-align: middle;\n",
       "    }\n",
       "\n",
       "    .dataframe tbody tr th {\n",
       "        vertical-align: top;\n",
       "    }\n",
       "\n",
       "    .dataframe thead th {\n",
       "        text-align: right;\n",
       "    }\n",
       "</style>\n",
       "<table border=\"1\" class=\"dataframe\">\n",
       "  <thead>\n",
       "    <tr style=\"text-align: right;\">\n",
       "      <th></th>\n",
       "      <th>vote</th>\n",
       "    </tr>\n",
       "  </thead>\n",
       "  <tbody>\n",
       "    <tr>\n",
       "      <th>0</th>\n",
       "      <td>Baim</td>\n",
       "    </tr>\n",
       "    <tr>\n",
       "      <th>1</th>\n",
       "      <td>Rafi</td>\n",
       "    </tr>\n",
       "    <tr>\n",
       "      <th>2</th>\n",
       "      <td>Baim</td>\n",
       "    </tr>\n",
       "    <tr>\n",
       "      <th>3</th>\n",
       "      <td>Baim</td>\n",
       "    </tr>\n",
       "    <tr>\n",
       "      <th>4</th>\n",
       "      <td>Baim</td>\n",
       "    </tr>\n",
       "  </tbody>\n",
       "</table>\n",
       "</div>"
      ],
      "text/plain": [
       "   vote\n",
       "0  Baim\n",
       "1  Rafi\n",
       "2  Baim\n",
       "3  Baim\n",
       "4  Baim"
      ]
     },
     "execution_count": 50,
     "metadata": {},
     "output_type": "execute_result"
    }
   ],
   "source": [
    "poll = pd.read_csv('https://raw.githubusercontent.com/iketutg/my_example_ds/main/data/poll-baim-rafi.csv')\n",
    "poll.head()"
   ]
  },
  {
   "cell_type": "code",
   "execution_count": null,
   "metadata": {
    "colab": {
     "base_uri": "https://localhost:8080/"
    },
    "id": "DYTvAQz9LwJi",
    "outputId": "8f11d182-f860-4976-bdc0-771e1e2d7589"
   },
   "outputs": [
    {
     "name": "stdout",
     "output_type": "stream",
     "text": [
      "<class 'pandas.core.frame.DataFrame'>\n",
      "RangeIndex: 1000 entries, 0 to 999\n",
      "Data columns (total 1 columns):\n",
      " #   Column  Non-Null Count  Dtype \n",
      "---  ------  --------------  ----- \n",
      " 0   vote    1000 non-null   object\n",
      "dtypes: object(1)\n",
      "memory usage: 7.9+ KB\n"
     ]
    }
   ],
   "source": [
    "poll.info() # 1000 pemilih "
   ]
  },
  {
   "cell_type": "code",
   "execution_count": null,
   "metadata": {
    "colab": {
     "base_uri": "https://localhost:8080/",
     "height": 298
    },
    "id": "0V78XapiWA9R",
    "outputId": "af239a19-6094-4384-fded-bf587e52e07b"
   },
   "outputs": [
    {
     "data": {
      "text/plain": [
       "<matplotlib.axes._subplots.AxesSubplot at 0x7f67864c6910>"
      ]
     },
     "execution_count": 15,
     "metadata": {},
     "output_type": "execute_result"
    },
    {
     "data": {
      "image/png": "[encoded data removed]",
      "text/plain": [
       "<Figure size 432x288 with 1 Axes>"
      ]
     },
     "metadata": {
      "needs_background": "light"
     },
     "output_type": "display_data"
    }
   ],
   "source": [
    "poll.vote.value_counts().plot.bar()     ##plot(kind=’bar’)"
   ]
  },
  {
   "cell_type": "code",
   "execution_count": null,
   "metadata": {
    "colab": {
     "base_uri": "https://localhost:8080/"
    },
    "id": "mYnbCp_8L2SW",
    "outputId": "cb9a5005-1c50-40a8-9ec9-0088318aa192"
   },
   "outputs": [
    {
     "data": {
      "text/plain": [
       "Baim    0.511\n",
       "Rafi    0.489\n",
       "Name: vote, dtype: float64"
      ]
     },
     "execution_count": 55,
     "metadata": {},
     "output_type": "execute_result"
    }
   ],
   "source": [
    "# menghitung suara dengan mberikan normalisasi \n",
    "# untuk mendapatkan pecahan proporsi , percentase \n",
    "poll.vote.value_counts(normalize = True) # "
   ]
  },
  {
   "cell_type": "code",
   "execution_count": null,
   "metadata": {
    "colab": {
     "base_uri": "https://localhost:8080/"
    },
    "id": "k-vibj1F6pSX",
    "outputId": "f3dc8160-262d-4c56-8fc8-da491213c5a9"
   },
   "outputs": [
    {
     "name": "stdout",
     "output_type": "stream",
     "text": [
      "511\n",
      "489\n"
     ]
    }
   ],
   "source": [
    "baim_count = poll.vote[poll.vote =='Baim'].count()\n",
    "print(baim_count)\n",
    "rafi_count = poll.vote[poll.vote =='Rafi'].count()\n",
    "print(rafi_count)"
   ]
  },
  {
   "cell_type": "code",
   "execution_count": null,
   "metadata": {
    "colab": {
     "base_uri": "https://localhost:8080/"
    },
    "id": "KekXJmtG7aOJ",
    "outputId": "8bf5c59f-ce89-4cc9-8ed7-3cbc5d38fae7"
   },
   "outputs": [
    {
     "data": {
      "text/plain": [
       "1000"
      ]
     },
     "execution_count": 57,
     "metadata": {},
     "output_type": "execute_result"
    }
   ],
   "source": [
    "totalp = poll.vote.count()\n",
    "totalp"
   ]
  },
  {
   "cell_type": "code",
   "execution_count": null,
   "metadata": {
    "colab": {
     "base_uri": "https://localhost:8080/"
    },
    "id": "8RMU-mkS7THU",
    "outputId": "c3b13e7f-a1e0-4bb8-9016-bbb168ec861f"
   },
   "outputs": [
    {
     "data": {
      "text/plain": [
       "0.511"
      ]
     },
     "execution_count": 58,
     "metadata": {},
     "output_type": "execute_result"
    }
   ],
   "source": [
    "p_baim = baim_count / totalp\n",
    "p_baim"
   ]
  },
  {
   "cell_type": "code",
   "execution_count": null,
   "metadata": {
    "colab": {
     "base_uri": "https://localhost:8080/"
    },
    "id": "MgWp2kWe5bo6",
    "outputId": "f755f5c1-7913-4463-91ac-e7c075cba2d8"
   },
   "outputs": [
    {
     "data": {
      "text/plain": [
       "0.015807561481771943"
      ]
     },
     "execution_count": 140,
     "metadata": {},
     "output_type": "execute_result"
    }
   ],
   "source": [
    "se_baim = np.sqrt(p_baim * (1 - p_baim) / totalp)\n",
    "se_baim"
   ]
  },
  {
   "cell_type": "code",
   "execution_count": null,
   "metadata": {
    "colab": {
     "base_uri": "https://localhost:8080/"
    },
    "id": "A9ippDPx9JS7",
    "outputId": "6b9eb235-e2ac-4c56-b2c1-267d577c0d71"
   },
   "outputs": [
    {
     "name": "stderr",
     "output_type": "stream",
     "text": [
      "/usr/local/lib/python3.7/dist-packages/statsmodels/tools/_testing.py:19: FutureWarning: pandas.util.testing is deprecated. Use the functions in the public API at pandas.testing instead.\n",
      "  import pandas.util.testing as tm\n"
     ]
    },
    {
     "data": {
      "text/plain": [
       "(0.4800177488123244, 0.5419822511876756)"
      ]
     },
     "execution_count": 141,
     "metadata": {},
     "output_type": "execute_result"
    }
   ],
   "source": [
    "import statsmodels.api as sm\n",
    "sm.stats.proportion_confint(totalp * p_baim, totalp)"
   ]
  },
  {
   "cell_type": "markdown",
   "metadata": {
    "id": "s7YDk7jHtYk9"
   },
   "source": [
    "Data seperti ini mengatakan Baim memenangkan pemilu , tetapi ini adalah sample terbatas , kita melakukan variabilitas sampling "
   ]
  },
  {
   "cell_type": "markdown",
   "metadata": {
    "id": "xp6UCl7kvJ-D"
   },
   "source": [
    "Jadi dengan pemilihan ini , untuk memahaminya kita perlu belajar distribusi sample dari proporsi , yaitu kita ingin mengetahui dengan kisaran sample berbeda berapa yang kita dapatkan"
   ]
  },
  {
   "cell_type": "markdown",
   "metadata": {
    "id": "Allrl86XMIqV"
   },
   "source": [
    "#### Bangun fungsi sederhana untuk mensimulasikan sampel seperti itu, fungsi tersebut akan mengambil fraksi suara sebenarnya untuk walikota Baim Wong dan jumlah orang yang disurvei"
   ]
  },
  {
   "cell_type": "code",
   "execution_count": null,
   "metadata": {
    "colab": {
     "base_uri": "https://localhost:8080/"
    },
    "id": "ZD6YPEGls6o7",
    "outputId": "eff41e0f-6838-4359-e129-118f28af3dfd"
   },
   "outputs": [
    {
     "data": {
      "text/plain": [
       "array([0.00366782, 0.77570493, 0.41856566, 0.03398524, 0.87786155])"
      ]
     },
     "execution_count": 59,
     "metadata": {},
     "output_type": "execute_result"
    }
   ],
   "source": [
    "baimrafi = np.random.rand(5)\n",
    "baimrafi"
   ]
  },
  {
   "cell_type": "code",
   "execution_count": null,
   "metadata": {
    "colab": {
     "base_uri": "https://localhost:8080/"
    },
    "id": "qyNii-2IMWxs",
    "outputId": "0732976e-174e-40cb-adc5-85814fb7f6b8"
   },
   "outputs": [
    {
     "data": {
      "text/plain": [
       "array([ True, False,  True,  True, False])"
      ]
     },
     "execution_count": 60,
     "metadata": {},
     "output_type": "execute_result"
    }
   ],
   "source": [
    "#np.random.rand(5)<0.51\n",
    "baimrafi < 0.51"
   ]
  },
  {
   "cell_type": "code",
   "execution_count": null,
   "metadata": {
    "colab": {
     "base_uri": "https://localhost:8080/"
    },
    "id": "ufWIsUlMMd1z",
    "outputId": "362d3ebe-5538-4ef9-f077-927acb0313e1"
   },
   "outputs": [
    {
     "data": {
      "text/plain": [
       "array(['Baim', 'Rafi', 'Baim', 'Baim', 'Rafi'], dtype='<U4')"
      ]
     },
     "execution_count": 61,
     "metadata": {},
     "output_type": "execute_result"
    }
   ],
   "source": [
    "np.where(baimrafi<0.51,'Baim','Rafi')\n",
    "# use numpy where to convert boolean value into a string"
   ]
  },
  {
   "cell_type": "code",
   "execution_count": null,
   "metadata": {
    "id": "VVW4MBPfMuLl"
   },
   "outputs": [],
   "source": [
    "\n",
    "# put into a dataframe\n",
    "def sample(brown,n):\n",
    "    return pd.DataFrame({'vote':np.where(np.random.rand(n)<brown,'Baim','Rafi')})"
   ]
  },
  {
   "cell_type": "code",
   "execution_count": null,
   "metadata": {
    "id": "_G3FwYpsMy5b"
   },
   "outputs": [],
   "source": [
    "s= sample(0.51,n=1000)"
   ]
  },
  {
   "cell_type": "code",
   "execution_count": null,
   "metadata": {
    "colab": {
     "base_uri": "https://localhost:8080/",
     "height": 206
    },
    "id": "zTURX4mnM3YJ",
    "outputId": "16028ae3-62e7-47fb-b8ec-91a5250c4814"
   },
   "outputs": [
    {
     "data": {
      "text/html": [
       "<div>\n",
       "<style scoped>\n",
       "    .dataframe tbody tr th:only-of-type {\n",
       "        vertical-align: middle;\n",
       "    }\n",
       "\n",
       "    .dataframe tbody tr th {\n",
       "        vertical-align: top;\n",
       "    }\n",
       "\n",
       "    .dataframe thead th {\n",
       "        text-align: right;\n",
       "    }\n",
       "</style>\n",
       "<table border=\"1\" class=\"dataframe\">\n",
       "  <thead>\n",
       "    <tr style=\"text-align: right;\">\n",
       "      <th></th>\n",
       "      <th>vote</th>\n",
       "    </tr>\n",
       "  </thead>\n",
       "  <tbody>\n",
       "    <tr>\n",
       "      <th>0</th>\n",
       "      <td>Rafi</td>\n",
       "    </tr>\n",
       "    <tr>\n",
       "      <th>1</th>\n",
       "      <td>Baim</td>\n",
       "    </tr>\n",
       "    <tr>\n",
       "      <th>2</th>\n",
       "      <td>Baim</td>\n",
       "    </tr>\n",
       "    <tr>\n",
       "      <th>3</th>\n",
       "      <td>Baim</td>\n",
       "    </tr>\n",
       "    <tr>\n",
       "      <th>4</th>\n",
       "      <td>Baim</td>\n",
       "    </tr>\n",
       "  </tbody>\n",
       "</table>\n",
       "</div>"
      ],
      "text/plain": [
       "   vote\n",
       "0  Rafi\n",
       "1  Baim\n",
       "2  Baim\n",
       "3  Baim\n",
       "4  Baim"
      ]
     },
     "execution_count": 65,
     "metadata": {},
     "output_type": "execute_result"
    }
   ],
   "source": [
    "s.head()"
   ]
  },
  {
   "cell_type": "code",
   "execution_count": null,
   "metadata": {
    "colab": {
     "base_uri": "https://localhost:8080/"
    },
    "id": "K-D0JekvM7uy",
    "outputId": "698c5a1c-940b-40fc-d6d9-92c8c78ecf81"
   },
   "outputs": [
    {
     "data": {
      "text/plain": [
       "Rafi    0.504\n",
       "Baim    0.496\n",
       "Name: vote, dtype: float64"
      ]
     },
     "execution_count": 66,
     "metadata": {},
     "output_type": "execute_result"
    }
   ],
   "source": [
    "s.vote.value_counts(normalize =True)"
   ]
  },
  {
   "cell_type": "code",
   "execution_count": null,
   "metadata": {
    "id": "xj24CIxrNBbZ"
   },
   "outputs": [],
   "source": [
    "# repeat the simulation many times and collect the results in the DataFrame\n",
    "# 1000 simulated experiments should be sufficient\n",
    "dist = pd.DataFrame([sample(0.51,1000).vote.value_counts(normalize = True) for i in range(1000)])"
   ]
  },
  {
   "cell_type": "code",
   "execution_count": null,
   "metadata": {
    "colab": {
     "base_uri": "https://localhost:8080/"
    },
    "id": "C668fMFvNEa0",
    "outputId": "5b983378-b849-4928-8f5a-bb238d6b0461"
   },
   "outputs": [
    {
     "name": "stdout",
     "output_type": "stream",
     "text": [
      "<class 'pandas.core.frame.DataFrame'>\n",
      "Index: 1000 entries, vote to vote\n",
      "Data columns (total 2 columns):\n",
      " #   Column  Non-Null Count  Dtype  \n",
      "---  ------  --------------  -----  \n",
      " 0   Baim    1000 non-null   float64\n",
      " 1   Rafi    1000 non-null   float64\n",
      "dtypes: float64(2)\n",
      "memory usage: 23.4+ KB\n"
     ]
    }
   ],
   "source": [
    "dist.info()"
   ]
  },
  {
   "cell_type": "code",
   "execution_count": null,
   "metadata": {
    "colab": {
     "base_uri": "https://localhost:8080/",
     "height": 206
    },
    "id": "AC-SRjqMyiAi",
    "outputId": "4b0c3305-a13c-4db1-9d44-58dbdd45dfbc"
   },
   "outputs": [
    {
     "data": {
      "text/html": [
       "<div>\n",
       "<style scoped>\n",
       "    .dataframe tbody tr th:only-of-type {\n",
       "        vertical-align: middle;\n",
       "    }\n",
       "\n",
       "    .dataframe tbody tr th {\n",
       "        vertical-align: top;\n",
       "    }\n",
       "\n",
       "    .dataframe thead th {\n",
       "        text-align: right;\n",
       "    }\n",
       "</style>\n",
       "<table border=\"1\" class=\"dataframe\">\n",
       "  <thead>\n",
       "    <tr style=\"text-align: right;\">\n",
       "      <th></th>\n",
       "      <th>Baim</th>\n",
       "      <th>Rafi</th>\n",
       "    </tr>\n",
       "  </thead>\n",
       "  <tbody>\n",
       "    <tr>\n",
       "      <th>vote</th>\n",
       "      <td>0.505</td>\n",
       "      <td>0.495</td>\n",
       "    </tr>\n",
       "    <tr>\n",
       "      <th>vote</th>\n",
       "      <td>0.479</td>\n",
       "      <td>0.521</td>\n",
       "    </tr>\n",
       "    <tr>\n",
       "      <th>vote</th>\n",
       "      <td>0.502</td>\n",
       "      <td>0.498</td>\n",
       "    </tr>\n",
       "    <tr>\n",
       "      <th>vote</th>\n",
       "      <td>0.512</td>\n",
       "      <td>0.488</td>\n",
       "    </tr>\n",
       "    <tr>\n",
       "      <th>vote</th>\n",
       "      <td>0.524</td>\n",
       "      <td>0.476</td>\n",
       "    </tr>\n",
       "  </tbody>\n",
       "</table>\n",
       "</div>"
      ],
      "text/plain": [
       "       Baim   Rafi\n",
       "vote  0.505  0.495\n",
       "vote  0.479  0.521\n",
       "vote  0.502  0.498\n",
       "vote  0.512  0.488\n",
       "vote  0.524  0.476"
      ]
     },
     "execution_count": 69,
     "metadata": {},
     "output_type": "execute_result"
    }
   ],
   "source": [
    "dist.head()"
   ]
  },
  {
   "cell_type": "code",
   "execution_count": null,
   "metadata": {
    "colab": {
     "base_uri": "https://localhost:8080/",
     "height": 285
    },
    "id": "rwp3848dNKAH",
    "outputId": "792b3db1-7535-4fe9-98f9-ac451f1e376a"
   },
   "outputs": [
    {
     "data": {
      "text/plain": [
       "<matplotlib.axes._subplots.AxesSubplot at 0x7f921a20e750>"
      ]
     },
     "execution_count": 70,
     "metadata": {},
     "output_type": "execute_result"
    },
    {
     "data": {
      "image/png": "[encoded data removed]",
      "text/plain": [
       "<Figure size 432x288 with 1 Axes>"
      ]
     },
     "metadata": {
      "needs_background": "light"
     },
     "output_type": "display_data"
    }
   ],
   "source": [
    "#dist['Baim'].hist(histtype = 'step', bins = 20)\n",
    "dist.Baim.hist(histtype = 'step', bins = 20)"
   ]
  },
  {
   "cell_type": "markdown",
   "metadata": {
    "id": "3_W03iMoNjvr"
   },
   "source": [
    "#### Ternyata untuk pecahan Baim Wong Sejati dari 0,51, kita dapat memperoleh proporsi apa pun dari 0,48-0,52, maka saya ingin membuatnya lebih tepat dan mengidentifikasi rentang keterkaitan pecahan Benar."
   ]
  },
  {
   "cell_type": "code",
   "execution_count": null,
   "metadata": {
    "id": "i6bJVzNYP8ne"
   },
   "outputs": [],
   "source": [
    "# function to simulate the sampling distribution for any true fraction.\n",
    "def samplingdist (baim,n):\n",
    "    return pd.DataFrame([sample(baim,n).vote.value_counts(normalize = True) for i in range(1000)])"
   ]
  },
  {
   "cell_type": "code",
   "execution_count": null,
   "metadata": {
    "id": "Q5nbIZAYQK9i"
   },
   "outputs": [],
   "source": [
    "def quantiles(brown,n):\n",
    "    dist = samplingdist(brown,n)\n",
    "    return dist['Baim'].quantile(0.025), dist['Baim'].quantile(0.975)\n",
    "# look for a True fraction for which a measured value of .51 lies at a 2.5 quantile and the True fraction for which\n",
    "# our measured value lies at the 97.5 quantile"
   ]
  },
  {
   "cell_type": "code",
   "execution_count": null,
   "metadata": {
    "colab": {
     "base_uri": "https://localhost:8080/"
    },
    "id": "QWCrdt4aQQnj",
    "outputId": "74358f4c-e44e-4a7c-8353-9e37aa5eb7f2"
   },
   "outputs": [
    {
     "data": {
      "text/plain": [
       "(0.46697500000000003, 0.53)"
      ]
     },
     "execution_count": 73,
     "metadata": {},
     "output_type": "execute_result"
    }
   ],
   "source": [
    "quantiles(0.50,1000)"
   ]
  },
  {
   "cell_type": "code",
   "execution_count": null,
   "metadata": {
    "colab": {
     "base_uri": "https://localhost:8080/"
    },
    "id": "4A4inmrsQR0i",
    "outputId": "606e47d8-1a8c-42ef-94e7-a52d78f2c4cc"
   },
   "outputs": [
    {
     "data": {
      "text/plain": [
       "(0.45, 0.511025)"
      ]
     },
     "execution_count": 74,
     "metadata": {},
     "output_type": "execute_result"
    }
   ],
   "source": [
    "quantiles(0.48,1000)"
   ]
  },
  {
   "cell_type": "code",
   "execution_count": null,
   "metadata": {
    "colab": {
     "base_uri": "https://localhost:8080/"
    },
    "id": "KSV7hdu9QTIY",
    "outputId": "34b81d06-d6a3-476e-919f-5c40a70ed43a"
   },
   "outputs": [
    {
     "data": {
      "text/plain": [
       "(0.49, 0.551)"
      ]
     },
     "execution_count": 75,
     "metadata": {},
     "output_type": "execute_result"
    }
   ],
   "source": [
    "quantiles(0.52,1000)"
   ]
  },
  {
   "cell_type": "markdown",
   "metadata": {
    "id": "3i1aDLH6Nylw"
   },
   "source": [
    "#### sehingga interval kepercayaan 95 untuk fungsi populasi Benar adalah .48 hingga .52\n",
    "\n",
    "\n"
   ]
  },
  {
   "cell_type": "markdown",
   "metadata": {
    "id": "IYvG9De8NzM0"
   },
   "source": [
    " 95% confidence interval: [0.48,0.52]\n",
    "\n",
    "Estimasi = 0.51 +- 0.03 ( at 95% confindence )  dapat melakukan lebih baik dengan meningkatkan ukuran sampel\n"
   ]
  },
  {
   "cell_type": "code",
   "execution_count": null,
   "metadata": {
    "id": "qRf4aPyGN1n_"
   },
   "outputs": [],
   "source": [
    "# simulate how much data we need \n",
    "dist = samplingdist(0.50,10000)"
   ]
  },
  {
   "cell_type": "code",
   "execution_count": null,
   "metadata": {
    "colab": {
     "base_uri": "https://localhost:8080/",
     "height": 206
    },
    "id": "cNe-pfZqQyex",
    "outputId": "6666bfe4-2916-4f3f-d247-e7997290e361"
   },
   "outputs": [
    {
     "data": {
      "text/html": [
       "<div>\n",
       "<style scoped>\n",
       "    .dataframe tbody tr th:only-of-type {\n",
       "        vertical-align: middle;\n",
       "    }\n",
       "\n",
       "    .dataframe tbody tr th {\n",
       "        vertical-align: top;\n",
       "    }\n",
       "\n",
       "    .dataframe thead th {\n",
       "        text-align: right;\n",
       "    }\n",
       "</style>\n",
       "<table border=\"1\" class=\"dataframe\">\n",
       "  <thead>\n",
       "    <tr style=\"text-align: right;\">\n",
       "      <th></th>\n",
       "      <th>Rafi</th>\n",
       "      <th>Baim</th>\n",
       "    </tr>\n",
       "  </thead>\n",
       "  <tbody>\n",
       "    <tr>\n",
       "      <th>vote</th>\n",
       "      <td>0.5051</td>\n",
       "      <td>0.4949</td>\n",
       "    </tr>\n",
       "    <tr>\n",
       "      <th>vote</th>\n",
       "      <td>0.4992</td>\n",
       "      <td>0.5008</td>\n",
       "    </tr>\n",
       "    <tr>\n",
       "      <th>vote</th>\n",
       "      <td>0.4969</td>\n",
       "      <td>0.5031</td>\n",
       "    </tr>\n",
       "    <tr>\n",
       "      <th>vote</th>\n",
       "      <td>0.4996</td>\n",
       "      <td>0.5004</td>\n",
       "    </tr>\n",
       "    <tr>\n",
       "      <th>vote</th>\n",
       "      <td>0.5013</td>\n",
       "      <td>0.4987</td>\n",
       "    </tr>\n",
       "  </tbody>\n",
       "</table>\n",
       "</div>"
      ],
      "text/plain": [
       "        Rafi    Baim\n",
       "vote  0.5051  0.4949\n",
       "vote  0.4992  0.5008\n",
       "vote  0.4969  0.5031\n",
       "vote  0.4996  0.5004\n",
       "vote  0.5013  0.4987"
      ]
     },
     "execution_count": 99,
     "metadata": {},
     "output_type": "execute_result"
    }
   ],
   "source": [
    "dist.head()"
   ]
  },
  {
   "cell_type": "code",
   "execution_count": null,
   "metadata": {
    "colab": {
     "base_uri": "https://localhost:8080/",
     "height": 282
    },
    "id": "yQ3HDQUuQ22A",
    "outputId": "e4c99607-6969-4c8e-a9af-7b55071d3de6"
   },
   "outputs": [
    {
     "data": {
      "text/plain": [
       "<matplotlib.axes._subplots.AxesSubplot at 0x7f6780897050>"
      ]
     },
     "execution_count": 100,
     "metadata": {},
     "output_type": "execute_result"
    },
    {
     "data": {
      "image/png": "[encoded data removed]",
      "text/plain": [
       "<Figure size 432x288 with 1 Axes>"
      ]
     },
     "metadata": {
      "needs_background": "light"
     },
     "output_type": "display_data"
    }
   ],
   "source": [
    "dist['Baim'].hist(histtype = 'step')"
   ]
  },
  {
   "cell_type": "markdown",
   "metadata": {
    "id": "HN-FQXTPSCEB"
   },
   "source": [
    "# the margin of error improves with square root of the number of samples."
   ]
  },
  {
   "cell_type": "code",
   "execution_count": null,
   "metadata": {
    "id": "YUMixsFfR5e1"
   },
   "outputs": [],
   "source": [
    "url2 = \"https://raw.githubusercontent.com/iketutg/my_example_ds/main/data/poll-larger.csv\""
   ]
  },
  {
   "cell_type": "code",
   "execution_count": null,
   "metadata": {
    "id": "DhRKFgWzR7X8"
   },
   "outputs": [],
   "source": [
    "largepoll = pd.read_csv(url2)"
   ]
  },
  {
   "cell_type": "code",
   "execution_count": null,
   "metadata": {
    "colab": {
     "base_uri": "https://localhost:8080/",
     "height": 206
    },
    "id": "wym1YtImqr1a",
    "outputId": "1d2519a5-40fd-4e7a-9f2b-8feef11916c0"
   },
   "outputs": [
    {
     "data": {
      "text/html": [
       "<div>\n",
       "<style scoped>\n",
       "    .dataframe tbody tr th:only-of-type {\n",
       "        vertical-align: middle;\n",
       "    }\n",
       "\n",
       "    .dataframe tbody tr th {\n",
       "        vertical-align: top;\n",
       "    }\n",
       "\n",
       "    .dataframe thead th {\n",
       "        text-align: right;\n",
       "    }\n",
       "</style>\n",
       "<table border=\"1\" class=\"dataframe\">\n",
       "  <thead>\n",
       "    <tr style=\"text-align: right;\">\n",
       "      <th></th>\n",
       "      <th>vote</th>\n",
       "    </tr>\n",
       "  </thead>\n",
       "  <tbody>\n",
       "    <tr>\n",
       "      <th>0</th>\n",
       "      <td>Baim</td>\n",
       "    </tr>\n",
       "    <tr>\n",
       "      <th>1</th>\n",
       "      <td>Rafi</td>\n",
       "    </tr>\n",
       "    <tr>\n",
       "      <th>2</th>\n",
       "      <td>Baim</td>\n",
       "    </tr>\n",
       "    <tr>\n",
       "      <th>3</th>\n",
       "      <td>Baim</td>\n",
       "    </tr>\n",
       "    <tr>\n",
       "      <th>4</th>\n",
       "      <td>Baim</td>\n",
       "    </tr>\n",
       "  </tbody>\n",
       "</table>\n",
       "</div>"
      ],
      "text/plain": [
       "   vote\n",
       "0  Baim\n",
       "1  Rafi\n",
       "2  Baim\n",
       "3  Baim\n",
       "4  Baim"
      ]
     },
     "execution_count": 78,
     "metadata": {},
     "output_type": "execute_result"
    }
   ],
   "source": [
    "largepoll.head()"
   ]
  },
  {
   "cell_type": "code",
   "execution_count": null,
   "metadata": {
    "colab": {
     "base_uri": "https://localhost:8080/"
    },
    "id": "Q9m_1MTjSHW9",
    "outputId": "f4a4afe5-0ffe-405c-8e78-8f6425d29198"
   },
   "outputs": [
    {
     "name": "stdout",
     "output_type": "stream",
     "text": [
      "<class 'pandas.core.frame.DataFrame'>\n",
      "RangeIndex: 10000 entries, 0 to 9999\n",
      "Data columns (total 1 columns):\n",
      " #   Column  Non-Null Count  Dtype \n",
      "---  ------  --------------  ----- \n",
      " 0   vote    10000 non-null  object\n",
      "dtypes: object(1)\n",
      "memory usage: 78.2+ KB\n"
     ]
    }
   ],
   "source": [
    "largepoll.info()"
   ]
  },
  {
   "cell_type": "code",
   "execution_count": null,
   "metadata": {
    "colab": {
     "base_uri": "https://localhost:8080/"
    },
    "id": "F0AQhuF5SWtI",
    "outputId": "6339a44e-142b-429b-dbe8-a9e993694cfe"
   },
   "outputs": [
    {
     "data": {
      "text/plain": [
       "Rafi    0.5181\n",
       "Baim    0.4819\n",
       "Name: vote, dtype: float64"
      ]
     },
     "execution_count": 80,
     "metadata": {},
     "output_type": "execute_result"
    }
   ],
   "source": [
    "largepoll.vote.value_counts(normalize = True )"
   ]
  },
  {
   "cell_type": "markdown",
   "metadata": {
    "id": "hnQVq_Xym6YH"
   },
   "source": [
    "## Notes \n"
   ]
  },
  {
   "cell_type": "markdown",
   "metadata": {
    "id": "5eyhs-SEnZZB"
   },
   "source": [
    "## Pandas value_counts()\n",
    "Fungsi value_counts() digunakan untuk mendapatkan Seri yang berisi jumlah nilai unik. Objek yang dihasilkan akan dalam urutan descending / menurun sehingga elemen pertama adalah elemen yang paling sering muncul (Besar). Tidak termasuk nilai NA secara default.\n",
    "\n",
    "Syntac\n",
    "\n",
    "`df['your_column'].value_counts()` - ini akan mengembalikan jumlah kejadian unik di kolom yang ditentukan.\n",
    "\n",
    "Penting untuk dicatat bahwa value_counts hanya berfungsi pada seri pandas, bukan kerangka data Pandas. Akibatnya, kami hanya menyertakan satu kurung `df['your_column']` dan bukan dua kurung `df[['your_column']]`."
   ]
  },
  {
   "cell_type": "markdown",
   "metadata": {
    "id": "JpDQi1pdm-rZ"
   },
   "source": [
    "Parameters\n",
    "\n",
    "* normalize (bool, default False) - If True then the object returned will contain the relative frequencies of the unique values. \n",
    " if true = percentase , false = \n",
    "* sort (bool, default True) - Sort by frequencies.\n",
    "* ascending (bool, default False) - Sort in ascending order.\n",
    "* bins (int, optional) - Rather than count values, group them into half-open \n",
    "* bins, a convenience for pd.cut, only works with numeric data.\n",
    "* dropna (bool, default True) -Don’t include counts of NaN."
   ]
  },
  {
   "cell_type": "code",
   "execution_count": null,
   "metadata": {
    "id": "qfVc3yX0m-DB"
   },
   "outputs": [],
   "source": []
  }
 ],
 "metadata": {
  "colab": {
   "collapsed_sections": [
    "uH660jTdRfUL",
    "6sRTp11OHolc",
    "sxKRUuvn1Sid",
    "r593Pxuw1_zW",
    "tCqx1AYw2TUh",
    "eUQKsnb22hPj",
    "kCXxwN5J3DYu",
    "1wDtA8nm3Wom",
    "7qb6HUNa3hwV",
    "RJ06lVch4BYW",
    "aRU92hRG4zu5",
    "Bxfufd3d5a01",
    "KSjl6obY7T6D",
    "AoRuRJLdHEQy",
    "FdBmS975HOhY",
    "1Bmc1H5HIOkx",
    "JzAGg102Le_Q",
    "5j9HlOsQL5FF",
    "6Q-MZ6QmMTa4",
    "_ioteBo8MaAQ",
    "z0QrNKhWMw1R",
    "yGGChBdCM9tx",
    "ZqtdAinoNKey",
    "hT6Tsv04Npwx",
    "1ccPB1qrN2R_",
    "RsCn7NgvOkbP",
    "Tgx1aOksPK1s",
    "FmLvDcWuSrhI",
    "RRkuzN02Su38",
    "qbSBxoEKPl1N"
   ],
   "name": "10-P4DS-Inferential-Statistics.ipynb",
   "provenance": [],
   "toc_visible": true
  },
  "kernelspec": {
   "display_name": "Python 3",
   "language": "python",
   "name": "python3"
  },
  "language_info": {
   "codemirror_mode": {
    "name": "ipython",
    "version": 3
   },
   "file_extension": ".py",
   "mimetype": "text/x-python",
   "name": "python",
   "nbconvert_exporter": "python",
   "pygments_lexer": "ipython3",
   "version": "3.7.4"
  }
 },
 "nbformat": 4,
 "nbformat_minor": 1
}
